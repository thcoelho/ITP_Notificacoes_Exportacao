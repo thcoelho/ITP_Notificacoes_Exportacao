{
 "cells": [
  {
   "cell_type": "code",
   "execution_count": null,
   "metadata": {
    "slideshow": {
     "slide_type": "notes"
    }
   },
   "outputs": [],
   "source": [
    "import pandas as pd\n",
    "import gme\n",
    "import numpy as np"
   ]
  },
  {
   "cell_type": "code",
   "execution_count": null,
   "metadata": {},
   "outputs": [],
   "source": [
    "df = pd.read_csv(\"../Modelo_Completo/Dados_Cepii_Especificados.csv\")"
   ]
  },
  {
   "cell_type": "code",
   "execution_count": null,
   "metadata": {},
   "outputs": [],
   "source": [
    "df.drop(df.columns[0], axis=1, inplace=True)\n",
    "df"
   ]
  },
  {
   "cell_type": "code",
   "execution_count": null,
   "metadata": {},
   "outputs": [],
   "source": [
    "gme_data = gme.EstimationData(data_frame=df,\n",
    "                              imp_var_name=\"Country.Code\",\n",
    "                              exp_var_name=\"Origin\",\n",
    "                              trade_var_name=\"ln_trade\",\n",
    "                              year_var_name=\"Year\",\n",
    "                              sector_var_name=\"Commodity.Code\")"
   ]
  },
  {
   "cell_type": "code",
   "execution_count": null,
   "metadata": {},
   "outputs": [],
   "source": [
    "gme_data"
   ]
  },
  {
   "cell_type": "code",
   "execution_count": null,
   "metadata": {},
   "outputs": [],
   "source": [
    "Modelo1 = gme.EstimationModel(estimation_data=gme_data,\n",
    "                                lhs_var=\"ln_trade\",\n",
    "                                rhs_var=[\"Animal.health\",\n",
    "                            \"Consumer.information\",\n",
    "                            \"Cost.saving\",\n",
    "                            \"Food.safety\",\n",
    "                            \"Harmonization\",\n",
    "                            \"Labelling\",\n",
    "                            \"Lower.barriers.to.trade\",\n",
    "                            \"National.security.requirements\",\n",
    "                            \"Not.specified\",\n",
    "                            \"Other\",\n",
    "                            \"Plant.protection\",\n",
    "                            \"Prevention.of.deceptive.practices.and.consumer.protection\",\n",
    "                            \"Protect.humans.from.animal.plant.pest.or.disease\",\n",
    "                            \"Protect.territory.from.other.damage.from.pests\",\n",
    "                            \"Protection.of.Human.health.or.Safety\",\n",
    "                            \"Protection.of.animal.or.plant.life.or.health\",\n",
    "                            \"Protection.of.the.environment\",\n",
    "                            \"Quality.requirements\",\n",
    "                            \"ln_gdp_d\",                                                   \n",
    "                            \"ln_gdp_o\",                                                   \n",
    "                            \"ln_dist\",\n",
    "                            'contig', \n",
    "                            'ln_Tariff'],\n",
    "                            fixed_effects=[[\"Year\", \"Country.Code\"]]\n",
    "                            )"
   ]
  },
  {
   "cell_type": "code",
   "execution_count": null,
   "metadata": {},
   "outputs": [],
   "source": [
    "Resultado1 = Modelo1.estimate()"
   ]
  },
  {
   "cell_type": "code",
   "execution_count": null,
   "metadata": {},
   "outputs": [],
   "source": [
    "Modelo1.ppml_diagnostics"
   ]
  },
  {
   "cell_type": "code",
   "execution_count": null,
   "metadata": {},
   "outputs": [],
   "source": [
    "Resultado1[\"all\"].summary().tables[1]"
   ]
  },
  {
   "cell_type": "code",
   "execution_count": null,
   "metadata": {},
   "outputs": [],
   "source": [
    "def EscreverResultado1():\n",
    "    for i in range(1,16):\n",
    "        Resultado = open(f\"../Relatorio/Tabelas_Setores/Setor_{i}.tex\", \"w+\")\n",
    "        Resultado.write(Resultado1[f\"{i}\"].summary().as_latex())\n",
    "        Resultado.close()\n",
    "EscreverResultado1()"
   ]
  },
  {
   "cell_type": "code",
   "execution_count": null,
   "metadata": {},
   "outputs": [],
   "source": [
    "modelo_EF = gme.EstimationModel(estimation_data=gme_data,\n",
    "                                lhs_var=\"ln_trade\",\n",
    "                                rhs_var=[\"Animal.health\",\n",
    "                            \"Consumer.information\",\n",
    "                            \"Cost.saving\",\n",
    "                            \"Food.safety\",\n",
    "                            \"Harmonization\",\n",
    "                            \"Labelling\",\n",
    "                            \"Lower.barriers.to.trade\",\n",
    "                            \"National.security.requirements\",\n",
    "                            \"Not.specified\",\n",
    "                            \"Other\",\n",
    "                            \"Plant.protection\",\n",
    "                            \"Prevention.of.deceptive.practices.and.consumer.protection\",\n",
    "                            \"Protect.humans.from.animal.plant.pest.or.disease\",\n",
    "                            \"Protect.territory.from.other.damage.from.pests\",\n",
    "                            \"Protection.of.Human.health.or.Safety\",\n",
    "                            \"Protection.of.animal.or.plant.life.or.health\",\n",
    "                            \"Protection.of.the.environment\",\n",
    "                            \"Quality.requirements\",\n",
    "                            \"ln_gdp_d\",                                                   \n",
    "                            \"ln_gdp_o\",                                                   \n",
    "                            \"ln_dist\",\n",
    "                            'contig', \n",
    "                            'ln_Tariff'],\n",
    "                            fixed_effects=[\"Year\",\"Country.Code\"],\n",
    "                            sector_by_sector=True\n",
    "                            )"
   ]
  },
  {
   "cell_type": "code",
   "execution_count": null,
   "metadata": {},
   "outputs": [],
   "source": [
    "Resultados_EF = modelo_EF.estimate()"
   ]
  },
  {
   "cell_type": "code",
   "execution_count": 46,
   "metadata": {},
   "outputs": [
    {
     "output_type": "execute_result",
     "data": {
      "text/plain": "<class 'statsmodels.iolib.table.SimpleTable'>",
      "text/html": "<table class=\"simpletable\">\n<tr>\n                              <td></td>                                 <th>coef</th>     <th>std err</th>      <th>t</th>      <th>P>|t|</th>  <th>[0.025</th>    <th>0.975]</th>  \n</tr>\n<tr>\n  <th>Animal.health</th>                                             <td>    0.0175</td> <td>    0.011</td> <td>    1.531</td> <td> 0.126</td> <td>   -0.005</td> <td>    0.040</td>\n</tr>\n<tr>\n  <th>Consumer.information</th>                                      <td>    0.0857</td> <td>    0.074</td> <td>    1.161</td> <td> 0.246</td> <td>   -0.060</td> <td>    0.231</td>\n</tr>\n<tr>\n  <th>Food.safety</th>                                               <td>   -0.0104</td> <td>    0.008</td> <td>   -1.296</td> <td> 0.195</td> <td>   -0.026</td> <td>    0.005</td>\n</tr>\n<tr>\n  <th>Lower.barriers.to.trade</th>                                   <td>    0.1212</td> <td>    0.040</td> <td>    3.007</td> <td> 0.003</td> <td>    0.042</td> <td>    0.201</td>\n</tr>\n<tr>\n  <th>Plant.protection</th>                                          <td>   -0.0923</td> <td>    0.075</td> <td>   -1.230</td> <td> 0.219</td> <td>   -0.240</td> <td>    0.055</td>\n</tr>\n<tr>\n  <th>Prevention.of.deceptive.practices.and.consumer.protection</th> <td>    0.0647</td> <td>    0.024</td> <td>    2.728</td> <td> 0.006</td> <td>    0.018</td> <td>    0.111</td>\n</tr>\n<tr>\n  <th>Protect.humans.from.animal.plant.pest.or.disease</th>          <td>   -0.0061</td> <td>    0.014</td> <td>   -0.434</td> <td> 0.664</td> <td>   -0.034</td> <td>    0.022</td>\n</tr>\n<tr>\n  <th>Protect.territory.from.other.damage.from.pests</th>            <td>   -0.0641</td> <td>    0.048</td> <td>   -1.343</td> <td> 0.179</td> <td>   -0.158</td> <td>    0.030</td>\n</tr>\n<tr>\n  <th>Protection.of.Human.health.or.Safety</th>                      <td>    0.0010</td> <td>    0.009</td> <td>    0.107</td> <td> 0.915</td> <td>   -0.017</td> <td>    0.019</td>\n</tr>\n<tr>\n  <th>Protection.of.the.environment</th>                             <td>    0.1030</td> <td>    0.098</td> <td>    1.054</td> <td> 0.292</td> <td>   -0.089</td> <td>    0.295</td>\n</tr>\n<tr>\n  <th>Quality.requirements</th>                                      <td>    0.1023</td> <td>    0.072</td> <td>    1.425</td> <td> 0.154</td> <td>   -0.039</td> <td>    0.244</td>\n</tr>\n<tr>\n  <th>ln_gdp_d</th>                                                  <td>   -0.8288</td> <td>    0.316</td> <td>   -2.622</td> <td> 0.009</td> <td>   -1.451</td> <td>   -0.206</td>\n</tr>\n<tr>\n  <th>ln_gdp_o</th>                                                  <td>    2.3238</td> <td>    0.682</td> <td>    3.406</td> <td> 0.001</td> <td>    0.980</td> <td>    3.668</td>\n</tr>\n<tr>\n  <th>ln_dist</th>                                                   <td>   -4.2196</td> <td>    1.108</td> <td>   -3.810</td> <td> 0.000</td> <td>   -6.401</td> <td>   -2.038</td>\n</tr>\n<tr>\n  <th>contig</th>                                                    <td>    0.1159</td> <td>    0.072</td> <td>    1.607</td> <td> 0.108</td> <td>   -0.026</td> <td>    0.258</td>\n</tr>\n<tr>\n  <th>ln_Tariff</th>                                                 <td>    0.0971</td> <td>    0.040</td> <td>    2.410</td> <td> 0.016</td> <td>    0.018</td> <td>    0.176</td>\n</tr>\n<tr>\n  <th>Year_fe_2007</th>                                              <td>    0.8845</td> <td>    0.170</td> <td>    5.204</td> <td> 0.000</td> <td>    0.550</td> <td>    1.219</td>\n</tr>\n<tr>\n  <th>Year_fe_2008</th>                                              <td>    0.6512</td> <td>    0.085</td> <td>    7.696</td> <td> 0.000</td> <td>    0.485</td> <td>    0.818</td>\n</tr>\n<tr>\n  <th>Year_fe_2009</th>                                              <td>    0.7003</td> <td>    0.095</td> <td>    7.355</td> <td> 0.000</td> <td>    0.513</td> <td>    0.888</td>\n</tr>\n<tr>\n  <th>Year_fe_2010</th>                                              <td>    0.1176</td> <td>    0.071</td> <td>    1.664</td> <td> 0.096</td> <td>   -0.022</td> <td>    0.257</td>\n</tr>\n<tr>\n  <th>Year_fe_2011</th>                                              <td>   -0.2354</td> <td>    0.143</td> <td>   -1.646</td> <td> 0.100</td> <td>   -0.517</td> <td>    0.046</td>\n</tr>\n<tr>\n  <th>Year_fe_2012</th>                                              <td>    0.2796</td> <td>    0.064</td> <td>    4.350</td> <td> 0.000</td> <td>    0.153</td> <td>    0.406</td>\n</tr>\n<tr>\n  <th>Year_fe_2013</th>                                              <td>    0.0022</td> <td>    0.054</td> <td>    0.041</td> <td> 0.967</td> <td>   -0.104</td> <td>    0.108</td>\n</tr>\n<tr>\n  <th>Country.Code_fe_ARE</th>                                       <td>   -1.8897</td> <td>    0.800</td> <td>   -2.362</td> <td> 0.018</td> <td>   -3.465</td> <td>   -0.314</td>\n</tr>\n<tr>\n  <th>Country.Code_fe_AUS</th>                                       <td>   -0.1260</td> <td>    0.266</td> <td>   -0.474</td> <td> 0.635</td> <td>   -0.649</td> <td>    0.397</td>\n</tr>\n<tr>\n  <th>Country.Code_fe_BHR</th>                                       <td>   -3.8847</td> <td>    1.682</td> <td>   -2.310</td> <td> 0.021</td> <td>   -7.197</td> <td>   -0.573</td>\n</tr>\n<tr>\n  <th>Country.Code_fe_CHE</th>                                       <td>   -2.8348</td> <td>    0.848</td> <td>   -3.342</td> <td> 0.001</td> <td>   -4.505</td> <td>   -1.164</td>\n</tr>\n<tr>\n  <th>Country.Code_fe_CHL</th>                                       <td>   -8.1565</td> <td>    2.327</td> <td>   -3.506</td> <td> 0.000</td> <td>  -12.739</td> <td>   -3.574</td>\n</tr>\n<tr>\n  <th>Country.Code_fe_CHN</th>                                       <td>    2.6145</td> <td>    0.612</td> <td>    4.271</td> <td> 0.000</td> <td>    1.409</td> <td>    3.820</td>\n</tr>\n<tr>\n  <th>Country.Code_fe_COL</th>                                       <td>   -6.4218</td> <td>    1.898</td> <td>   -3.383</td> <td> 0.001</td> <td>  -10.160</td> <td>   -2.684</td>\n</tr>\n<tr>\n  <th>Country.Code_fe_DEU</th>                                       <td>   -1.5430</td> <td>    0.312</td> <td>   -4.952</td> <td> 0.000</td> <td>   -2.157</td> <td>   -0.929</td>\n</tr>\n<tr>\n  <th>Country.Code_fe_DOM</th>                                       <td>   -6.8312</td> <td>    2.282</td> <td>   -2.993</td> <td> 0.003</td> <td>  -11.326</td> <td>   -2.337</td>\n</tr>\n<tr>\n  <th>Country.Code_fe_ECU</th>                                       <td>   -8.1391</td> <td>    2.354</td> <td>   -3.458</td> <td> 0.001</td> <td>  -12.775</td> <td>   -3.503</td>\n</tr>\n<tr>\n  <th>Country.Code_fe_EEC</th>                                       <td>   -7.7468</td> <td>    2.322</td> <td>   -3.336</td> <td> 0.001</td> <td>  -12.321</td> <td>   -3.173</td>\n</tr>\n<tr>\n  <th>Country.Code_fe_IDN</th>                                       <td>   -0.3457</td> <td>    0.320</td> <td>   -1.079</td> <td> 0.281</td> <td>   -0.977</td> <td>    0.285</td>\n</tr>\n<tr>\n  <th>Country.Code_fe_IND</th>                                       <td>    0.3684</td> <td>    0.275</td> <td>    1.342</td> <td> 0.180</td> <td>   -0.172</td> <td>    0.909</td>\n</tr>\n<tr>\n  <th>Country.Code_fe_ISR</th>                                       <td>   -2.8711</td> <td>    1.063</td> <td>   -2.700</td> <td> 0.007</td> <td>   -4.966</td> <td>   -0.777</td>\n</tr>\n<tr>\n  <th>Country.Code_fe_JPN</th>                                       <td>    2.1330</td> <td>    0.623</td> <td>    3.422</td> <td> 0.001</td> <td>    0.905</td> <td>    3.361</td>\n</tr>\n<tr>\n  <th>Country.Code_fe_KEN</th>                                       <td>   -4.7261</td> <td>    1.667</td> <td>   -2.835</td> <td> 0.005</td> <td>   -8.009</td> <td>   -1.443</td>\n</tr>\n<tr>\n  <th>Country.Code_fe_KOR</th>                                       <td>    0.6568</td> <td>    0.307</td> <td>    2.138</td> <td> 0.032</td> <td>    0.052</td> <td>    1.262</td>\n</tr>\n<tr>\n  <th>Country.Code_fe_MAR</th>                                       <td>   -5.0190</td> <td>    1.758</td> <td>   -2.855</td> <td> 0.004</td> <td>   -8.481</td> <td>   -1.556</td>\n</tr>\n<tr>\n  <th>Country.Code_fe_MLI</th>                                       <td>   -8.0035</td> <td>    2.727</td> <td>   -2.935</td> <td> 0.003</td> <td>  -13.374</td> <td>   -2.633</td>\n</tr>\n<tr>\n  <th>Country.Code_fe_MNG</th>                                       <td>   -4.2584</td> <td>    1.782</td> <td>   -2.390</td> <td> 0.017</td> <td>   -7.768</td> <td>   -0.749</td>\n</tr>\n<tr>\n  <th>Country.Code_fe_NIC</th>                                       <td>   -8.0672</td> <td>    2.736</td> <td>   -2.949</td> <td> 0.003</td> <td>  -13.456</td> <td>   -2.679</td>\n</tr>\n<tr>\n  <th>Country.Code_fe_NPL</th>                                       <td>   -3.8164</td> <td>    1.532</td> <td>   -2.492</td> <td> 0.013</td> <td>   -6.833</td> <td>   -0.800</td>\n</tr>\n<tr>\n  <th>Country.Code_fe_NZL</th>                                       <td>   -2.3405</td> <td>    1.000</td> <td>   -2.341</td> <td> 0.019</td> <td>   -4.310</td> <td>   -0.371</td>\n</tr>\n<tr>\n  <th>Country.Code_fe_OMN</th>                                       <td>   -3.0128</td> <td>    1.249</td> <td>   -2.413</td> <td> 0.016</td> <td>   -5.472</td> <td>   -0.553</td>\n</tr>\n<tr>\n  <th>Country.Code_fe_PER</th>                                       <td>   -7.5925</td> <td>    2.289</td> <td>   -3.317</td> <td> 0.001</td> <td>  -12.101</td> <td>   -3.084</td>\n</tr>\n<tr>\n  <th>Country.Code_fe_PHL</th>                                       <td>   -0.4781</td> <td>    0.556</td> <td>   -0.859</td> <td> 0.390</td> <td>   -1.574</td> <td>    0.618</td>\n</tr>\n<tr>\n  <th>Country.Code_fe_QAT</th>                                       <td>   -2.6307</td> <td>    1.057</td> <td>   -2.488</td> <td> 0.013</td> <td>   -4.713</td> <td>   -0.548</td>\n</tr>\n<tr>\n  <th>Country.Code_fe_RUS</th>                                       <td>   -0.5519</td> <td>    0.312</td> <td>   -1.771</td> <td> 0.077</td> <td>   -1.166</td> <td>    0.062</td>\n</tr>\n<tr>\n  <th>Country.Code_fe_THA</th>                                       <td>   -0.5621</td> <td>    0.529</td> <td>   -1.062</td> <td> 0.288</td> <td>   -1.604</td> <td>    0.480</td>\n</tr>\n<tr>\n  <th>Country.Code_fe_TUR</th>                                       <td>   -2.0782</td> <td>    0.763</td> <td>   -2.723</td> <td> 0.006</td> <td>   -3.581</td> <td>   -0.575</td>\n</tr>\n<tr>\n  <th>Country.Code_fe_UGA</th>                                       <td>   -5.6201</td> <td>    2.024</td> <td>   -2.777</td> <td> 0.005</td> <td>   -9.606</td> <td>   -1.634</td>\n</tr>\n<tr>\n  <th>Country.Code_fe_UKR</th>                                       <td>   -3.6869</td> <td>    1.156</td> <td>   -3.188</td> <td> 0.001</td> <td>   -5.964</td> <td>   -1.409</td>\n</tr>\n</table>"
     },
     "metadata": {},
     "execution_count": 46
    }
   ],
   "source": [
    "# Resultados_EF[\"2\"].summary().tables[1]\n",
    "# Resultados_EF[\"9\"].summary().tables[1]\n",
    "Resultados_EF[\"15\"].summary().tables[1]"
   ]
  },
  {
   "cell_type": "code",
   "execution_count": null,
   "metadata": {},
   "outputs": [],
   "source": [
    "def EscreverResultado2():\n",
    "    for i in [2,9,15]:\n",
    "        Resultado = open(f\"../Relatorio/Tabela_Setores_Cepii/Setor_{i}.tex\", \"w+\")\n",
    "        Resultado.write(Resultados_EF[f\"{i}\"].summary().as_latex())\n",
    "        Resultado.close()\n",
    "EscreverResultado2()"
   ]
  },
  {
   "cell_type": "code",
   "execution_count": 37,
   "metadata": {},
   "outputs": [
    {
     "output_type": "stream",
     "name": "stdout",
     "text": "\\begin{center}\n\\begin{tabular}{lclc}\n\\toprule\n\\textbf{Dep. Variable:}                                   &   ln\\_trade   & \\textbf{  No. Iterations:    } &     4       \\\\\n\\textbf{Model:}                                           &      GLM      & \\textbf{  Df Residuals:      } &     35      \\\\\n\\textbf{Model Family:}                                    &    Poisson    & \\textbf{  Df Model:          } &     57      \\\\\n\\textbf{Link Function:}                                   &      log      & \\textbf{  Scale:             } &    1.0000   \\\\\n\\textbf{Method:}                                          &      IRLS     & \\textbf{  Log-Likelihood:    } &   -218.72   \\\\\n\\textbf{Covariance Type:}                                 &      HC1      & \\textbf{  Deviance:          } &    11.657   \\\\\n\\bottomrule\n\\end{tabular}\n\\begin{tabular}{lcccccc}\n                                                          & \\textbf{coef} & \\textbf{std err} & \\textbf{t} & \\textbf{P$> |$t$|$} & \\textbf{[0.025} & \\textbf{0.975]}  \\\\\n\\midrule\n\\textbf{Animal.health}                                    &       0.0004  &        0.011     &     0.041  &         0.968        &       -0.022    &        0.023     \\\\\n\\textbf{Food.safety}                                      &       0.0088  &        0.009     &     0.948  &         0.343        &       -0.010    &        0.028     \\\\\n\\textbf{Plant.protection}                                 &       0.0289  &        0.065     &     0.446  &         0.655        &       -0.103    &        0.161     \\\\\n\\textbf{Protect.humans.from.animal.plant.pest.or.disease} &      -0.0239  &        0.015     &    -1.551  &         0.121        &       -0.055    &        0.007     \\\\\n\\textbf{Protect.territory.from.other.damage.from.pests}   &       0.1134  &        0.064     &     1.783  &         0.075        &       -0.016    &        0.242     \\\\\n\\textbf{Protection.of.Human.health.or.Safety}             &      -1.9975  &        0.707     &    -2.824  &         0.005        &       -3.433    &       -0.562     \\\\\n\\textbf{ln\\_gdp\\_d}                                       &       0.4545  &        0.202     &     2.246  &         0.025        &        0.044    &        0.865     \\\\\n\\textbf{ln\\_gdp\\_o}                                       &      -6.3726  &        2.510     &    -2.539  &         0.011        &      -11.468    &       -1.277     \\\\\n\\textbf{ln\\_dist}                                         &      18.6286  &        7.158     &     2.603  &         0.009        &        4.097    &       33.160     \\\\\n\\textbf{contig}                                           &       0.0446  &        0.082     &     0.544  &         0.586        &       -0.122    &        0.211     \\\\\n\\textbf{ln\\_Tariff}                                       &       0.0156  &        0.022     &     0.716  &         0.474        &       -0.029    &        0.060     \\\\\n\\textbf{Year\\_fe\\_2007}                                   &      -3.5357  &        1.369     &    -2.584  &         0.010        &       -6.314    &       -0.757     \\\\\n\\textbf{Year\\_fe\\_2008}                                   &      -2.2900  &        0.906     &    -2.527  &         0.012        &       -4.130    &       -0.450     \\\\\n\\textbf{Year\\_fe\\_2009}                                   &      -2.4603  &        0.951     &    -2.588  &         0.010        &       -4.390    &       -0.531     \\\\\n\\textbf{Year\\_fe\\_2010}                                   &      -0.7110  &        0.261     &    -2.728  &         0.006        &       -1.240    &       -0.182     \\\\\n\\textbf{Year\\_fe\\_2011}                                   &       0.2588  &        0.087     &     2.983  &         0.003        &        0.083    &        0.435     \\\\\n\\textbf{Year\\_fe\\_2012}                                   &      -0.3036  &        0.163     &    -1.864  &         0.062        &       -0.634    &        0.027     \\\\\n\\textbf{Year\\_fe\\_2013}                                   &      -0.4188  &        0.193     &    -2.170  &         0.030        &       -0.811    &       -0.027     \\\\\n\\textbf{Country.Code\\_fe\\_ALB}                            &       3.4973  &        1.412     &     2.476  &         0.013        &        0.630    &        6.364     \\\\\n\\textbf{Country.Code\\_fe\\_ARE}                            &      -2.2362  &        0.914     &    -2.448  &         0.014        &       -4.091    &       -0.382     \\\\\n\\textbf{Country.Code\\_fe\\_AUS}                            &      -6.5937  &        2.391     &    -2.758  &         0.006        &      -11.447    &       -1.740     \\\\\n\\textbf{Country.Code\\_fe\\_BHR}                            &      -0.5184  &        0.174     &    -2.987  &         0.003        &       -0.871    &       -0.166     \\\\\n\\textbf{Country.Code\\_fe\\_BLZ}                            &      11.9635  &        4.809     &     2.488  &         0.013        &        2.201    &       21.726     \\\\\n\\textbf{Country.Code\\_fe\\_CAN}                            &       3.2249  &        1.195     &     2.699  &         0.007        &        0.799    &        5.651     \\\\\n\\textbf{Country.Code\\_fe\\_CHL}                            &      22.2675  &        8.560     &     2.601  &         0.009        &        4.890    &       39.645     \\\\\n\\textbf{Country.Code\\_fe\\_CHN}                            &     -10.6139  &        4.197     &    -2.529  &         0.011        &      -19.134    &       -2.094     \\\\\n\\textbf{Country.Code\\_fe\\_COL}                            &      16.5607  &        6.364     &     2.602  &         0.009        &        3.642    &       29.480     \\\\\n\\textbf{Country.Code\\_fe\\_CPV}                            &      18.0190  &        7.136     &     2.525  &         0.012        &        3.533    &       32.505     \\\\\n\\textbf{Country.Code\\_fe\\_CRI}                            &      12.8441  &        5.247     &     2.448  &         0.014        &        2.192    &       23.496     \\\\\n\\textbf{Country.Code\\_fe\\_CZE}                            &       7.5135  &        2.804     &     2.680  &         0.007        &        1.821    &       13.206     \\\\\n\\textbf{Country.Code\\_fe\\_DOM}                            &      14.1989  &        5.652     &     2.512  &         0.012        &        2.724    &       25.673     \\\\\n\\textbf{Country.Code\\_fe\\_EEC}                            &      17.0668  &        6.723     &     2.538  &         0.011        &        3.418    &       30.716     \\\\\n\\textbf{Country.Code\\_fe\\_EGY}                            &       1.5894  &        0.550     &     2.890  &         0.004        &        0.473    &        2.706     \\\\\n\\textbf{Country.Code\\_fe\\_FJI}                            &      -3.0118  &        1.128     &    -2.670  &         0.008        &       -5.302    &       -0.722     \\\\\n\\textbf{Country.Code\\_fe\\_GHA}                            &      12.6013  &        4.893     &     2.575  &         0.010        &        2.668    &       22.535     \\\\\n\\textbf{Country.Code\\_fe\\_GIN}                            &      16.3744  &        6.439     &     2.543  &         0.011        &        3.303    &       29.446     \\\\\n\\textbf{Country.Code\\_fe\\_GTM}                            &       9.4287  &        4.059     &     2.323  &         0.020        &        1.188    &       17.670     \\\\\n\\textbf{Country.Code\\_fe\\_HND}                            &      11.1594  &        4.592     &     2.430  &         0.015        &        1.836    &       20.483     \\\\\n\\textbf{Country.Code\\_fe\\_IDN}                            &      -8.6786  &        3.224     &    -2.692  &         0.007        &      -15.224    &       -2.133     \\\\\n\\textbf{Country.Code\\_fe\\_ISL}                            &       2.9076  &        1.401     &     2.075  &         0.038        &        0.063    &        5.752     \\\\\n\\textbf{Country.Code\\_fe\\_JPN}                            &     -11.2327  &        4.452     &    -2.523  &         0.012        &      -20.270    &       -2.196     \\\\\n\\textbf{Country.Code\\_fe\\_KOR}                            &     -10.4732  &        4.068     &    -2.575  &         0.010        &      -18.731    &       -2.215     \\\\\n\\textbf{Country.Code\\_fe\\_LKA}                            &      -4.5786  &        1.665     &    -2.750  &         0.006        &       -7.959    &       -1.198     \\\\\n\\textbf{Country.Code\\_fe\\_MAR}                            &       7.5698  &        3.043     &     2.488  &         0.013        &        1.393    &       13.747     \\\\\n\\textbf{Country.Code\\_fe\\_MEX}                            &       5.0784  &        2.012     &     2.524  &         0.012        &        0.993    &        9.163     \\\\\n\\textbf{Country.Code\\_fe\\_MKD}                            &       3.3524  &        1.356     &     2.472  &         0.013        &        0.600    &        6.105     \\\\\n\\textbf{Country.Code\\_fe\\_MLI}                            &      13.3412  &        5.381     &     2.479  &         0.013        &        2.417    &       24.266     \\\\\n\\textbf{Country.Code\\_fe\\_MYS}                            &      -8.0896  &        3.071     &    -2.634  &         0.008        &      -14.323    &       -1.856     \\\\\n\\textbf{Country.Code\\_fe\\_NIC}                            &      12.8670  &        5.065     &     2.540  &         0.011        &        2.584    &       23.150     \\\\\n\\textbf{Country.Code\\_fe\\_NPL}                            &      -5.1376  &        1.845     &    -2.785  &         0.005        &       -8.883    &       -1.393     \\\\\n\\textbf{Country.Code\\_fe\\_NZL}                            &      -3.1099  &        1.084     &    -2.868  &         0.004        &       -5.311    &       -0.909     \\\\\n\\textbf{Country.Code\\_fe\\_OMN}                            &      -1.7500  &        0.672     &    -2.604  &         0.009        &       -3.114    &       -0.386     \\\\\n\\textbf{Country.Code\\_fe\\_PER}                            &      20.1929  &        7.816     &     2.583  &         0.010        &        4.325    &       36.060     \\\\\n\\textbf{Country.Code\\_fe\\_PHL}                            &     -10.2180  &        3.909     &    -2.614  &         0.009        &      -18.153    &       -2.283     \\\\\n\\textbf{Country.Code\\_fe\\_RUS}                            &      -3.0097  &        1.273     &    -2.364  &         0.018        &       -5.595    &       -0.425     \\\\\n\\textbf{Country.Code\\_fe\\_SAU}                            &      -0.4684  &        0.276     &    -1.695  &         0.090        &       -1.029    &        0.093     \\\\\n\\textbf{Country.Code\\_fe\\_SGP}                            &      -7.8214  &        3.024     &    -2.587  &         0.010        &      -13.960    &       -1.683     \\\\\n\\textbf{Country.Code\\_fe\\_SWZ}                            &       7.2025  &        2.952     &     2.440  &         0.015        &        1.210    &       13.195     \\\\\n\\bottomrule\n\\end{tabular}\n%\\caption{Generalized Linear Model Regression Results}\n\\end{center}\n"
    }
   ],
   "source": [
    "print(setor2)"
   ]
  },
  {
   "cell_type": "code",
   "execution_count": null,
   "metadata": {},
   "outputs": [],
   "source": [
    "Modelo_Agregado = gme.EstimationModel(estimation_data=gme_data,\n",
    "                                lhs_var=\"ln_trade\",\n",
    "                                rhs_var=[\"Animal.health\",\n",
    "                            \"Consumer.information\",\n",
    "                            \"Cost.saving\",\n",
    "                            \"Food.safety\",\n",
    "                            \"Harmonization\",\n",
    "                            \"Labelling\",\n",
    "                            \"Lower.barriers.to.trade\",\n",
    "                            \"National.security.requirements\",\n",
    "                            \"Not.specified\",\n",
    "                            \"Other\",\n",
    "                            \"Plant.protection\",\n",
    "                            \"Prevention.of.deceptive.practices.and.consumer.protection\",\n",
    "                            \"Protect.humans.from.animal.plant.pest.or.disease\",\n",
    "                            \"Protect.territory.from.other.damage.from.pests\",\n",
    "                            \"Protection.of.Human.health.or.Safety\",\n",
    "                            \"Protection.of.animal.or.plant.life.or.health\",\n",
    "                            \"Protection.of.the.environment\",\n",
    "                            \"Quality.requirements\",\n",
    "                            \"ln_gdp_d\",                                                   \n",
    "                            \"ln_gdp_o\",                                                   \n",
    "                            \"comrelig\",                                                \n",
    "                            \"gatt_d\",                                                  \n",
    "                            \"gatt_o\",                                                   \n",
    "                            \"eu_d\",\n",
    "                            \"ln_dist\",\n",
    "                            'contig', \n",
    "                            'ln_Tariff'],\n",
    "                            fixed_effects=[\"Year\",\"Country.Code\"])"
   ]
  },
  {
   "cell_type": "code",
   "execution_count": null,
   "metadata": {},
   "outputs": [],
   "source": [
    "Resultados_AG = Modelo_Agregado.estimate()"
   ]
  },
  {
   "cell_type": "code",
   "execution_count": null,
   "metadata": {},
   "outputs": [],
   "source": [
    "Resultados_AG[\"all\"].summary()"
   ]
  },
  {
   "cell_type": "code",
   "execution_count": null,
   "metadata": {},
   "outputs": [],
   "source": [
    "with open(\"../../Relatorio/Tabela_Setores_Cepii/Agregado.tex\", \"w+\") as f:\n",
    "    f.write(Resultados_AG[\"all\"].summary().as_latex())"
   ]
  },
  {
   "cell_type": "code",
   "execution_count": null,
   "metadata": {},
   "outputs": [],
   "source": []
  }
 ],
 "metadata": {
  "file_extension": ".py",
  "kernelspec": {
   "display_name": "Python 3.7.6 64-bit ('base': conda)",
   "language": "python",
   "name": "python37664bitbaseconda7037916fb866425e9ff11ebb843bed9a"
  },
  "language_info": {
   "codemirror_mode": {
    "name": "ipython",
    "version": 3
   },
   "file_extension": ".py",
   "mimetype": "text/x-python",
   "name": "python",
   "nbconvert_exporter": "python",
   "pygments_lexer": "ipython3",
   "version": "3.7.7-final"
  },
  "mimetype": "text/x-python",
  "name": "python",
  "npconvert_exporter": "python",
  "pygments_lexer": "ipython3",
  "version": 3
 },
 "nbformat": 4,
 "nbformat_minor": 4
}