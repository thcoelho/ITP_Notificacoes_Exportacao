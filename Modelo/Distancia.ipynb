{
 "cells": [
  {
   "cell_type": "code",
   "execution_count": 1,
   "metadata": {},
   "outputs": [],
   "source": [
    "import pandas as pd"
   ]
  },
  {
   "cell_type": "code",
   "execution_count": 2,
   "metadata": {},
   "outputs": [],
   "source": [
    "df = pd.read_excel(\"Distanciamento/dist_cepii.xls\")"
   ]
  },
  {
   "cell_type": "code",
   "execution_count": 3,
   "metadata": {},
   "outputs": [
    {
     "output_type": "execute_result",
     "data": {
      "text/plain": "      iso_o iso_d  contig  comlang_off  comlang_ethno  colony  comcol  curcol  \\\n0       ABW   ABW       0            0              0       0       0       0   \n1       ABW   AFG       0            0              0       0       0       0   \n2       ABW   AGO       0            0              0       0       0       0   \n3       ABW   AIA       0            0              1       0       0       0   \n4       ABW   ALB       0            0              0       0       0       0   \n...     ...   ...     ...          ...            ...     ...     ...     ...   \n50171   ZWE   YUG       0            0              0       0       0       0   \n50172   ZWE   ZAF       1            1              1       0       0       0   \n50173   ZWE   ZAR       0            0              0       0       0       0   \n50174   ZWE   ZMB       1            1              1       0       1       0   \n50175   ZWE   ZWE       0            0              0       0       0       0   \n\n       col45  smctry          dist       distcap    distw distwces  \n0          0       0      5.225315      5.225315  25.0935  23.0472  \n1          0       0  13257.810000  13257.810000  13168.2  13166.4  \n2          0       0   9516.913000   9516.913000  9587.32  9584.19  \n3          0       0    983.268200    983.268200  976.897  976.892  \n4          0       0   9091.742000   9091.742000  9091.58  9091.47  \n...      ...     ...           ...           ...      ...      ...  \n50171      0       0   7056.402000   7056.402000  7046.43  7042.83  \n50172      0       0   2186.206000    926.174300  1258.55  1101.44  \n50173      0       0   2283.061000   2283.061000  1930.98  1719.15  \n50174      0       0    396.804100    396.804100  583.795  525.073  \n50175      0       0    235.119300    235.119300  199.821  67.8379  \n\n[50176 rows x 14 columns]",
      "text/html": "<div>\n<style scoped>\n    .dataframe tbody tr th:only-of-type {\n        vertical-align: middle;\n    }\n\n    .dataframe tbody tr th {\n        vertical-align: top;\n    }\n\n    .dataframe thead th {\n        text-align: right;\n    }\n</style>\n<table border=\"1\" class=\"dataframe\">\n  <thead>\n    <tr style=\"text-align: right;\">\n      <th></th>\n      <th>iso_o</th>\n      <th>iso_d</th>\n      <th>contig</th>\n      <th>comlang_off</th>\n      <th>comlang_ethno</th>\n      <th>colony</th>\n      <th>comcol</th>\n      <th>curcol</th>\n      <th>col45</th>\n      <th>smctry</th>\n      <th>dist</th>\n      <th>distcap</th>\n      <th>distw</th>\n      <th>distwces</th>\n    </tr>\n  </thead>\n  <tbody>\n    <tr>\n      <th>0</th>\n      <td>ABW</td>\n      <td>ABW</td>\n      <td>0</td>\n      <td>0</td>\n      <td>0</td>\n      <td>0</td>\n      <td>0</td>\n      <td>0</td>\n      <td>0</td>\n      <td>0</td>\n      <td>5.225315</td>\n      <td>5.225315</td>\n      <td>25.0935</td>\n      <td>23.0472</td>\n    </tr>\n    <tr>\n      <th>1</th>\n      <td>ABW</td>\n      <td>AFG</td>\n      <td>0</td>\n      <td>0</td>\n      <td>0</td>\n      <td>0</td>\n      <td>0</td>\n      <td>0</td>\n      <td>0</td>\n      <td>0</td>\n      <td>13257.810000</td>\n      <td>13257.810000</td>\n      <td>13168.2</td>\n      <td>13166.4</td>\n    </tr>\n    <tr>\n      <th>2</th>\n      <td>ABW</td>\n      <td>AGO</td>\n      <td>0</td>\n      <td>0</td>\n      <td>0</td>\n      <td>0</td>\n      <td>0</td>\n      <td>0</td>\n      <td>0</td>\n      <td>0</td>\n      <td>9516.913000</td>\n      <td>9516.913000</td>\n      <td>9587.32</td>\n      <td>9584.19</td>\n    </tr>\n    <tr>\n      <th>3</th>\n      <td>ABW</td>\n      <td>AIA</td>\n      <td>0</td>\n      <td>0</td>\n      <td>1</td>\n      <td>0</td>\n      <td>0</td>\n      <td>0</td>\n      <td>0</td>\n      <td>0</td>\n      <td>983.268200</td>\n      <td>983.268200</td>\n      <td>976.897</td>\n      <td>976.892</td>\n    </tr>\n    <tr>\n      <th>4</th>\n      <td>ABW</td>\n      <td>ALB</td>\n      <td>0</td>\n      <td>0</td>\n      <td>0</td>\n      <td>0</td>\n      <td>0</td>\n      <td>0</td>\n      <td>0</td>\n      <td>0</td>\n      <td>9091.742000</td>\n      <td>9091.742000</td>\n      <td>9091.58</td>\n      <td>9091.47</td>\n    </tr>\n    <tr>\n      <th>...</th>\n      <td>...</td>\n      <td>...</td>\n      <td>...</td>\n      <td>...</td>\n      <td>...</td>\n      <td>...</td>\n      <td>...</td>\n      <td>...</td>\n      <td>...</td>\n      <td>...</td>\n      <td>...</td>\n      <td>...</td>\n      <td>...</td>\n      <td>...</td>\n    </tr>\n    <tr>\n      <th>50171</th>\n      <td>ZWE</td>\n      <td>YUG</td>\n      <td>0</td>\n      <td>0</td>\n      <td>0</td>\n      <td>0</td>\n      <td>0</td>\n      <td>0</td>\n      <td>0</td>\n      <td>0</td>\n      <td>7056.402000</td>\n      <td>7056.402000</td>\n      <td>7046.43</td>\n      <td>7042.83</td>\n    </tr>\n    <tr>\n      <th>50172</th>\n      <td>ZWE</td>\n      <td>ZAF</td>\n      <td>1</td>\n      <td>1</td>\n      <td>1</td>\n      <td>0</td>\n      <td>0</td>\n      <td>0</td>\n      <td>0</td>\n      <td>0</td>\n      <td>2186.206000</td>\n      <td>926.174300</td>\n      <td>1258.55</td>\n      <td>1101.44</td>\n    </tr>\n    <tr>\n      <th>50173</th>\n      <td>ZWE</td>\n      <td>ZAR</td>\n      <td>0</td>\n      <td>0</td>\n      <td>0</td>\n      <td>0</td>\n      <td>0</td>\n      <td>0</td>\n      <td>0</td>\n      <td>0</td>\n      <td>2283.061000</td>\n      <td>2283.061000</td>\n      <td>1930.98</td>\n      <td>1719.15</td>\n    </tr>\n    <tr>\n      <th>50174</th>\n      <td>ZWE</td>\n      <td>ZMB</td>\n      <td>1</td>\n      <td>1</td>\n      <td>1</td>\n      <td>0</td>\n      <td>1</td>\n      <td>0</td>\n      <td>0</td>\n      <td>0</td>\n      <td>396.804100</td>\n      <td>396.804100</td>\n      <td>583.795</td>\n      <td>525.073</td>\n    </tr>\n    <tr>\n      <th>50175</th>\n      <td>ZWE</td>\n      <td>ZWE</td>\n      <td>0</td>\n      <td>0</td>\n      <td>0</td>\n      <td>0</td>\n      <td>0</td>\n      <td>0</td>\n      <td>0</td>\n      <td>0</td>\n      <td>235.119300</td>\n      <td>235.119300</td>\n      <td>199.821</td>\n      <td>67.8379</td>\n    </tr>\n  </tbody>\n</table>\n<p>50176 rows × 14 columns</p>\n</div>"
     },
     "metadata": {},
     "execution_count": 3
    }
   ],
   "source": [
    "df"
   ]
  },
  {
   "cell_type": "code",
   "execution_count": 4,
   "metadata": {},
   "outputs": [],
   "source": [
    "def filtro(df):\n",
    "    filt = df[\"iso_o\"] == \"BRA\"\n",
    "    df = df.loc[filt]\n",
    "    return df\n",
    "df = filtro(df)"
   ]
  },
  {
   "cell_type": "code",
   "execution_count": 5,
   "metadata": {},
   "outputs": [],
   "source": [
    "df.rename(columns={\"iso_d\":\"Country Code\"}, inplace=True)\n",
    "df.drop(columns={\"iso_o\"}, inplace=True)"
   ]
  },
  {
   "cell_type": "code",
   "execution_count": 8,
   "metadata": {},
   "outputs": [],
   "source": [
    "df.set_index(\"Country Code\", inplace=True)"
   ]
  },
  {
   "cell_type": "code",
   "execution_count": 9,
   "metadata": {},
   "outputs": [],
   "source": [
    "df.to_csv(\"Distanciamento/Distanciamento_Especificado.csv\")"
   ]
  },
  {
   "cell_type": "code",
   "execution_count": 10,
   "metadata": {},
   "outputs": [
    {
     "output_type": "execute_result",
     "data": {
      "text/plain": "              contig  comlang_off  comlang_ethno  colony  comcol  curcol  \\\nCountry Code                                                               \nABW                0            0              0       0       0       0   \nAFG                0            0              0       0       0       0   \nAGO                0            1              1       0       0       0   \nAIA                0            0              0       0       0       0   \nALB                0            0              0       0       0       0   \n...              ...          ...            ...     ...     ...     ...   \nYUG                0            0              0       0       0       0   \nZAF                0            0              0       0       0       0   \nZAR                0            0              0       0       0       0   \nZMB                0            0              0       0       0       0   \nZWE                0            0              0       0       0       0   \n\n              col45  smctry       dist    distcap    distw distwces  \nCountry Code                                                         \nABW               0       0   4759.608   3988.915  4431.57   4272.2  \nAFG               0       0  13771.760  13470.080  13223.8    13180  \nAGO               0       0   6559.966   6674.706  6440.57  6391.61  \nAIA               0       0   4977.742   4132.483  4549.72  4382.35  \nALB               0       0   9943.985   9414.849  9388.92  9313.15  \n...             ...     ...        ...        ...      ...      ...  \nYUG               0       0  10200.500   9638.061  9600.67  9524.34  \nZAF               0       0   6355.119   7900.190  7342.99  7280.53  \nZAR               0       0   6967.733   7019.619   7235.6  7150.39  \nZMB               0       0   7826.946   8113.184  7833.17  7796.63  \nZWE               0       0   8017.050   8348.187  7918.61  7883.49  \n\n[224 rows x 12 columns]",
      "text/html": "<div>\n<style scoped>\n    .dataframe tbody tr th:only-of-type {\n        vertical-align: middle;\n    }\n\n    .dataframe tbody tr th {\n        vertical-align: top;\n    }\n\n    .dataframe thead th {\n        text-align: right;\n    }\n</style>\n<table border=\"1\" class=\"dataframe\">\n  <thead>\n    <tr style=\"text-align: right;\">\n      <th></th>\n      <th>contig</th>\n      <th>comlang_off</th>\n      <th>comlang_ethno</th>\n      <th>colony</th>\n      <th>comcol</th>\n      <th>curcol</th>\n      <th>col45</th>\n      <th>smctry</th>\n      <th>dist</th>\n      <th>distcap</th>\n      <th>distw</th>\n      <th>distwces</th>\n    </tr>\n    <tr>\n      <th>Country Code</th>\n      <th></th>\n      <th></th>\n      <th></th>\n      <th></th>\n      <th></th>\n      <th></th>\n      <th></th>\n      <th></th>\n      <th></th>\n      <th></th>\n      <th></th>\n      <th></th>\n    </tr>\n  </thead>\n  <tbody>\n    <tr>\n      <th>ABW</th>\n      <td>0</td>\n      <td>0</td>\n      <td>0</td>\n      <td>0</td>\n      <td>0</td>\n      <td>0</td>\n      <td>0</td>\n      <td>0</td>\n      <td>4759.608</td>\n      <td>3988.915</td>\n      <td>4431.57</td>\n      <td>4272.2</td>\n    </tr>\n    <tr>\n      <th>AFG</th>\n      <td>0</td>\n      <td>0</td>\n      <td>0</td>\n      <td>0</td>\n      <td>0</td>\n      <td>0</td>\n      <td>0</td>\n      <td>0</td>\n      <td>13771.760</td>\n      <td>13470.080</td>\n      <td>13223.8</td>\n      <td>13180</td>\n    </tr>\n    <tr>\n      <th>AGO</th>\n      <td>0</td>\n      <td>1</td>\n      <td>1</td>\n      <td>0</td>\n      <td>0</td>\n      <td>0</td>\n      <td>0</td>\n      <td>0</td>\n      <td>6559.966</td>\n      <td>6674.706</td>\n      <td>6440.57</td>\n      <td>6391.61</td>\n    </tr>\n    <tr>\n      <th>AIA</th>\n      <td>0</td>\n      <td>0</td>\n      <td>0</td>\n      <td>0</td>\n      <td>0</td>\n      <td>0</td>\n      <td>0</td>\n      <td>0</td>\n      <td>4977.742</td>\n      <td>4132.483</td>\n      <td>4549.72</td>\n      <td>4382.35</td>\n    </tr>\n    <tr>\n      <th>ALB</th>\n      <td>0</td>\n      <td>0</td>\n      <td>0</td>\n      <td>0</td>\n      <td>0</td>\n      <td>0</td>\n      <td>0</td>\n      <td>0</td>\n      <td>9943.985</td>\n      <td>9414.849</td>\n      <td>9388.92</td>\n      <td>9313.15</td>\n    </tr>\n    <tr>\n      <th>...</th>\n      <td>...</td>\n      <td>...</td>\n      <td>...</td>\n      <td>...</td>\n      <td>...</td>\n      <td>...</td>\n      <td>...</td>\n      <td>...</td>\n      <td>...</td>\n      <td>...</td>\n      <td>...</td>\n      <td>...</td>\n    </tr>\n    <tr>\n      <th>YUG</th>\n      <td>0</td>\n      <td>0</td>\n      <td>0</td>\n      <td>0</td>\n      <td>0</td>\n      <td>0</td>\n      <td>0</td>\n      <td>0</td>\n      <td>10200.500</td>\n      <td>9638.061</td>\n      <td>9600.67</td>\n      <td>9524.34</td>\n    </tr>\n    <tr>\n      <th>ZAF</th>\n      <td>0</td>\n      <td>0</td>\n      <td>0</td>\n      <td>0</td>\n      <td>0</td>\n      <td>0</td>\n      <td>0</td>\n      <td>0</td>\n      <td>6355.119</td>\n      <td>7900.190</td>\n      <td>7342.99</td>\n      <td>7280.53</td>\n    </tr>\n    <tr>\n      <th>ZAR</th>\n      <td>0</td>\n      <td>0</td>\n      <td>0</td>\n      <td>0</td>\n      <td>0</td>\n      <td>0</td>\n      <td>0</td>\n      <td>0</td>\n      <td>6967.733</td>\n      <td>7019.619</td>\n      <td>7235.6</td>\n      <td>7150.39</td>\n    </tr>\n    <tr>\n      <th>ZMB</th>\n      <td>0</td>\n      <td>0</td>\n      <td>0</td>\n      <td>0</td>\n      <td>0</td>\n      <td>0</td>\n      <td>0</td>\n      <td>0</td>\n      <td>7826.946</td>\n      <td>8113.184</td>\n      <td>7833.17</td>\n      <td>7796.63</td>\n    </tr>\n    <tr>\n      <th>ZWE</th>\n      <td>0</td>\n      <td>0</td>\n      <td>0</td>\n      <td>0</td>\n      <td>0</td>\n      <td>0</td>\n      <td>0</td>\n      <td>0</td>\n      <td>8017.050</td>\n      <td>8348.187</td>\n      <td>7918.61</td>\n      <td>7883.49</td>\n    </tr>\n  </tbody>\n</table>\n<p>224 rows × 12 columns</p>\n</div>"
     },
     "metadata": {},
     "execution_count": 10
    }
   ],
   "source": [
    "df"
   ]
  },
  {
   "cell_type": "code",
   "execution_count": 13,
   "metadata": {},
   "outputs": [
    {
     "output_type": "execute_result",
     "data": {
      "text/plain": "Index(['ABW', 'AFG', 'AGO', 'AIA', 'ALB', 'AND', 'ANT', 'ARE', 'ARG', 'ARM',\n       ...\n       'VNM', 'VUT', 'WLF', 'WSM', 'YEM', 'YUG', 'ZAF', 'ZAR', 'ZMB', 'ZWE'],\n      dtype='object', name='Country Code', length=224)"
     },
     "metadata": {},
     "execution_count": 13
    }
   ],
   "source": [
    "df.index"
   ]
  },
  {
   "cell_type": "code",
   "execution_count": null,
   "metadata": {},
   "outputs": [],
   "source": []
  }
 ],
 "metadata": {
  "kernelspec": {
   "display_name": "Python 3.7.6 64-bit ('base': conda)",
   "language": "python",
   "name": "python37664bitbaseconda7037916fb866425e9ff11ebb843bed9a"
  },
  "language_info": {
   "codemirror_mode": {
    "name": "ipython",
    "version": 3
   },
   "file_extension": ".py",
   "mimetype": "text/x-python",
   "name": "python",
   "nbconvert_exporter": "python",
   "pygments_lexer": "ipython3",
   "version": "3.7.6-final"
  }
 },
 "nbformat": 4,
 "nbformat_minor": 4
}