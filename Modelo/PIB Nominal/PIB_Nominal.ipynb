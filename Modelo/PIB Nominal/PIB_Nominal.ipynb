{
 "cells": [
  {
   "cell_type": "code",
   "execution_count": 1,
   "metadata": {},
   "outputs": [],
   "source": [
    "import pandas as pd"
   ]
  },
  {
   "cell_type": "code",
   "execution_count": 2,
   "metadata": {},
   "outputs": [],
   "source": [
    "df = pd.read_csv(\"PIB Nominal/PIB_Nominal.csv\")"
   ]
  },
  {
   "cell_type": "code",
   "execution_count": 14,
   "metadata": {},
   "outputs": [
    {
     "output_type": "execute_result",
     "data": {
      "text/plain": "0      AFG          \n1      ALB          \n2      DZA          \n3      ASM          \n4      AND          \n           ...      \n264                 \n265                 \n266                 \n267                 \n268                 \nName: Country Code , Length: 269, dtype: object"
     },
     "metadata": {},
     "execution_count": 14
    }
   ],
   "source": [
    "df.iloc[:,3]"
   ]
  },
  {
   "cell_type": "code",
   "execution_count": 15,
   "metadata": {},
   "outputs": [
    {
     "output_type": "error",
     "ename": "KeyError",
     "evalue": "\"The following 'id_vars' are not present in the DataFrame: ['             ', 'ABW          ', 'AFG          ', 'AGO          ', 'ALB          ', 'AND          ', 'ARB          ', 'ARE          ', 'ARG          ', 'ARM          ', 'ASM          ', 'ATG          ', 'AUS          ', 'AUT          ', 'AZE          ', 'BDI          ', 'BEL          ', 'BEN          ', 'BFA          ', 'BGD          ', 'BGR          ', 'BHR          ', 'BHS          ', 'BIH          ', 'BLR          ', 'BLZ          ', 'BMU          ', 'BOL          ', 'BRA          ', 'BRB          ', 'BRN          ', 'BTN          ', 'BWA          ', 'CAF          ', 'CAN          ', 'CEB          ', 'CHE          ', 'CHI          ', 'CHL          ', 'CHN          ', 'CIV          ', 'CMR          ', 'COD          ', 'COG          ', 'COL          ', 'COM          ', 'CPV          ', 'CRI          ', 'CSS          ', 'CUB          ', 'CUW          ', 'CYM          ', 'CYP          ', 'CZE          ', 'DEU          ', 'DJI          ', 'DMA          ', 'DNK          ', 'DOM          ', 'DZA          ', 'EAP          ', 'EAR          ', 'EAS          ', 'ECA          ', 'ECS          ', 'ECU          ', 'EGY          ', 'EMU          ', 'ERI          ', 'ESP          ', 'EST          ', 'ETH          ', 'EUU          ', 'FCS          ', 'FIN          ', 'FJI          ', 'FRA          ', 'FRO          ', 'FSM          ', 'GAB          ', 'GBR          ', 'GEO          ', 'GHA          ', 'GIB          ', 'GIN          ', 'GMB          ', 'GNB          ', 'GNQ          ', 'GRC          ', 'GRD          ', 'GRL          ', 'GTM          ', 'GUM          ', 'GUY          ', 'HIC          ', 'HKG          ', 'HND          ', 'HPC          ', 'HRV          ', 'HTI          ', 'HUN          ', 'IBD          ', 'IBT          ', 'IDA          ', 'IDB          ', 'IDN          ', 'IDX          ', 'IMN          ', 'IND          ', 'INX          ', 'IRL          ', 'IRN          ', 'IRQ          ', 'ISL          ', 'ISR          ', 'ITA          ', 'JAM          ', 'JOR          ', 'JPN          ', 'KAZ          ', 'KEN          ', 'KGZ          ', 'KHM          ', 'KIR          ', 'KNA          ', 'KOR          ', 'KWT          ', 'LAC          ', 'LAO          ', 'LBN          ', 'LBR          ', 'LBY          ', 'LCA          ', 'LCN          ', 'LDC          ', 'LIC          ', 'LIE          ', 'LKA          ', 'LMC          ', 'LMY          ', 'LSO          ', 'LTE          ', 'LTU          ', 'LUX          ', 'LVA          ', 'MAC          ', 'MAF          ', 'MAR          ', 'MCO          ', 'MDA          ', 'MDG          ', 'MDV          ', 'MEA          ', 'MEX          ', 'MHL          ', 'MIC          ', 'MKD          ', 'MLI          ', 'MLT          ', 'MMR          ', 'MNA          ', 'MNE          ', 'MNG          ', 'MNP          ', 'MOZ          ', 'MRT          ', 'MUS          ', 'MWI          ', 'MYS          ', 'NAC          ', 'NAM          ', 'NCL          ', 'NER          ', 'NGA          ', 'NIC          ', 'NLD          ', 'NOR          ', 'NPL          ', 'NRU          ', 'NZL          ', 'OED          ', 'OMN          ', 'OSS          ', 'PAK          ', 'PAN          ', 'PER          ', 'PHL          ', 'PLW          ', 'PNG          ', 'POL          ', 'PRE          ', 'PRI          ', 'PRK          ', 'PRT          ', 'PRY          ', 'PSE          ', 'PSS          ', 'PST          ', 'PYF          ', 'QAT          ', 'ROU          ', 'RUS          ', 'RWA          ', 'SAS          ', 'SAU          ', 'SDN          ', 'SEN          ', 'SGP          ', 'SLB          ', 'SLE          ', 'SLV          ', 'SMR          ', 'SOM          ', 'SRB          ', 'SSA          ', 'SSD          ', 'SSF          ', 'SST          ', 'STP          ', 'SUR          ', 'SVK          ', 'SVN          ', 'SWE          ', 'SWZ          ', 'SXM          ', 'SYC          ', 'SYR          ', 'TCA          ', 'TCD          ', 'TEA          ', 'TEC          ', 'TGO          ', 'THA          ', 'TJK          ', 'TKM          ', 'TLA          ', 'TLS          ', 'TMN          ', 'TON          ', 'TSA          ', 'TSS          ', 'TTO          ', 'TUN          ', 'TUR          ', 'TUV          ', 'TZA          ', 'UGA          ', 'UKR          ', 'UMC          ', 'URY          ', 'USA          ', 'UZB          ', 'VCT          ', 'VEN          ', 'VGB          ', 'VIR          ', 'VNM          ', 'VUT          ', 'WLD          ', 'WSM          ', 'XKX          ', 'YEM          ', 'ZAF          ', 'ZMB          ', 'ZWE          ']\"",
     "traceback": [
      "\u001b[1;31m---------------------------------------------------------------------------\u001b[0m",
      "\u001b[1;31mKeyError\u001b[0m                                  Traceback (most recent call last)",
      "\u001b[1;32m<ipython-input-15-320b587b6024>\u001b[0m in \u001b[0;36m<module>\u001b[1;34m\u001b[0m\n\u001b[0;32m      1\u001b[0m df = df.melt(id_vars= df[\"Country Code \"],\n\u001b[0;32m      2\u001b[0m        \u001b[0mvar_name\u001b[0m\u001b[1;33m=\u001b[0m\u001b[1;34m\"Year\"\u001b[0m\u001b[1;33m,\u001b[0m\u001b[1;33m\u001b[0m\u001b[1;33m\u001b[0m\u001b[0m\n\u001b[1;32m----> 3\u001b[1;33m        value_name=\"PIB\")\n\u001b[0m",
      "\u001b[1;32m~\\Anaconda3\\lib\\site-packages\\pandas\\core\\frame.py\u001b[0m in \u001b[0;36mmelt\u001b[1;34m(self, id_vars, value_vars, var_name, value_name, col_level)\u001b[0m\n\u001b[0;32m   6504\u001b[0m             \u001b[0mvar_name\u001b[0m\u001b[1;33m=\u001b[0m\u001b[0mvar_name\u001b[0m\u001b[1;33m,\u001b[0m\u001b[1;33m\u001b[0m\u001b[1;33m\u001b[0m\u001b[0m\n\u001b[0;32m   6505\u001b[0m             \u001b[0mvalue_name\u001b[0m\u001b[1;33m=\u001b[0m\u001b[0mvalue_name\u001b[0m\u001b[1;33m,\u001b[0m\u001b[1;33m\u001b[0m\u001b[1;33m\u001b[0m\u001b[0m\n\u001b[1;32m-> 6506\u001b[1;33m             \u001b[0mcol_level\u001b[0m\u001b[1;33m=\u001b[0m\u001b[0mcol_level\u001b[0m\u001b[1;33m,\u001b[0m\u001b[1;33m\u001b[0m\u001b[1;33m\u001b[0m\u001b[0m\n\u001b[0m\u001b[0;32m   6507\u001b[0m         )\n\u001b[0;32m   6508\u001b[0m \u001b[1;33m\u001b[0m\u001b[0m\n",
      "\u001b[1;32m~\\Anaconda3\\lib\\site-packages\\pandas\\core\\reshape\\melt.py\u001b[0m in \u001b[0;36mmelt\u001b[1;34m(frame, id_vars, value_vars, var_name, value_name, col_level)\u001b[0m\n\u001b[0;32m     54\u001b[0m                     \u001b[1;34m\"The following 'id_vars' are not present \"\u001b[0m\u001b[1;33m\u001b[0m\u001b[1;33m\u001b[0m\u001b[0m\n\u001b[0;32m     55\u001b[0m                     \u001b[1;34m\"in the DataFrame: {missing}\"\u001b[0m\u001b[1;33m\u001b[0m\u001b[1;33m\u001b[0m\u001b[0m\n\u001b[1;32m---> 56\u001b[1;33m                     \u001b[1;34m\"\"\u001b[0m\u001b[1;33m.\u001b[0m\u001b[0mformat\u001b[0m\u001b[1;33m(\u001b[0m\u001b[0mmissing\u001b[0m\u001b[1;33m=\u001b[0m\u001b[0mlist\u001b[0m\u001b[1;33m(\u001b[0m\u001b[0mmissing\u001b[0m\u001b[1;33m)\u001b[0m\u001b[1;33m)\u001b[0m\u001b[1;33m\u001b[0m\u001b[1;33m\u001b[0m\u001b[0m\n\u001b[0m\u001b[0;32m     57\u001b[0m                 )\n\u001b[0;32m     58\u001b[0m     \u001b[1;32melse\u001b[0m\u001b[1;33m:\u001b[0m\u001b[1;33m\u001b[0m\u001b[1;33m\u001b[0m\u001b[0m\n",
      "\u001b[1;31mKeyError\u001b[0m: \"The following 'id_vars' are not present in the DataFrame: ['             ', 'ABW          ', 'AFG          ', 'AGO          ', 'ALB          ', 'AND          ', 'ARB          ', 'ARE          ', 'ARG          ', 'ARM          ', 'ASM          ', 'ATG          ', 'AUS          ', 'AUT          ', 'AZE          ', 'BDI          ', 'BEL          ', 'BEN          ', 'BFA          ', 'BGD          ', 'BGR          ', 'BHR          ', 'BHS          ', 'BIH          ', 'BLR          ', 'BLZ          ', 'BMU          ', 'BOL          ', 'BRA          ', 'BRB          ', 'BRN          ', 'BTN          ', 'BWA          ', 'CAF          ', 'CAN          ', 'CEB          ', 'CHE          ', 'CHI          ', 'CHL          ', 'CHN          ', 'CIV          ', 'CMR          ', 'COD          ', 'COG          ', 'COL          ', 'COM          ', 'CPV          ', 'CRI          ', 'CSS          ', 'CUB          ', 'CUW          ', 'CYM          ', 'CYP          ', 'CZE          ', 'DEU          ', 'DJI          ', 'DMA          ', 'DNK          ', 'DOM          ', 'DZA          ', 'EAP          ', 'EAR          ', 'EAS          ', 'ECA          ', 'ECS          ', 'ECU          ', 'EGY          ', 'EMU          ', 'ERI          ', 'ESP          ', 'EST          ', 'ETH          ', 'EUU          ', 'FCS          ', 'FIN          ', 'FJI          ', 'FRA          ', 'FRO          ', 'FSM          ', 'GAB          ', 'GBR          ', 'GEO          ', 'GHA          ', 'GIB          ', 'GIN          ', 'GMB          ', 'GNB          ', 'GNQ          ', 'GRC          ', 'GRD          ', 'GRL          ', 'GTM          ', 'GUM          ', 'GUY          ', 'HIC          ', 'HKG          ', 'HND          ', 'HPC          ', 'HRV          ', 'HTI          ', 'HUN          ', 'IBD          ', 'IBT          ', 'IDA          ', 'IDB          ', 'IDN          ', 'IDX          ', 'IMN          ', 'IND          ', 'INX          ', 'IRL          ', 'IRN          ', 'IRQ          ', 'ISL          ', 'ISR          ', 'ITA          ', 'JAM          ', 'JOR          ', 'JPN          ', 'KAZ          ', 'KEN          ', 'KGZ          ', 'KHM          ', 'KIR          ', 'KNA          ', 'KOR          ', 'KWT          ', 'LAC          ', 'LAO          ', 'LBN          ', 'LBR          ', 'LBY          ', 'LCA          ', 'LCN          ', 'LDC          ', 'LIC          ', 'LIE          ', 'LKA          ', 'LMC          ', 'LMY          ', 'LSO          ', 'LTE          ', 'LTU          ', 'LUX          ', 'LVA          ', 'MAC          ', 'MAF          ', 'MAR          ', 'MCO          ', 'MDA          ', 'MDG          ', 'MDV          ', 'MEA          ', 'MEX          ', 'MHL          ', 'MIC          ', 'MKD          ', 'MLI          ', 'MLT          ', 'MMR          ', 'MNA          ', 'MNE          ', 'MNG          ', 'MNP          ', 'MOZ          ', 'MRT          ', 'MUS          ', 'MWI          ', 'MYS          ', 'NAC          ', 'NAM          ', 'NCL          ', 'NER          ', 'NGA          ', 'NIC          ', 'NLD          ', 'NOR          ', 'NPL          ', 'NRU          ', 'NZL          ', 'OED          ', 'OMN          ', 'OSS          ', 'PAK          ', 'PAN          ', 'PER          ', 'PHL          ', 'PLW          ', 'PNG          ', 'POL          ', 'PRE          ', 'PRI          ', 'PRK          ', 'PRT          ', 'PRY          ', 'PSE          ', 'PSS          ', 'PST          ', 'PYF          ', 'QAT          ', 'ROU          ', 'RUS          ', 'RWA          ', 'SAS          ', 'SAU          ', 'SDN          ', 'SEN          ', 'SGP          ', 'SLB          ', 'SLE          ', 'SLV          ', 'SMR          ', 'SOM          ', 'SRB          ', 'SSA          ', 'SSD          ', 'SSF          ', 'SST          ', 'STP          ', 'SUR          ', 'SVK          ', 'SVN          ', 'SWE          ', 'SWZ          ', 'SXM          ', 'SYC          ', 'SYR          ', 'TCA          ', 'TCD          ', 'TEA          ', 'TEC          ', 'TGO          ', 'THA          ', 'TJK          ', 'TKM          ', 'TLA          ', 'TLS          ', 'TMN          ', 'TON          ', 'TSA          ', 'TSS          ', 'TTO          ', 'TUN          ', 'TUR          ', 'TUV          ', 'TZA          ', 'UGA          ', 'UKR          ', 'UMC          ', 'URY          ', 'USA          ', 'UZB          ', 'VCT          ', 'VEN          ', 'VGB          ', 'VIR          ', 'VNM          ', 'VUT          ', 'WLD          ', 'WSM          ', 'XKX          ', 'YEM          ', 'ZAF          ', 'ZMB          ', 'ZWE          ']\""
     ]
    }
   ],
   "source": [
    "df = df.melt(id_vars= df[\"Country Code \"],\n",
    "       var_name=\"Year\",\n",
    "       value_name=\"PIB\")"
   ]
  },
  {
   "cell_type": "code",
   "execution_count": 36,
   "metadata": {},
   "outputs": [],
   "source": [
    "df [\"Year\"] = df[\"Year\"].map(lambda x: str(x)[:-8])"
   ]
  },
  {
   "cell_type": "code",
   "execution_count": 37,
   "metadata": {},
   "outputs": [],
   "source": [
    "df = df.dropna()"
   ]
  },
  {
   "cell_type": "code",
   "execution_count": 38,
   "metadata": {},
   "outputs": [
    {
     "data": {
      "text/html": [
       "<div>\n",
       "<style scoped>\n",
       "    .dataframe tbody tr th:only-of-type {\n",
       "        vertical-align: middle;\n",
       "    }\n",
       "\n",
       "    .dataframe tbody tr th {\n",
       "        vertical-align: top;\n",
       "    }\n",
       "\n",
       "    .dataframe thead th {\n",
       "        text-align: right;\n",
       "    }\n",
       "</style>\n",
       "<table border=\"1\" class=\"dataframe\">\n",
       "  <thead>\n",
       "    <tr style=\"text-align: right;\">\n",
       "      <th></th>\n",
       "      <th>Country Code</th>\n",
       "      <th>Year</th>\n",
       "      <th>PIB</th>\n",
       "    </tr>\n",
       "  </thead>\n",
       "  <tbody>\n",
       "    <tr>\n",
       "      <th>0</th>\n",
       "      <td>AFG</td>\n",
       "      <td>1996</td>\n",
       "      <td>..</td>\n",
       "    </tr>\n",
       "    <tr>\n",
       "      <th>1</th>\n",
       "      <td>ALB</td>\n",
       "      <td>1996</td>\n",
       "      <td>3199642579.96974</td>\n",
       "    </tr>\n",
       "    <tr>\n",
       "      <th>2</th>\n",
       "      <td>DZA</td>\n",
       "      <td>1996</td>\n",
       "      <td>46941496779.8499</td>\n",
       "    </tr>\n",
       "    <tr>\n",
       "      <th>3</th>\n",
       "      <td>ASM</td>\n",
       "      <td>1996</td>\n",
       "      <td>..</td>\n",
       "    </tr>\n",
       "    <tr>\n",
       "      <th>4</th>\n",
       "      <td>AND</td>\n",
       "      <td>1996</td>\n",
       "      <td>1223945356.62682</td>\n",
       "    </tr>\n",
       "    <tr>\n",
       "      <th>...</th>\n",
       "      <td>...</td>\n",
       "      <td>...</td>\n",
       "      <td>...</td>\n",
       "    </tr>\n",
       "    <tr>\n",
       "      <th>6446</th>\n",
       "      <td>SSF</td>\n",
       "      <td>2019</td>\n",
       "      <td>..</td>\n",
       "    </tr>\n",
       "    <tr>\n",
       "      <th>6447</th>\n",
       "      <td>SSA</td>\n",
       "      <td>2019</td>\n",
       "      <td>..</td>\n",
       "    </tr>\n",
       "    <tr>\n",
       "      <th>6448</th>\n",
       "      <td>TSS</td>\n",
       "      <td>2019</td>\n",
       "      <td>..</td>\n",
       "    </tr>\n",
       "    <tr>\n",
       "      <th>6449</th>\n",
       "      <td>UMC</td>\n",
       "      <td>2019</td>\n",
       "      <td>..</td>\n",
       "    </tr>\n",
       "    <tr>\n",
       "      <th>6450</th>\n",
       "      <td>WLD</td>\n",
       "      <td>2019</td>\n",
       "      <td>..</td>\n",
       "    </tr>\n",
       "  </tbody>\n",
       "</table>\n",
       "<p>6336 rows × 3 columns</p>\n",
       "</div>"
      ],
      "text/plain": [
       "     Country Code   Year               PIB\n",
       "0             AFG  1996                 ..\n",
       "1             ALB  1996   3199642579.96974\n",
       "2             DZA  1996   46941496779.8499\n",
       "3             ASM  1996                 ..\n",
       "4             AND  1996   1223945356.62682\n",
       "...           ...    ...               ...\n",
       "6446          SSF  2019                 ..\n",
       "6447          SSA  2019                 ..\n",
       "6448          TSS  2019                 ..\n",
       "6449          UMC  2019                 ..\n",
       "6450          WLD  2019                 ..\n",
       "\n",
       "[6336 rows x 3 columns]"
      ]
     },
     "execution_count": 38,
     "metadata": {},
     "output_type": "execute_result"
    }
   ],
   "source": [
    "df"
   ]
  },
  {
   "cell_type": "code",
   "execution_count": 45,
   "metadata": {},
   "outputs": [],
   "source": [
    "df = df[df[\"PIB\"] != \"..\"]"
   ]
  },
  {
   "cell_type": "code",
   "execution_count": 51,
   "metadata": {},
   "outputs": [],
   "source": [
    "df = df.set_index(\"Year\")"
   ]
  },
  {
   "cell_type": "code",
   "execution_count": 52,
   "metadata": {},
   "outputs": [
    {
     "data": {
      "text/html": [
       "<div>\n",
       "<style scoped>\n",
       "    .dataframe tbody tr th:only-of-type {\n",
       "        vertical-align: middle;\n",
       "    }\n",
       "\n",
       "    .dataframe tbody tr th {\n",
       "        vertical-align: top;\n",
       "    }\n",
       "\n",
       "    .dataframe thead th {\n",
       "        text-align: right;\n",
       "    }\n",
       "</style>\n",
       "<table border=\"1\" class=\"dataframe\">\n",
       "  <thead>\n",
       "    <tr style=\"text-align: right;\">\n",
       "      <th></th>\n",
       "      <th>Country Code</th>\n",
       "      <th>PIB</th>\n",
       "    </tr>\n",
       "    <tr>\n",
       "      <th>Year</th>\n",
       "      <th></th>\n",
       "      <th></th>\n",
       "    </tr>\n",
       "  </thead>\n",
       "  <tbody>\n",
       "    <tr>\n",
       "      <th>1996</th>\n",
       "      <td>ALB</td>\n",
       "      <td>3199642579.96974</td>\n",
       "    </tr>\n",
       "    <tr>\n",
       "      <th>1996</th>\n",
       "      <td>DZA</td>\n",
       "      <td>46941496779.8499</td>\n",
       "    </tr>\n",
       "    <tr>\n",
       "      <th>1996</th>\n",
       "      <td>AND</td>\n",
       "      <td>1223945356.62682</td>\n",
       "    </tr>\n",
       "    <tr>\n",
       "      <th>1996</th>\n",
       "      <td>AGO</td>\n",
       "      <td>7526446605.51712</td>\n",
       "    </tr>\n",
       "    <tr>\n",
       "      <th>1996</th>\n",
       "      <td>ATG</td>\n",
       "      <td>633730629.62963</td>\n",
       "    </tr>\n",
       "    <tr>\n",
       "      <th>...</th>\n",
       "      <td>...</td>\n",
       "      <td>...</td>\n",
       "    </tr>\n",
       "    <tr>\n",
       "      <th>2018</th>\n",
       "      <td>SSF</td>\n",
       "      <td>1709948446225.32</td>\n",
       "    </tr>\n",
       "    <tr>\n",
       "      <th>2018</th>\n",
       "      <td>SSA</td>\n",
       "      <td>1708356764548.15</td>\n",
       "    </tr>\n",
       "    <tr>\n",
       "      <th>2018</th>\n",
       "      <td>TSS</td>\n",
       "      <td>1709948446225.32</td>\n",
       "    </tr>\n",
       "    <tr>\n",
       "      <th>2018</th>\n",
       "      <td>UMC</td>\n",
       "      <td>24446132587811.4</td>\n",
       "    </tr>\n",
       "    <tr>\n",
       "      <th>2018</th>\n",
       "      <td>WLD</td>\n",
       "      <td>85909727209568.5</td>\n",
       "    </tr>\n",
       "  </tbody>\n",
       "</table>\n",
       "<p>5696 rows × 2 columns</p>\n",
       "</div>"
      ],
      "text/plain": [
       "      Country Code               PIB\n",
       "Year                                \n",
       "1996           ALB  3199642579.96974\n",
       "1996           DZA  46941496779.8499\n",
       "1996           AND  1223945356.62682\n",
       "1996           AGO  7526446605.51712\n",
       "1996           ATG   633730629.62963\n",
       "...            ...               ...\n",
       "2018           SSF  1709948446225.32\n",
       "2018           SSA  1708356764548.15\n",
       "2018           TSS  1709948446225.32\n",
       "2018           UMC  24446132587811.4\n",
       "2018           WLD  85909727209568.5\n",
       "\n",
       "[5696 rows x 2 columns]"
      ]
     },
     "execution_count": 52,
     "metadata": {},
     "output_type": "execute_result"
    }
   ],
   "source": [
    "df"
   ]
  },
  {
   "cell_type": "code",
   "execution_count": 53,
   "metadata": {},
   "outputs": [],
   "source": [
    "df.to_csv(\"PIB Nominal/PIB_especificado.csv\")"
   ]
  },
  {
   "cell_type": "code",
   "execution_count": 16,
   "metadata": {},
   "outputs": [],
   "source": [
    "df = pd.read_csv(\"PIB Nominal/PIB_especificado.csv\")"
   ]
  },
  {
   "cell_type": "code",
   "execution_count": 20,
   "metadata": {},
   "outputs": [],
   "source": [
    "df.index =  pd.MultiIndex.from_arrays([df[\"Year\"], df[\"Country Code\"]])"
   ]
  },
  {
   "cell_type": "code",
   "execution_count": 27,
   "metadata": {},
   "outputs": [],
   "source": [
    "df = df[\"PIB\"]"
   ]
  },
  {
   "cell_type": "code",
   "execution_count": 33,
   "metadata": {},
   "outputs": [
    {
     "output_type": "execute_result",
     "data": {
      "text/plain": "Year  Country Code\n1996  ALB             3.199643e+09\n      DZA             4.694150e+10\n      AND             1.223945e+09\n      AGO             7.526447e+09\n      ATG             6.337306e+08\n                          ...     \n2018  SSF             1.709948e+12\n      SSA             1.708357e+12\n      TSS             1.709948e+12\n      UMC             2.444613e+13\n      WLD             8.590973e+13\nName: PIB, Length: 5696, dtype: float64"
     },
     "metadata": {},
     "execution_count": 33
    }
   ],
   "source": [
    "df"
   ]
  },
  {
   "cell_type": "code",
   "execution_count": null,
   "metadata": {},
   "outputs": [],
   "source": []
  }
 ],
 "metadata": {
  "kernelspec": {
   "display_name": "Python 3.7.6 64-bit ('base': conda)",
   "language": "python",
   "name": "python37664bitbaseconda7037916fb866425e9ff11ebb843bed9a"
  },
  "language_info": {
   "codemirror_mode": {
    "name": "ipython",
    "version": 3
   },
   "file_extension": ".py",
   "mimetype": "text/x-python",
   "name": "python",
   "nbconvert_exporter": "python",
   "pygments_lexer": "ipython3",
   "version": "3.7.6-final"
  }
 },
 "nbformat": 4,
 "nbformat_minor": 4
}