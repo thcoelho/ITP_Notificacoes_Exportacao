{
 "nbformat": 4,
 "nbformat_minor": 2,
 "metadata": {
  "language_info": {
   "name": "python",
   "codemirror_mode": {
    "name": "ipython",
    "version": 3
   },
   "version": "3.7.6-final"
  },
  "orig_nbformat": 2,
  "file_extension": ".py",
  "mimetype": "text/x-python",
  "name": "python",
  "npconvert_exporter": "python",
  "pygments_lexer": "ipython3",
  "version": 3,
  "kernelspec": {
   "name": "python37664bitbaseconda7037916fb866425e9ff11ebb843bed9a",
   "display_name": "Python 3.7.6 64-bit ('base': conda)"
  }
 },
 "cells": [
  {
   "cell_type": "code",
   "execution_count": 1,
   "metadata": {},
   "outputs": [],
   "source": [
    "import pandas as pd"
   ]
  },
  {
   "cell_type": "code",
   "execution_count": 2,
   "metadata": {},
   "outputs": [
    {
     "output_type": "execute_result",
     "data": {
      "text/plain": "   Unnamed: 0  Year Country.Code  Commodity.Code  Animal.health  \\\n0           1  1997          USA               2              0   \n1           2  2005          USA               1              0   \n2           3  2005          USA            8609              0   \n3           4  2007          ALB               2              1   \n4           5  2007          ALB               4              1   \n\n   Consumer.information  Cost.saving  Food.safety  Harmonization  Labelling  \\\n0                     0            0            1              0          0   \n1                     0            0            0              0          0   \n2                     0            0            0              0          0   \n3                     0            0            1              0          0   \n4                     0            0            1              0          0   \n\n   ...  gatt_o  eu_d  Origin        distw   ln_gdp_o   ln_gdp_d   ln_trade  \\\n0  ...     1.0   0.0     BRA  8088.513876  27.493138  29.783771  12.921397   \n1  ...     1.0   0.0     BRA  8088.513876  27.505668  30.203152  14.320688   \n2  ...     1.0   0.0     BRA  8088.513876  27.505668  30.203152  14.320688   \n3  ...     1.0   0.0     BRA  9388.915094  27.943511  23.093604  17.452358   \n4  ...     1.0   0.0     BRA  9388.915094  27.943511  23.093604   8.774931   \n\n    ln_dist  contig  ln_Tariff  \n0  8.998200       0   0.000000  \n1  8.998200       0   1.226712  \n2  8.998200       0   0.000000  \n3  9.147285       0   2.397895  \n4  9.147285       0   2.397895  \n\n[5 rows x 37 columns]",
      "text/html": "<div>\n<style scoped>\n    .dataframe tbody tr th:only-of-type {\n        vertical-align: middle;\n    }\n\n    .dataframe tbody tr th {\n        vertical-align: top;\n    }\n\n    .dataframe thead th {\n        text-align: right;\n    }\n</style>\n<table border=\"1\" class=\"dataframe\">\n  <thead>\n    <tr style=\"text-align: right;\">\n      <th></th>\n      <th>Unnamed: 0</th>\n      <th>Year</th>\n      <th>Country.Code</th>\n      <th>Commodity.Code</th>\n      <th>Animal.health</th>\n      <th>Consumer.information</th>\n      <th>Cost.saving</th>\n      <th>Food.safety</th>\n      <th>Harmonization</th>\n      <th>Labelling</th>\n      <th>...</th>\n      <th>gatt_o</th>\n      <th>eu_d</th>\n      <th>Origin</th>\n      <th>distw</th>\n      <th>ln_gdp_o</th>\n      <th>ln_gdp_d</th>\n      <th>ln_trade</th>\n      <th>ln_dist</th>\n      <th>contig</th>\n      <th>ln_Tariff</th>\n    </tr>\n  </thead>\n  <tbody>\n    <tr>\n      <th>0</th>\n      <td>1</td>\n      <td>1997</td>\n      <td>USA</td>\n      <td>2</td>\n      <td>0</td>\n      <td>0</td>\n      <td>0</td>\n      <td>1</td>\n      <td>0</td>\n      <td>0</td>\n      <td>...</td>\n      <td>1.0</td>\n      <td>0.0</td>\n      <td>BRA</td>\n      <td>8088.513876</td>\n      <td>27.493138</td>\n      <td>29.783771</td>\n      <td>12.921397</td>\n      <td>8.998200</td>\n      <td>0</td>\n      <td>0.000000</td>\n    </tr>\n    <tr>\n      <th>1</th>\n      <td>2</td>\n      <td>2005</td>\n      <td>USA</td>\n      <td>1</td>\n      <td>0</td>\n      <td>0</td>\n      <td>0</td>\n      <td>0</td>\n      <td>0</td>\n      <td>0</td>\n      <td>...</td>\n      <td>1.0</td>\n      <td>0.0</td>\n      <td>BRA</td>\n      <td>8088.513876</td>\n      <td>27.505668</td>\n      <td>30.203152</td>\n      <td>14.320688</td>\n      <td>8.998200</td>\n      <td>0</td>\n      <td>1.226712</td>\n    </tr>\n    <tr>\n      <th>2</th>\n      <td>3</td>\n      <td>2005</td>\n      <td>USA</td>\n      <td>8609</td>\n      <td>0</td>\n      <td>0</td>\n      <td>0</td>\n      <td>0</td>\n      <td>0</td>\n      <td>0</td>\n      <td>...</td>\n      <td>1.0</td>\n      <td>0.0</td>\n      <td>BRA</td>\n      <td>8088.513876</td>\n      <td>27.505668</td>\n      <td>30.203152</td>\n      <td>14.320688</td>\n      <td>8.998200</td>\n      <td>0</td>\n      <td>0.000000</td>\n    </tr>\n    <tr>\n      <th>3</th>\n      <td>4</td>\n      <td>2007</td>\n      <td>ALB</td>\n      <td>2</td>\n      <td>1</td>\n      <td>0</td>\n      <td>0</td>\n      <td>1</td>\n      <td>0</td>\n      <td>0</td>\n      <td>...</td>\n      <td>1.0</td>\n      <td>0.0</td>\n      <td>BRA</td>\n      <td>9388.915094</td>\n      <td>27.943511</td>\n      <td>23.093604</td>\n      <td>17.452358</td>\n      <td>9.147285</td>\n      <td>0</td>\n      <td>2.397895</td>\n    </tr>\n    <tr>\n      <th>4</th>\n      <td>5</td>\n      <td>2007</td>\n      <td>ALB</td>\n      <td>4</td>\n      <td>1</td>\n      <td>0</td>\n      <td>0</td>\n      <td>1</td>\n      <td>0</td>\n      <td>0</td>\n      <td>...</td>\n      <td>1.0</td>\n      <td>0.0</td>\n      <td>BRA</td>\n      <td>9388.915094</td>\n      <td>27.943511</td>\n      <td>23.093604</td>\n      <td>8.774931</td>\n      <td>9.147285</td>\n      <td>0</td>\n      <td>2.397895</td>\n    </tr>\n  </tbody>\n</table>\n<p>5 rows × 37 columns</p>\n</div>"
     },
     "metadata": {},
     "execution_count": 2
    }
   ],
   "source": [
    "df = pd.read_csv(\"Dados_Cepii_Expecificados.csv\")\n",
    "df.head()"
   ]
  },
  {
   "cell_type": "code",
   "execution_count": 3,
   "metadata": {},
   "outputs": [
    {
     "output_type": "execute_result",
     "data": {
      "text/plain": "   Year Country.Code  Commodity.Code  Animal.health  Consumer.information  \\\n0  1997          USA               2              0                     0   \n1  2005          USA               1              0                     0   \n2  2005          USA            8609              0                     0   \n3  2007          ALB               2              1                     0   \n4  2007          ALB               4              1                     0   \n\n   Cost.saving  Food.safety  Harmonization  Labelling  \\\n0            0            1              0          0   \n1            0            0              0          0   \n2            0            0              0          0   \n3            0            1              0          0   \n4            0            1              0          0   \n\n   Lower.barriers.to.trade  ...  gatt_o  eu_d  Origin        distw   ln_gdp_o  \\\n0                        0  ...     1.0   0.0     BRA  8088.513876  27.493138   \n1                        0  ...     1.0   0.0     BRA  8088.513876  27.505668   \n2                        0  ...     1.0   0.0     BRA  8088.513876  27.505668   \n3                        0  ...     1.0   0.0     BRA  9388.915094  27.943511   \n4                        0  ...     1.0   0.0     BRA  9388.915094  27.943511   \n\n    ln_gdp_d   ln_trade   ln_dist  contig  ln_Tariff  \n0  29.783771  12.921397  8.998200       0   0.000000  \n1  30.203152  14.320688  8.998200       0   1.226712  \n2  30.203152  14.320688  8.998200       0   0.000000  \n3  23.093604  17.452358  9.147285       0   2.397895  \n4  23.093604   8.774931  9.147285       0   2.397895  \n\n[5 rows x 36 columns]",
      "text/html": "<div>\n<style scoped>\n    .dataframe tbody tr th:only-of-type {\n        vertical-align: middle;\n    }\n\n    .dataframe tbody tr th {\n        vertical-align: top;\n    }\n\n    .dataframe thead th {\n        text-align: right;\n    }\n</style>\n<table border=\"1\" class=\"dataframe\">\n  <thead>\n    <tr style=\"text-align: right;\">\n      <th></th>\n      <th>Year</th>\n      <th>Country.Code</th>\n      <th>Commodity.Code</th>\n      <th>Animal.health</th>\n      <th>Consumer.information</th>\n      <th>Cost.saving</th>\n      <th>Food.safety</th>\n      <th>Harmonization</th>\n      <th>Labelling</th>\n      <th>Lower.barriers.to.trade</th>\n      <th>...</th>\n      <th>gatt_o</th>\n      <th>eu_d</th>\n      <th>Origin</th>\n      <th>distw</th>\n      <th>ln_gdp_o</th>\n      <th>ln_gdp_d</th>\n      <th>ln_trade</th>\n      <th>ln_dist</th>\n      <th>contig</th>\n      <th>ln_Tariff</th>\n    </tr>\n  </thead>\n  <tbody>\n    <tr>\n      <th>0</th>\n      <td>1997</td>\n      <td>USA</td>\n      <td>2</td>\n      <td>0</td>\n      <td>0</td>\n      <td>0</td>\n      <td>1</td>\n      <td>0</td>\n      <td>0</td>\n      <td>0</td>\n      <td>...</td>\n      <td>1.0</td>\n      <td>0.0</td>\n      <td>BRA</td>\n      <td>8088.513876</td>\n      <td>27.493138</td>\n      <td>29.783771</td>\n      <td>12.921397</td>\n      <td>8.998200</td>\n      <td>0</td>\n      <td>0.000000</td>\n    </tr>\n    <tr>\n      <th>1</th>\n      <td>2005</td>\n      <td>USA</td>\n      <td>1</td>\n      <td>0</td>\n      <td>0</td>\n      <td>0</td>\n      <td>0</td>\n      <td>0</td>\n      <td>0</td>\n      <td>0</td>\n      <td>...</td>\n      <td>1.0</td>\n      <td>0.0</td>\n      <td>BRA</td>\n      <td>8088.513876</td>\n      <td>27.505668</td>\n      <td>30.203152</td>\n      <td>14.320688</td>\n      <td>8.998200</td>\n      <td>0</td>\n      <td>1.226712</td>\n    </tr>\n    <tr>\n      <th>2</th>\n      <td>2005</td>\n      <td>USA</td>\n      <td>8609</td>\n      <td>0</td>\n      <td>0</td>\n      <td>0</td>\n      <td>0</td>\n      <td>0</td>\n      <td>0</td>\n      <td>0</td>\n      <td>...</td>\n      <td>1.0</td>\n      <td>0.0</td>\n      <td>BRA</td>\n      <td>8088.513876</td>\n      <td>27.505668</td>\n      <td>30.203152</td>\n      <td>14.320688</td>\n      <td>8.998200</td>\n      <td>0</td>\n      <td>0.000000</td>\n    </tr>\n    <tr>\n      <th>3</th>\n      <td>2007</td>\n      <td>ALB</td>\n      <td>2</td>\n      <td>1</td>\n      <td>0</td>\n      <td>0</td>\n      <td>1</td>\n      <td>0</td>\n      <td>0</td>\n      <td>0</td>\n      <td>...</td>\n      <td>1.0</td>\n      <td>0.0</td>\n      <td>BRA</td>\n      <td>9388.915094</td>\n      <td>27.943511</td>\n      <td>23.093604</td>\n      <td>17.452358</td>\n      <td>9.147285</td>\n      <td>0</td>\n      <td>2.397895</td>\n    </tr>\n    <tr>\n      <th>4</th>\n      <td>2007</td>\n      <td>ALB</td>\n      <td>4</td>\n      <td>1</td>\n      <td>0</td>\n      <td>0</td>\n      <td>1</td>\n      <td>0</td>\n      <td>0</td>\n      <td>0</td>\n      <td>...</td>\n      <td>1.0</td>\n      <td>0.0</td>\n      <td>BRA</td>\n      <td>9388.915094</td>\n      <td>27.943511</td>\n      <td>23.093604</td>\n      <td>8.774931</td>\n      <td>9.147285</td>\n      <td>0</td>\n      <td>2.397895</td>\n    </tr>\n  </tbody>\n</table>\n<p>5 rows × 36 columns</p>\n</div>"
     },
     "metadata": {},
     "execution_count": 3
    }
   ],
   "source": [
    "df.drop(df.columns[0], axis=1, inplace=True)\n",
    "df.head()"
   ]
  },
  {
   "cell_type": "code",
   "execution_count": 4,
   "metadata": {},
   "outputs": [
    {
     "output_type": "execute_result",
     "data": {
      "text/plain": "Year                                                            0\nCountry.Code                                                    0\nCommodity.Code                                                  0\nAnimal.health                                                   0\nConsumer.information                                            0\nCost.saving                                                     0\nFood.safety                                                     0\nHarmonization                                                   0\nLabelling                                                       0\nLower.barriers.to.trade                                         0\nNational.security.requirements                                  0\nNot.specified                                                   0\nOther                                                           0\nPlant.protection                                                0\nPrevention.of.deceptive.practices.and.consumer.protection       0\nProtect.humans.from.animal.plant.pest.or.disease                0\nProtect.territory.from.other.damage.from.pests                  0\nProtection.of.animal.or.plant.life.or.health                    0\nProtection.of.Human.health.or.Safety                            0\nProtection.of.the.environment                                   0\nQuality.requirements                                            0\nTrade.Value..US..                                               0\ngdp_d                                                         566\ngdp_o                                                         552\ncomrelig                                                      552\ngatt_d                                                        552\ngatt_o                                                        552\neu_d                                                         1096\nOrigin                                                        552\ndistw                                                         552\nln_gdp_o                                                      552\nln_gdp_d                                                      566\nln_trade                                                        0\nln_dist                                                       552\ncontig                                                          0\nln_Tariff                                                       0\ndtype: int64"
     },
     "metadata": {},
     "execution_count": 4
    }
   ],
   "source": [
    "df.isna().sum()"
   ]
  },
  {
   "cell_type": "code",
   "execution_count": 8,
   "metadata": {},
   "outputs": [
    {
     "output_type": "stream",
     "name": "stdout",
     "text": "<class 'pandas.core.frame.DataFrame'>\nRangeIndex: 8573 entries, 0 to 8572\nData columns (total 36 columns):\n #   Column                                                     Non-Null Count  Dtype  \n---  ------                                                     --------------  -----  \n 0   Year                                                       8573 non-null   int64  \n 1   Country.Code                                               8573 non-null   object \n 2   Commodity.Code                                             8573 non-null   int64  \n 3   Animal.health                                              8573 non-null   int64  \n 4   Consumer.information                                       8573 non-null   int64  \n 5   Cost.saving                                                8573 non-null   int64  \n 6   Food.safety                                                8573 non-null   int64  \n 7   Harmonization                                              8573 non-null   int64  \n 8   Labelling                                                  8573 non-null   int64  \n 9   Lower.barriers.to.trade                                    8573 non-null   int64  \n 10  National.security.requirements                             8573 non-null   int64  \n 11  Not.specified                                              8573 non-null   int64  \n 12  Other                                                      8573 non-null   int64  \n 13  Plant.protection                                           8573 non-null   int64  \n 14  Prevention.of.deceptive.practices.and.consumer.protection  8573 non-null   int64  \n 15  Protect.humans.from.animal.plant.pest.or.disease           8573 non-null   int64  \n 16  Protect.territory.from.other.damage.from.pests             8573 non-null   int64  \n 17  Protection.of.animal.or.plant.life.or.health               8573 non-null   int64  \n 18  Protection.of.Human.health.or.Safety                       8573 non-null   int64  \n 19  Protection.of.the.environment                              8573 non-null   int64  \n 20  Quality.requirements                                       8573 non-null   int64  \n 21  Trade.Value..US..                                          8573 non-null   int64  \n 22  gdp_d                                                      8007 non-null   float64\n 23  gdp_o                                                      8021 non-null   float64\n 24  comrelig                                                   8021 non-null   float64\n 25  gatt_d                                                     8021 non-null   float64\n 26  gatt_o                                                     8021 non-null   float64\n 27  eu_d                                                       7477 non-null   float64\n 28  Origin                                                     8021 non-null   object \n 29  distw                                                      8021 non-null   float64\n 30  ln_gdp_o                                                   8021 non-null   float64\n 31  ln_gdp_d                                                   8007 non-null   float64\n 32  ln_trade                                                   8573 non-null   float64\n 33  ln_dist                                                    8021 non-null   float64\n 34  contig                                                     8573 non-null   int64  \n 35  ln_Tariff                                                  8573 non-null   float64\ndtypes: float64(12), int64(22), object(2)\nmemory usage: 2.4+ MB\n"
    }
   ],
   "source": [
    "df.info()"
   ]
  },
  {
   "cell_type": "code",
   "execution_count": null,
   "metadata": {},
   "outputs": [],
   "source": []
  }
 ]
}