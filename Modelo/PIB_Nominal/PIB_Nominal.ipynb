{
 "cells": [
  {
   "cell_type": "code",
   "execution_count": 12,
   "metadata": {},
   "outputs": [],
   "source": [
    "import pandas as pd"
   ]
  },
  {
   "cell_type": "code",
   "execution_count": 21,
   "metadata": {},
   "outputs": [],
   "source": [
    "df = pd.read_csv(\"PIB_Nominal.csv\", error_bad_lines=False)"
   ]
  },
  {
   "cell_type": "code",
   "execution_count": 22,
   "metadata": {},
   "outputs": [
    {
     "output_type": "execute_result",
     "data": {
      "text/plain": "     Country Name Country Code     Indicator Name  Indicator Code  \\\n0           Aruba          ABW  GDP (current US$)  NY.GDP.MKTP.CD   \n1     Afghanistan          AFG  GDP (current US$)  NY.GDP.MKTP.CD   \n2          Angola          AGO  GDP (current US$)  NY.GDP.MKTP.CD   \n3         Albania          ALB  GDP (current US$)  NY.GDP.MKTP.CD   \n4         Andorra          AND  GDP (current US$)  NY.GDP.MKTP.CD   \n..            ...          ...                ...             ...   \n259        Kosovo          XKX  GDP (current US$)  NY.GDP.MKTP.CD   \n260   Yemen, Rep.          YEM  GDP (current US$)  NY.GDP.MKTP.CD   \n261  South Africa          ZAF  GDP (current US$)  NY.GDP.MKTP.CD   \n262        Zambia          ZMB  GDP (current US$)  NY.GDP.MKTP.CD   \n263      Zimbabwe          ZWE  GDP (current US$)  NY.GDP.MKTP.CD   \n\n             1960          1961          1962          1963          1964  \\\n0             NaN           NaN           NaN           NaN           NaN   \n1    5.377778e+08  5.488889e+08  5.466667e+08  7.511112e+08  8.000000e+08   \n2             NaN           NaN           NaN           NaN           NaN   \n3             NaN           NaN           NaN           NaN           NaN   \n4             NaN           NaN           NaN           NaN           NaN   \n..            ...           ...           ...           ...           ...   \n259           NaN           NaN           NaN           NaN           NaN   \n260           NaN           NaN           NaN           NaN           NaN   \n261  7.575397e+09  7.972997e+09  8.497997e+09  9.423396e+09  1.037400e+10   \n262  7.130000e+08  6.962857e+08  6.931429e+08  7.187143e+08  8.394286e+08   \n263  1.052990e+09  1.096647e+09  1.117602e+09  1.159512e+09  1.217138e+09   \n\n             1965  ...          2011          2012          2013  \\\n0             NaN  ...  2.549721e+09  2.534637e+09  2.581564e+09   \n1    1.006667e+09  ...  1.780428e+10  2.000162e+10  2.056105e+10   \n2             NaN  ...  1.117897e+11  1.280529e+11  1.367099e+11   \n3             NaN  ...  1.289087e+10  1.231978e+10  1.277628e+10   \n4             NaN  ...  3.442063e+09  3.164615e+09  3.281585e+09   \n..            ...  ...           ...           ...           ...   \n259           NaN  ...  6.692431e+09  6.499760e+09  7.071982e+09   \n260           NaN  ...  3.272642e+10  3.540134e+10  4.041523e+10   \n261  1.133440e+10  ...  4.164189e+11  3.963327e+11  3.668294e+11   \n262  1.082857e+09  ...  2.346010e+10  2.550337e+10  2.804546e+10   \n263  1.311436e+09  ...  1.410192e+10  1.711485e+10  1.909102e+10   \n\n             2014          2015          2016          2017          2018  \\\n0    2.649721e+09  2.691620e+09  2.646927e+09  2.700559e+09           NaN   \n1    2.048487e+10  1.990711e+10  1.936264e+10  2.019176e+10  1.936297e+10   \n2    1.457122e+11  1.161936e+11  1.011239e+11  1.221238e+11  1.057510e+11   \n3    1.322824e+10  1.138693e+10  1.186135e+10  1.302506e+10  1.510250e+10   \n4    3.350736e+09  2.811489e+09  2.877312e+09  3.013387e+09  3.236544e+09   \n..            ...           ...           ...           ...           ...   \n259  7.386883e+09  6.440068e+09  6.714727e+09  7.227700e+09  7.938991e+09   \n260  4.322859e+10  4.262833e+10  3.096824e+10  2.681870e+10  2.691440e+10   \n261  3.509046e+11  3.176205e+11  2.963573e+11  3.495541e+11  3.682889e+11   \n262  2.715063e+10  2.124335e+10  2.095475e+10  2.586814e+10  2.672007e+10   \n263  1.949552e+10  1.996312e+10  2.054868e+10  2.281301e+10  3.100052e+10   \n\n     2019  Unnamed: 64  \n0     NaN          NaN  \n1     NaN          NaN  \n2     NaN          NaN  \n3     NaN          NaN  \n4     NaN          NaN  \n..    ...          ...  \n259   NaN          NaN  \n260   NaN          NaN  \n261   NaN          NaN  \n262   NaN          NaN  \n263   NaN          NaN  \n\n[264 rows x 65 columns]",
      "text/html": "<div>\n<style scoped>\n    .dataframe tbody tr th:only-of-type {\n        vertical-align: middle;\n    }\n\n    .dataframe tbody tr th {\n        vertical-align: top;\n    }\n\n    .dataframe thead th {\n        text-align: right;\n    }\n</style>\n<table border=\"1\" class=\"dataframe\">\n  <thead>\n    <tr style=\"text-align: right;\">\n      <th></th>\n      <th>Country Name</th>\n      <th>Country Code</th>\n      <th>Indicator Name</th>\n      <th>Indicator Code</th>\n      <th>1960</th>\n      <th>1961</th>\n      <th>1962</th>\n      <th>1963</th>\n      <th>1964</th>\n      <th>1965</th>\n      <th>...</th>\n      <th>2011</th>\n      <th>2012</th>\n      <th>2013</th>\n      <th>2014</th>\n      <th>2015</th>\n      <th>2016</th>\n      <th>2017</th>\n      <th>2018</th>\n      <th>2019</th>\n      <th>Unnamed: 64</th>\n    </tr>\n  </thead>\n  <tbody>\n    <tr>\n      <th>0</th>\n      <td>Aruba</td>\n      <td>ABW</td>\n      <td>GDP (current US$)</td>\n      <td>NY.GDP.MKTP.CD</td>\n      <td>NaN</td>\n      <td>NaN</td>\n      <td>NaN</td>\n      <td>NaN</td>\n      <td>NaN</td>\n      <td>NaN</td>\n      <td>...</td>\n      <td>2.549721e+09</td>\n      <td>2.534637e+09</td>\n      <td>2.581564e+09</td>\n      <td>2.649721e+09</td>\n      <td>2.691620e+09</td>\n      <td>2.646927e+09</td>\n      <td>2.700559e+09</td>\n      <td>NaN</td>\n      <td>NaN</td>\n      <td>NaN</td>\n    </tr>\n    <tr>\n      <th>1</th>\n      <td>Afghanistan</td>\n      <td>AFG</td>\n      <td>GDP (current US$)</td>\n      <td>NY.GDP.MKTP.CD</td>\n      <td>5.377778e+08</td>\n      <td>5.488889e+08</td>\n      <td>5.466667e+08</td>\n      <td>7.511112e+08</td>\n      <td>8.000000e+08</td>\n      <td>1.006667e+09</td>\n      <td>...</td>\n      <td>1.780428e+10</td>\n      <td>2.000162e+10</td>\n      <td>2.056105e+10</td>\n      <td>2.048487e+10</td>\n      <td>1.990711e+10</td>\n      <td>1.936264e+10</td>\n      <td>2.019176e+10</td>\n      <td>1.936297e+10</td>\n      <td>NaN</td>\n      <td>NaN</td>\n    </tr>\n    <tr>\n      <th>2</th>\n      <td>Angola</td>\n      <td>AGO</td>\n      <td>GDP (current US$)</td>\n      <td>NY.GDP.MKTP.CD</td>\n      <td>NaN</td>\n      <td>NaN</td>\n      <td>NaN</td>\n      <td>NaN</td>\n      <td>NaN</td>\n      <td>NaN</td>\n      <td>...</td>\n      <td>1.117897e+11</td>\n      <td>1.280529e+11</td>\n      <td>1.367099e+11</td>\n      <td>1.457122e+11</td>\n      <td>1.161936e+11</td>\n      <td>1.011239e+11</td>\n      <td>1.221238e+11</td>\n      <td>1.057510e+11</td>\n      <td>NaN</td>\n      <td>NaN</td>\n    </tr>\n    <tr>\n      <th>3</th>\n      <td>Albania</td>\n      <td>ALB</td>\n      <td>GDP (current US$)</td>\n      <td>NY.GDP.MKTP.CD</td>\n      <td>NaN</td>\n      <td>NaN</td>\n      <td>NaN</td>\n      <td>NaN</td>\n      <td>NaN</td>\n      <td>NaN</td>\n      <td>...</td>\n      <td>1.289087e+10</td>\n      <td>1.231978e+10</td>\n      <td>1.277628e+10</td>\n      <td>1.322824e+10</td>\n      <td>1.138693e+10</td>\n      <td>1.186135e+10</td>\n      <td>1.302506e+10</td>\n      <td>1.510250e+10</td>\n      <td>NaN</td>\n      <td>NaN</td>\n    </tr>\n    <tr>\n      <th>4</th>\n      <td>Andorra</td>\n      <td>AND</td>\n      <td>GDP (current US$)</td>\n      <td>NY.GDP.MKTP.CD</td>\n      <td>NaN</td>\n      <td>NaN</td>\n      <td>NaN</td>\n      <td>NaN</td>\n      <td>NaN</td>\n      <td>NaN</td>\n      <td>...</td>\n      <td>3.442063e+09</td>\n      <td>3.164615e+09</td>\n      <td>3.281585e+09</td>\n      <td>3.350736e+09</td>\n      <td>2.811489e+09</td>\n      <td>2.877312e+09</td>\n      <td>3.013387e+09</td>\n      <td>3.236544e+09</td>\n      <td>NaN</td>\n      <td>NaN</td>\n    </tr>\n    <tr>\n      <th>...</th>\n      <td>...</td>\n      <td>...</td>\n      <td>...</td>\n      <td>...</td>\n      <td>...</td>\n      <td>...</td>\n      <td>...</td>\n      <td>...</td>\n      <td>...</td>\n      <td>...</td>\n      <td>...</td>\n      <td>...</td>\n      <td>...</td>\n      <td>...</td>\n      <td>...</td>\n      <td>...</td>\n      <td>...</td>\n      <td>...</td>\n      <td>...</td>\n      <td>...</td>\n      <td>...</td>\n    </tr>\n    <tr>\n      <th>259</th>\n      <td>Kosovo</td>\n      <td>XKX</td>\n      <td>GDP (current US$)</td>\n      <td>NY.GDP.MKTP.CD</td>\n      <td>NaN</td>\n      <td>NaN</td>\n      <td>NaN</td>\n      <td>NaN</td>\n      <td>NaN</td>\n      <td>NaN</td>\n      <td>...</td>\n      <td>6.692431e+09</td>\n      <td>6.499760e+09</td>\n      <td>7.071982e+09</td>\n      <td>7.386883e+09</td>\n      <td>6.440068e+09</td>\n      <td>6.714727e+09</td>\n      <td>7.227700e+09</td>\n      <td>7.938991e+09</td>\n      <td>NaN</td>\n      <td>NaN</td>\n    </tr>\n    <tr>\n      <th>260</th>\n      <td>Yemen, Rep.</td>\n      <td>YEM</td>\n      <td>GDP (current US$)</td>\n      <td>NY.GDP.MKTP.CD</td>\n      <td>NaN</td>\n      <td>NaN</td>\n      <td>NaN</td>\n      <td>NaN</td>\n      <td>NaN</td>\n      <td>NaN</td>\n      <td>...</td>\n      <td>3.272642e+10</td>\n      <td>3.540134e+10</td>\n      <td>4.041523e+10</td>\n      <td>4.322859e+10</td>\n      <td>4.262833e+10</td>\n      <td>3.096824e+10</td>\n      <td>2.681870e+10</td>\n      <td>2.691440e+10</td>\n      <td>NaN</td>\n      <td>NaN</td>\n    </tr>\n    <tr>\n      <th>261</th>\n      <td>South Africa</td>\n      <td>ZAF</td>\n      <td>GDP (current US$)</td>\n      <td>NY.GDP.MKTP.CD</td>\n      <td>7.575397e+09</td>\n      <td>7.972997e+09</td>\n      <td>8.497997e+09</td>\n      <td>9.423396e+09</td>\n      <td>1.037400e+10</td>\n      <td>1.133440e+10</td>\n      <td>...</td>\n      <td>4.164189e+11</td>\n      <td>3.963327e+11</td>\n      <td>3.668294e+11</td>\n      <td>3.509046e+11</td>\n      <td>3.176205e+11</td>\n      <td>2.963573e+11</td>\n      <td>3.495541e+11</td>\n      <td>3.682889e+11</td>\n      <td>NaN</td>\n      <td>NaN</td>\n    </tr>\n    <tr>\n      <th>262</th>\n      <td>Zambia</td>\n      <td>ZMB</td>\n      <td>GDP (current US$)</td>\n      <td>NY.GDP.MKTP.CD</td>\n      <td>7.130000e+08</td>\n      <td>6.962857e+08</td>\n      <td>6.931429e+08</td>\n      <td>7.187143e+08</td>\n      <td>8.394286e+08</td>\n      <td>1.082857e+09</td>\n      <td>...</td>\n      <td>2.346010e+10</td>\n      <td>2.550337e+10</td>\n      <td>2.804546e+10</td>\n      <td>2.715063e+10</td>\n      <td>2.124335e+10</td>\n      <td>2.095475e+10</td>\n      <td>2.586814e+10</td>\n      <td>2.672007e+10</td>\n      <td>NaN</td>\n      <td>NaN</td>\n    </tr>\n    <tr>\n      <th>263</th>\n      <td>Zimbabwe</td>\n      <td>ZWE</td>\n      <td>GDP (current US$)</td>\n      <td>NY.GDP.MKTP.CD</td>\n      <td>1.052990e+09</td>\n      <td>1.096647e+09</td>\n      <td>1.117602e+09</td>\n      <td>1.159512e+09</td>\n      <td>1.217138e+09</td>\n      <td>1.311436e+09</td>\n      <td>...</td>\n      <td>1.410192e+10</td>\n      <td>1.711485e+10</td>\n      <td>1.909102e+10</td>\n      <td>1.949552e+10</td>\n      <td>1.996312e+10</td>\n      <td>2.054868e+10</td>\n      <td>2.281301e+10</td>\n      <td>3.100052e+10</td>\n      <td>NaN</td>\n      <td>NaN</td>\n    </tr>\n  </tbody>\n</table>\n<p>264 rows × 65 columns</p>\n</div>"
     },
     "metadata": {},
     "execution_count": 22
    }
   ],
   "source": [
    "df"
   ]
  },
  {
   "cell_type": "code",
   "execution_count": 24,
   "metadata": {},
   "outputs": [
    {
     "output_type": "execute_result",
     "data": {
      "text/plain": "0      GDP (current US$)\n1      GDP (current US$)\n2      GDP (current US$)\n3      GDP (current US$)\n4      GDP (current US$)\n             ...        \n259    GDP (current US$)\n260    GDP (current US$)\n261    GDP (current US$)\n262    GDP (current US$)\n263    GDP (current US$)\nName: Indicator Name, Length: 264, dtype: object"
     },
     "metadata": {},
     "execution_count": 24
    }
   ],
   "source": [
    "df.iloc[:,2]"
   ]
  },
  {
   "cell_type": "code",
   "execution_count": 27,
   "metadata": {},
   "outputs": [],
   "source": [
    "df = df.melt(id_vars=\"Country Name\",\n",
    "       var_name=\"Year\",\n",
    "       value_name=\"PIB\")"
   ]
  },
  {
   "cell_type": "code",
   "execution_count": 28,
   "metadata": {},
   "outputs": [],
   "source": [
    "df [\"Year\"] = df[\"Year\"].map(lambda x: str(x)[:-8])"
   ]
  },
  {
   "cell_type": "code",
   "execution_count": 29,
   "metadata": {},
   "outputs": [],
   "source": [
    "df = df.dropna()"
   ]
  },
  {
   "cell_type": "code",
   "execution_count": 30,
   "metadata": {},
   "outputs": [
    {
     "output_type": "execute_result",
     "data": {
      "text/plain": "       Country Name  Year          PIB\n0             Aruba  Coun          ABW\n1       Afghanistan  Coun          AFG\n2            Angola  Coun          AGO\n3           Albania  Coun          ALB\n4           Andorra  Coun          AND\n...             ...   ...          ...\n16363        Kosovo        7.93899e+09\n16364   Yemen, Rep.        2.69144e+10\n16365  South Africa        3.68289e+11\n16366        Zambia        2.67201e+10\n16367      Zimbabwe        3.10005e+10\n\n[12884 rows x 3 columns]",
      "text/html": "<div>\n<style scoped>\n    .dataframe tbody tr th:only-of-type {\n        vertical-align: middle;\n    }\n\n    .dataframe tbody tr th {\n        vertical-align: top;\n    }\n\n    .dataframe thead th {\n        text-align: right;\n    }\n</style>\n<table border=\"1\" class=\"dataframe\">\n  <thead>\n    <tr style=\"text-align: right;\">\n      <th></th>\n      <th>Country Name</th>\n      <th>Year</th>\n      <th>PIB</th>\n    </tr>\n  </thead>\n  <tbody>\n    <tr>\n      <th>0</th>\n      <td>Aruba</td>\n      <td>Coun</td>\n      <td>ABW</td>\n    </tr>\n    <tr>\n      <th>1</th>\n      <td>Afghanistan</td>\n      <td>Coun</td>\n      <td>AFG</td>\n    </tr>\n    <tr>\n      <th>2</th>\n      <td>Angola</td>\n      <td>Coun</td>\n      <td>AGO</td>\n    </tr>\n    <tr>\n      <th>3</th>\n      <td>Albania</td>\n      <td>Coun</td>\n      <td>ALB</td>\n    </tr>\n    <tr>\n      <th>4</th>\n      <td>Andorra</td>\n      <td>Coun</td>\n      <td>AND</td>\n    </tr>\n    <tr>\n      <th>...</th>\n      <td>...</td>\n      <td>...</td>\n      <td>...</td>\n    </tr>\n    <tr>\n      <th>16363</th>\n      <td>Kosovo</td>\n      <td></td>\n      <td>7.93899e+09</td>\n    </tr>\n    <tr>\n      <th>16364</th>\n      <td>Yemen, Rep.</td>\n      <td></td>\n      <td>2.69144e+10</td>\n    </tr>\n    <tr>\n      <th>16365</th>\n      <td>South Africa</td>\n      <td></td>\n      <td>3.68289e+11</td>\n    </tr>\n    <tr>\n      <th>16366</th>\n      <td>Zambia</td>\n      <td></td>\n      <td>2.67201e+10</td>\n    </tr>\n    <tr>\n      <th>16367</th>\n      <td>Zimbabwe</td>\n      <td></td>\n      <td>3.10005e+10</td>\n    </tr>\n  </tbody>\n</table>\n<p>12884 rows × 3 columns</p>\n</div>"
     },
     "metadata": {},
     "execution_count": 30
    }
   ],
   "source": [
    "df"
   ]
  },
  {
   "cell_type": "code",
   "execution_count": 31,
   "metadata": {},
   "outputs": [],
   "source": [
    "df = df[df[\"PIB\"] != \"..\"]"
   ]
  },
  {
   "cell_type": "code",
   "execution_count": 32,
   "metadata": {},
   "outputs": [],
   "source": [
    "df = df.set_index(\"Year\")"
   ]
  },
  {
   "cell_type": "code",
   "execution_count": 33,
   "metadata": {},
   "outputs": [
    {
     "output_type": "execute_result",
     "data": {
      "text/plain": "      Country Name          PIB\nYear                           \nCoun         Aruba          ABW\nCoun   Afghanistan          AFG\nCoun        Angola          AGO\nCoun       Albania          ALB\nCoun       Andorra          AND\n...            ...          ...\n            Kosovo  7.93899e+09\n       Yemen, Rep.  2.69144e+10\n      South Africa  3.68289e+11\n            Zambia  2.67201e+10\n          Zimbabwe  3.10005e+10\n\n[12884 rows x 2 columns]",
      "text/html": "<div>\n<style scoped>\n    .dataframe tbody tr th:only-of-type {\n        vertical-align: middle;\n    }\n\n    .dataframe tbody tr th {\n        vertical-align: top;\n    }\n\n    .dataframe thead th {\n        text-align: right;\n    }\n</style>\n<table border=\"1\" class=\"dataframe\">\n  <thead>\n    <tr style=\"text-align: right;\">\n      <th></th>\n      <th>Country Name</th>\n      <th>PIB</th>\n    </tr>\n    <tr>\n      <th>Year</th>\n      <th></th>\n      <th></th>\n    </tr>\n  </thead>\n  <tbody>\n    <tr>\n      <th>Coun</th>\n      <td>Aruba</td>\n      <td>ABW</td>\n    </tr>\n    <tr>\n      <th>Coun</th>\n      <td>Afghanistan</td>\n      <td>AFG</td>\n    </tr>\n    <tr>\n      <th>Coun</th>\n      <td>Angola</td>\n      <td>AGO</td>\n    </tr>\n    <tr>\n      <th>Coun</th>\n      <td>Albania</td>\n      <td>ALB</td>\n    </tr>\n    <tr>\n      <th>Coun</th>\n      <td>Andorra</td>\n      <td>AND</td>\n    </tr>\n    <tr>\n      <th>...</th>\n      <td>...</td>\n      <td>...</td>\n    </tr>\n    <tr>\n      <th></th>\n      <td>Kosovo</td>\n      <td>7.93899e+09</td>\n    </tr>\n    <tr>\n      <th></th>\n      <td>Yemen, Rep.</td>\n      <td>2.69144e+10</td>\n    </tr>\n    <tr>\n      <th></th>\n      <td>South Africa</td>\n      <td>3.68289e+11</td>\n    </tr>\n    <tr>\n      <th></th>\n      <td>Zambia</td>\n      <td>2.67201e+10</td>\n    </tr>\n    <tr>\n      <th></th>\n      <td>Zimbabwe</td>\n      <td>3.10005e+10</td>\n    </tr>\n  </tbody>\n</table>\n<p>12884 rows × 2 columns</p>\n</div>"
     },
     "metadata": {},
     "execution_count": 33
    }
   ],
   "source": [
    "df"
   ]
  },
  {
   "cell_type": "code",
   "execution_count": 35,
   "metadata": {},
   "outputs": [],
   "source": [
    "df.to_csv(\"PIB_especificado.csv\")"
   ]
  },
  {
   "cell_type": "code",
   "execution_count": 16,
   "metadata": {},
   "outputs": [],
   "source": [
    "df = pd.read_csv(\"PIB Nominal/PIB_especificado.csv\")"
   ]
  },
  {
   "cell_type": "code",
   "execution_count": 20,
   "metadata": {},
   "outputs": [],
   "source": [
    "df.index =  pd.MultiIndex.from_arrays([df[\"Year\"], df[\"Country Code\"]])"
   ]
  },
  {
   "cell_type": "code",
   "execution_count": 27,
   "metadata": {},
   "outputs": [],
   "source": [
    "df = df[\"PIB\"]"
   ]
  },
  {
   "cell_type": "code",
   "execution_count": 33,
   "metadata": {},
   "outputs": [
    {
     "output_type": "execute_result",
     "data": {
      "text/plain": "Year  Country Code\n1996  ALB             3.199643e+09\n      DZA             4.694150e+10\n      AND             1.223945e+09\n      AGO             7.526447e+09\n      ATG             6.337306e+08\n                          ...     \n2018  SSF             1.709948e+12\n      SSA             1.708357e+12\n      TSS             1.709948e+12\n      UMC             2.444613e+13\n      WLD             8.590973e+13\nName: PIB, Length: 5696, dtype: float64"
     },
     "metadata": {},
     "execution_count": 33
    }
   ],
   "source": [
    "df"
   ]
  },
  {
   "cell_type": "code",
   "execution_count": null,
   "metadata": {},
   "outputs": [],
   "source": []
  }
 ],
 "metadata": {
  "kernelspec": {
   "display_name": "Python 3.7.6 64-bit ('base': conda)",
   "language": "python",
   "name": "python37664bitbaseconda7037916fb866425e9ff11ebb843bed9a"
  },
  "language_info": {
   "codemirror_mode": {
    "name": "ipython",
    "version": 3
   },
   "file_extension": ".py",
   "mimetype": "text/x-python",
   "name": "python",
   "nbconvert_exporter": "python",
   "pygments_lexer": "ipython3",
   "version": "3.7.6-final"
  }
 },
 "nbformat": 4,
 "nbformat_minor": 4
}