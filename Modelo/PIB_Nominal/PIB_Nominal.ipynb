{
 "cells": [
  {
   "cell_type": "code",
   "execution_count": 34,
   "metadata": {},
   "outputs": [],
   "source": [
    "import pandas as pd"
   ]
  },
  {
   "cell_type": "code",
   "execution_count": 35,
   "metadata": {},
   "outputs": [],
   "source": [
    "df = pd.read_csv(\"PIB_Nominal.csv\", error_bad_lines=False)"
   ]
  },
  {
   "cell_type": "code",
   "execution_count": 36,
   "metadata": {},
   "outputs": [
    {
     "output_type": "execute_result",
     "data": {
      "text/plain": "     Country Name Country Code     Indicator Name  Indicator Code  \\\n0           Aruba          ABW  GDP (current US$)  NY.GDP.MKTP.CD   \n1     Afghanistan          AFG  GDP (current US$)  NY.GDP.MKTP.CD   \n2          Angola          AGO  GDP (current US$)  NY.GDP.MKTP.CD   \n3         Albania          ALB  GDP (current US$)  NY.GDP.MKTP.CD   \n4         Andorra          AND  GDP (current US$)  NY.GDP.MKTP.CD   \n..            ...          ...                ...             ...   \n259        Kosovo          XKX  GDP (current US$)  NY.GDP.MKTP.CD   \n260   Yemen, Rep.          YEM  GDP (current US$)  NY.GDP.MKTP.CD   \n261  South Africa          ZAF  GDP (current US$)  NY.GDP.MKTP.CD   \n262        Zambia          ZMB  GDP (current US$)  NY.GDP.MKTP.CD   \n263      Zimbabwe          ZWE  GDP (current US$)  NY.GDP.MKTP.CD   \n\n             1960          1961          1962          1963          1964  \\\n0             NaN           NaN           NaN           NaN           NaN   \n1    5.377778e+08  5.488889e+08  5.466667e+08  7.511112e+08  8.000000e+08   \n2             NaN           NaN           NaN           NaN           NaN   \n3             NaN           NaN           NaN           NaN           NaN   \n4             NaN           NaN           NaN           NaN           NaN   \n..            ...           ...           ...           ...           ...   \n259           NaN           NaN           NaN           NaN           NaN   \n260           NaN           NaN           NaN           NaN           NaN   \n261  7.575397e+09  7.972997e+09  8.497997e+09  9.423396e+09  1.037400e+10   \n262  7.130000e+08  6.962857e+08  6.931429e+08  7.187143e+08  8.394286e+08   \n263  1.052990e+09  1.096647e+09  1.117602e+09  1.159512e+09  1.217138e+09   \n\n             1965  ...          2011          2012          2013  \\\n0             NaN  ...  2.549721e+09  2.534637e+09  2.581564e+09   \n1    1.006667e+09  ...  1.780428e+10  2.000162e+10  2.056105e+10   \n2             NaN  ...  1.117897e+11  1.280529e+11  1.367099e+11   \n3             NaN  ...  1.289087e+10  1.231978e+10  1.277628e+10   \n4             NaN  ...  3.442063e+09  3.164615e+09  3.281585e+09   \n..            ...  ...           ...           ...           ...   \n259           NaN  ...  6.692431e+09  6.499760e+09  7.071982e+09   \n260           NaN  ...  3.272642e+10  3.540134e+10  4.041523e+10   \n261  1.133440e+10  ...  4.164189e+11  3.963327e+11  3.668294e+11   \n262  1.082857e+09  ...  2.346010e+10  2.550337e+10  2.804546e+10   \n263  1.311436e+09  ...  1.410192e+10  1.711485e+10  1.909102e+10   \n\n             2014          2015          2016          2017          2018  \\\n0    2.649721e+09  2.691620e+09  2.646927e+09  2.700559e+09           NaN   \n1    2.048487e+10  1.990711e+10  1.936264e+10  2.019176e+10  1.936297e+10   \n2    1.457122e+11  1.161936e+11  1.011239e+11  1.221238e+11  1.057510e+11   \n3    1.322824e+10  1.138693e+10  1.186135e+10  1.302506e+10  1.510250e+10   \n4    3.350736e+09  2.811489e+09  2.877312e+09  3.013387e+09  3.236544e+09   \n..            ...           ...           ...           ...           ...   \n259  7.386883e+09  6.440068e+09  6.714727e+09  7.227700e+09  7.938991e+09   \n260  4.322859e+10  4.262833e+10  3.096824e+10  2.681870e+10  2.691440e+10   \n261  3.509046e+11  3.176205e+11  2.963573e+11  3.495541e+11  3.682889e+11   \n262  2.715063e+10  2.124335e+10  2.095475e+10  2.586814e+10  2.672007e+10   \n263  1.949552e+10  1.996312e+10  2.054868e+10  2.281301e+10  3.100052e+10   \n\n     2019  Unnamed: 64  \n0     NaN          NaN  \n1     NaN          NaN  \n2     NaN          NaN  \n3     NaN          NaN  \n4     NaN          NaN  \n..    ...          ...  \n259   NaN          NaN  \n260   NaN          NaN  \n261   NaN          NaN  \n262   NaN          NaN  \n263   NaN          NaN  \n\n[264 rows x 65 columns]",
      "text/html": "<div>\n<style scoped>\n    .dataframe tbody tr th:only-of-type {\n        vertical-align: middle;\n    }\n\n    .dataframe tbody tr th {\n        vertical-align: top;\n    }\n\n    .dataframe thead th {\n        text-align: right;\n    }\n</style>\n<table border=\"1\" class=\"dataframe\">\n  <thead>\n    <tr style=\"text-align: right;\">\n      <th></th>\n      <th>Country Name</th>\n      <th>Country Code</th>\n      <th>Indicator Name</th>\n      <th>Indicator Code</th>\n      <th>1960</th>\n      <th>1961</th>\n      <th>1962</th>\n      <th>1963</th>\n      <th>1964</th>\n      <th>1965</th>\n      <th>...</th>\n      <th>2011</th>\n      <th>2012</th>\n      <th>2013</th>\n      <th>2014</th>\n      <th>2015</th>\n      <th>2016</th>\n      <th>2017</th>\n      <th>2018</th>\n      <th>2019</th>\n      <th>Unnamed: 64</th>\n    </tr>\n  </thead>\n  <tbody>\n    <tr>\n      <th>0</th>\n      <td>Aruba</td>\n      <td>ABW</td>\n      <td>GDP (current US$)</td>\n      <td>NY.GDP.MKTP.CD</td>\n      <td>NaN</td>\n      <td>NaN</td>\n      <td>NaN</td>\n      <td>NaN</td>\n      <td>NaN</td>\n      <td>NaN</td>\n      <td>...</td>\n      <td>2.549721e+09</td>\n      <td>2.534637e+09</td>\n      <td>2.581564e+09</td>\n      <td>2.649721e+09</td>\n      <td>2.691620e+09</td>\n      <td>2.646927e+09</td>\n      <td>2.700559e+09</td>\n      <td>NaN</td>\n      <td>NaN</td>\n      <td>NaN</td>\n    </tr>\n    <tr>\n      <th>1</th>\n      <td>Afghanistan</td>\n      <td>AFG</td>\n      <td>GDP (current US$)</td>\n      <td>NY.GDP.MKTP.CD</td>\n      <td>5.377778e+08</td>\n      <td>5.488889e+08</td>\n      <td>5.466667e+08</td>\n      <td>7.511112e+08</td>\n      <td>8.000000e+08</td>\n      <td>1.006667e+09</td>\n      <td>...</td>\n      <td>1.780428e+10</td>\n      <td>2.000162e+10</td>\n      <td>2.056105e+10</td>\n      <td>2.048487e+10</td>\n      <td>1.990711e+10</td>\n      <td>1.936264e+10</td>\n      <td>2.019176e+10</td>\n      <td>1.936297e+10</td>\n      <td>NaN</td>\n      <td>NaN</td>\n    </tr>\n    <tr>\n      <th>2</th>\n      <td>Angola</td>\n      <td>AGO</td>\n      <td>GDP (current US$)</td>\n      <td>NY.GDP.MKTP.CD</td>\n      <td>NaN</td>\n      <td>NaN</td>\n      <td>NaN</td>\n      <td>NaN</td>\n      <td>NaN</td>\n      <td>NaN</td>\n      <td>...</td>\n      <td>1.117897e+11</td>\n      <td>1.280529e+11</td>\n      <td>1.367099e+11</td>\n      <td>1.457122e+11</td>\n      <td>1.161936e+11</td>\n      <td>1.011239e+11</td>\n      <td>1.221238e+11</td>\n      <td>1.057510e+11</td>\n      <td>NaN</td>\n      <td>NaN</td>\n    </tr>\n    <tr>\n      <th>3</th>\n      <td>Albania</td>\n      <td>ALB</td>\n      <td>GDP (current US$)</td>\n      <td>NY.GDP.MKTP.CD</td>\n      <td>NaN</td>\n      <td>NaN</td>\n      <td>NaN</td>\n      <td>NaN</td>\n      <td>NaN</td>\n      <td>NaN</td>\n      <td>...</td>\n      <td>1.289087e+10</td>\n      <td>1.231978e+10</td>\n      <td>1.277628e+10</td>\n      <td>1.322824e+10</td>\n      <td>1.138693e+10</td>\n      <td>1.186135e+10</td>\n      <td>1.302506e+10</td>\n      <td>1.510250e+10</td>\n      <td>NaN</td>\n      <td>NaN</td>\n    </tr>\n    <tr>\n      <th>4</th>\n      <td>Andorra</td>\n      <td>AND</td>\n      <td>GDP (current US$)</td>\n      <td>NY.GDP.MKTP.CD</td>\n      <td>NaN</td>\n      <td>NaN</td>\n      <td>NaN</td>\n      <td>NaN</td>\n      <td>NaN</td>\n      <td>NaN</td>\n      <td>...</td>\n      <td>3.442063e+09</td>\n      <td>3.164615e+09</td>\n      <td>3.281585e+09</td>\n      <td>3.350736e+09</td>\n      <td>2.811489e+09</td>\n      <td>2.877312e+09</td>\n      <td>3.013387e+09</td>\n      <td>3.236544e+09</td>\n      <td>NaN</td>\n      <td>NaN</td>\n    </tr>\n    <tr>\n      <th>...</th>\n      <td>...</td>\n      <td>...</td>\n      <td>...</td>\n      <td>...</td>\n      <td>...</td>\n      <td>...</td>\n      <td>...</td>\n      <td>...</td>\n      <td>...</td>\n      <td>...</td>\n      <td>...</td>\n      <td>...</td>\n      <td>...</td>\n      <td>...</td>\n      <td>...</td>\n      <td>...</td>\n      <td>...</td>\n      <td>...</td>\n      <td>...</td>\n      <td>...</td>\n      <td>...</td>\n    </tr>\n    <tr>\n      <th>259</th>\n      <td>Kosovo</td>\n      <td>XKX</td>\n      <td>GDP (current US$)</td>\n      <td>NY.GDP.MKTP.CD</td>\n      <td>NaN</td>\n      <td>NaN</td>\n      <td>NaN</td>\n      <td>NaN</td>\n      <td>NaN</td>\n      <td>NaN</td>\n      <td>...</td>\n      <td>6.692431e+09</td>\n      <td>6.499760e+09</td>\n      <td>7.071982e+09</td>\n      <td>7.386883e+09</td>\n      <td>6.440068e+09</td>\n      <td>6.714727e+09</td>\n      <td>7.227700e+09</td>\n      <td>7.938991e+09</td>\n      <td>NaN</td>\n      <td>NaN</td>\n    </tr>\n    <tr>\n      <th>260</th>\n      <td>Yemen, Rep.</td>\n      <td>YEM</td>\n      <td>GDP (current US$)</td>\n      <td>NY.GDP.MKTP.CD</td>\n      <td>NaN</td>\n      <td>NaN</td>\n      <td>NaN</td>\n      <td>NaN</td>\n      <td>NaN</td>\n      <td>NaN</td>\n      <td>...</td>\n      <td>3.272642e+10</td>\n      <td>3.540134e+10</td>\n      <td>4.041523e+10</td>\n      <td>4.322859e+10</td>\n      <td>4.262833e+10</td>\n      <td>3.096824e+10</td>\n      <td>2.681870e+10</td>\n      <td>2.691440e+10</td>\n      <td>NaN</td>\n      <td>NaN</td>\n    </tr>\n    <tr>\n      <th>261</th>\n      <td>South Africa</td>\n      <td>ZAF</td>\n      <td>GDP (current US$)</td>\n      <td>NY.GDP.MKTP.CD</td>\n      <td>7.575397e+09</td>\n      <td>7.972997e+09</td>\n      <td>8.497997e+09</td>\n      <td>9.423396e+09</td>\n      <td>1.037400e+10</td>\n      <td>1.133440e+10</td>\n      <td>...</td>\n      <td>4.164189e+11</td>\n      <td>3.963327e+11</td>\n      <td>3.668294e+11</td>\n      <td>3.509046e+11</td>\n      <td>3.176205e+11</td>\n      <td>2.963573e+11</td>\n      <td>3.495541e+11</td>\n      <td>3.682889e+11</td>\n      <td>NaN</td>\n      <td>NaN</td>\n    </tr>\n    <tr>\n      <th>262</th>\n      <td>Zambia</td>\n      <td>ZMB</td>\n      <td>GDP (current US$)</td>\n      <td>NY.GDP.MKTP.CD</td>\n      <td>7.130000e+08</td>\n      <td>6.962857e+08</td>\n      <td>6.931429e+08</td>\n      <td>7.187143e+08</td>\n      <td>8.394286e+08</td>\n      <td>1.082857e+09</td>\n      <td>...</td>\n      <td>2.346010e+10</td>\n      <td>2.550337e+10</td>\n      <td>2.804546e+10</td>\n      <td>2.715063e+10</td>\n      <td>2.124335e+10</td>\n      <td>2.095475e+10</td>\n      <td>2.586814e+10</td>\n      <td>2.672007e+10</td>\n      <td>NaN</td>\n      <td>NaN</td>\n    </tr>\n    <tr>\n      <th>263</th>\n      <td>Zimbabwe</td>\n      <td>ZWE</td>\n      <td>GDP (current US$)</td>\n      <td>NY.GDP.MKTP.CD</td>\n      <td>1.052990e+09</td>\n      <td>1.096647e+09</td>\n      <td>1.117602e+09</td>\n      <td>1.159512e+09</td>\n      <td>1.217138e+09</td>\n      <td>1.311436e+09</td>\n      <td>...</td>\n      <td>1.410192e+10</td>\n      <td>1.711485e+10</td>\n      <td>1.909102e+10</td>\n      <td>1.949552e+10</td>\n      <td>1.996312e+10</td>\n      <td>2.054868e+10</td>\n      <td>2.281301e+10</td>\n      <td>3.100052e+10</td>\n      <td>NaN</td>\n      <td>NaN</td>\n    </tr>\n  </tbody>\n</table>\n<p>264 rows × 65 columns</p>\n</div>"
     },
     "metadata": {},
     "execution_count": 36
    }
   ],
   "source": [
    "df"
   ]
  },
  {
   "cell_type": "code",
   "execution_count": 37,
   "metadata": {},
   "outputs": [],
   "source": [
    "df.drop(columns={\"Indicator Name\", \"Indicator Code\", \"2018\", \"2019\", \"Unnamed: 64\"}, inplace=True)"
   ]
  },
  {
   "cell_type": "code",
   "execution_count": 38,
   "metadata": {},
   "outputs": [
    {
     "output_type": "execute_result",
     "data": {
      "text/plain": "     Country Name Country Code          1960          1961          1962  \\\n0           Aruba          ABW           NaN           NaN           NaN   \n1     Afghanistan          AFG  5.377778e+08  5.488889e+08  5.466667e+08   \n2          Angola          AGO           NaN           NaN           NaN   \n3         Albania          ALB           NaN           NaN           NaN   \n4         Andorra          AND           NaN           NaN           NaN   \n..            ...          ...           ...           ...           ...   \n259        Kosovo          XKX           NaN           NaN           NaN   \n260   Yemen, Rep.          YEM           NaN           NaN           NaN   \n261  South Africa          ZAF  7.575397e+09  7.972997e+09  8.497997e+09   \n262        Zambia          ZMB  7.130000e+08  6.962857e+08  6.931429e+08   \n263      Zimbabwe          ZWE  1.052990e+09  1.096647e+09  1.117602e+09   \n\n             1963          1964          1965          1966          1967  \\\n0             NaN           NaN           NaN           NaN           NaN   \n1    7.511112e+08  8.000000e+08  1.006667e+09  1.400000e+09  1.673333e+09   \n2             NaN           NaN           NaN           NaN           NaN   \n3             NaN           NaN           NaN           NaN           NaN   \n4             NaN           NaN           NaN           NaN           NaN   \n..            ...           ...           ...           ...           ...   \n259           NaN           NaN           NaN           NaN           NaN   \n260           NaN           NaN           NaN           NaN           NaN   \n261  9.423396e+09  1.037400e+10  1.133440e+10  1.235500e+10  1.377739e+10   \n262  7.187143e+08  8.394286e+08  1.082857e+09  1.264286e+09  1.368000e+09   \n263  1.159512e+09  1.217138e+09  1.311436e+09  1.281750e+09  1.397002e+09   \n\n     ...          2008          2009          2010          2011  \\\n0    ...  2.745251e+09  2.498883e+09  2.390503e+09  2.549721e+09   \n1    ...  1.010922e+10  1.243909e+10  1.585657e+10  1.780428e+10   \n2    ...  8.853861e+10  7.030716e+10  8.379950e+10  1.117897e+11   \n3    ...  1.288135e+10  1.204422e+10  1.192696e+10  1.289087e+10   \n4    ...  4.007353e+09  3.660531e+09  3.355695e+09  3.442063e+09   \n..   ...           ...           ...           ...           ...   \n259  ...  5.687362e+09  5.653823e+09  5.830416e+09  6.692431e+09   \n260  ...  2.691085e+10  2.513027e+10  3.090675e+10  3.272642e+10   \n261  ...  2.867698e+11  2.959365e+11  3.753494e+11  4.164189e+11   \n262  ...  1.791086e+10  1.532834e+10  2.026556e+10  2.346010e+10   \n263  ...  4.415703e+09  9.665793e+09  1.204166e+10  1.410192e+10   \n\n             2012          2013          2014          2015          2016  \\\n0    2.534637e+09  2.581564e+09  2.649721e+09  2.691620e+09  2.646927e+09   \n1    2.000162e+10  2.056105e+10  2.048487e+10  1.990711e+10  1.936264e+10   \n2    1.280529e+11  1.367099e+11  1.457122e+11  1.161936e+11  1.011239e+11   \n3    1.231978e+10  1.277628e+10  1.322824e+10  1.138693e+10  1.186135e+10   \n4    3.164615e+09  3.281585e+09  3.350736e+09  2.811489e+09  2.877312e+09   \n..            ...           ...           ...           ...           ...   \n259  6.499760e+09  7.071982e+09  7.386883e+09  6.440068e+09  6.714727e+09   \n260  3.540134e+10  4.041523e+10  4.322859e+10  4.262833e+10  3.096824e+10   \n261  3.963327e+11  3.668294e+11  3.509046e+11  3.176205e+11  2.963573e+11   \n262  2.550337e+10  2.804546e+10  2.715063e+10  2.124335e+10  2.095475e+10   \n263  1.711485e+10  1.909102e+10  1.949552e+10  1.996312e+10  2.054868e+10   \n\n             2017  \n0    2.700559e+09  \n1    2.019176e+10  \n2    1.221238e+11  \n3    1.302506e+10  \n4    3.013387e+09  \n..            ...  \n259  7.227700e+09  \n260  2.681870e+10  \n261  3.495541e+11  \n262  2.586814e+10  \n263  2.281301e+10  \n\n[264 rows x 60 columns]",
      "text/html": "<div>\n<style scoped>\n    .dataframe tbody tr th:only-of-type {\n        vertical-align: middle;\n    }\n\n    .dataframe tbody tr th {\n        vertical-align: top;\n    }\n\n    .dataframe thead th {\n        text-align: right;\n    }\n</style>\n<table border=\"1\" class=\"dataframe\">\n  <thead>\n    <tr style=\"text-align: right;\">\n      <th></th>\n      <th>Country Name</th>\n      <th>Country Code</th>\n      <th>1960</th>\n      <th>1961</th>\n      <th>1962</th>\n      <th>1963</th>\n      <th>1964</th>\n      <th>1965</th>\n      <th>1966</th>\n      <th>1967</th>\n      <th>...</th>\n      <th>2008</th>\n      <th>2009</th>\n      <th>2010</th>\n      <th>2011</th>\n      <th>2012</th>\n      <th>2013</th>\n      <th>2014</th>\n      <th>2015</th>\n      <th>2016</th>\n      <th>2017</th>\n    </tr>\n  </thead>\n  <tbody>\n    <tr>\n      <th>0</th>\n      <td>Aruba</td>\n      <td>ABW</td>\n      <td>NaN</td>\n      <td>NaN</td>\n      <td>NaN</td>\n      <td>NaN</td>\n      <td>NaN</td>\n      <td>NaN</td>\n      <td>NaN</td>\n      <td>NaN</td>\n      <td>...</td>\n      <td>2.745251e+09</td>\n      <td>2.498883e+09</td>\n      <td>2.390503e+09</td>\n      <td>2.549721e+09</td>\n      <td>2.534637e+09</td>\n      <td>2.581564e+09</td>\n      <td>2.649721e+09</td>\n      <td>2.691620e+09</td>\n      <td>2.646927e+09</td>\n      <td>2.700559e+09</td>\n    </tr>\n    <tr>\n      <th>1</th>\n      <td>Afghanistan</td>\n      <td>AFG</td>\n      <td>5.377778e+08</td>\n      <td>5.488889e+08</td>\n      <td>5.466667e+08</td>\n      <td>7.511112e+08</td>\n      <td>8.000000e+08</td>\n      <td>1.006667e+09</td>\n      <td>1.400000e+09</td>\n      <td>1.673333e+09</td>\n      <td>...</td>\n      <td>1.010922e+10</td>\n      <td>1.243909e+10</td>\n      <td>1.585657e+10</td>\n      <td>1.780428e+10</td>\n      <td>2.000162e+10</td>\n      <td>2.056105e+10</td>\n      <td>2.048487e+10</td>\n      <td>1.990711e+10</td>\n      <td>1.936264e+10</td>\n      <td>2.019176e+10</td>\n    </tr>\n    <tr>\n      <th>2</th>\n      <td>Angola</td>\n      <td>AGO</td>\n      <td>NaN</td>\n      <td>NaN</td>\n      <td>NaN</td>\n      <td>NaN</td>\n      <td>NaN</td>\n      <td>NaN</td>\n      <td>NaN</td>\n      <td>NaN</td>\n      <td>...</td>\n      <td>8.853861e+10</td>\n      <td>7.030716e+10</td>\n      <td>8.379950e+10</td>\n      <td>1.117897e+11</td>\n      <td>1.280529e+11</td>\n      <td>1.367099e+11</td>\n      <td>1.457122e+11</td>\n      <td>1.161936e+11</td>\n      <td>1.011239e+11</td>\n      <td>1.221238e+11</td>\n    </tr>\n    <tr>\n      <th>3</th>\n      <td>Albania</td>\n      <td>ALB</td>\n      <td>NaN</td>\n      <td>NaN</td>\n      <td>NaN</td>\n      <td>NaN</td>\n      <td>NaN</td>\n      <td>NaN</td>\n      <td>NaN</td>\n      <td>NaN</td>\n      <td>...</td>\n      <td>1.288135e+10</td>\n      <td>1.204422e+10</td>\n      <td>1.192696e+10</td>\n      <td>1.289087e+10</td>\n      <td>1.231978e+10</td>\n      <td>1.277628e+10</td>\n      <td>1.322824e+10</td>\n      <td>1.138693e+10</td>\n      <td>1.186135e+10</td>\n      <td>1.302506e+10</td>\n    </tr>\n    <tr>\n      <th>4</th>\n      <td>Andorra</td>\n      <td>AND</td>\n      <td>NaN</td>\n      <td>NaN</td>\n      <td>NaN</td>\n      <td>NaN</td>\n      <td>NaN</td>\n      <td>NaN</td>\n      <td>NaN</td>\n      <td>NaN</td>\n      <td>...</td>\n      <td>4.007353e+09</td>\n      <td>3.660531e+09</td>\n      <td>3.355695e+09</td>\n      <td>3.442063e+09</td>\n      <td>3.164615e+09</td>\n      <td>3.281585e+09</td>\n      <td>3.350736e+09</td>\n      <td>2.811489e+09</td>\n      <td>2.877312e+09</td>\n      <td>3.013387e+09</td>\n    </tr>\n    <tr>\n      <th>...</th>\n      <td>...</td>\n      <td>...</td>\n      <td>...</td>\n      <td>...</td>\n      <td>...</td>\n      <td>...</td>\n      <td>...</td>\n      <td>...</td>\n      <td>...</td>\n      <td>...</td>\n      <td>...</td>\n      <td>...</td>\n      <td>...</td>\n      <td>...</td>\n      <td>...</td>\n      <td>...</td>\n      <td>...</td>\n      <td>...</td>\n      <td>...</td>\n      <td>...</td>\n      <td>...</td>\n    </tr>\n    <tr>\n      <th>259</th>\n      <td>Kosovo</td>\n      <td>XKX</td>\n      <td>NaN</td>\n      <td>NaN</td>\n      <td>NaN</td>\n      <td>NaN</td>\n      <td>NaN</td>\n      <td>NaN</td>\n      <td>NaN</td>\n      <td>NaN</td>\n      <td>...</td>\n      <td>5.687362e+09</td>\n      <td>5.653823e+09</td>\n      <td>5.830416e+09</td>\n      <td>6.692431e+09</td>\n      <td>6.499760e+09</td>\n      <td>7.071982e+09</td>\n      <td>7.386883e+09</td>\n      <td>6.440068e+09</td>\n      <td>6.714727e+09</td>\n      <td>7.227700e+09</td>\n    </tr>\n    <tr>\n      <th>260</th>\n      <td>Yemen, Rep.</td>\n      <td>YEM</td>\n      <td>NaN</td>\n      <td>NaN</td>\n      <td>NaN</td>\n      <td>NaN</td>\n      <td>NaN</td>\n      <td>NaN</td>\n      <td>NaN</td>\n      <td>NaN</td>\n      <td>...</td>\n      <td>2.691085e+10</td>\n      <td>2.513027e+10</td>\n      <td>3.090675e+10</td>\n      <td>3.272642e+10</td>\n      <td>3.540134e+10</td>\n      <td>4.041523e+10</td>\n      <td>4.322859e+10</td>\n      <td>4.262833e+10</td>\n      <td>3.096824e+10</td>\n      <td>2.681870e+10</td>\n    </tr>\n    <tr>\n      <th>261</th>\n      <td>South Africa</td>\n      <td>ZAF</td>\n      <td>7.575397e+09</td>\n      <td>7.972997e+09</td>\n      <td>8.497997e+09</td>\n      <td>9.423396e+09</td>\n      <td>1.037400e+10</td>\n      <td>1.133440e+10</td>\n      <td>1.235500e+10</td>\n      <td>1.377739e+10</td>\n      <td>...</td>\n      <td>2.867698e+11</td>\n      <td>2.959365e+11</td>\n      <td>3.753494e+11</td>\n      <td>4.164189e+11</td>\n      <td>3.963327e+11</td>\n      <td>3.668294e+11</td>\n      <td>3.509046e+11</td>\n      <td>3.176205e+11</td>\n      <td>2.963573e+11</td>\n      <td>3.495541e+11</td>\n    </tr>\n    <tr>\n      <th>262</th>\n      <td>Zambia</td>\n      <td>ZMB</td>\n      <td>7.130000e+08</td>\n      <td>6.962857e+08</td>\n      <td>6.931429e+08</td>\n      <td>7.187143e+08</td>\n      <td>8.394286e+08</td>\n      <td>1.082857e+09</td>\n      <td>1.264286e+09</td>\n      <td>1.368000e+09</td>\n      <td>...</td>\n      <td>1.791086e+10</td>\n      <td>1.532834e+10</td>\n      <td>2.026556e+10</td>\n      <td>2.346010e+10</td>\n      <td>2.550337e+10</td>\n      <td>2.804546e+10</td>\n      <td>2.715063e+10</td>\n      <td>2.124335e+10</td>\n      <td>2.095475e+10</td>\n      <td>2.586814e+10</td>\n    </tr>\n    <tr>\n      <th>263</th>\n      <td>Zimbabwe</td>\n      <td>ZWE</td>\n      <td>1.052990e+09</td>\n      <td>1.096647e+09</td>\n      <td>1.117602e+09</td>\n      <td>1.159512e+09</td>\n      <td>1.217138e+09</td>\n      <td>1.311436e+09</td>\n      <td>1.281750e+09</td>\n      <td>1.397002e+09</td>\n      <td>...</td>\n      <td>4.415703e+09</td>\n      <td>9.665793e+09</td>\n      <td>1.204166e+10</td>\n      <td>1.410192e+10</td>\n      <td>1.711485e+10</td>\n      <td>1.909102e+10</td>\n      <td>1.949552e+10</td>\n      <td>1.996312e+10</td>\n      <td>2.054868e+10</td>\n      <td>2.281301e+10</td>\n    </tr>\n  </tbody>\n</table>\n<p>264 rows × 60 columns</p>\n</div>"
     },
     "metadata": {},
     "execution_count": 38
    }
   ],
   "source": [
    "df"
   ]
  },
  {
   "cell_type": "code",
   "execution_count": 39,
   "metadata": {},
   "outputs": [],
   "source": [
    "df = df.melt(id_vars=[\"Country Name\",\"Country Code\"],\n",
    "       var_name=\"Year\",\n",
    "       value_name=\"PIB_(1000_US$)\")"
   ]
  },
  {
   "cell_type": "code",
   "execution_count": 40,
   "metadata": {},
   "outputs": [],
   "source": [
    "df = df.dropna()"
   ]
  },
  {
   "cell_type": "code",
   "execution_count": 42,
   "metadata": {},
   "outputs": [],
   "source": [
    "df[\"PIB_(1000_US$)\"] = pd.to_numeric(df[\"PIB_(1000_US$)\"])"
   ]
  },
  {
   "cell_type": "code",
   "execution_count": 43,
   "metadata": {},
   "outputs": [],
   "source": [
    "df[\"PIB_(1000_US$)\"] = df[\"PIB_(1000_US$)\"] / 1000"
   ]
  },
  {
   "cell_type": "code",
   "execution_count": 44,
   "metadata": {},
   "outputs": [
    {
     "output_type": "execute_result",
     "data": {
      "text/plain": "       Country Name Country Code  Year  PIB_(1000_US$)\n1       Afghanistan          AFG  1960    5.377778e+05\n11        Australia          AUS  1960    1.857767e+07\n12          Austria          AUT  1960    6.592694e+06\n14          Burundi          BDI  1960    1.960000e+05\n15          Belgium          BEL  1960    1.165872e+07\n...             ...          ...   ...             ...\n15307        Kosovo          XKX  2017    7.227700e+06\n15308   Yemen, Rep.          YEM  2017    2.681870e+07\n15309  South Africa          ZAF  2017    3.495541e+08\n15310        Zambia          ZMB  2017    2.586814e+07\n15311      Zimbabwe          ZWE  2017    2.281301e+07\n\n[11853 rows x 4 columns]",
      "text/html": "<div>\n<style scoped>\n    .dataframe tbody tr th:only-of-type {\n        vertical-align: middle;\n    }\n\n    .dataframe tbody tr th {\n        vertical-align: top;\n    }\n\n    .dataframe thead th {\n        text-align: right;\n    }\n</style>\n<table border=\"1\" class=\"dataframe\">\n  <thead>\n    <tr style=\"text-align: right;\">\n      <th></th>\n      <th>Country Name</th>\n      <th>Country Code</th>\n      <th>Year</th>\n      <th>PIB_(1000_US$)</th>\n    </tr>\n  </thead>\n  <tbody>\n    <tr>\n      <th>1</th>\n      <td>Afghanistan</td>\n      <td>AFG</td>\n      <td>1960</td>\n      <td>5.377778e+05</td>\n    </tr>\n    <tr>\n      <th>11</th>\n      <td>Australia</td>\n      <td>AUS</td>\n      <td>1960</td>\n      <td>1.857767e+07</td>\n    </tr>\n    <tr>\n      <th>12</th>\n      <td>Austria</td>\n      <td>AUT</td>\n      <td>1960</td>\n      <td>6.592694e+06</td>\n    </tr>\n    <tr>\n      <th>14</th>\n      <td>Burundi</td>\n      <td>BDI</td>\n      <td>1960</td>\n      <td>1.960000e+05</td>\n    </tr>\n    <tr>\n      <th>15</th>\n      <td>Belgium</td>\n      <td>BEL</td>\n      <td>1960</td>\n      <td>1.165872e+07</td>\n    </tr>\n    <tr>\n      <th>...</th>\n      <td>...</td>\n      <td>...</td>\n      <td>...</td>\n      <td>...</td>\n    </tr>\n    <tr>\n      <th>15307</th>\n      <td>Kosovo</td>\n      <td>XKX</td>\n      <td>2017</td>\n      <td>7.227700e+06</td>\n    </tr>\n    <tr>\n      <th>15308</th>\n      <td>Yemen, Rep.</td>\n      <td>YEM</td>\n      <td>2017</td>\n      <td>2.681870e+07</td>\n    </tr>\n    <tr>\n      <th>15309</th>\n      <td>South Africa</td>\n      <td>ZAF</td>\n      <td>2017</td>\n      <td>3.495541e+08</td>\n    </tr>\n    <tr>\n      <th>15310</th>\n      <td>Zambia</td>\n      <td>ZMB</td>\n      <td>2017</td>\n      <td>2.586814e+07</td>\n    </tr>\n    <tr>\n      <th>15311</th>\n      <td>Zimbabwe</td>\n      <td>ZWE</td>\n      <td>2017</td>\n      <td>2.281301e+07</td>\n    </tr>\n  </tbody>\n</table>\n<p>11853 rows × 4 columns</p>\n</div>"
     },
     "metadata": {},
     "execution_count": 44
    }
   ],
   "source": [
    "df"
   ]
  },
  {
   "cell_type": "code",
   "execution_count": 45,
   "metadata": {},
   "outputs": [],
   "source": [
    "df.to_csv(\"PIB_especificado.csv\")"
   ]
  },
  {
   "cell_type": "code",
   "execution_count": null,
   "metadata": {},
   "outputs": [],
   "source": []
  }
 ],
 "metadata": {
  "kernelspec": {
   "display_name": "Python 3.7.6 64-bit ('base': conda)",
   "language": "python",
   "name": "python37664bitbaseconda7037916fb866425e9ff11ebb843bed9a"
  },
  "language_info": {
   "codemirror_mode": {
    "name": "ipython",
    "version": 3
   },
   "file_extension": ".py",
   "mimetype": "text/x-python",
   "name": "python",
   "nbconvert_exporter": "python",
   "pygments_lexer": "ipython3",
   "version": "3.7.6-final"
  }
 },
 "nbformat": 4,
 "nbformat_minor": 4
}