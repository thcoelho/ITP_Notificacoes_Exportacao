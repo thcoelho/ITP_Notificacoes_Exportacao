{
 "nbformat": 4,
 "nbformat_minor": 2,
 "metadata": {
  "language_info": {
   "name": "python",
   "codemirror_mode": {
    "name": "ipython",
    "version": 3
   },
   "version": "3.7.6-final"
  },
  "orig_nbformat": 2,
  "file_extension": ".py",
  "mimetype": "text/x-python",
  "name": "python",
  "npconvert_exporter": "python",
  "pygments_lexer": "ipython3",
  "version": 3,
  "kernelspec": {
   "name": "python37664bitbaseconda7037916fb866425e9ff11ebb843bed9a",
   "display_name": "Python 3.7.6 64-bit ('base': conda)"
  }
 },
 "cells": [
  {
   "cell_type": "code",
   "execution_count": 1,
   "metadata": {},
   "outputs": [],
   "source": [
    "import pandas as pd\n",
    "import gme"
   ]
  },
  {
   "cell_type": "code",
   "execution_count": 9,
   "metadata": {},
   "outputs": [],
   "source": [
    "Dist = pd.read_csv(\"Distanciamento/Distanciamento_Especificado.csv\")\n",
    "# Export = pd.read_csv(\"Exportações/Valor_Exportacao_Especificado.csv\")\n",
    "# Notif = pd.read_csv(\"Notificações/\")\n",
    "PIB = pd.read_csv(\"PIB_Nominal/PIB_especificado.csv\")\n",
    "Tarif = pd.read_csv(\"Tarifas/Tarifas_Especificadas.csv\")"
   ]
  },
  {
   "cell_type": "code",
   "execution_count": 3,
   "metadata": {},
   "outputs": [
    {
     "output_type": "execute_result",
     "data": {
      "text/plain": "              contig  comlang_off  comlang_ethno  colony  comcol  curcol  \\\nCountry Code                                                               \nABW                0            0              0       0       0       0   \nAFG                0            0              0       0       0       0   \nAGO                0            1              1       0       0       0   \nAIA                0            0              0       0       0       0   \nALB                0            0              0       0       0       0   \n...              ...          ...            ...     ...     ...     ...   \nYUG                0            0              0       0       0       0   \nZAF                0            0              0       0       0       0   \nZAR                0            0              0       0       0       0   \nZMB                0            0              0       0       0       0   \nZWE                0            0              0       0       0       0   \n\n              col45  smctry       dist    distcap     distw  distwces  \nCountry Code                                                           \nABW               0       0   4759.608   3988.915  4431.571  4272.204  \nAFG               0       0  13771.760  13470.080  13223.75  13180.02  \nAGO               0       0   6559.966   6674.706  6440.572  6391.615  \nAIA               0       0   4977.742   4132.483  4549.716  4382.355  \nALB               0       0   9943.985   9414.849  9388.915  9313.151  \n...             ...     ...        ...        ...       ...       ...  \nYUG               0       0  10200.500   9638.061  9600.665   9524.34  \nZAF               0       0   6355.119   7900.190  7342.994  7280.527  \nZAR               0       0   6967.733   7019.619  7235.597  7150.393  \nZMB               0       0   7826.946   8113.184  7833.171  7796.626  \nZWE               0       0   8017.050   8348.187  7918.615  7883.487  \n\n[224 rows x 12 columns]",
      "text/html": "<div>\n<style scoped>\n    .dataframe tbody tr th:only-of-type {\n        vertical-align: middle;\n    }\n\n    .dataframe tbody tr th {\n        vertical-align: top;\n    }\n\n    .dataframe thead th {\n        text-align: right;\n    }\n</style>\n<table border=\"1\" class=\"dataframe\">\n  <thead>\n    <tr style=\"text-align: right;\">\n      <th></th>\n      <th>contig</th>\n      <th>comlang_off</th>\n      <th>comlang_ethno</th>\n      <th>colony</th>\n      <th>comcol</th>\n      <th>curcol</th>\n      <th>col45</th>\n      <th>smctry</th>\n      <th>dist</th>\n      <th>distcap</th>\n      <th>distw</th>\n      <th>distwces</th>\n    </tr>\n    <tr>\n      <th>Country Code</th>\n      <th></th>\n      <th></th>\n      <th></th>\n      <th></th>\n      <th></th>\n      <th></th>\n      <th></th>\n      <th></th>\n      <th></th>\n      <th></th>\n      <th></th>\n      <th></th>\n    </tr>\n  </thead>\n  <tbody>\n    <tr>\n      <th>ABW</th>\n      <td>0</td>\n      <td>0</td>\n      <td>0</td>\n      <td>0</td>\n      <td>0</td>\n      <td>0</td>\n      <td>0</td>\n      <td>0</td>\n      <td>4759.608</td>\n      <td>3988.915</td>\n      <td>4431.571</td>\n      <td>4272.204</td>\n    </tr>\n    <tr>\n      <th>AFG</th>\n      <td>0</td>\n      <td>0</td>\n      <td>0</td>\n      <td>0</td>\n      <td>0</td>\n      <td>0</td>\n      <td>0</td>\n      <td>0</td>\n      <td>13771.760</td>\n      <td>13470.080</td>\n      <td>13223.75</td>\n      <td>13180.02</td>\n    </tr>\n    <tr>\n      <th>AGO</th>\n      <td>0</td>\n      <td>1</td>\n      <td>1</td>\n      <td>0</td>\n      <td>0</td>\n      <td>0</td>\n      <td>0</td>\n      <td>0</td>\n      <td>6559.966</td>\n      <td>6674.706</td>\n      <td>6440.572</td>\n      <td>6391.615</td>\n    </tr>\n    <tr>\n      <th>AIA</th>\n      <td>0</td>\n      <td>0</td>\n      <td>0</td>\n      <td>0</td>\n      <td>0</td>\n      <td>0</td>\n      <td>0</td>\n      <td>0</td>\n      <td>4977.742</td>\n      <td>4132.483</td>\n      <td>4549.716</td>\n      <td>4382.355</td>\n    </tr>\n    <tr>\n      <th>ALB</th>\n      <td>0</td>\n      <td>0</td>\n      <td>0</td>\n      <td>0</td>\n      <td>0</td>\n      <td>0</td>\n      <td>0</td>\n      <td>0</td>\n      <td>9943.985</td>\n      <td>9414.849</td>\n      <td>9388.915</td>\n      <td>9313.151</td>\n    </tr>\n    <tr>\n      <th>...</th>\n      <td>...</td>\n      <td>...</td>\n      <td>...</td>\n      <td>...</td>\n      <td>...</td>\n      <td>...</td>\n      <td>...</td>\n      <td>...</td>\n      <td>...</td>\n      <td>...</td>\n      <td>...</td>\n      <td>...</td>\n    </tr>\n    <tr>\n      <th>YUG</th>\n      <td>0</td>\n      <td>0</td>\n      <td>0</td>\n      <td>0</td>\n      <td>0</td>\n      <td>0</td>\n      <td>0</td>\n      <td>0</td>\n      <td>10200.500</td>\n      <td>9638.061</td>\n      <td>9600.665</td>\n      <td>9524.34</td>\n    </tr>\n    <tr>\n      <th>ZAF</th>\n      <td>0</td>\n      <td>0</td>\n      <td>0</td>\n      <td>0</td>\n      <td>0</td>\n      <td>0</td>\n      <td>0</td>\n      <td>0</td>\n      <td>6355.119</td>\n      <td>7900.190</td>\n      <td>7342.994</td>\n      <td>7280.527</td>\n    </tr>\n    <tr>\n      <th>ZAR</th>\n      <td>0</td>\n      <td>0</td>\n      <td>0</td>\n      <td>0</td>\n      <td>0</td>\n      <td>0</td>\n      <td>0</td>\n      <td>0</td>\n      <td>6967.733</td>\n      <td>7019.619</td>\n      <td>7235.597</td>\n      <td>7150.393</td>\n    </tr>\n    <tr>\n      <th>ZMB</th>\n      <td>0</td>\n      <td>0</td>\n      <td>0</td>\n      <td>0</td>\n      <td>0</td>\n      <td>0</td>\n      <td>0</td>\n      <td>0</td>\n      <td>7826.946</td>\n      <td>8113.184</td>\n      <td>7833.171</td>\n      <td>7796.626</td>\n    </tr>\n    <tr>\n      <th>ZWE</th>\n      <td>0</td>\n      <td>0</td>\n      <td>0</td>\n      <td>0</td>\n      <td>0</td>\n      <td>0</td>\n      <td>0</td>\n      <td>0</td>\n      <td>8017.050</td>\n      <td>8348.187</td>\n      <td>7918.615</td>\n      <td>7883.487</td>\n    </tr>\n  </tbody>\n</table>\n<p>224 rows × 12 columns</p>\n</div>"
     },
     "metadata": {},
     "execution_count": 3
    }
   ],
   "source": [
    "Dist.set_index(\"Country Code\", inplace=True)\n",
    "Dist"
   ]
  },
  {
   "cell_type": "code",
   "execution_count": 4,
   "metadata": {},
   "outputs": [
    {
     "output_type": "execute_result",
     "data": {
      "text/plain": "                           Unnamed: 0  Year\nCountry Name Country Code                  \nAfghanistan  AFG                    1  1960\nAustralia    AUS                   11  1960\nAustria      AUT                   12  1960\nBurundi      BDI                   14  1960\nBelgium      BEL                   15  1960\n...                               ...   ...\nKosovo       XKX                15307  2017\nYemen, Rep.  YEM                15308  2017\nSouth Africa ZAF                15309  2017\nZambia       ZMB                15310  2017\nZimbabwe     ZWE                15311  2017\n\n[11853 rows x 2 columns]",
      "text/html": "<div>\n<style scoped>\n    .dataframe tbody tr th:only-of-type {\n        vertical-align: middle;\n    }\n\n    .dataframe tbody tr th {\n        vertical-align: top;\n    }\n\n    .dataframe thead th {\n        text-align: right;\n    }\n</style>\n<table border=\"1\" class=\"dataframe\">\n  <thead>\n    <tr style=\"text-align: right;\">\n      <th></th>\n      <th></th>\n      <th>Unnamed: 0</th>\n      <th>Year</th>\n    </tr>\n    <tr>\n      <th>Country Name</th>\n      <th>Country Code</th>\n      <th></th>\n      <th></th>\n    </tr>\n  </thead>\n  <tbody>\n    <tr>\n      <th>Afghanistan</th>\n      <th>AFG</th>\n      <td>1</td>\n      <td>1960</td>\n    </tr>\n    <tr>\n      <th>Australia</th>\n      <th>AUS</th>\n      <td>11</td>\n      <td>1960</td>\n    </tr>\n    <tr>\n      <th>Austria</th>\n      <th>AUT</th>\n      <td>12</td>\n      <td>1960</td>\n    </tr>\n    <tr>\n      <th>Burundi</th>\n      <th>BDI</th>\n      <td>14</td>\n      <td>1960</td>\n    </tr>\n    <tr>\n      <th>Belgium</th>\n      <th>BEL</th>\n      <td>15</td>\n      <td>1960</td>\n    </tr>\n    <tr>\n      <th>...</th>\n      <th>...</th>\n      <td>...</td>\n      <td>...</td>\n    </tr>\n    <tr>\n      <th>Kosovo</th>\n      <th>XKX</th>\n      <td>15307</td>\n      <td>2017</td>\n    </tr>\n    <tr>\n      <th>Yemen, Rep.</th>\n      <th>YEM</th>\n      <td>15308</td>\n      <td>2017</td>\n    </tr>\n    <tr>\n      <th>South Africa</th>\n      <th>ZAF</th>\n      <td>15309</td>\n      <td>2017</td>\n    </tr>\n    <tr>\n      <th>Zambia</th>\n      <th>ZMB</th>\n      <td>15310</td>\n      <td>2017</td>\n    </tr>\n    <tr>\n      <th>Zimbabwe</th>\n      <th>ZWE</th>\n      <td>15311</td>\n      <td>2017</td>\n    </tr>\n  </tbody>\n</table>\n<p>11853 rows × 2 columns</p>\n</div>"
     },
     "metadata": {},
     "execution_count": 4
    }
   ],
   "source": [
    "PIB.drop(PIB.columns[:0], axis=1, inplace=True)\n",
    "PIB.index = pd.MultiIndex.from_frame(PIB.iloc[:,[1,2]])\n",
    "PIB = PIB.iloc[:,[0,3]]\n",
    "PIB"
   ]
  },
  {
   "cell_type": "code",
   "execution_count": 67,
   "metadata": {},
   "outputs": [
    {
     "output_type": "execute_result",
     "data": {
      "text/plain": "                     Commodity Code  Simple Average  Weighted Average  \\\nYear Country                                                            \n1999 Bahrain                      2            5.00              5.00   \n2000 Bahrain                      2            5.00              5.00   \n1999 Bahrain                      7            3.33              3.33   \n2000 Bahrain                      7            7.00              7.00   \n1999 Bahrain                      8            5.00              5.00   \n...                             ...             ...               ...   \n2017 European Union              13            2.31              0.63   \n     European Union              14            0.00              0.00   \n     European Union              14            0.00              0.00   \n     European Union              15            5.81              1.89   \n     European Union              15            5.81              1.89   \n\n                     Imports Value in 1000 USD  \nYear Country                                    \n1999 Bahrain                         14798.621  \n2000 Bahrain                         14192.011  \n1999 Bahrain                             0.359  \n2000 Bahrain                             0.638  \n1999 Bahrain                            90.291  \n...                                        ...  \n2017 European Union                  35658.152  \n     European Union                   5284.286  \n     European Union                   5284.286  \n     European Union                  88819.170  \n     European Union                  88819.170  \n\n[13328 rows x 4 columns]",
      "text/html": "<div>\n<style scoped>\n    .dataframe tbody tr th:only-of-type {\n        vertical-align: middle;\n    }\n\n    .dataframe tbody tr th {\n        vertical-align: top;\n    }\n\n    .dataframe thead th {\n        text-align: right;\n    }\n</style>\n<table border=\"1\" class=\"dataframe\">\n  <thead>\n    <tr style=\"text-align: right;\">\n      <th></th>\n      <th></th>\n      <th>Commodity Code</th>\n      <th>Simple Average</th>\n      <th>Weighted Average</th>\n      <th>Imports Value in 1000 USD</th>\n    </tr>\n    <tr>\n      <th>Year</th>\n      <th>Country</th>\n      <th></th>\n      <th></th>\n      <th></th>\n      <th></th>\n    </tr>\n  </thead>\n  <tbody>\n    <tr>\n      <th>1999</th>\n      <th>Bahrain</th>\n      <td>2</td>\n      <td>5.00</td>\n      <td>5.00</td>\n      <td>14798.621</td>\n    </tr>\n    <tr>\n      <th>2000</th>\n      <th>Bahrain</th>\n      <td>2</td>\n      <td>5.00</td>\n      <td>5.00</td>\n      <td>14192.011</td>\n    </tr>\n    <tr>\n      <th>1999</th>\n      <th>Bahrain</th>\n      <td>7</td>\n      <td>3.33</td>\n      <td>3.33</td>\n      <td>0.359</td>\n    </tr>\n    <tr>\n      <th>2000</th>\n      <th>Bahrain</th>\n      <td>7</td>\n      <td>7.00</td>\n      <td>7.00</td>\n      <td>0.638</td>\n    </tr>\n    <tr>\n      <th>1999</th>\n      <th>Bahrain</th>\n      <td>8</td>\n      <td>5.00</td>\n      <td>5.00</td>\n      <td>90.291</td>\n    </tr>\n    <tr>\n      <th>...</th>\n      <th>...</th>\n      <td>...</td>\n      <td>...</td>\n      <td>...</td>\n      <td>...</td>\n    </tr>\n    <tr>\n      <th rowspan=\"5\" valign=\"top\">2017</th>\n      <th>European Union</th>\n      <td>13</td>\n      <td>2.31</td>\n      <td>0.63</td>\n      <td>35658.152</td>\n    </tr>\n    <tr>\n      <th>European Union</th>\n      <td>14</td>\n      <td>0.00</td>\n      <td>0.00</td>\n      <td>5284.286</td>\n    </tr>\n    <tr>\n      <th>European Union</th>\n      <td>14</td>\n      <td>0.00</td>\n      <td>0.00</td>\n      <td>5284.286</td>\n    </tr>\n    <tr>\n      <th>European Union</th>\n      <td>15</td>\n      <td>5.81</td>\n      <td>1.89</td>\n      <td>88819.170</td>\n    </tr>\n    <tr>\n      <th>European Union</th>\n      <td>15</td>\n      <td>5.81</td>\n      <td>1.89</td>\n      <td>88819.170</td>\n    </tr>\n  </tbody>\n</table>\n<p>13328 rows × 4 columns</p>\n</div>"
     },
     "metadata": {},
     "execution_count": 67
    }
   ],
   "source": [
    "Tarif.index = pd.MultiIndex.from_frame(Tarif.iloc[:,[0,1]])\n",
    "Tarif = Tarif.iloc[:,2:6]\n",
    "Tarif"
   ]
  },
  {
   "cell_type": "code",
   "execution_count": 13,
   "metadata": {},
   "outputs": [],
   "source": [
    "df = pd.concat([Dist, PIB], axis=1)"
   ]
  },
  {
   "cell_type": "code",
   "execution_count": 14,
   "metadata": {},
   "outputs": [
    {
     "output_type": "execute_result",
     "data": {
      "text/plain": "      Country Code  contig  comlang_off  comlang_ethno  colony  comcol  \\\n0              ABW     0.0          0.0            0.0     0.0     0.0   \n1              AFG     0.0          0.0            0.0     0.0     0.0   \n2              AGO     0.0          1.0            1.0     0.0     0.0   \n3              AIA     0.0          0.0            0.0     0.0     0.0   \n4              ALB     0.0          0.0            0.0     0.0     0.0   \n...            ...     ...          ...            ...     ...     ...   \n11848          NaN     NaN          NaN            NaN     NaN     NaN   \n11849          NaN     NaN          NaN            NaN     NaN     NaN   \n11850          NaN     NaN          NaN            NaN     NaN     NaN   \n11851          NaN     NaN          NaN            NaN     NaN     NaN   \n11852          NaN     NaN          NaN            NaN     NaN     NaN   \n\n       curcol  col45  smctry       dist    distcap     distw  distwces  \\\n0         0.0    0.0     0.0   4759.608   3988.915  4431.571  4272.204   \n1         0.0    0.0     0.0  13771.760  13470.080  13223.75  13180.02   \n2         0.0    0.0     0.0   6559.966   6674.706  6440.572  6391.615   \n3         0.0    0.0     0.0   4977.742   4132.483  4549.716  4382.355   \n4         0.0    0.0     0.0   9943.985   9414.849  9388.915  9313.151   \n...       ...    ...     ...        ...        ...       ...       ...   \n11848     NaN    NaN     NaN        NaN        NaN       NaN       NaN   \n11849     NaN    NaN     NaN        NaN        NaN       NaN       NaN   \n11850     NaN    NaN     NaN        NaN        NaN       NaN       NaN   \n11851     NaN    NaN     NaN        NaN        NaN       NaN       NaN   \n11852     NaN    NaN     NaN        NaN        NaN       NaN       NaN   \n\n       Unnamed: 0  Country Name Country Code  Year  PIB_(1000_US$)  \n0               1   Afghanistan          AFG  1960    5.377778e+05  \n1              11     Australia          AUS  1960    1.857767e+07  \n2              12       Austria          AUT  1960    6.592694e+06  \n3              14       Burundi          BDI  1960    1.960000e+05  \n4              15       Belgium          BEL  1960    1.165872e+07  \n...           ...           ...          ...   ...             ...  \n11848       15307        Kosovo          XKX  2017    7.227700e+06  \n11849       15308   Yemen, Rep.          YEM  2017    2.681870e+07  \n11850       15309  South Africa          ZAF  2017    3.495541e+08  \n11851       15310        Zambia          ZMB  2017    2.586814e+07  \n11852       15311      Zimbabwe          ZWE  2017    2.281301e+07  \n\n[11853 rows x 18 columns]",
      "text/html": "<div>\n<style scoped>\n    .dataframe tbody tr th:only-of-type {\n        vertical-align: middle;\n    }\n\n    .dataframe tbody tr th {\n        vertical-align: top;\n    }\n\n    .dataframe thead th {\n        text-align: right;\n    }\n</style>\n<table border=\"1\" class=\"dataframe\">\n  <thead>\n    <tr style=\"text-align: right;\">\n      <th></th>\n      <th>Country Code</th>\n      <th>contig</th>\n      <th>comlang_off</th>\n      <th>comlang_ethno</th>\n      <th>colony</th>\n      <th>comcol</th>\n      <th>curcol</th>\n      <th>col45</th>\n      <th>smctry</th>\n      <th>dist</th>\n      <th>distcap</th>\n      <th>distw</th>\n      <th>distwces</th>\n      <th>Unnamed: 0</th>\n      <th>Country Name</th>\n      <th>Country Code</th>\n      <th>Year</th>\n      <th>PIB_(1000_US$)</th>\n    </tr>\n  </thead>\n  <tbody>\n    <tr>\n      <th>0</th>\n      <td>ABW</td>\n      <td>0.0</td>\n      <td>0.0</td>\n      <td>0.0</td>\n      <td>0.0</td>\n      <td>0.0</td>\n      <td>0.0</td>\n      <td>0.0</td>\n      <td>0.0</td>\n      <td>4759.608</td>\n      <td>3988.915</td>\n      <td>4431.571</td>\n      <td>4272.204</td>\n      <td>1</td>\n      <td>Afghanistan</td>\n      <td>AFG</td>\n      <td>1960</td>\n      <td>5.377778e+05</td>\n    </tr>\n    <tr>\n      <th>1</th>\n      <td>AFG</td>\n      <td>0.0</td>\n      <td>0.0</td>\n      <td>0.0</td>\n      <td>0.0</td>\n      <td>0.0</td>\n      <td>0.0</td>\n      <td>0.0</td>\n      <td>0.0</td>\n      <td>13771.760</td>\n      <td>13470.080</td>\n      <td>13223.75</td>\n      <td>13180.02</td>\n      <td>11</td>\n      <td>Australia</td>\n      <td>AUS</td>\n      <td>1960</td>\n      <td>1.857767e+07</td>\n    </tr>\n    <tr>\n      <th>2</th>\n      <td>AGO</td>\n      <td>0.0</td>\n      <td>1.0</td>\n      <td>1.0</td>\n      <td>0.0</td>\n      <td>0.0</td>\n      <td>0.0</td>\n      <td>0.0</td>\n      <td>0.0</td>\n      <td>6559.966</td>\n      <td>6674.706</td>\n      <td>6440.572</td>\n      <td>6391.615</td>\n      <td>12</td>\n      <td>Austria</td>\n      <td>AUT</td>\n      <td>1960</td>\n      <td>6.592694e+06</td>\n    </tr>\n    <tr>\n      <th>3</th>\n      <td>AIA</td>\n      <td>0.0</td>\n      <td>0.0</td>\n      <td>0.0</td>\n      <td>0.0</td>\n      <td>0.0</td>\n      <td>0.0</td>\n      <td>0.0</td>\n      <td>0.0</td>\n      <td>4977.742</td>\n      <td>4132.483</td>\n      <td>4549.716</td>\n      <td>4382.355</td>\n      <td>14</td>\n      <td>Burundi</td>\n      <td>BDI</td>\n      <td>1960</td>\n      <td>1.960000e+05</td>\n    </tr>\n    <tr>\n      <th>4</th>\n      <td>ALB</td>\n      <td>0.0</td>\n      <td>0.0</td>\n      <td>0.0</td>\n      <td>0.0</td>\n      <td>0.0</td>\n      <td>0.0</td>\n      <td>0.0</td>\n      <td>0.0</td>\n      <td>9943.985</td>\n      <td>9414.849</td>\n      <td>9388.915</td>\n      <td>9313.151</td>\n      <td>15</td>\n      <td>Belgium</td>\n      <td>BEL</td>\n      <td>1960</td>\n      <td>1.165872e+07</td>\n    </tr>\n    <tr>\n      <th>...</th>\n      <td>...</td>\n      <td>...</td>\n      <td>...</td>\n      <td>...</td>\n      <td>...</td>\n      <td>...</td>\n      <td>...</td>\n      <td>...</td>\n      <td>...</td>\n      <td>...</td>\n      <td>...</td>\n      <td>...</td>\n      <td>...</td>\n      <td>...</td>\n      <td>...</td>\n      <td>...</td>\n      <td>...</td>\n      <td>...</td>\n    </tr>\n    <tr>\n      <th>11848</th>\n      <td>NaN</td>\n      <td>NaN</td>\n      <td>NaN</td>\n      <td>NaN</td>\n      <td>NaN</td>\n      <td>NaN</td>\n      <td>NaN</td>\n      <td>NaN</td>\n      <td>NaN</td>\n      <td>NaN</td>\n      <td>NaN</td>\n      <td>NaN</td>\n      <td>NaN</td>\n      <td>15307</td>\n      <td>Kosovo</td>\n      <td>XKX</td>\n      <td>2017</td>\n      <td>7.227700e+06</td>\n    </tr>\n    <tr>\n      <th>11849</th>\n      <td>NaN</td>\n      <td>NaN</td>\n      <td>NaN</td>\n      <td>NaN</td>\n      <td>NaN</td>\n      <td>NaN</td>\n      <td>NaN</td>\n      <td>NaN</td>\n      <td>NaN</td>\n      <td>NaN</td>\n      <td>NaN</td>\n      <td>NaN</td>\n      <td>NaN</td>\n      <td>15308</td>\n      <td>Yemen, Rep.</td>\n      <td>YEM</td>\n      <td>2017</td>\n      <td>2.681870e+07</td>\n    </tr>\n    <tr>\n      <th>11850</th>\n      <td>NaN</td>\n      <td>NaN</td>\n      <td>NaN</td>\n      <td>NaN</td>\n      <td>NaN</td>\n      <td>NaN</td>\n      <td>NaN</td>\n      <td>NaN</td>\n      <td>NaN</td>\n      <td>NaN</td>\n      <td>NaN</td>\n      <td>NaN</td>\n      <td>NaN</td>\n      <td>15309</td>\n      <td>South Africa</td>\n      <td>ZAF</td>\n      <td>2017</td>\n      <td>3.495541e+08</td>\n    </tr>\n    <tr>\n      <th>11851</th>\n      <td>NaN</td>\n      <td>NaN</td>\n      <td>NaN</td>\n      <td>NaN</td>\n      <td>NaN</td>\n      <td>NaN</td>\n      <td>NaN</td>\n      <td>NaN</td>\n      <td>NaN</td>\n      <td>NaN</td>\n      <td>NaN</td>\n      <td>NaN</td>\n      <td>NaN</td>\n      <td>15310</td>\n      <td>Zambia</td>\n      <td>ZMB</td>\n      <td>2017</td>\n      <td>2.586814e+07</td>\n    </tr>\n    <tr>\n      <th>11852</th>\n      <td>NaN</td>\n      <td>NaN</td>\n      <td>NaN</td>\n      <td>NaN</td>\n      <td>NaN</td>\n      <td>NaN</td>\n      <td>NaN</td>\n      <td>NaN</td>\n      <td>NaN</td>\n      <td>NaN</td>\n      <td>NaN</td>\n      <td>NaN</td>\n      <td>NaN</td>\n      <td>15311</td>\n      <td>Zimbabwe</td>\n      <td>ZWE</td>\n      <td>2017</td>\n      <td>2.281301e+07</td>\n    </tr>\n  </tbody>\n</table>\n<p>11853 rows × 18 columns</p>\n</div>"
     },
     "metadata": {},
     "execution_count": 14
    }
   ],
   "source": [
    "df"
   ]
  },
  {
   "cell_type": "code",
   "execution_count": 15,
   "metadata": {},
   "outputs": [
    {
     "output_type": "execute_result",
     "data": {
      "text/plain": "    Country Code  contig  comlang_off  comlang_ethno  colony  comcol  curcol  \\\n0            ABW     0.0          0.0            0.0     0.0     0.0     0.0   \n1            AFG     0.0          0.0            0.0     0.0     0.0     0.0   \n2            AGO     0.0          1.0            1.0     0.0     0.0     0.0   \n3            AIA     0.0          0.0            0.0     0.0     0.0     0.0   \n4            ALB     0.0          0.0            0.0     0.0     0.0     0.0   \n..           ...     ...          ...            ...     ...     ...     ...   \n219          YUG     0.0          0.0            0.0     0.0     0.0     0.0   \n220          ZAF     0.0          0.0            0.0     0.0     0.0     0.0   \n221          ZAR     0.0          0.0            0.0     0.0     0.0     0.0   \n222          ZMB     0.0          0.0            0.0     0.0     0.0     0.0   \n223          ZWE     0.0          0.0            0.0     0.0     0.0     0.0   \n\n     col45  smctry       dist    distcap     distw  distwces  Unnamed: 0  \\\n0      0.0     0.0   4759.608   3988.915  4431.571  4272.204           1   \n1      0.0     0.0  13771.760  13470.080  13223.75  13180.02          11   \n2      0.0     0.0   6559.966   6674.706  6440.572  6391.615          12   \n3      0.0     0.0   4977.742   4132.483  4549.716  4382.355          14   \n4      0.0     0.0   9943.985   9414.849  9388.915  9313.151          15   \n..     ...     ...        ...        ...       ...       ...         ...   \n219    0.0     0.0  10200.500   9638.061  9600.665   9524.34         440   \n220    0.0     0.0   6355.119   7900.190  7342.994  7280.527         442   \n221    0.0     0.0   6967.733   7019.619  7235.597  7150.393         443   \n222    0.0     0.0   7826.946   8113.184  7833.171  7796.626         446   \n223    0.0     0.0   8017.050   8348.187  7918.615  7883.487         447   \n\n     Country Name Country Code  Year  PIB_(1000_US$)  \n0     Afghanistan          AFG  1960    5.377778e+05  \n1       Australia          AUS  1960    1.857767e+07  \n2         Austria          AUT  1960    6.592694e+06  \n3         Burundi          BDI  1960    1.960000e+05  \n4         Belgium          BEL  1960    1.165872e+07  \n..            ...          ...   ...             ...  \n219         Nepal          NPL  1961    5.319596e+05  \n220   New Zealand          NZL  1961    5.670064e+06  \n221  OECD members          OED  1961    1.126411e+09  \n222      Pakistan          PAK  1961    4.054599e+06  \n223        Panama          PAN  1961    5.990263e+05  \n\n[224 rows x 18 columns]",
      "text/html": "<div>\n<style scoped>\n    .dataframe tbody tr th:only-of-type {\n        vertical-align: middle;\n    }\n\n    .dataframe tbody tr th {\n        vertical-align: top;\n    }\n\n    .dataframe thead th {\n        text-align: right;\n    }\n</style>\n<table border=\"1\" class=\"dataframe\">\n  <thead>\n    <tr style=\"text-align: right;\">\n      <th></th>\n      <th>Country Code</th>\n      <th>contig</th>\n      <th>comlang_off</th>\n      <th>comlang_ethno</th>\n      <th>colony</th>\n      <th>comcol</th>\n      <th>curcol</th>\n      <th>col45</th>\n      <th>smctry</th>\n      <th>dist</th>\n      <th>distcap</th>\n      <th>distw</th>\n      <th>distwces</th>\n      <th>Unnamed: 0</th>\n      <th>Country Name</th>\n      <th>Country Code</th>\n      <th>Year</th>\n      <th>PIB_(1000_US$)</th>\n    </tr>\n  </thead>\n  <tbody>\n    <tr>\n      <th>0</th>\n      <td>ABW</td>\n      <td>0.0</td>\n      <td>0.0</td>\n      <td>0.0</td>\n      <td>0.0</td>\n      <td>0.0</td>\n      <td>0.0</td>\n      <td>0.0</td>\n      <td>0.0</td>\n      <td>4759.608</td>\n      <td>3988.915</td>\n      <td>4431.571</td>\n      <td>4272.204</td>\n      <td>1</td>\n      <td>Afghanistan</td>\n      <td>AFG</td>\n      <td>1960</td>\n      <td>5.377778e+05</td>\n    </tr>\n    <tr>\n      <th>1</th>\n      <td>AFG</td>\n      <td>0.0</td>\n      <td>0.0</td>\n      <td>0.0</td>\n      <td>0.0</td>\n      <td>0.0</td>\n      <td>0.0</td>\n      <td>0.0</td>\n      <td>0.0</td>\n      <td>13771.760</td>\n      <td>13470.080</td>\n      <td>13223.75</td>\n      <td>13180.02</td>\n      <td>11</td>\n      <td>Australia</td>\n      <td>AUS</td>\n      <td>1960</td>\n      <td>1.857767e+07</td>\n    </tr>\n    <tr>\n      <th>2</th>\n      <td>AGO</td>\n      <td>0.0</td>\n      <td>1.0</td>\n      <td>1.0</td>\n      <td>0.0</td>\n      <td>0.0</td>\n      <td>0.0</td>\n      <td>0.0</td>\n      <td>0.0</td>\n      <td>6559.966</td>\n      <td>6674.706</td>\n      <td>6440.572</td>\n      <td>6391.615</td>\n      <td>12</td>\n      <td>Austria</td>\n      <td>AUT</td>\n      <td>1960</td>\n      <td>6.592694e+06</td>\n    </tr>\n    <tr>\n      <th>3</th>\n      <td>AIA</td>\n      <td>0.0</td>\n      <td>0.0</td>\n      <td>0.0</td>\n      <td>0.0</td>\n      <td>0.0</td>\n      <td>0.0</td>\n      <td>0.0</td>\n      <td>0.0</td>\n      <td>4977.742</td>\n      <td>4132.483</td>\n      <td>4549.716</td>\n      <td>4382.355</td>\n      <td>14</td>\n      <td>Burundi</td>\n      <td>BDI</td>\n      <td>1960</td>\n      <td>1.960000e+05</td>\n    </tr>\n    <tr>\n      <th>4</th>\n      <td>ALB</td>\n      <td>0.0</td>\n      <td>0.0</td>\n      <td>0.0</td>\n      <td>0.0</td>\n      <td>0.0</td>\n      <td>0.0</td>\n      <td>0.0</td>\n      <td>0.0</td>\n      <td>9943.985</td>\n      <td>9414.849</td>\n      <td>9388.915</td>\n      <td>9313.151</td>\n      <td>15</td>\n      <td>Belgium</td>\n      <td>BEL</td>\n      <td>1960</td>\n      <td>1.165872e+07</td>\n    </tr>\n    <tr>\n      <th>...</th>\n      <td>...</td>\n      <td>...</td>\n      <td>...</td>\n      <td>...</td>\n      <td>...</td>\n      <td>...</td>\n      <td>...</td>\n      <td>...</td>\n      <td>...</td>\n      <td>...</td>\n      <td>...</td>\n      <td>...</td>\n      <td>...</td>\n      <td>...</td>\n      <td>...</td>\n      <td>...</td>\n      <td>...</td>\n      <td>...</td>\n    </tr>\n    <tr>\n      <th>219</th>\n      <td>YUG</td>\n      <td>0.0</td>\n      <td>0.0</td>\n      <td>0.0</td>\n      <td>0.0</td>\n      <td>0.0</td>\n      <td>0.0</td>\n      <td>0.0</td>\n      <td>0.0</td>\n      <td>10200.500</td>\n      <td>9638.061</td>\n      <td>9600.665</td>\n      <td>9524.34</td>\n      <td>440</td>\n      <td>Nepal</td>\n      <td>NPL</td>\n      <td>1961</td>\n      <td>5.319596e+05</td>\n    </tr>\n    <tr>\n      <th>220</th>\n      <td>ZAF</td>\n      <td>0.0</td>\n      <td>0.0</td>\n      <td>0.0</td>\n      <td>0.0</td>\n      <td>0.0</td>\n      <td>0.0</td>\n      <td>0.0</td>\n      <td>0.0</td>\n      <td>6355.119</td>\n      <td>7900.190</td>\n      <td>7342.994</td>\n      <td>7280.527</td>\n      <td>442</td>\n      <td>New Zealand</td>\n      <td>NZL</td>\n      <td>1961</td>\n      <td>5.670064e+06</td>\n    </tr>\n    <tr>\n      <th>221</th>\n      <td>ZAR</td>\n      <td>0.0</td>\n      <td>0.0</td>\n      <td>0.0</td>\n      <td>0.0</td>\n      <td>0.0</td>\n      <td>0.0</td>\n      <td>0.0</td>\n      <td>0.0</td>\n      <td>6967.733</td>\n      <td>7019.619</td>\n      <td>7235.597</td>\n      <td>7150.393</td>\n      <td>443</td>\n      <td>OECD members</td>\n      <td>OED</td>\n      <td>1961</td>\n      <td>1.126411e+09</td>\n    </tr>\n    <tr>\n      <th>222</th>\n      <td>ZMB</td>\n      <td>0.0</td>\n      <td>0.0</td>\n      <td>0.0</td>\n      <td>0.0</td>\n      <td>0.0</td>\n      <td>0.0</td>\n      <td>0.0</td>\n      <td>0.0</td>\n      <td>7826.946</td>\n      <td>8113.184</td>\n      <td>7833.171</td>\n      <td>7796.626</td>\n      <td>446</td>\n      <td>Pakistan</td>\n      <td>PAK</td>\n      <td>1961</td>\n      <td>4.054599e+06</td>\n    </tr>\n    <tr>\n      <th>223</th>\n      <td>ZWE</td>\n      <td>0.0</td>\n      <td>0.0</td>\n      <td>0.0</td>\n      <td>0.0</td>\n      <td>0.0</td>\n      <td>0.0</td>\n      <td>0.0</td>\n      <td>0.0</td>\n      <td>8017.050</td>\n      <td>8348.187</td>\n      <td>7918.615</td>\n      <td>7883.487</td>\n      <td>447</td>\n      <td>Panama</td>\n      <td>PAN</td>\n      <td>1961</td>\n      <td>5.990263e+05</td>\n    </tr>\n  </tbody>\n</table>\n<p>224 rows × 18 columns</p>\n</div>"
     },
     "metadata": {},
     "execution_count": 15
    }
   ],
   "source": [
    "df = df.dropna()\n",
    "df"
   ]
  },
  {
   "cell_type": "code",
   "execution_count": null,
   "metadata": {},
   "outputs": [],
   "source": []
  }
 ]
}