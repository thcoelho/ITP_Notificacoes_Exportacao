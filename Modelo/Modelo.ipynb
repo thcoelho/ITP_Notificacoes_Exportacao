{
 "nbformat": 4,
 "nbformat_minor": 2,
 "metadata": {
  "language_info": {
   "name": "python",
   "codemirror_mode": {
    "name": "ipython",
    "version": 3
   },
   "version": "3.7.6-final"
  },
  "orig_nbformat": 2,
  "file_extension": ".py",
  "mimetype": "text/x-python",
  "name": "python",
  "npconvert_exporter": "python",
  "pygments_lexer": "ipython3",
  "version": 3,
  "kernelspec": {
   "name": "python37664bitbaseconda7037916fb866425e9ff11ebb843bed9a",
   "display_name": "Python 3.7.6 64-bit ('base': conda)"
  }
 },
 "cells": [
  {
   "cell_type": "code",
   "execution_count": 2,
   "metadata": {},
   "outputs": [],
   "source": [
    "import pandas as pd\n",
    "import gme"
   ]
  },
  {
   "cell_type": "code",
   "execution_count": 72,
   "metadata": {},
   "outputs": [],
   "source": [
    "Dist = pd.read_csv(\"Distanciamento/Distanciamento_Especificado.csv\")\n",
    "# Export = pd.read_csv(\"Exportações/Valor_Exportacao_Especificado.csv\")\n",
    "# Notif = pd.read_csv(\"Notificações/\")\n",
    "PIB = pd.read_csv(\"PIB_Nominal/PIB_especificado.csv\")\n",
    "Tarif = pd.read_csv(\"Tarifas/Tarifas_Especificadas.csv\")"
   ]
  },
  {
   "cell_type": "code",
   "execution_count": 73,
   "metadata": {},
   "outputs": [],
   "source": [
    "Dist.set_index(\"Country Code\", inplace=True)"
   ]
  },
  {
   "cell_type": "code",
   "execution_count": 74,
   "metadata": {},
   "outputs": [
    {
     "output_type": "execute_result",
     "data": {
      "text/plain": "              contig  comlang_off  comlang_ethno  colony  comcol  curcol  \\\nCountry Code                                                               \nABW                0            0              0       0       0       0   \nAFG                0            0              0       0       0       0   \nAGO                0            1              1       0       0       0   \nAIA                0            0              0       0       0       0   \nALB                0            0              0       0       0       0   \n...              ...          ...            ...     ...     ...     ...   \nYUG                0            0              0       0       0       0   \nZAF                0            0              0       0       0       0   \nZAR                0            0              0       0       0       0   \nZMB                0            0              0       0       0       0   \nZWE                0            0              0       0       0       0   \n\n              col45  smctry       dist    distcap     distw  distwces  \nCountry Code                                                           \nABW               0       0   4759.608   3988.915  4431.571  4272.204  \nAFG               0       0  13771.760  13470.080  13223.75  13180.02  \nAGO               0       0   6559.966   6674.706  6440.572  6391.615  \nAIA               0       0   4977.742   4132.483  4549.716  4382.355  \nALB               0       0   9943.985   9414.849  9388.915  9313.151  \n...             ...     ...        ...        ...       ...       ...  \nYUG               0       0  10200.500   9638.061  9600.665   9524.34  \nZAF               0       0   6355.119   7900.190  7342.994  7280.527  \nZAR               0       0   6967.733   7019.619  7235.597  7150.393  \nZMB               0       0   7826.946   8113.184  7833.171  7796.626  \nZWE               0       0   8017.050   8348.187  7918.615  7883.487  \n\n[224 rows x 12 columns]",
      "text/html": "<div>\n<style scoped>\n    .dataframe tbody tr th:only-of-type {\n        vertical-align: middle;\n    }\n\n    .dataframe tbody tr th {\n        vertical-align: top;\n    }\n\n    .dataframe thead th {\n        text-align: right;\n    }\n</style>\n<table border=\"1\" class=\"dataframe\">\n  <thead>\n    <tr style=\"text-align: right;\">\n      <th></th>\n      <th>contig</th>\n      <th>comlang_off</th>\n      <th>comlang_ethno</th>\n      <th>colony</th>\n      <th>comcol</th>\n      <th>curcol</th>\n      <th>col45</th>\n      <th>smctry</th>\n      <th>dist</th>\n      <th>distcap</th>\n      <th>distw</th>\n      <th>distwces</th>\n    </tr>\n    <tr>\n      <th>Country Code</th>\n      <th></th>\n      <th></th>\n      <th></th>\n      <th></th>\n      <th></th>\n      <th></th>\n      <th></th>\n      <th></th>\n      <th></th>\n      <th></th>\n      <th></th>\n      <th></th>\n    </tr>\n  </thead>\n  <tbody>\n    <tr>\n      <th>ABW</th>\n      <td>0</td>\n      <td>0</td>\n      <td>0</td>\n      <td>0</td>\n      <td>0</td>\n      <td>0</td>\n      <td>0</td>\n      <td>0</td>\n      <td>4759.608</td>\n      <td>3988.915</td>\n      <td>4431.571</td>\n      <td>4272.204</td>\n    </tr>\n    <tr>\n      <th>AFG</th>\n      <td>0</td>\n      <td>0</td>\n      <td>0</td>\n      <td>0</td>\n      <td>0</td>\n      <td>0</td>\n      <td>0</td>\n      <td>0</td>\n      <td>13771.760</td>\n      <td>13470.080</td>\n      <td>13223.75</td>\n      <td>13180.02</td>\n    </tr>\n    <tr>\n      <th>AGO</th>\n      <td>0</td>\n      <td>1</td>\n      <td>1</td>\n      <td>0</td>\n      <td>0</td>\n      <td>0</td>\n      <td>0</td>\n      <td>0</td>\n      <td>6559.966</td>\n      <td>6674.706</td>\n      <td>6440.572</td>\n      <td>6391.615</td>\n    </tr>\n    <tr>\n      <th>AIA</th>\n      <td>0</td>\n      <td>0</td>\n      <td>0</td>\n      <td>0</td>\n      <td>0</td>\n      <td>0</td>\n      <td>0</td>\n      <td>0</td>\n      <td>4977.742</td>\n      <td>4132.483</td>\n      <td>4549.716</td>\n      <td>4382.355</td>\n    </tr>\n    <tr>\n      <th>ALB</th>\n      <td>0</td>\n      <td>0</td>\n      <td>0</td>\n      <td>0</td>\n      <td>0</td>\n      <td>0</td>\n      <td>0</td>\n      <td>0</td>\n      <td>9943.985</td>\n      <td>9414.849</td>\n      <td>9388.915</td>\n      <td>9313.151</td>\n    </tr>\n    <tr>\n      <th>...</th>\n      <td>...</td>\n      <td>...</td>\n      <td>...</td>\n      <td>...</td>\n      <td>...</td>\n      <td>...</td>\n      <td>...</td>\n      <td>...</td>\n      <td>...</td>\n      <td>...</td>\n      <td>...</td>\n      <td>...</td>\n    </tr>\n    <tr>\n      <th>YUG</th>\n      <td>0</td>\n      <td>0</td>\n      <td>0</td>\n      <td>0</td>\n      <td>0</td>\n      <td>0</td>\n      <td>0</td>\n      <td>0</td>\n      <td>10200.500</td>\n      <td>9638.061</td>\n      <td>9600.665</td>\n      <td>9524.34</td>\n    </tr>\n    <tr>\n      <th>ZAF</th>\n      <td>0</td>\n      <td>0</td>\n      <td>0</td>\n      <td>0</td>\n      <td>0</td>\n      <td>0</td>\n      <td>0</td>\n      <td>0</td>\n      <td>6355.119</td>\n      <td>7900.190</td>\n      <td>7342.994</td>\n      <td>7280.527</td>\n    </tr>\n    <tr>\n      <th>ZAR</th>\n      <td>0</td>\n      <td>0</td>\n      <td>0</td>\n      <td>0</td>\n      <td>0</td>\n      <td>0</td>\n      <td>0</td>\n      <td>0</td>\n      <td>6967.733</td>\n      <td>7019.619</td>\n      <td>7235.597</td>\n      <td>7150.393</td>\n    </tr>\n    <tr>\n      <th>ZMB</th>\n      <td>0</td>\n      <td>0</td>\n      <td>0</td>\n      <td>0</td>\n      <td>0</td>\n      <td>0</td>\n      <td>0</td>\n      <td>0</td>\n      <td>7826.946</td>\n      <td>8113.184</td>\n      <td>7833.171</td>\n      <td>7796.626</td>\n    </tr>\n    <tr>\n      <th>ZWE</th>\n      <td>0</td>\n      <td>0</td>\n      <td>0</td>\n      <td>0</td>\n      <td>0</td>\n      <td>0</td>\n      <td>0</td>\n      <td>0</td>\n      <td>8017.050</td>\n      <td>8348.187</td>\n      <td>7918.615</td>\n      <td>7883.487</td>\n    </tr>\n  </tbody>\n</table>\n<p>224 rows × 12 columns</p>\n</div>"
     },
     "metadata": {},
     "execution_count": 74
    }
   ],
   "source": [
    "Dist"
   ]
  },
  {
   "cell_type": "code",
   "execution_count": 75,
   "metadata": {},
   "outputs": [],
   "source": [
    "Export.index = pd.MultiIndex.from_frame(Export.iloc[:,:2])"
   ]
  },
  {
   "cell_type": "code",
   "execution_count": 34,
   "metadata": {},
   "outputs": [],
   "source": [
    "PIB = PIB[\"PIB\"]"
   ]
  },
  {
   "cell_type": "code",
   "execution_count": 41,
   "metadata": {},
   "outputs": [],
   "source": [
    "PIB = PIB / 1000"
   ]
  },
  {
   "cell_type": "code",
   "execution_count": 42,
   "metadata": {},
   "outputs": [
    {
     "output_type": "execute_result",
     "data": {
      "text/plain": "Year  Country Code\n1996  ALB             3.199643e+06\n      DZA             4.694150e+07\n      AND             1.223945e+06\n      AGO             7.526447e+06\n      ATG             6.337306e+05\n                          ...     \n2018  SSF             1.709948e+09\n      SSA             1.708357e+09\n      TSS             1.709948e+09\n      UMC             2.444613e+10\n      WLD             8.590973e+10\nName: PIB, Length: 5696, dtype: float64"
     },
     "metadata": {},
     "execution_count": 42
    }
   ],
   "source": [
    "PIB"
   ]
  },
  {
   "cell_type": "code",
   "execution_count": 43,
   "metadata": {},
   "outputs": [],
   "source": [
    "Tarif.index = pd.MultiIndex.from_frame(Tarif.iloc[:,:2])"
   ]
  },
  {
   "cell_type": "code",
   "execution_count": 45,
   "metadata": {},
   "outputs": [],
   "source": [
    "Tarif = Tarif.iloc[:,[2,4,5]]"
   ]
  },
  {
   "cell_type": "code",
   "execution_count": 46,
   "metadata": {},
   "outputs": [
    {
     "output_type": "execute_result",
     "data": {
      "text/plain": "                     Commodity Code  Weighted Average  \\\nYear Country                                            \n1999 Bahrain                      2              5.00   \n2000 Bahrain                      2              5.00   \n1999 Bahrain                      7              3.33   \n2000 Bahrain                      7              7.00   \n1999 Bahrain                      8              5.00   \n...                             ...               ...   \n2017 European Union              13              0.63   \n     European Union              14              0.00   \n     European Union              14              0.00   \n     European Union              15              1.89   \n     European Union              15              1.89   \n\n                     Imports Value in 1000 USD  \nYear Country                                    \n1999 Bahrain                         14798.621  \n2000 Bahrain                         14192.011  \n1999 Bahrain                             0.359  \n2000 Bahrain                             0.638  \n1999 Bahrain                            90.291  \n...                                        ...  \n2017 European Union                  35658.152  \n     European Union                   5284.286  \n     European Union                   5284.286  \n     European Union                  88819.170  \n     European Union                  88819.170  \n\n[13328 rows x 3 columns]",
      "text/html": "<div>\n<style scoped>\n    .dataframe tbody tr th:only-of-type {\n        vertical-align: middle;\n    }\n\n    .dataframe tbody tr th {\n        vertical-align: top;\n    }\n\n    .dataframe thead th {\n        text-align: right;\n    }\n</style>\n<table border=\"1\" class=\"dataframe\">\n  <thead>\n    <tr style=\"text-align: right;\">\n      <th></th>\n      <th></th>\n      <th>Commodity Code</th>\n      <th>Weighted Average</th>\n      <th>Imports Value in 1000 USD</th>\n    </tr>\n    <tr>\n      <th>Year</th>\n      <th>Country</th>\n      <th></th>\n      <th></th>\n      <th></th>\n    </tr>\n  </thead>\n  <tbody>\n    <tr>\n      <th>1999</th>\n      <th>Bahrain</th>\n      <td>2</td>\n      <td>5.00</td>\n      <td>14798.621</td>\n    </tr>\n    <tr>\n      <th>2000</th>\n      <th>Bahrain</th>\n      <td>2</td>\n      <td>5.00</td>\n      <td>14192.011</td>\n    </tr>\n    <tr>\n      <th>1999</th>\n      <th>Bahrain</th>\n      <td>7</td>\n      <td>3.33</td>\n      <td>0.359</td>\n    </tr>\n    <tr>\n      <th>2000</th>\n      <th>Bahrain</th>\n      <td>7</td>\n      <td>7.00</td>\n      <td>0.638</td>\n    </tr>\n    <tr>\n      <th>1999</th>\n      <th>Bahrain</th>\n      <td>8</td>\n      <td>5.00</td>\n      <td>90.291</td>\n    </tr>\n    <tr>\n      <th>...</th>\n      <th>...</th>\n      <td>...</td>\n      <td>...</td>\n      <td>...</td>\n    </tr>\n    <tr>\n      <th rowspan=\"5\" valign=\"top\">2017</th>\n      <th>European Union</th>\n      <td>13</td>\n      <td>0.63</td>\n      <td>35658.152</td>\n    </tr>\n    <tr>\n      <th>European Union</th>\n      <td>14</td>\n      <td>0.00</td>\n      <td>5284.286</td>\n    </tr>\n    <tr>\n      <th>European Union</th>\n      <td>14</td>\n      <td>0.00</td>\n      <td>5284.286</td>\n    </tr>\n    <tr>\n      <th>European Union</th>\n      <td>15</td>\n      <td>1.89</td>\n      <td>88819.170</td>\n    </tr>\n    <tr>\n      <th>European Union</th>\n      <td>15</td>\n      <td>1.89</td>\n      <td>88819.170</td>\n    </tr>\n  </tbody>\n</table>\n<p>13328 rows × 3 columns</p>\n</div>"
     },
     "metadata": {},
     "execution_count": 46
    }
   ],
   "source": [
    "Tarif"
   ]
  },
  {
   "cell_type": "code",
   "execution_count": 56,
   "metadata": {},
   "outputs": [],
   "source": [
    "df = pd.concat([Dist, Tarif, PIB])"
   ]
  },
  {
   "cell_type": "code",
   "execution_count": 52,
   "metadata": {},
   "outputs": [],
   "source": [
    "df.drop(columns=0, inplace=True)"
   ]
  },
  {
   "cell_type": "code",
   "execution_count": 59,
   "metadata": {},
   "outputs": [
    {
     "output_type": "execute_result",
     "data": {
      "text/plain": "     Country Code  contig  comlang_off  comlang_ethno  colony  comcol  curcol  \\\n0             ABW     0.0          0.0            0.0     0.0     0.0     0.0   \n1             AFG     0.0          0.0            0.0     0.0     0.0     0.0   \n2             AGO     0.0          1.0            1.0     0.0     0.0     0.0   \n3             AIA     0.0          0.0            0.0     0.0     0.0     0.0   \n4             ALB     0.0          0.0            0.0     0.0     0.0     0.0   \n...           ...     ...          ...            ...     ...     ...     ...   \n5691          SSF     NaN          NaN            NaN     NaN     NaN     NaN   \n5692          SSA     NaN          NaN            NaN     NaN     NaN     NaN   \n5693          TSS     NaN          NaN            NaN     NaN     NaN     NaN   \n5694          UMC     NaN          NaN            NaN     NaN     NaN     NaN   \n5695          WLD     NaN          NaN            NaN     NaN     NaN     NaN   \n\n      col45  smctry       dist    distcap     distw  distwces    Year Country  \\\n0       0.0     0.0   4759.608   3988.915  4431.571  4272.204     NaN     NaN   \n1       0.0     0.0  13771.760  13470.080  13223.75  13180.02     NaN     NaN   \n2       0.0     0.0   6559.966   6674.706  6440.572  6391.615     NaN     NaN   \n3       0.0     0.0   4977.742   4132.483  4549.716  4382.355     NaN     NaN   \n4       0.0     0.0   9943.985   9414.849  9388.915  9313.151     NaN     NaN   \n...     ...     ...        ...        ...       ...       ...     ...     ...   \n5691    NaN     NaN        NaN        NaN       NaN       NaN  2018.0     NaN   \n5692    NaN     NaN        NaN        NaN       NaN       NaN  2018.0     NaN   \n5693    NaN     NaN        NaN        NaN       NaN       NaN  2018.0     NaN   \n5694    NaN     NaN        NaN        NaN       NaN       NaN  2018.0     NaN   \n5695    NaN     NaN        NaN        NaN       NaN       NaN  2018.0     NaN   \n\n      Commodity Code  Simple Average  Weighted Average  \\\n0                NaN             NaN               NaN   \n1                NaN             NaN               NaN   \n2                NaN             NaN               NaN   \n3                NaN             NaN               NaN   \n4                NaN             NaN               NaN   \n...              ...             ...               ...   \n5691             NaN             NaN               NaN   \n5692             NaN             NaN               NaN   \n5693             NaN             NaN               NaN   \n5694             NaN             NaN               NaN   \n5695             NaN             NaN               NaN   \n\n      Imports Value in 1000 USD           PIB  \n0                           NaN           NaN  \n1                           NaN           NaN  \n2                           NaN           NaN  \n3                           NaN           NaN  \n4                           NaN           NaN  \n...                         ...           ...  \n5691                        NaN  1.709948e+12  \n5692                        NaN  1.708357e+12  \n5693                        NaN  1.709948e+12  \n5694                        NaN  2.444613e+13  \n5695                        NaN  8.590973e+13  \n\n[19248 rows x 20 columns]",
      "text/html": "<div>\n<style scoped>\n    .dataframe tbody tr th:only-of-type {\n        vertical-align: middle;\n    }\n\n    .dataframe tbody tr th {\n        vertical-align: top;\n    }\n\n    .dataframe thead th {\n        text-align: right;\n    }\n</style>\n<table border=\"1\" class=\"dataframe\">\n  <thead>\n    <tr style=\"text-align: right;\">\n      <th></th>\n      <th>Country Code</th>\n      <th>contig</th>\n      <th>comlang_off</th>\n      <th>comlang_ethno</th>\n      <th>colony</th>\n      <th>comcol</th>\n      <th>curcol</th>\n      <th>col45</th>\n      <th>smctry</th>\n      <th>dist</th>\n      <th>distcap</th>\n      <th>distw</th>\n      <th>distwces</th>\n      <th>Year</th>\n      <th>Country</th>\n      <th>Commodity Code</th>\n      <th>Simple Average</th>\n      <th>Weighted Average</th>\n      <th>Imports Value in 1000 USD</th>\n      <th>PIB</th>\n    </tr>\n  </thead>\n  <tbody>\n    <tr>\n      <th>0</th>\n      <td>ABW</td>\n      <td>0.0</td>\n      <td>0.0</td>\n      <td>0.0</td>\n      <td>0.0</td>\n      <td>0.0</td>\n      <td>0.0</td>\n      <td>0.0</td>\n      <td>0.0</td>\n      <td>4759.608</td>\n      <td>3988.915</td>\n      <td>4431.571</td>\n      <td>4272.204</td>\n      <td>NaN</td>\n      <td>NaN</td>\n      <td>NaN</td>\n      <td>NaN</td>\n      <td>NaN</td>\n      <td>NaN</td>\n      <td>NaN</td>\n    </tr>\n    <tr>\n      <th>1</th>\n      <td>AFG</td>\n      <td>0.0</td>\n      <td>0.0</td>\n      <td>0.0</td>\n      <td>0.0</td>\n      <td>0.0</td>\n      <td>0.0</td>\n      <td>0.0</td>\n      <td>0.0</td>\n      <td>13771.760</td>\n      <td>13470.080</td>\n      <td>13223.75</td>\n      <td>13180.02</td>\n      <td>NaN</td>\n      <td>NaN</td>\n      <td>NaN</td>\n      <td>NaN</td>\n      <td>NaN</td>\n      <td>NaN</td>\n      <td>NaN</td>\n    </tr>\n    <tr>\n      <th>2</th>\n      <td>AGO</td>\n      <td>0.0</td>\n      <td>1.0</td>\n      <td>1.0</td>\n      <td>0.0</td>\n      <td>0.0</td>\n      <td>0.0</td>\n      <td>0.0</td>\n      <td>0.0</td>\n      <td>6559.966</td>\n      <td>6674.706</td>\n      <td>6440.572</td>\n      <td>6391.615</td>\n      <td>NaN</td>\n      <td>NaN</td>\n      <td>NaN</td>\n      <td>NaN</td>\n      <td>NaN</td>\n      <td>NaN</td>\n      <td>NaN</td>\n    </tr>\n    <tr>\n      <th>3</th>\n      <td>AIA</td>\n      <td>0.0</td>\n      <td>0.0</td>\n      <td>0.0</td>\n      <td>0.0</td>\n      <td>0.0</td>\n      <td>0.0</td>\n      <td>0.0</td>\n      <td>0.0</td>\n      <td>4977.742</td>\n      <td>4132.483</td>\n      <td>4549.716</td>\n      <td>4382.355</td>\n      <td>NaN</td>\n      <td>NaN</td>\n      <td>NaN</td>\n      <td>NaN</td>\n      <td>NaN</td>\n      <td>NaN</td>\n      <td>NaN</td>\n    </tr>\n    <tr>\n      <th>4</th>\n      <td>ALB</td>\n      <td>0.0</td>\n      <td>0.0</td>\n      <td>0.0</td>\n      <td>0.0</td>\n      <td>0.0</td>\n      <td>0.0</td>\n      <td>0.0</td>\n      <td>0.0</td>\n      <td>9943.985</td>\n      <td>9414.849</td>\n      <td>9388.915</td>\n      <td>9313.151</td>\n      <td>NaN</td>\n      <td>NaN</td>\n      <td>NaN</td>\n      <td>NaN</td>\n      <td>NaN</td>\n      <td>NaN</td>\n      <td>NaN</td>\n    </tr>\n    <tr>\n      <th>...</th>\n      <td>...</td>\n      <td>...</td>\n      <td>...</td>\n      <td>...</td>\n      <td>...</td>\n      <td>...</td>\n      <td>...</td>\n      <td>...</td>\n      <td>...</td>\n      <td>...</td>\n      <td>...</td>\n      <td>...</td>\n      <td>...</td>\n      <td>...</td>\n      <td>...</td>\n      <td>...</td>\n      <td>...</td>\n      <td>...</td>\n      <td>...</td>\n      <td>...</td>\n    </tr>\n    <tr>\n      <th>5691</th>\n      <td>SSF</td>\n      <td>NaN</td>\n      <td>NaN</td>\n      <td>NaN</td>\n      <td>NaN</td>\n      <td>NaN</td>\n      <td>NaN</td>\n      <td>NaN</td>\n      <td>NaN</td>\n      <td>NaN</td>\n      <td>NaN</td>\n      <td>NaN</td>\n      <td>NaN</td>\n      <td>2018.0</td>\n      <td>NaN</td>\n      <td>NaN</td>\n      <td>NaN</td>\n      <td>NaN</td>\n      <td>NaN</td>\n      <td>1.709948e+12</td>\n    </tr>\n    <tr>\n      <th>5692</th>\n      <td>SSA</td>\n      <td>NaN</td>\n      <td>NaN</td>\n      <td>NaN</td>\n      <td>NaN</td>\n      <td>NaN</td>\n      <td>NaN</td>\n      <td>NaN</td>\n      <td>NaN</td>\n      <td>NaN</td>\n      <td>NaN</td>\n      <td>NaN</td>\n      <td>NaN</td>\n      <td>2018.0</td>\n      <td>NaN</td>\n      <td>NaN</td>\n      <td>NaN</td>\n      <td>NaN</td>\n      <td>NaN</td>\n      <td>1.708357e+12</td>\n    </tr>\n    <tr>\n      <th>5693</th>\n      <td>TSS</td>\n      <td>NaN</td>\n      <td>NaN</td>\n      <td>NaN</td>\n      <td>NaN</td>\n      <td>NaN</td>\n      <td>NaN</td>\n      <td>NaN</td>\n      <td>NaN</td>\n      <td>NaN</td>\n      <td>NaN</td>\n      <td>NaN</td>\n      <td>NaN</td>\n      <td>2018.0</td>\n      <td>NaN</td>\n      <td>NaN</td>\n      <td>NaN</td>\n      <td>NaN</td>\n      <td>NaN</td>\n      <td>1.709948e+12</td>\n    </tr>\n    <tr>\n      <th>5694</th>\n      <td>UMC</td>\n      <td>NaN</td>\n      <td>NaN</td>\n      <td>NaN</td>\n      <td>NaN</td>\n      <td>NaN</td>\n      <td>NaN</td>\n      <td>NaN</td>\n      <td>NaN</td>\n      <td>NaN</td>\n      <td>NaN</td>\n      <td>NaN</td>\n      <td>NaN</td>\n      <td>2018.0</td>\n      <td>NaN</td>\n      <td>NaN</td>\n      <td>NaN</td>\n      <td>NaN</td>\n      <td>NaN</td>\n      <td>2.444613e+13</td>\n    </tr>\n    <tr>\n      <th>5695</th>\n      <td>WLD</td>\n      <td>NaN</td>\n      <td>NaN</td>\n      <td>NaN</td>\n      <td>NaN</td>\n      <td>NaN</td>\n      <td>NaN</td>\n      <td>NaN</td>\n      <td>NaN</td>\n      <td>NaN</td>\n      <td>NaN</td>\n      <td>NaN</td>\n      <td>NaN</td>\n      <td>2018.0</td>\n      <td>NaN</td>\n      <td>NaN</td>\n      <td>NaN</td>\n      <td>NaN</td>\n      <td>NaN</td>\n      <td>8.590973e+13</td>\n    </tr>\n  </tbody>\n</table>\n<p>19248 rows × 20 columns</p>\n</div>"
     },
     "metadata": {},
     "execution_count": 59
    }
   ],
   "source": [
    "df"
   ]
  },
  {
   "cell_type": "code",
   "execution_count": 62,
   "metadata": {},
   "outputs": [],
   "source": [
    "df.index = pd.MultiIndex.from_frame(df.iloc[:,[13,0]])"
   ]
  },
  {
   "cell_type": "code",
   "execution_count": 71,
   "metadata": {},
   "outputs": [
    {
     "output_type": "execute_result",
     "data": {
      "text/plain": "                    Country Code  contig  comlang_off  comlang_ethno  colony  \\\nYear   Country Code                                                            \nNaN    ABW                   ABW     0.0          0.0            0.0     0.0   \n       AFG                   AFG     0.0          0.0            0.0     0.0   \n       AGO                   AGO     0.0          1.0            1.0     0.0   \n       AIA                   AIA     0.0          0.0            0.0     0.0   \n       ALB                   ALB     0.0          0.0            0.0     0.0   \n...                          ...     ...          ...            ...     ...   \n2018.0 SSF                   SSF     NaN          NaN            NaN     NaN   \n       SSA                   SSA     NaN          NaN            NaN     NaN   \n       TSS                   TSS     NaN          NaN            NaN     NaN   \n       UMC                   UMC     NaN          NaN            NaN     NaN   \n       WLD                   WLD     NaN          NaN            NaN     NaN   \n\n                     comcol  curcol  col45  smctry       dist    distcap  \\\nYear   Country Code                                                        \nNaN    ABW              0.0     0.0    0.0     0.0   4759.608   3988.915   \n       AFG              0.0     0.0    0.0     0.0  13771.760  13470.080   \n       AGO              0.0     0.0    0.0     0.0   6559.966   6674.706   \n       AIA              0.0     0.0    0.0     0.0   4977.742   4132.483   \n       ALB              0.0     0.0    0.0     0.0   9943.985   9414.849   \n...                     ...     ...    ...     ...        ...        ...   \n2018.0 SSF              NaN     NaN    NaN     NaN        NaN        NaN   \n       SSA              NaN     NaN    NaN     NaN        NaN        NaN   \n       TSS              NaN     NaN    NaN     NaN        NaN        NaN   \n       UMC              NaN     NaN    NaN     NaN        NaN        NaN   \n       WLD              NaN     NaN    NaN     NaN        NaN        NaN   \n\n                        distw  distwces    Year Country  Commodity Code  \\\nYear   Country Code                                                       \nNaN    ABW           4431.571  4272.204     NaN     NaN             NaN   \n       AFG           13223.75  13180.02     NaN     NaN             NaN   \n       AGO           6440.572  6391.615     NaN     NaN             NaN   \n       AIA           4549.716  4382.355     NaN     NaN             NaN   \n       ALB           9388.915  9313.151     NaN     NaN             NaN   \n...                       ...       ...     ...     ...             ...   \n2018.0 SSF                NaN       NaN  2018.0     NaN             NaN   \n       SSA                NaN       NaN  2018.0     NaN             NaN   \n       TSS                NaN       NaN  2018.0     NaN             NaN   \n       UMC                NaN       NaN  2018.0     NaN             NaN   \n       WLD                NaN       NaN  2018.0     NaN             NaN   \n\n                     Simple Average  Weighted Average  \\\nYear   Country Code                                     \nNaN    ABW                      NaN               NaN   \n       AFG                      NaN               NaN   \n       AGO                      NaN               NaN   \n       AIA                      NaN               NaN   \n       ALB                      NaN               NaN   \n...                             ...               ...   \n2018.0 SSF                      NaN               NaN   \n       SSA                      NaN               NaN   \n       TSS                      NaN               NaN   \n       UMC                      NaN               NaN   \n       WLD                      NaN               NaN   \n\n                     Imports Value in 1000 USD           PIB  \nYear   Country Code                                           \nNaN    ABW                                 NaN           NaN  \n       AFG                                 NaN           NaN  \n       AGO                                 NaN           NaN  \n       AIA                                 NaN           NaN  \n       ALB                                 NaN           NaN  \n...                                        ...           ...  \n2018.0 SSF                                 NaN  1.709948e+12  \n       SSA                                 NaN  1.708357e+12  \n       TSS                                 NaN  1.709948e+12  \n       UMC                                 NaN  2.444613e+13  \n       WLD                                 NaN  8.590973e+13  \n\n[19248 rows x 20 columns]",
      "text/html": "<div>\n<style scoped>\n    .dataframe tbody tr th:only-of-type {\n        vertical-align: middle;\n    }\n\n    .dataframe tbody tr th {\n        vertical-align: top;\n    }\n\n    .dataframe thead th {\n        text-align: right;\n    }\n</style>\n<table border=\"1\" class=\"dataframe\">\n  <thead>\n    <tr style=\"text-align: right;\">\n      <th></th>\n      <th></th>\n      <th>Country Code</th>\n      <th>contig</th>\n      <th>comlang_off</th>\n      <th>comlang_ethno</th>\n      <th>colony</th>\n      <th>comcol</th>\n      <th>curcol</th>\n      <th>col45</th>\n      <th>smctry</th>\n      <th>dist</th>\n      <th>distcap</th>\n      <th>distw</th>\n      <th>distwces</th>\n      <th>Year</th>\n      <th>Country</th>\n      <th>Commodity Code</th>\n      <th>Simple Average</th>\n      <th>Weighted Average</th>\n      <th>Imports Value in 1000 USD</th>\n      <th>PIB</th>\n    </tr>\n    <tr>\n      <th>Year</th>\n      <th>Country Code</th>\n      <th></th>\n      <th></th>\n      <th></th>\n      <th></th>\n      <th></th>\n      <th></th>\n      <th></th>\n      <th></th>\n      <th></th>\n      <th></th>\n      <th></th>\n      <th></th>\n      <th></th>\n      <th></th>\n      <th></th>\n      <th></th>\n      <th></th>\n      <th></th>\n      <th></th>\n      <th></th>\n    </tr>\n  </thead>\n  <tbody>\n    <tr>\n      <th rowspan=\"5\" valign=\"top\">NaN</th>\n      <th>ABW</th>\n      <td>ABW</td>\n      <td>0.0</td>\n      <td>0.0</td>\n      <td>0.0</td>\n      <td>0.0</td>\n      <td>0.0</td>\n      <td>0.0</td>\n      <td>0.0</td>\n      <td>0.0</td>\n      <td>4759.608</td>\n      <td>3988.915</td>\n      <td>4431.571</td>\n      <td>4272.204</td>\n      <td>NaN</td>\n      <td>NaN</td>\n      <td>NaN</td>\n      <td>NaN</td>\n      <td>NaN</td>\n      <td>NaN</td>\n      <td>NaN</td>\n    </tr>\n    <tr>\n      <th>AFG</th>\n      <td>AFG</td>\n      <td>0.0</td>\n      <td>0.0</td>\n      <td>0.0</td>\n      <td>0.0</td>\n      <td>0.0</td>\n      <td>0.0</td>\n      <td>0.0</td>\n      <td>0.0</td>\n      <td>13771.760</td>\n      <td>13470.080</td>\n      <td>13223.75</td>\n      <td>13180.02</td>\n      <td>NaN</td>\n      <td>NaN</td>\n      <td>NaN</td>\n      <td>NaN</td>\n      <td>NaN</td>\n      <td>NaN</td>\n      <td>NaN</td>\n    </tr>\n    <tr>\n      <th>AGO</th>\n      <td>AGO</td>\n      <td>0.0</td>\n      <td>1.0</td>\n      <td>1.0</td>\n      <td>0.0</td>\n      <td>0.0</td>\n      <td>0.0</td>\n      <td>0.0</td>\n      <td>0.0</td>\n      <td>6559.966</td>\n      <td>6674.706</td>\n      <td>6440.572</td>\n      <td>6391.615</td>\n      <td>NaN</td>\n      <td>NaN</td>\n      <td>NaN</td>\n      <td>NaN</td>\n      <td>NaN</td>\n      <td>NaN</td>\n      <td>NaN</td>\n    </tr>\n    <tr>\n      <th>AIA</th>\n      <td>AIA</td>\n      <td>0.0</td>\n      <td>0.0</td>\n      <td>0.0</td>\n      <td>0.0</td>\n      <td>0.0</td>\n      <td>0.0</td>\n      <td>0.0</td>\n      <td>0.0</td>\n      <td>4977.742</td>\n      <td>4132.483</td>\n      <td>4549.716</td>\n      <td>4382.355</td>\n      <td>NaN</td>\n      <td>NaN</td>\n      <td>NaN</td>\n      <td>NaN</td>\n      <td>NaN</td>\n      <td>NaN</td>\n      <td>NaN</td>\n    </tr>\n    <tr>\n      <th>ALB</th>\n      <td>ALB</td>\n      <td>0.0</td>\n      <td>0.0</td>\n      <td>0.0</td>\n      <td>0.0</td>\n      <td>0.0</td>\n      <td>0.0</td>\n      <td>0.0</td>\n      <td>0.0</td>\n      <td>9943.985</td>\n      <td>9414.849</td>\n      <td>9388.915</td>\n      <td>9313.151</td>\n      <td>NaN</td>\n      <td>NaN</td>\n      <td>NaN</td>\n      <td>NaN</td>\n      <td>NaN</td>\n      <td>NaN</td>\n      <td>NaN</td>\n    </tr>\n    <tr>\n      <th>...</th>\n      <th>...</th>\n      <td>...</td>\n      <td>...</td>\n      <td>...</td>\n      <td>...</td>\n      <td>...</td>\n      <td>...</td>\n      <td>...</td>\n      <td>...</td>\n      <td>...</td>\n      <td>...</td>\n      <td>...</td>\n      <td>...</td>\n      <td>...</td>\n      <td>...</td>\n      <td>...</td>\n      <td>...</td>\n      <td>...</td>\n      <td>...</td>\n      <td>...</td>\n      <td>...</td>\n    </tr>\n    <tr>\n      <th rowspan=\"5\" valign=\"top\">2018.0</th>\n      <th>SSF</th>\n      <td>SSF</td>\n      <td>NaN</td>\n      <td>NaN</td>\n      <td>NaN</td>\n      <td>NaN</td>\n      <td>NaN</td>\n      <td>NaN</td>\n      <td>NaN</td>\n      <td>NaN</td>\n      <td>NaN</td>\n      <td>NaN</td>\n      <td>NaN</td>\n      <td>NaN</td>\n      <td>2018.0</td>\n      <td>NaN</td>\n      <td>NaN</td>\n      <td>NaN</td>\n      <td>NaN</td>\n      <td>NaN</td>\n      <td>1.709948e+12</td>\n    </tr>\n    <tr>\n      <th>SSA</th>\n      <td>SSA</td>\n      <td>NaN</td>\n      <td>NaN</td>\n      <td>NaN</td>\n      <td>NaN</td>\n      <td>NaN</td>\n      <td>NaN</td>\n      <td>NaN</td>\n      <td>NaN</td>\n      <td>NaN</td>\n      <td>NaN</td>\n      <td>NaN</td>\n      <td>NaN</td>\n      <td>2018.0</td>\n      <td>NaN</td>\n      <td>NaN</td>\n      <td>NaN</td>\n      <td>NaN</td>\n      <td>NaN</td>\n      <td>1.708357e+12</td>\n    </tr>\n    <tr>\n      <th>TSS</th>\n      <td>TSS</td>\n      <td>NaN</td>\n      <td>NaN</td>\n      <td>NaN</td>\n      <td>NaN</td>\n      <td>NaN</td>\n      <td>NaN</td>\n      <td>NaN</td>\n      <td>NaN</td>\n      <td>NaN</td>\n      <td>NaN</td>\n      <td>NaN</td>\n      <td>NaN</td>\n      <td>2018.0</td>\n      <td>NaN</td>\n      <td>NaN</td>\n      <td>NaN</td>\n      <td>NaN</td>\n      <td>NaN</td>\n      <td>1.709948e+12</td>\n    </tr>\n    <tr>\n      <th>UMC</th>\n      <td>UMC</td>\n      <td>NaN</td>\n      <td>NaN</td>\n      <td>NaN</td>\n      <td>NaN</td>\n      <td>NaN</td>\n      <td>NaN</td>\n      <td>NaN</td>\n      <td>NaN</td>\n      <td>NaN</td>\n      <td>NaN</td>\n      <td>NaN</td>\n      <td>NaN</td>\n      <td>2018.0</td>\n      <td>NaN</td>\n      <td>NaN</td>\n      <td>NaN</td>\n      <td>NaN</td>\n      <td>NaN</td>\n      <td>2.444613e+13</td>\n    </tr>\n    <tr>\n      <th>WLD</th>\n      <td>WLD</td>\n      <td>NaN</td>\n      <td>NaN</td>\n      <td>NaN</td>\n      <td>NaN</td>\n      <td>NaN</td>\n      <td>NaN</td>\n      <td>NaN</td>\n      <td>NaN</td>\n      <td>NaN</td>\n      <td>NaN</td>\n      <td>NaN</td>\n      <td>NaN</td>\n      <td>2018.0</td>\n      <td>NaN</td>\n      <td>NaN</td>\n      <td>NaN</td>\n      <td>NaN</td>\n      <td>NaN</td>\n      <td>8.590973e+13</td>\n    </tr>\n  </tbody>\n</table>\n<p>19248 rows × 20 columns</p>\n</div>"
     },
     "metadata": {},
     "execution_count": 71
    }
   ],
   "source": [
    "df"
   ]
  },
  {
   "cell_type": "code",
   "execution_count": null,
   "metadata": {},
   "outputs": [],
   "source": []
  }
 ]
}