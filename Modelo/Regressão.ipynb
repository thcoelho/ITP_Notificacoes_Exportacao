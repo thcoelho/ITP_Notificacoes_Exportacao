{
 "nbformat": 4,
 "nbformat_minor": 2,
 "metadata": {
  "language_info": {
   "name": "python",
   "codemirror_mode": {
    "name": "ipython",
    "version": 3
   },
   "version": "3.7.6-final"
  },
  "orig_nbformat": 2,
  "file_extension": ".py",
  "mimetype": "text/x-python",
  "name": "python",
  "npconvert_exporter": "python",
  "pygments_lexer": "ipython3",
  "version": 3,
  "kernelspec": {
   "name": "python37664bitbaseconda7037916fb866425e9ff11ebb843bed9a",
   "display_name": "Python 3.7.6 64-bit ('base': conda)"
  }
 },
 "cells": [
  {
   "cell_type": "code",
   "execution_count": 1,
   "metadata": {},
   "outputs": [],
   "source": [
    "import pandas as pd\n",
    "import gme"
   ]
  },
  {
   "cell_type": "code",
   "execution_count": 6,
   "metadata": {},
   "outputs": [],
   "source": [
    "df = pd.read_csv(\"Modelo_Completo/Dados_modelo.csv\")"
   ]
  },
  {
   "cell_type": "code",
   "execution_count": 7,
   "metadata": {},
   "outputs": [
    {
     "output_type": "execute_result",
     "data": {
      "text/plain": "       Unnamed: 0  Unnamed: 0.1  Unnamed: 0.1.1       Country Country Code  \\\n0               0             0               0     Argentina          ARG   \n1               1             1               1     Argentina          ARG   \n2               2             2               2     Argentina          ARG   \n3               3             3               3     Argentina          ARG   \n4               4             4               4     Argentina          ARG   \n...           ...           ...             ...           ...          ...   \n11794       11794         11794           11794  South Africa          ZAF   \n11795       11795         11795           11795  South Africa          ZAF   \n11796       11796         11796           11796  South Africa          ZAF   \n11797       11797         11797           11797  South Africa          ZAF   \n11798       11798         11798           11798  South Africa          ZAF   \n\n       Year  PIB_(1000_US$)  contig  comlang_off  comlang_ethno  ...  \\\n0      1996    2.721498e+08       1            0              0  ...   \n1      1996    2.721498e+08       1            0              0  ...   \n2      1996    2.721498e+08       1            0              0  ...   \n3      1996    2.721498e+08       1            0              0  ...   \n4      1996    2.721498e+08       1            0              0  ...   \n...     ...             ...     ...          ...            ...  ...   \n11794  2017    3.495541e+08       0            0              0  ...   \n11795  2017    3.495541e+08       0            0              0  ...   \n11796  2017    3.495541e+08       0            0              0  ...   \n11797  2017    3.495541e+08       0            0              0  ...   \n11798  2017    3.495541e+08       0            0              0  ...   \n\n        distcap     distw  distwces  Commodity Code  Simple Average  \\\n0      2353.257  2391.846  2089.281               1            0.00   \n1      2353.257  2391.846  2089.281               2            0.00   \n2      2353.257  2391.846  2089.281               3            0.00   \n3      2353.257  2391.846  2089.281               4            0.00   \n4      2353.257  2391.846  2089.281               5            0.00   \n...         ...       ...       ...             ...             ...   \n11794  7900.190  7342.994  7280.527              11            8.80   \n11795  7900.190  7342.994  7280.527              12            3.81   \n11796  7900.190  7342.994  7280.527              13            3.67   \n11797  7900.190  7342.994  7280.527              14            0.00   \n11798  7900.190  7342.994  7280.527              15            4.58   \n\n       Weighted Average  Imports Value in 1000 USD  Exp     ln_PIB  ln_Import  \n0                  0.00                    585.559  BRA  19.421863   6.372567  \n1                  0.00                 101161.930  BRA  19.421863  11.524478  \n2                  0.00                   2992.493  BRA  19.421863   8.003862  \n3                  0.00                   3584.473  BRA  19.421863   8.184367  \n4                  0.00                     68.207  BRA  19.421863   4.222547  \n...                 ...                        ...  ...        ...        ...  \n11794              4.19                     21.610  BRA  19.672169   3.073156  \n11795              6.23                   3925.218  BRA  19.672169   8.275177  \n11796              7.35                    139.367  BRA  19.672169   4.937111  \n11797              0.00                      3.522  BRA  19.672169   1.259029  \n11798              2.03                   2640.124  BRA  19.672169   7.878581  \n\n[11799 rows x 26 columns]",
      "text/html": "<div>\n<style scoped>\n    .dataframe tbody tr th:only-of-type {\n        vertical-align: middle;\n    }\n\n    .dataframe tbody tr th {\n        vertical-align: top;\n    }\n\n    .dataframe thead th {\n        text-align: right;\n    }\n</style>\n<table border=\"1\" class=\"dataframe\">\n  <thead>\n    <tr style=\"text-align: right;\">\n      <th></th>\n      <th>Unnamed: 0</th>\n      <th>Unnamed: 0.1</th>\n      <th>Unnamed: 0.1.1</th>\n      <th>Country</th>\n      <th>Country Code</th>\n      <th>Year</th>\n      <th>PIB_(1000_US$)</th>\n      <th>contig</th>\n      <th>comlang_off</th>\n      <th>comlang_ethno</th>\n      <th>...</th>\n      <th>distcap</th>\n      <th>distw</th>\n      <th>distwces</th>\n      <th>Commodity Code</th>\n      <th>Simple Average</th>\n      <th>Weighted Average</th>\n      <th>Imports Value in 1000 USD</th>\n      <th>Exp</th>\n      <th>ln_PIB</th>\n      <th>ln_Import</th>\n    </tr>\n  </thead>\n  <tbody>\n    <tr>\n      <th>0</th>\n      <td>0</td>\n      <td>0</td>\n      <td>0</td>\n      <td>Argentina</td>\n      <td>ARG</td>\n      <td>1996</td>\n      <td>2.721498e+08</td>\n      <td>1</td>\n      <td>0</td>\n      <td>0</td>\n      <td>...</td>\n      <td>2353.257</td>\n      <td>2391.846</td>\n      <td>2089.281</td>\n      <td>1</td>\n      <td>0.00</td>\n      <td>0.00</td>\n      <td>585.559</td>\n      <td>BRA</td>\n      <td>19.421863</td>\n      <td>6.372567</td>\n    </tr>\n    <tr>\n      <th>1</th>\n      <td>1</td>\n      <td>1</td>\n      <td>1</td>\n      <td>Argentina</td>\n      <td>ARG</td>\n      <td>1996</td>\n      <td>2.721498e+08</td>\n      <td>1</td>\n      <td>0</td>\n      <td>0</td>\n      <td>...</td>\n      <td>2353.257</td>\n      <td>2391.846</td>\n      <td>2089.281</td>\n      <td>2</td>\n      <td>0.00</td>\n      <td>0.00</td>\n      <td>101161.930</td>\n      <td>BRA</td>\n      <td>19.421863</td>\n      <td>11.524478</td>\n    </tr>\n    <tr>\n      <th>2</th>\n      <td>2</td>\n      <td>2</td>\n      <td>2</td>\n      <td>Argentina</td>\n      <td>ARG</td>\n      <td>1996</td>\n      <td>2.721498e+08</td>\n      <td>1</td>\n      <td>0</td>\n      <td>0</td>\n      <td>...</td>\n      <td>2353.257</td>\n      <td>2391.846</td>\n      <td>2089.281</td>\n      <td>3</td>\n      <td>0.00</td>\n      <td>0.00</td>\n      <td>2992.493</td>\n      <td>BRA</td>\n      <td>19.421863</td>\n      <td>8.003862</td>\n    </tr>\n    <tr>\n      <th>3</th>\n      <td>3</td>\n      <td>3</td>\n      <td>3</td>\n      <td>Argentina</td>\n      <td>ARG</td>\n      <td>1996</td>\n      <td>2.721498e+08</td>\n      <td>1</td>\n      <td>0</td>\n      <td>0</td>\n      <td>...</td>\n      <td>2353.257</td>\n      <td>2391.846</td>\n      <td>2089.281</td>\n      <td>4</td>\n      <td>0.00</td>\n      <td>0.00</td>\n      <td>3584.473</td>\n      <td>BRA</td>\n      <td>19.421863</td>\n      <td>8.184367</td>\n    </tr>\n    <tr>\n      <th>4</th>\n      <td>4</td>\n      <td>4</td>\n      <td>4</td>\n      <td>Argentina</td>\n      <td>ARG</td>\n      <td>1996</td>\n      <td>2.721498e+08</td>\n      <td>1</td>\n      <td>0</td>\n      <td>0</td>\n      <td>...</td>\n      <td>2353.257</td>\n      <td>2391.846</td>\n      <td>2089.281</td>\n      <td>5</td>\n      <td>0.00</td>\n      <td>0.00</td>\n      <td>68.207</td>\n      <td>BRA</td>\n      <td>19.421863</td>\n      <td>4.222547</td>\n    </tr>\n    <tr>\n      <th>...</th>\n      <td>...</td>\n      <td>...</td>\n      <td>...</td>\n      <td>...</td>\n      <td>...</td>\n      <td>...</td>\n      <td>...</td>\n      <td>...</td>\n      <td>...</td>\n      <td>...</td>\n      <td>...</td>\n      <td>...</td>\n      <td>...</td>\n      <td>...</td>\n      <td>...</td>\n      <td>...</td>\n      <td>...</td>\n      <td>...</td>\n      <td>...</td>\n      <td>...</td>\n      <td>...</td>\n    </tr>\n    <tr>\n      <th>11794</th>\n      <td>11794</td>\n      <td>11794</td>\n      <td>11794</td>\n      <td>South Africa</td>\n      <td>ZAF</td>\n      <td>2017</td>\n      <td>3.495541e+08</td>\n      <td>0</td>\n      <td>0</td>\n      <td>0</td>\n      <td>...</td>\n      <td>7900.190</td>\n      <td>7342.994</td>\n      <td>7280.527</td>\n      <td>11</td>\n      <td>8.80</td>\n      <td>4.19</td>\n      <td>21.610</td>\n      <td>BRA</td>\n      <td>19.672169</td>\n      <td>3.073156</td>\n    </tr>\n    <tr>\n      <th>11795</th>\n      <td>11795</td>\n      <td>11795</td>\n      <td>11795</td>\n      <td>South Africa</td>\n      <td>ZAF</td>\n      <td>2017</td>\n      <td>3.495541e+08</td>\n      <td>0</td>\n      <td>0</td>\n      <td>0</td>\n      <td>...</td>\n      <td>7900.190</td>\n      <td>7342.994</td>\n      <td>7280.527</td>\n      <td>12</td>\n      <td>3.81</td>\n      <td>6.23</td>\n      <td>3925.218</td>\n      <td>BRA</td>\n      <td>19.672169</td>\n      <td>8.275177</td>\n    </tr>\n    <tr>\n      <th>11796</th>\n      <td>11796</td>\n      <td>11796</td>\n      <td>11796</td>\n      <td>South Africa</td>\n      <td>ZAF</td>\n      <td>2017</td>\n      <td>3.495541e+08</td>\n      <td>0</td>\n      <td>0</td>\n      <td>0</td>\n      <td>...</td>\n      <td>7900.190</td>\n      <td>7342.994</td>\n      <td>7280.527</td>\n      <td>13</td>\n      <td>3.67</td>\n      <td>7.35</td>\n      <td>139.367</td>\n      <td>BRA</td>\n      <td>19.672169</td>\n      <td>4.937111</td>\n    </tr>\n    <tr>\n      <th>11797</th>\n      <td>11797</td>\n      <td>11797</td>\n      <td>11797</td>\n      <td>South Africa</td>\n      <td>ZAF</td>\n      <td>2017</td>\n      <td>3.495541e+08</td>\n      <td>0</td>\n      <td>0</td>\n      <td>0</td>\n      <td>...</td>\n      <td>7900.190</td>\n      <td>7342.994</td>\n      <td>7280.527</td>\n      <td>14</td>\n      <td>0.00</td>\n      <td>0.00</td>\n      <td>3.522</td>\n      <td>BRA</td>\n      <td>19.672169</td>\n      <td>1.259029</td>\n    </tr>\n    <tr>\n      <th>11798</th>\n      <td>11798</td>\n      <td>11798</td>\n      <td>11798</td>\n      <td>South Africa</td>\n      <td>ZAF</td>\n      <td>2017</td>\n      <td>3.495541e+08</td>\n      <td>0</td>\n      <td>0</td>\n      <td>0</td>\n      <td>...</td>\n      <td>7900.190</td>\n      <td>7342.994</td>\n      <td>7280.527</td>\n      <td>15</td>\n      <td>4.58</td>\n      <td>2.03</td>\n      <td>2640.124</td>\n      <td>BRA</td>\n      <td>19.672169</td>\n      <td>7.878581</td>\n    </tr>\n  </tbody>\n</table>\n<p>11799 rows × 26 columns</p>\n</div>"
     },
     "metadata": {},
     "execution_count": 7
    }
   ],
   "source": [
    "df"
   ]
  },
  {
   "cell_type": "code",
   "execution_count": 8,
   "metadata": {},
   "outputs": [],
   "source": [
    "df.drop(df.columns[:3], axis=1, inplace=True)"
   ]
  },
  {
   "cell_type": "code",
   "execution_count": 9,
   "metadata": {},
   "outputs": [
    {
     "output_type": "execute_result",
     "data": {
      "text/plain": "            Country Country Code  Year  PIB_(1000_US$)  contig  comlang_off  \\\n0         Argentina          ARG  1996    2.721498e+08       1            0   \n1         Argentina          ARG  1996    2.721498e+08       1            0   \n2         Argentina          ARG  1996    2.721498e+08       1            0   \n3         Argentina          ARG  1996    2.721498e+08       1            0   \n4         Argentina          ARG  1996    2.721498e+08       1            0   \n...             ...          ...   ...             ...     ...          ...   \n11794  South Africa          ZAF  2017    3.495541e+08       0            0   \n11795  South Africa          ZAF  2017    3.495541e+08       0            0   \n11796  South Africa          ZAF  2017    3.495541e+08       0            0   \n11797  South Africa          ZAF  2017    3.495541e+08       0            0   \n11798  South Africa          ZAF  2017    3.495541e+08       0            0   \n\n       comlang_ethno  colony  comcol  curcol  ...   distcap     distw  \\\n0                  0       0       0       0  ...  2353.257  2391.846   \n1                  0       0       0       0  ...  2353.257  2391.846   \n2                  0       0       0       0  ...  2353.257  2391.846   \n3                  0       0       0       0  ...  2353.257  2391.846   \n4                  0       0       0       0  ...  2353.257  2391.846   \n...              ...     ...     ...     ...  ...       ...       ...   \n11794              0       0       0       0  ...  7900.190  7342.994   \n11795              0       0       0       0  ...  7900.190  7342.994   \n11796              0       0       0       0  ...  7900.190  7342.994   \n11797              0       0       0       0  ...  7900.190  7342.994   \n11798              0       0       0       0  ...  7900.190  7342.994   \n\n       distwces  Commodity Code  Simple Average  Weighted Average  \\\n0      2089.281               1            0.00              0.00   \n1      2089.281               2            0.00              0.00   \n2      2089.281               3            0.00              0.00   \n3      2089.281               4            0.00              0.00   \n4      2089.281               5            0.00              0.00   \n...         ...             ...             ...               ...   \n11794  7280.527              11            8.80              4.19   \n11795  7280.527              12            3.81              6.23   \n11796  7280.527              13            3.67              7.35   \n11797  7280.527              14            0.00              0.00   \n11798  7280.527              15            4.58              2.03   \n\n       Imports Value in 1000 USD  Exp     ln_PIB  ln_Import  \n0                        585.559  BRA  19.421863   6.372567  \n1                     101161.930  BRA  19.421863  11.524478  \n2                       2992.493  BRA  19.421863   8.003862  \n3                       3584.473  BRA  19.421863   8.184367  \n4                         68.207  BRA  19.421863   4.222547  \n...                          ...  ...        ...        ...  \n11794                     21.610  BRA  19.672169   3.073156  \n11795                   3925.218  BRA  19.672169   8.275177  \n11796                    139.367  BRA  19.672169   4.937111  \n11797                      3.522  BRA  19.672169   1.259029  \n11798                   2640.124  BRA  19.672169   7.878581  \n\n[11799 rows x 23 columns]",
      "text/html": "<div>\n<style scoped>\n    .dataframe tbody tr th:only-of-type {\n        vertical-align: middle;\n    }\n\n    .dataframe tbody tr th {\n        vertical-align: top;\n    }\n\n    .dataframe thead th {\n        text-align: right;\n    }\n</style>\n<table border=\"1\" class=\"dataframe\">\n  <thead>\n    <tr style=\"text-align: right;\">\n      <th></th>\n      <th>Country</th>\n      <th>Country Code</th>\n      <th>Year</th>\n      <th>PIB_(1000_US$)</th>\n      <th>contig</th>\n      <th>comlang_off</th>\n      <th>comlang_ethno</th>\n      <th>colony</th>\n      <th>comcol</th>\n      <th>curcol</th>\n      <th>...</th>\n      <th>distcap</th>\n      <th>distw</th>\n      <th>distwces</th>\n      <th>Commodity Code</th>\n      <th>Simple Average</th>\n      <th>Weighted Average</th>\n      <th>Imports Value in 1000 USD</th>\n      <th>Exp</th>\n      <th>ln_PIB</th>\n      <th>ln_Import</th>\n    </tr>\n  </thead>\n  <tbody>\n    <tr>\n      <th>0</th>\n      <td>Argentina</td>\n      <td>ARG</td>\n      <td>1996</td>\n      <td>2.721498e+08</td>\n      <td>1</td>\n      <td>0</td>\n      <td>0</td>\n      <td>0</td>\n      <td>0</td>\n      <td>0</td>\n      <td>...</td>\n      <td>2353.257</td>\n      <td>2391.846</td>\n      <td>2089.281</td>\n      <td>1</td>\n      <td>0.00</td>\n      <td>0.00</td>\n      <td>585.559</td>\n      <td>BRA</td>\n      <td>19.421863</td>\n      <td>6.372567</td>\n    </tr>\n    <tr>\n      <th>1</th>\n      <td>Argentina</td>\n      <td>ARG</td>\n      <td>1996</td>\n      <td>2.721498e+08</td>\n      <td>1</td>\n      <td>0</td>\n      <td>0</td>\n      <td>0</td>\n      <td>0</td>\n      <td>0</td>\n      <td>...</td>\n      <td>2353.257</td>\n      <td>2391.846</td>\n      <td>2089.281</td>\n      <td>2</td>\n      <td>0.00</td>\n      <td>0.00</td>\n      <td>101161.930</td>\n      <td>BRA</td>\n      <td>19.421863</td>\n      <td>11.524478</td>\n    </tr>\n    <tr>\n      <th>2</th>\n      <td>Argentina</td>\n      <td>ARG</td>\n      <td>1996</td>\n      <td>2.721498e+08</td>\n      <td>1</td>\n      <td>0</td>\n      <td>0</td>\n      <td>0</td>\n      <td>0</td>\n      <td>0</td>\n      <td>...</td>\n      <td>2353.257</td>\n      <td>2391.846</td>\n      <td>2089.281</td>\n      <td>3</td>\n      <td>0.00</td>\n      <td>0.00</td>\n      <td>2992.493</td>\n      <td>BRA</td>\n      <td>19.421863</td>\n      <td>8.003862</td>\n    </tr>\n    <tr>\n      <th>3</th>\n      <td>Argentina</td>\n      <td>ARG</td>\n      <td>1996</td>\n      <td>2.721498e+08</td>\n      <td>1</td>\n      <td>0</td>\n      <td>0</td>\n      <td>0</td>\n      <td>0</td>\n      <td>0</td>\n      <td>...</td>\n      <td>2353.257</td>\n      <td>2391.846</td>\n      <td>2089.281</td>\n      <td>4</td>\n      <td>0.00</td>\n      <td>0.00</td>\n      <td>3584.473</td>\n      <td>BRA</td>\n      <td>19.421863</td>\n      <td>8.184367</td>\n    </tr>\n    <tr>\n      <th>4</th>\n      <td>Argentina</td>\n      <td>ARG</td>\n      <td>1996</td>\n      <td>2.721498e+08</td>\n      <td>1</td>\n      <td>0</td>\n      <td>0</td>\n      <td>0</td>\n      <td>0</td>\n      <td>0</td>\n      <td>...</td>\n      <td>2353.257</td>\n      <td>2391.846</td>\n      <td>2089.281</td>\n      <td>5</td>\n      <td>0.00</td>\n      <td>0.00</td>\n      <td>68.207</td>\n      <td>BRA</td>\n      <td>19.421863</td>\n      <td>4.222547</td>\n    </tr>\n    <tr>\n      <th>...</th>\n      <td>...</td>\n      <td>...</td>\n      <td>...</td>\n      <td>...</td>\n      <td>...</td>\n      <td>...</td>\n      <td>...</td>\n      <td>...</td>\n      <td>...</td>\n      <td>...</td>\n      <td>...</td>\n      <td>...</td>\n      <td>...</td>\n      <td>...</td>\n      <td>...</td>\n      <td>...</td>\n      <td>...</td>\n      <td>...</td>\n      <td>...</td>\n      <td>...</td>\n      <td>...</td>\n    </tr>\n    <tr>\n      <th>11794</th>\n      <td>South Africa</td>\n      <td>ZAF</td>\n      <td>2017</td>\n      <td>3.495541e+08</td>\n      <td>0</td>\n      <td>0</td>\n      <td>0</td>\n      <td>0</td>\n      <td>0</td>\n      <td>0</td>\n      <td>...</td>\n      <td>7900.190</td>\n      <td>7342.994</td>\n      <td>7280.527</td>\n      <td>11</td>\n      <td>8.80</td>\n      <td>4.19</td>\n      <td>21.610</td>\n      <td>BRA</td>\n      <td>19.672169</td>\n      <td>3.073156</td>\n    </tr>\n    <tr>\n      <th>11795</th>\n      <td>South Africa</td>\n      <td>ZAF</td>\n      <td>2017</td>\n      <td>3.495541e+08</td>\n      <td>0</td>\n      <td>0</td>\n      <td>0</td>\n      <td>0</td>\n      <td>0</td>\n      <td>0</td>\n      <td>...</td>\n      <td>7900.190</td>\n      <td>7342.994</td>\n      <td>7280.527</td>\n      <td>12</td>\n      <td>3.81</td>\n      <td>6.23</td>\n      <td>3925.218</td>\n      <td>BRA</td>\n      <td>19.672169</td>\n      <td>8.275177</td>\n    </tr>\n    <tr>\n      <th>11796</th>\n      <td>South Africa</td>\n      <td>ZAF</td>\n      <td>2017</td>\n      <td>3.495541e+08</td>\n      <td>0</td>\n      <td>0</td>\n      <td>0</td>\n      <td>0</td>\n      <td>0</td>\n      <td>0</td>\n      <td>...</td>\n      <td>7900.190</td>\n      <td>7342.994</td>\n      <td>7280.527</td>\n      <td>13</td>\n      <td>3.67</td>\n      <td>7.35</td>\n      <td>139.367</td>\n      <td>BRA</td>\n      <td>19.672169</td>\n      <td>4.937111</td>\n    </tr>\n    <tr>\n      <th>11797</th>\n      <td>South Africa</td>\n      <td>ZAF</td>\n      <td>2017</td>\n      <td>3.495541e+08</td>\n      <td>0</td>\n      <td>0</td>\n      <td>0</td>\n      <td>0</td>\n      <td>0</td>\n      <td>0</td>\n      <td>...</td>\n      <td>7900.190</td>\n      <td>7342.994</td>\n      <td>7280.527</td>\n      <td>14</td>\n      <td>0.00</td>\n      <td>0.00</td>\n      <td>3.522</td>\n      <td>BRA</td>\n      <td>19.672169</td>\n      <td>1.259029</td>\n    </tr>\n    <tr>\n      <th>11798</th>\n      <td>South Africa</td>\n      <td>ZAF</td>\n      <td>2017</td>\n      <td>3.495541e+08</td>\n      <td>0</td>\n      <td>0</td>\n      <td>0</td>\n      <td>0</td>\n      <td>0</td>\n      <td>0</td>\n      <td>...</td>\n      <td>7900.190</td>\n      <td>7342.994</td>\n      <td>7280.527</td>\n      <td>15</td>\n      <td>4.58</td>\n      <td>2.03</td>\n      <td>2640.124</td>\n      <td>BRA</td>\n      <td>19.672169</td>\n      <td>7.878581</td>\n    </tr>\n  </tbody>\n</table>\n<p>11799 rows × 23 columns</p>\n</div>"
     },
     "metadata": {},
     "execution_count": 9
    }
   ],
   "source": [
    "df"
   ]
  },
  {
   "cell_type": "code",
   "execution_count": 12,
   "metadata": {},
   "outputs": [
    {
     "output_type": "execute_result",
     "data": {
      "text/plain": "Index(['Country', 'Country Code', 'Year', 'PIB_(1000_US$)', 'contig',\n       'comlang_off', 'comlang_ethno', 'colony', 'comcol', 'curcol', 'col45',\n       'smctry', 'dist', 'distcap', 'distw', 'distwces', 'Commodity Code',\n       'Simple Average', 'Weighted Average', 'Imports Value in 1000 USD',\n       'Exp', 'ln_PIB', 'ln_Import'],\n      dtype='object')"
     },
     "metadata": {},
     "execution_count": 12
    }
   ],
   "source": [
    "df.columns"
   ]
  },
  {
   "cell_type": "code",
   "execution_count": 15,
   "metadata": {},
   "outputs": [],
   "source": [
    "gme_data = gme.EstimationData(data_frame=df,\n",
    "                              imp_var_name=\"Country\",\n",
    "                              exp_var_name=\"Exp\",\n",
    "                              trade_var_name=\"Imports Value in 1000 USD\",\n",
    "                              year_var_name=\"Year\",\n",
    "                              sector_var_name=\"Commodity Code\")"
   ]
  },
  {
   "cell_type": "code",
   "execution_count": 16,
   "metadata": {},
   "outputs": [
    {
     "output_type": "execute_result",
     "data": {
      "text/plain": "number of countries: 124 \nnumber of exporters: 1 \nnumber of importers: 123 \nnumber of years: 22 \nnumber of sectors: 15 \ndimensions: (11799, 23)"
     },
     "metadata": {},
     "execution_count": 16
    }
   ],
   "source": [
    "gme_data"
   ]
  },
  {
   "cell_type": "code",
   "execution_count": 26,
   "metadata": {},
   "outputs": [],
   "source": [
    "Modelo_linear = gme.EstimationModel(estimation_data=gme_data,\n",
    "                                lhs_var=\"Imports Value in 1000 USD\",\n",
    "                                rhs_var=[\"PIB_(1000_US$)\",\n",
    "                                        \"contig\", \"colony\",\n",
    "                                        \"dist\", \"Weighted Average\"])"
   ]
  },
  {
   "cell_type": "code",
   "execution_count": 67,
   "metadata": {},
   "outputs": [
    {
     "output_type": "stream",
     "name": "stdout",
     "text": "select specification variables: ['PIB_(1000_US$)', 'contig', 'colony', 'dist', 'Weighted Average', 'Imports Value in 1000 USD', 'Country', 'Exp', 'Year', 'Commodity Code'], Observations excluded by user: {'rows': 0, 'columns': 13}\ndrop_intratrade: no, Observations excluded by user: {'rows': 0, 'columns': 0}\ndrop_imp: none, Observations excluded by user: {'rows': 0, 'columns': 0}\ndrop_exp: none, Observations excluded by user: {'rows': 0, 'columns': 0}\nkeep_imp: all available, Observations excluded by user: {'rows': 0, 'columns': 0}\nkeep_exp: all available, Observations excluded by user: {'rows': 0, 'columns': 0}\ndrop_years: none, Observations excluded by user: {'rows': 0, 'columns': 0}\nkeep_years: all available, Observations excluded by user: {'rows': 0, 'columns': 0}\ndrop_missing: yes, Observations excluded by user: {'rows': 0, 'columns': 0}\nEstimation began at 05:04 PM  on Apr 02, 2020\nOmitted Columns: ['colony']\nEstimation completed at 05:04 PM  on Apr 02, 2020\n"
    }
   ],
   "source": [
    "resultado_linear = gme_model.estimate()"
   ]
  },
  {
   "cell_type": "code",
   "execution_count": 68,
   "metadata": {},
   "outputs": [],
   "source": [
    "def EscreverResultado1():\n",
    "    Resultado = open(\"../Relatorio/Resultado_S.tex\", \"w+\")\n",
    "    Resultado.write(resultado_linear[\"all\"].summary().as_latex())\n",
    "    Resultado.close()\n",
    "EscreverResultado1()"
   ]
  },
  {
   "cell_type": "code",
   "execution_count": 32,
   "metadata": {},
   "outputs": [],
   "source": [
    "Modelo_efeitofixo = gme.EstimationModel(estimation_data=gme_data,\n",
    "                                lhs_var=\"Imports Value in 1000 USD\",\n",
    "                                rhs_var=[\"PIB_(1000_US$)\",\n",
    "                                        \"contig\", \"colony\",\n",
    "                                        \"dist\", \"Weighted Average\"],\n",
    "                                fixed_effects=[\"Country\", \"Year\"])"
   ]
  },
  {
   "cell_type": "code",
   "execution_count": 34,
   "metadata": {},
   "outputs": [
    {
     "output_type": "stream",
     "name": "stdout",
     "text": "select specification variables: ['PIB_(1000_US$)', 'contig', 'colony', 'dist', 'Weighted Average', 'Imports Value in 1000 USD', 'Country', 'Exp', 'Year', 'Commodity Code'], Observations excluded by user: {'rows': 0, 'columns': 13}\ndrop_intratrade: no, Observations excluded by user: {'rows': 0, 'columns': 0}\ndrop_imp: none, Observations excluded by user: {'rows': 0, 'columns': 0}\ndrop_exp: none, Observations excluded by user: {'rows': 0, 'columns': 0}\nkeep_imp: all available, Observations excluded by user: {'rows': 0, 'columns': 0}\nkeep_exp: all available, Observations excluded by user: {'rows': 0, 'columns': 0}\ndrop_years: none, Observations excluded by user: {'rows': 0, 'columns': 0}\nkeep_years: all available, Observations excluded by user: {'rows': 0, 'columns': 0}\ndrop_missing: yes, Observations excluded by user: {'rows': 0, 'columns': 0}\nEstimation began at 04:40 PM  on Apr 02, 2020\nOmitted Columns: ['colony', 'Country_fe_Uruguay', 'Country_fe_Zimbabwe', 'Year_fe_2017', 'Country_fe_Suriname', 'Country_fe_Zambia', 'Year_fe_2016']\nEstimation completed at 04:43 PM  on Apr 02, 2020\n"
    }
   ],
   "source": [
    "resultado_fixo = Modelo_efeitofixo.estimate()\n"
   ]
  },
  {
   "cell_type": "code",
   "execution_count": 66,
   "metadata": {
    "tags": [
     "outputPrepend"
    ]
   },
   "outputs": [],
   "source": [
    "def EscreverResultado2():\n",
    "    Resultado = open(\"../Relatorio/Resultado_EF.tex\", \"w+\")\n",
    "    Resultado.write(resultado_fixo[\"all\"].summary().as_latex())\n",
    "    Resultado.close()"
   ]
  },
  {
   "cell_type": "code",
   "execution_count": null,
   "metadata": {},
   "outputs": [],
   "source": []
  }
 ]
}