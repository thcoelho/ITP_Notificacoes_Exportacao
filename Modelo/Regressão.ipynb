{
 "nbformat": 4,
 "nbformat_minor": 2,
 "metadata": {
  "language_info": {
   "name": "python",
   "codemirror_mode": {
    "name": "ipython",
    "version": 3
   },
   "version": "3.7.6-final"
  },
  "orig_nbformat": 2,
  "file_extension": ".py",
  "mimetype": "text/x-python",
  "name": "python",
  "npconvert_exporter": "python",
  "pygments_lexer": "ipython3",
  "version": 3,
  "kernelspec": {
   "name": "python37664bitbaseconda7037916fb866425e9ff11ebb843bed9a",
   "display_name": "Python 3.7.6 64-bit ('base': conda)"
  }
 },
 "cells": [
  {
   "cell_type": "code",
   "execution_count": 29,
   "metadata": {},
   "outputs": [],
   "source": [
    "import pandas as pd\n",
    "import gme\n",
    "import numpy as np"
   ]
  },
  {
   "cell_type": "code",
   "execution_count": 34,
   "metadata": {},
   "outputs": [],
   "source": [
    "df = pd.read_csv(\"Datasets_Completos/CEPII_Notif.csv\")"
   ]
  },
  {
   "cell_type": "code",
   "execution_count": 31,
   "metadata": {},
   "outputs": [
    {
     "output_type": "execute_result",
     "data": {
      "text/plain": "      Unnamed: 0     X  Year Country.Code  Commodity.Code  Animal.health  \\\n0              1     1  1997          USA               2              0   \n1              2     2  2005          USA               1              0   \n2              3     3  2005          USA            8609              0   \n3              4     4  2007          ALB               2              1   \n4              5     5  2007          ALB               4              1   \n...          ...   ...   ...          ...             ...            ...   \n8568        8569  8569  2015          ZAF           70310              0   \n8569        8570  8570  2015          ZAF           70990              0   \n8570        8571  8571  2015          ZAF           80810              0   \n8571        8572  8572  2015          ZAF           80820              0   \n8572        8573  8573  2015          ZAF           81090              0   \n\n      Consumer.information  Cost.saving  Food.safety  Harmonization  ...  \\\n0                        0            0            1              0  ...   \n1                        0            0            0              0  ...   \n2                        0            0            0              0  ...   \n3                        0            0            1              0  ...   \n4                        0            0            1              0  ...   \n...                    ...          ...          ...            ...  ...   \n8568                     2            0            0              0  ...   \n8569                     0            0            0              0  ...   \n8570                     0            0            0              0  ...   \n8571                     0            0            0              0  ...   \n8572                     3            0            0              0  ...   \n\n      comrelig  gatt_d  gatt_o  eu_d  Origin        distw   ln_gdp_o  \\\n0     0.280848     1.0     1.0   0.0     BRA  8088.513876  27.493138   \n1     0.280848     1.0     1.0   0.0     BRA  8088.513876  27.505668   \n2     0.280848     1.0     1.0   0.0     BRA  8088.513876  27.505668   \n3     0.000205     1.0     1.0   0.0     BRA  9388.915094  27.943511   \n4     0.000205     1.0     1.0   0.0     BRA  9388.915094  27.943511   \n...        ...     ...     ...   ...     ...          ...        ...   \n8568  0.106925     1.0     1.0   0.0     BRA  7342.994269  28.204667   \n8569  0.106925     1.0     1.0   0.0     BRA  7342.994269  28.204667   \n8570  0.106925     1.0     1.0   0.0     BRA  7342.994269  28.204667   \n8571  0.106925     1.0     1.0   0.0     BRA  7342.994269  28.204667   \n8572  0.106925     1.0     1.0   0.0     BRA  7342.994269  28.204667   \n\n       ln_gdp_d   ln_trade   ln_dist  \n0     29.783771  12.921397  8.998200  \n1     30.203152  14.320688  8.998200  \n2     30.203152  14.320688  8.998200  \n3     23.093604  17.452358  9.147285  \n4     23.093604   8.774931  9.147285  \n...         ...        ...       ...  \n8568  26.474479  14.125453  8.901502  \n8569  26.474479  14.125453  8.901502  \n8570  26.474479  14.125453  8.901502  \n8571  26.474479  14.125453  8.901502  \n8572  26.474479  14.125453  8.901502  \n\n[8573 rows x 36 columns]",
      "text/html": "<div>\n<style scoped>\n    .dataframe tbody tr th:only-of-type {\n        vertical-align: middle;\n    }\n\n    .dataframe tbody tr th {\n        vertical-align: top;\n    }\n\n    .dataframe thead th {\n        text-align: right;\n    }\n</style>\n<table border=\"1\" class=\"dataframe\">\n  <thead>\n    <tr style=\"text-align: right;\">\n      <th></th>\n      <th>Unnamed: 0</th>\n      <th>X</th>\n      <th>Year</th>\n      <th>Country.Code</th>\n      <th>Commodity.Code</th>\n      <th>Animal.health</th>\n      <th>Consumer.information</th>\n      <th>Cost.saving</th>\n      <th>Food.safety</th>\n      <th>Harmonization</th>\n      <th>...</th>\n      <th>comrelig</th>\n      <th>gatt_d</th>\n      <th>gatt_o</th>\n      <th>eu_d</th>\n      <th>Origin</th>\n      <th>distw</th>\n      <th>ln_gdp_o</th>\n      <th>ln_gdp_d</th>\n      <th>ln_trade</th>\n      <th>ln_dist</th>\n    </tr>\n  </thead>\n  <tbody>\n    <tr>\n      <th>0</th>\n      <td>1</td>\n      <td>1</td>\n      <td>1997</td>\n      <td>USA</td>\n      <td>2</td>\n      <td>0</td>\n      <td>0</td>\n      <td>0</td>\n      <td>1</td>\n      <td>0</td>\n      <td>...</td>\n      <td>0.280848</td>\n      <td>1.0</td>\n      <td>1.0</td>\n      <td>0.0</td>\n      <td>BRA</td>\n      <td>8088.513876</td>\n      <td>27.493138</td>\n      <td>29.783771</td>\n      <td>12.921397</td>\n      <td>8.998200</td>\n    </tr>\n    <tr>\n      <th>1</th>\n      <td>2</td>\n      <td>2</td>\n      <td>2005</td>\n      <td>USA</td>\n      <td>1</td>\n      <td>0</td>\n      <td>0</td>\n      <td>0</td>\n      <td>0</td>\n      <td>0</td>\n      <td>...</td>\n      <td>0.280848</td>\n      <td>1.0</td>\n      <td>1.0</td>\n      <td>0.0</td>\n      <td>BRA</td>\n      <td>8088.513876</td>\n      <td>27.505668</td>\n      <td>30.203152</td>\n      <td>14.320688</td>\n      <td>8.998200</td>\n    </tr>\n    <tr>\n      <th>2</th>\n      <td>3</td>\n      <td>3</td>\n      <td>2005</td>\n      <td>USA</td>\n      <td>8609</td>\n      <td>0</td>\n      <td>0</td>\n      <td>0</td>\n      <td>0</td>\n      <td>0</td>\n      <td>...</td>\n      <td>0.280848</td>\n      <td>1.0</td>\n      <td>1.0</td>\n      <td>0.0</td>\n      <td>BRA</td>\n      <td>8088.513876</td>\n      <td>27.505668</td>\n      <td>30.203152</td>\n      <td>14.320688</td>\n      <td>8.998200</td>\n    </tr>\n    <tr>\n      <th>3</th>\n      <td>4</td>\n      <td>4</td>\n      <td>2007</td>\n      <td>ALB</td>\n      <td>2</td>\n      <td>1</td>\n      <td>0</td>\n      <td>0</td>\n      <td>1</td>\n      <td>0</td>\n      <td>...</td>\n      <td>0.000205</td>\n      <td>1.0</td>\n      <td>1.0</td>\n      <td>0.0</td>\n      <td>BRA</td>\n      <td>9388.915094</td>\n      <td>27.943511</td>\n      <td>23.093604</td>\n      <td>17.452358</td>\n      <td>9.147285</td>\n    </tr>\n    <tr>\n      <th>4</th>\n      <td>5</td>\n      <td>5</td>\n      <td>2007</td>\n      <td>ALB</td>\n      <td>4</td>\n      <td>1</td>\n      <td>0</td>\n      <td>0</td>\n      <td>1</td>\n      <td>0</td>\n      <td>...</td>\n      <td>0.000205</td>\n      <td>1.0</td>\n      <td>1.0</td>\n      <td>0.0</td>\n      <td>BRA</td>\n      <td>9388.915094</td>\n      <td>27.943511</td>\n      <td>23.093604</td>\n      <td>8.774931</td>\n      <td>9.147285</td>\n    </tr>\n    <tr>\n      <th>...</th>\n      <td>...</td>\n      <td>...</td>\n      <td>...</td>\n      <td>...</td>\n      <td>...</td>\n      <td>...</td>\n      <td>...</td>\n      <td>...</td>\n      <td>...</td>\n      <td>...</td>\n      <td>...</td>\n      <td>...</td>\n      <td>...</td>\n      <td>...</td>\n      <td>...</td>\n      <td>...</td>\n      <td>...</td>\n      <td>...</td>\n      <td>...</td>\n      <td>...</td>\n      <td>...</td>\n    </tr>\n    <tr>\n      <th>8568</th>\n      <td>8569</td>\n      <td>8569</td>\n      <td>2015</td>\n      <td>ZAF</td>\n      <td>70310</td>\n      <td>0</td>\n      <td>2</td>\n      <td>0</td>\n      <td>0</td>\n      <td>0</td>\n      <td>...</td>\n      <td>0.106925</td>\n      <td>1.0</td>\n      <td>1.0</td>\n      <td>0.0</td>\n      <td>BRA</td>\n      <td>7342.994269</td>\n      <td>28.204667</td>\n      <td>26.474479</td>\n      <td>14.125453</td>\n      <td>8.901502</td>\n    </tr>\n    <tr>\n      <th>8569</th>\n      <td>8570</td>\n      <td>8570</td>\n      <td>2015</td>\n      <td>ZAF</td>\n      <td>70990</td>\n      <td>0</td>\n      <td>0</td>\n      <td>0</td>\n      <td>0</td>\n      <td>0</td>\n      <td>...</td>\n      <td>0.106925</td>\n      <td>1.0</td>\n      <td>1.0</td>\n      <td>0.0</td>\n      <td>BRA</td>\n      <td>7342.994269</td>\n      <td>28.204667</td>\n      <td>26.474479</td>\n      <td>14.125453</td>\n      <td>8.901502</td>\n    </tr>\n    <tr>\n      <th>8570</th>\n      <td>8571</td>\n      <td>8571</td>\n      <td>2015</td>\n      <td>ZAF</td>\n      <td>80810</td>\n      <td>0</td>\n      <td>0</td>\n      <td>0</td>\n      <td>0</td>\n      <td>0</td>\n      <td>...</td>\n      <td>0.106925</td>\n      <td>1.0</td>\n      <td>1.0</td>\n      <td>0.0</td>\n      <td>BRA</td>\n      <td>7342.994269</td>\n      <td>28.204667</td>\n      <td>26.474479</td>\n      <td>14.125453</td>\n      <td>8.901502</td>\n    </tr>\n    <tr>\n      <th>8571</th>\n      <td>8572</td>\n      <td>8572</td>\n      <td>2015</td>\n      <td>ZAF</td>\n      <td>80820</td>\n      <td>0</td>\n      <td>0</td>\n      <td>0</td>\n      <td>0</td>\n      <td>0</td>\n      <td>...</td>\n      <td>0.106925</td>\n      <td>1.0</td>\n      <td>1.0</td>\n      <td>0.0</td>\n      <td>BRA</td>\n      <td>7342.994269</td>\n      <td>28.204667</td>\n      <td>26.474479</td>\n      <td>14.125453</td>\n      <td>8.901502</td>\n    </tr>\n    <tr>\n      <th>8572</th>\n      <td>8573</td>\n      <td>8573</td>\n      <td>2015</td>\n      <td>ZAF</td>\n      <td>81090</td>\n      <td>0</td>\n      <td>3</td>\n      <td>0</td>\n      <td>0</td>\n      <td>0</td>\n      <td>...</td>\n      <td>0.106925</td>\n      <td>1.0</td>\n      <td>1.0</td>\n      <td>0.0</td>\n      <td>BRA</td>\n      <td>7342.994269</td>\n      <td>28.204667</td>\n      <td>26.474479</td>\n      <td>14.125453</td>\n      <td>8.901502</td>\n    </tr>\n  </tbody>\n</table>\n<p>8573 rows × 36 columns</p>\n</div>"
     },
     "metadata": {},
     "execution_count": 31
    }
   ],
   "source": [
    "df"
   ]
  },
  {
   "cell_type": "code",
   "execution_count": 35,
   "metadata": {},
   "outputs": [
    {
     "output_type": "execute_result",
     "data": {
      "text/plain": "      Year Country.Code  Commodity.Code  Animal.health  Consumer.information  \\\n0     1997          USA               2              0                     0   \n1     2005          USA               1              0                     0   \n2     2005          USA            8609              0                     0   \n3     2007          ALB               2              1                     0   \n4     2007          ALB               4              1                     0   \n...    ...          ...             ...            ...                   ...   \n8568  2015          ZAF           70310              0                     2   \n8569  2015          ZAF           70990              0                     0   \n8570  2015          ZAF           80810              0                     0   \n8571  2015          ZAF           80820              0                     0   \n8572  2015          ZAF           81090              0                     3   \n\n      Cost.saving  Food.safety  Harmonization  Labelling  \\\n0               0            1              0          0   \n1               0            0              0          0   \n2               0            0              0          0   \n3               0            1              0          0   \n4               0            1              0          0   \n...           ...          ...            ...        ...   \n8568            0            0              0          2   \n8569            0            0              0          0   \n8570            0            0              0          0   \n8571            0            0              0          0   \n8572            0            0              0          3   \n\n      Lower.barriers.to.trade  ...  comrelig  gatt_d  gatt_o  eu_d  Origin  \\\n0                           0  ...  0.280848     1.0     1.0   0.0     BRA   \n1                           0  ...  0.280848     1.0     1.0   0.0     BRA   \n2                           0  ...  0.280848     1.0     1.0   0.0     BRA   \n3                           0  ...  0.000205     1.0     1.0   0.0     BRA   \n4                           0  ...  0.000205     1.0     1.0   0.0     BRA   \n...                       ...  ...       ...     ...     ...   ...     ...   \n8568                        0  ...  0.106925     1.0     1.0   0.0     BRA   \n8569                        0  ...  0.106925     1.0     1.0   0.0     BRA   \n8570                        0  ...  0.106925     1.0     1.0   0.0     BRA   \n8571                        0  ...  0.106925     1.0     1.0   0.0     BRA   \n8572                        0  ...  0.106925     1.0     1.0   0.0     BRA   \n\n            distw   ln_gdp_o   ln_gdp_d   ln_trade   ln_dist  \n0     8088.513876  27.493138  29.783771  12.921397  8.998200  \n1     8088.513876  27.505668  30.203152  14.320688  8.998200  \n2     8088.513876  27.505668  30.203152  14.320688  8.998200  \n3     9388.915094  27.943511  23.093604  17.452358  9.147285  \n4     9388.915094  27.943511  23.093604   8.774931  9.147285  \n...           ...        ...        ...        ...       ...  \n8568  7342.994269  28.204667  26.474479  14.125453  8.901502  \n8569  7342.994269  28.204667  26.474479  14.125453  8.901502  \n8570  7342.994269  28.204667  26.474479  14.125453  8.901502  \n8571  7342.994269  28.204667  26.474479  14.125453  8.901502  \n8572  7342.994269  28.204667  26.474479  14.125453  8.901502  \n\n[8573 rows x 34 columns]",
      "text/html": "<div>\n<style scoped>\n    .dataframe tbody tr th:only-of-type {\n        vertical-align: middle;\n    }\n\n    .dataframe tbody tr th {\n        vertical-align: top;\n    }\n\n    .dataframe thead th {\n        text-align: right;\n    }\n</style>\n<table border=\"1\" class=\"dataframe\">\n  <thead>\n    <tr style=\"text-align: right;\">\n      <th></th>\n      <th>Year</th>\n      <th>Country.Code</th>\n      <th>Commodity.Code</th>\n      <th>Animal.health</th>\n      <th>Consumer.information</th>\n      <th>Cost.saving</th>\n      <th>Food.safety</th>\n      <th>Harmonization</th>\n      <th>Labelling</th>\n      <th>Lower.barriers.to.trade</th>\n      <th>...</th>\n      <th>comrelig</th>\n      <th>gatt_d</th>\n      <th>gatt_o</th>\n      <th>eu_d</th>\n      <th>Origin</th>\n      <th>distw</th>\n      <th>ln_gdp_o</th>\n      <th>ln_gdp_d</th>\n      <th>ln_trade</th>\n      <th>ln_dist</th>\n    </tr>\n  </thead>\n  <tbody>\n    <tr>\n      <th>0</th>\n      <td>1997</td>\n      <td>USA</td>\n      <td>2</td>\n      <td>0</td>\n      <td>0</td>\n      <td>0</td>\n      <td>1</td>\n      <td>0</td>\n      <td>0</td>\n      <td>0</td>\n      <td>...</td>\n      <td>0.280848</td>\n      <td>1.0</td>\n      <td>1.0</td>\n      <td>0.0</td>\n      <td>BRA</td>\n      <td>8088.513876</td>\n      <td>27.493138</td>\n      <td>29.783771</td>\n      <td>12.921397</td>\n      <td>8.998200</td>\n    </tr>\n    <tr>\n      <th>1</th>\n      <td>2005</td>\n      <td>USA</td>\n      <td>1</td>\n      <td>0</td>\n      <td>0</td>\n      <td>0</td>\n      <td>0</td>\n      <td>0</td>\n      <td>0</td>\n      <td>0</td>\n      <td>...</td>\n      <td>0.280848</td>\n      <td>1.0</td>\n      <td>1.0</td>\n      <td>0.0</td>\n      <td>BRA</td>\n      <td>8088.513876</td>\n      <td>27.505668</td>\n      <td>30.203152</td>\n      <td>14.320688</td>\n      <td>8.998200</td>\n    </tr>\n    <tr>\n      <th>2</th>\n      <td>2005</td>\n      <td>USA</td>\n      <td>8609</td>\n      <td>0</td>\n      <td>0</td>\n      <td>0</td>\n      <td>0</td>\n      <td>0</td>\n      <td>0</td>\n      <td>0</td>\n      <td>...</td>\n      <td>0.280848</td>\n      <td>1.0</td>\n      <td>1.0</td>\n      <td>0.0</td>\n      <td>BRA</td>\n      <td>8088.513876</td>\n      <td>27.505668</td>\n      <td>30.203152</td>\n      <td>14.320688</td>\n      <td>8.998200</td>\n    </tr>\n    <tr>\n      <th>3</th>\n      <td>2007</td>\n      <td>ALB</td>\n      <td>2</td>\n      <td>1</td>\n      <td>0</td>\n      <td>0</td>\n      <td>1</td>\n      <td>0</td>\n      <td>0</td>\n      <td>0</td>\n      <td>...</td>\n      <td>0.000205</td>\n      <td>1.0</td>\n      <td>1.0</td>\n      <td>0.0</td>\n      <td>BRA</td>\n      <td>9388.915094</td>\n      <td>27.943511</td>\n      <td>23.093604</td>\n      <td>17.452358</td>\n      <td>9.147285</td>\n    </tr>\n    <tr>\n      <th>4</th>\n      <td>2007</td>\n      <td>ALB</td>\n      <td>4</td>\n      <td>1</td>\n      <td>0</td>\n      <td>0</td>\n      <td>1</td>\n      <td>0</td>\n      <td>0</td>\n      <td>0</td>\n      <td>...</td>\n      <td>0.000205</td>\n      <td>1.0</td>\n      <td>1.0</td>\n      <td>0.0</td>\n      <td>BRA</td>\n      <td>9388.915094</td>\n      <td>27.943511</td>\n      <td>23.093604</td>\n      <td>8.774931</td>\n      <td>9.147285</td>\n    </tr>\n    <tr>\n      <th>...</th>\n      <td>...</td>\n      <td>...</td>\n      <td>...</td>\n      <td>...</td>\n      <td>...</td>\n      <td>...</td>\n      <td>...</td>\n      <td>...</td>\n      <td>...</td>\n      <td>...</td>\n      <td>...</td>\n      <td>...</td>\n      <td>...</td>\n      <td>...</td>\n      <td>...</td>\n      <td>...</td>\n      <td>...</td>\n      <td>...</td>\n      <td>...</td>\n      <td>...</td>\n      <td>...</td>\n    </tr>\n    <tr>\n      <th>8568</th>\n      <td>2015</td>\n      <td>ZAF</td>\n      <td>70310</td>\n      <td>0</td>\n      <td>2</td>\n      <td>0</td>\n      <td>0</td>\n      <td>0</td>\n      <td>2</td>\n      <td>0</td>\n      <td>...</td>\n      <td>0.106925</td>\n      <td>1.0</td>\n      <td>1.0</td>\n      <td>0.0</td>\n      <td>BRA</td>\n      <td>7342.994269</td>\n      <td>28.204667</td>\n      <td>26.474479</td>\n      <td>14.125453</td>\n      <td>8.901502</td>\n    </tr>\n    <tr>\n      <th>8569</th>\n      <td>2015</td>\n      <td>ZAF</td>\n      <td>70990</td>\n      <td>0</td>\n      <td>0</td>\n      <td>0</td>\n      <td>0</td>\n      <td>0</td>\n      <td>0</td>\n      <td>0</td>\n      <td>...</td>\n      <td>0.106925</td>\n      <td>1.0</td>\n      <td>1.0</td>\n      <td>0.0</td>\n      <td>BRA</td>\n      <td>7342.994269</td>\n      <td>28.204667</td>\n      <td>26.474479</td>\n      <td>14.125453</td>\n      <td>8.901502</td>\n    </tr>\n    <tr>\n      <th>8570</th>\n      <td>2015</td>\n      <td>ZAF</td>\n      <td>80810</td>\n      <td>0</td>\n      <td>0</td>\n      <td>0</td>\n      <td>0</td>\n      <td>0</td>\n      <td>0</td>\n      <td>0</td>\n      <td>...</td>\n      <td>0.106925</td>\n      <td>1.0</td>\n      <td>1.0</td>\n      <td>0.0</td>\n      <td>BRA</td>\n      <td>7342.994269</td>\n      <td>28.204667</td>\n      <td>26.474479</td>\n      <td>14.125453</td>\n      <td>8.901502</td>\n    </tr>\n    <tr>\n      <th>8571</th>\n      <td>2015</td>\n      <td>ZAF</td>\n      <td>80820</td>\n      <td>0</td>\n      <td>0</td>\n      <td>0</td>\n      <td>0</td>\n      <td>0</td>\n      <td>0</td>\n      <td>0</td>\n      <td>...</td>\n      <td>0.106925</td>\n      <td>1.0</td>\n      <td>1.0</td>\n      <td>0.0</td>\n      <td>BRA</td>\n      <td>7342.994269</td>\n      <td>28.204667</td>\n      <td>26.474479</td>\n      <td>14.125453</td>\n      <td>8.901502</td>\n    </tr>\n    <tr>\n      <th>8572</th>\n      <td>2015</td>\n      <td>ZAF</td>\n      <td>81090</td>\n      <td>0</td>\n      <td>3</td>\n      <td>0</td>\n      <td>0</td>\n      <td>0</td>\n      <td>3</td>\n      <td>0</td>\n      <td>...</td>\n      <td>0.106925</td>\n      <td>1.0</td>\n      <td>1.0</td>\n      <td>0.0</td>\n      <td>BRA</td>\n      <td>7342.994269</td>\n      <td>28.204667</td>\n      <td>26.474479</td>\n      <td>14.125453</td>\n      <td>8.901502</td>\n    </tr>\n  </tbody>\n</table>\n<p>8573 rows × 34 columns</p>\n</div>"
     },
     "metadata": {},
     "execution_count": 35
    }
   ],
   "source": [
    "df.drop(df.columns[0:2], axis=1, inplace=True)\n",
    "df"
   ]
  },
  {
   "cell_type": "code",
   "execution_count": 41,
   "metadata": {},
   "outputs": [],
   "source": [
    "df[\"Origin\"].fillna('BRA', inplace=True)"
   ]
  },
  {
   "cell_type": "code",
   "execution_count": 44,
   "metadata": {},
   "outputs": [],
   "source": [
    "gme_data = gme.EstimationData(data_frame=df,\n",
    "                              imp_var_name=\"Country.Code\",\n",
    "                              exp_var_name=\"Origin\",\n",
    "                              trade_var_name=\"ln_trade\",\n",
    "                              year_var_name=\"Year\",\n",
    "                              sector_var_name=\"Commodity.Code\")"
   ]
  },
  {
   "cell_type": "code",
   "execution_count": 43,
   "metadata": {},
   "outputs": [
    {
     "output_type": "execute_result",
     "data": {
      "text/plain": "number of countries: 89 \nnumber of exporters: 1 \nnumber of importers: 89 \nnumber of years: 11 \nnumber of sectors: 1283 \ndimensions: (8573, 34)"
     },
     "metadata": {},
     "execution_count": 43
    }
   ],
   "source": [
    "gme_data"
   ]
  },
  {
   "cell_type": "code",
   "execution_count": 45,
   "metadata": {},
   "outputs": [],
   "source": [
    "Modelo_linear = gme.EstimationModel(estimation_data=gme_data,\n",
    "                                lhs_var=\"ln_trade\",\n",
    "                                rhs_var=[\"Animal.health\",\n",
    "                            \"Consumer.information\",\n",
    "                            \"Cost.saving\",\n",
    "                            \"Food.safety\",\n",
    "                            \"Harmonization\",\n",
    "                            \"Labelling\",\n",
    "                            \"Lower.barriers.to.trade\",\n",
    "                            \"National.security.requirements\",\n",
    "                            \"Not.specified\",\n",
    "                            \"Other\",\n",
    "                            \"Plant.protection\",\n",
    "                            \"Prevention.of.deceptive.practices.and.consumer.protection\",\n",
    "                            \"Protect.humans.from.animal.plant.pest.or.disease\",\n",
    "                            \"Protect.territory.from.other.damage.from.pests\",\n",
    "                            \"Protection.of.Human.health.or.Safety\",\n",
    "                            \"Protection.of.animal.or.plant.life.or.health\",\n",
    "                            \"Protection.of.the.environment\",\n",
    "                            \"Quality.requirements\",\n",
    "                            \"ln_gdp_d\",                                                   \n",
    "                            \"ln_gdp_o\",                                                   \n",
    "                            \"comrelig\",                                                \n",
    "                            \"gatt_d\",                                                  \n",
    "                            \"gatt_o\",                                                   \n",
    "                            \"eu_d\",\n",
    "                            \"distw\"])"
   ]
  },
  {
   "cell_type": "code",
   "execution_count": 46,
   "metadata": {},
   "outputs": [
    {
     "output_type": "stream",
     "name": "stdout",
     "text": "select specification variables: ['Animal.health', 'Consumer.information', 'Cost.saving', 'Food.safety', 'Harmonization', 'Labelling', 'Lower.barriers.to.trade', 'National.security.requirements', 'Not.specified', 'Other', 'Plant.protection', 'Prevention.of.deceptive.practices.and.consumer.protection', 'Protect.humans.from.animal.plant.pest.or.disease', 'Protect.territory.from.other.damage.from.pests', 'Protection.of.Human.health.or.Safety', 'Protection.of.animal.or.plant.life.or.health', 'Protection.of.the.environment', 'Quality.requirements', 'ln_gdp_d', 'ln_gdp_o', 'comrelig', 'gatt_d', 'gatt_o', 'eu_d', 'distw', 'ln_trade', 'Country.Code', 'Origin', 'Year', 'Commodity.Code'], Observations excluded by user: {'rows': 0, 'columns': 4}\ndrop_intratrade: no, Observations excluded by user: {'rows': 0, 'columns': 0}\ndrop_imp: none, Observations excluded by user: {'rows': 0, 'columns': 0}\ndrop_exp: none, Observations excluded by user: {'rows': 0, 'columns': 0}\nkeep_imp: all available, Observations excluded by user: {'rows': 0, 'columns': 0}\nkeep_exp: all available, Observations excluded by user: {'rows': 0, 'columns': 0}\ndrop_years: none, Observations excluded by user: {'rows': 0, 'columns': 0}\nkeep_years: all available, Observations excluded by user: {'rows': 0, 'columns': 0}\ndrop_missing: yes, Observations excluded by user: {'rows': 1110, 'columns': 0}\nEstimation began at 10:00 AM  on Apr 14, 2020\nOmitted Columns: ['Cost.saving', 'Labelling', 'National.security.requirements', 'Not.specified']\nEstimation completed at 10:00 AM  on Apr 14, 2020\n"
    }
   ],
   "source": [
    "Resultado_linear = Modelo_linear.estimate()"
   ]
  },
  {
   "cell_type": "code",
   "execution_count": 47,
   "metadata": {},
   "outputs": [
    {
     "output_type": "execute_result",
     "data": {
      "text/plain": "<class 'statsmodels.iolib.summary.Summary'>\n\"\"\"\n                 Generalized Linear Model Regression Results                  \n==============================================================================\nDep. Variable:               ln_trade   No. Iterations:                      5\nModel:                            GLM   Df Residuals:                     7442\nModel Family:                 Poisson   Df Model:                           20\nLink Function:                    log   Scale:                          1.0000\nMethod:                          IRLS   Log-Likelihood:                -18927.\nCovariance Type:                  HC1   Deviance:                       4944.0\nNo. Observations:                7463   Pearson chi2:                 4.81e+03\n=============================================================================================================================\n                                                                coef    std err          t      P>|t|      [0.025      0.975]\n-----------------------------------------------------------------------------------------------------------------------------\nAnimal.health                                                 0.0046      0.001      4.152      0.000       0.002       0.007\nConsumer.information                                         -0.0106      0.012     -0.893      0.372      -0.034       0.013\nFood.safety                                                  -0.0053      0.001     -9.394      0.000      -0.006      -0.004\nHarmonization                                                -0.5198      0.062     -8.348      0.000      -0.642      -0.398\nLower.barriers.to.trade                                      -0.0333      0.008     -4.433      0.000      -0.048      -0.019\nOther                                                        -0.0234      0.019     -1.219      0.223      -0.061       0.014\nPlant.protection                                              0.0006      0.001      0.489      0.625      -0.002       0.003\nPrevention.of.deceptive.practices.and.consumer.protection    -0.0525      0.006     -9.286      0.000      -0.064      -0.041\nProtect.humans.from.animal.plant.pest.or.disease              0.0028      0.002      1.782      0.075      -0.000       0.006\nProtect.territory.from.other.damage.from.pests               -0.0368      0.008     -4.801      0.000      -0.052      -0.022\nProtection.of.Human.health.or.Safety                         -0.0074      0.002     -4.613      0.000      -0.011      -0.004\nProtection.of.animal.or.plant.life.or.health                 -0.0847      0.040     -2.143      0.032      -0.162      -0.007\nProtection.of.the.environment                                 0.0268      0.005      5.071      0.000       0.016       0.037\nQuality.requirements                                         -0.0142      0.009     -1.525      0.127      -0.032       0.004\nln_gdp_d                                                      0.0384      0.001     26.368      0.000       0.036       0.041\nln_gdp_o                                                      0.0306      0.015      2.004      0.045       0.001       0.060\ncomrelig                                                     -0.0039      0.010     -0.399      0.690      -0.023       0.015\ngatt_d                                                       -0.1327      0.019     -7.140      0.000      -0.169      -0.096\ngatt_o                                                        0.8822      0.427      2.066      0.039       0.045       1.719\neu_d                                                         -0.4352      0.037    -11.867      0.000      -0.507      -0.363\ndistw                                                     -1.569e-06    5.8e-07     -2.706      0.007   -2.71e-06   -4.32e-07\n=============================================================================================================================\n\"\"\"",
      "text/html": "<table class=\"simpletable\">\n<caption>Generalized Linear Model Regression Results</caption>\n<tr>\n  <th>Dep. Variable:</th>    <td>ln_trade</td> <th>  No. Iterations:    </th>     <td>5</td>   \n</tr>\n<tr>\n  <th>Model:</th>               <td>GLM</td>   <th>  Df Residuals:      </th>   <td>7442</td>  \n</tr>\n<tr>\n  <th>Model Family:</th>      <td>Poisson</td> <th>  Df Model:          </th>    <td>20</td>   \n</tr>\n<tr>\n  <th>Link Function:</th>       <td>log</td>   <th>  Scale:             </th> <td>  1.0000</td>\n</tr>\n<tr>\n  <th>Method:</th>             <td>IRLS</td>   <th>  Log-Likelihood:    </th> <td> -18927.</td>\n</tr>\n<tr>\n  <th>Covariance Type:</th>     <td>HC1</td>   <th>  Deviance:          </th> <td>  4944.0</td>\n</tr>\n<tr>\n  <th>No. Observations:</th>   <td>7463</td>   <th>  Pearson chi2:      </th> <td>4.81e+03</td>\n</tr>\n</table>\n<table class=\"simpletable\">\n<tr>\n                              <td></td>                                 <th>coef</th>     <th>std err</th>      <th>t</th>      <th>P>|t|</th>  <th>[0.025</th>    <th>0.975]</th>  \n</tr>\n<tr>\n  <th>Animal.health</th>                                             <td>    0.0046</td> <td>    0.001</td> <td>    4.152</td> <td> 0.000</td> <td>    0.002</td> <td>    0.007</td>\n</tr>\n<tr>\n  <th>Consumer.information</th>                                      <td>   -0.0106</td> <td>    0.012</td> <td>   -0.893</td> <td> 0.372</td> <td>   -0.034</td> <td>    0.013</td>\n</tr>\n<tr>\n  <th>Food.safety</th>                                               <td>   -0.0053</td> <td>    0.001</td> <td>   -9.394</td> <td> 0.000</td> <td>   -0.006</td> <td>   -0.004</td>\n</tr>\n<tr>\n  <th>Harmonization</th>                                             <td>   -0.5198</td> <td>    0.062</td> <td>   -8.348</td> <td> 0.000</td> <td>   -0.642</td> <td>   -0.398</td>\n</tr>\n<tr>\n  <th>Lower.barriers.to.trade</th>                                   <td>   -0.0333</td> <td>    0.008</td> <td>   -4.433</td> <td> 0.000</td> <td>   -0.048</td> <td>   -0.019</td>\n</tr>\n<tr>\n  <th>Other</th>                                                     <td>   -0.0234</td> <td>    0.019</td> <td>   -1.219</td> <td> 0.223</td> <td>   -0.061</td> <td>    0.014</td>\n</tr>\n<tr>\n  <th>Plant.protection</th>                                          <td>    0.0006</td> <td>    0.001</td> <td>    0.489</td> <td> 0.625</td> <td>   -0.002</td> <td>    0.003</td>\n</tr>\n<tr>\n  <th>Prevention.of.deceptive.practices.and.consumer.protection</th> <td>   -0.0525</td> <td>    0.006</td> <td>   -9.286</td> <td> 0.000</td> <td>   -0.064</td> <td>   -0.041</td>\n</tr>\n<tr>\n  <th>Protect.humans.from.animal.plant.pest.or.disease</th>          <td>    0.0028</td> <td>    0.002</td> <td>    1.782</td> <td> 0.075</td> <td>   -0.000</td> <td>    0.006</td>\n</tr>\n<tr>\n  <th>Protect.territory.from.other.damage.from.pests</th>            <td>   -0.0368</td> <td>    0.008</td> <td>   -4.801</td> <td> 0.000</td> <td>   -0.052</td> <td>   -0.022</td>\n</tr>\n<tr>\n  <th>Protection.of.Human.health.or.Safety</th>                      <td>   -0.0074</td> <td>    0.002</td> <td>   -4.613</td> <td> 0.000</td> <td>   -0.011</td> <td>   -0.004</td>\n</tr>\n<tr>\n  <th>Protection.of.animal.or.plant.life.or.health</th>              <td>   -0.0847</td> <td>    0.040</td> <td>   -2.143</td> <td> 0.032</td> <td>   -0.162</td> <td>   -0.007</td>\n</tr>\n<tr>\n  <th>Protection.of.the.environment</th>                             <td>    0.0268</td> <td>    0.005</td> <td>    5.071</td> <td> 0.000</td> <td>    0.016</td> <td>    0.037</td>\n</tr>\n<tr>\n  <th>Quality.requirements</th>                                      <td>   -0.0142</td> <td>    0.009</td> <td>   -1.525</td> <td> 0.127</td> <td>   -0.032</td> <td>    0.004</td>\n</tr>\n<tr>\n  <th>ln_gdp_d</th>                                                  <td>    0.0384</td> <td>    0.001</td> <td>   26.368</td> <td> 0.000</td> <td>    0.036</td> <td>    0.041</td>\n</tr>\n<tr>\n  <th>ln_gdp_o</th>                                                  <td>    0.0306</td> <td>    0.015</td> <td>    2.004</td> <td> 0.045</td> <td>    0.001</td> <td>    0.060</td>\n</tr>\n<tr>\n  <th>comrelig</th>                                                  <td>   -0.0039</td> <td>    0.010</td> <td>   -0.399</td> <td> 0.690</td> <td>   -0.023</td> <td>    0.015</td>\n</tr>\n<tr>\n  <th>gatt_d</th>                                                    <td>   -0.1327</td> <td>    0.019</td> <td>   -7.140</td> <td> 0.000</td> <td>   -0.169</td> <td>   -0.096</td>\n</tr>\n<tr>\n  <th>gatt_o</th>                                                    <td>    0.8822</td> <td>    0.427</td> <td>    2.066</td> <td> 0.039</td> <td>    0.045</td> <td>    1.719</td>\n</tr>\n<tr>\n  <th>eu_d</th>                                                      <td>   -0.4352</td> <td>    0.037</td> <td>  -11.867</td> <td> 0.000</td> <td>   -0.507</td> <td>   -0.363</td>\n</tr>\n<tr>\n  <th>distw</th>                                                     <td>-1.569e-06</td> <td>  5.8e-07</td> <td>   -2.706</td> <td> 0.007</td> <td>-2.71e-06</td> <td>-4.32e-07</td>\n</tr>\n</table>"
     },
     "metadata": {},
     "execution_count": 47
    }
   ],
   "source": [
    "Resultado_linear[\"all\"].summary()"
   ]
  },
  {
   "cell_type": "code",
   "execution_count": 49,
   "metadata": {},
   "outputs": [],
   "source": [
    "def EscreverResultado1():\n",
    "    Resultado = open(\"../Relatorio/Resultado_S.tex\", \"w+\")\n",
    "    Resultado.write(Resultado_linear[\"all\"].summary().as_latex())\n",
    "    Resultado.close()\n",
    "EscreverResultado1()"
   ]
  },
  {
   "cell_type": "code",
   "execution_count": 32,
   "metadata": {},
   "outputs": [],
   "source": [
    "Modelo_efeitofixo = gme.EstimationModel(estimation_data=gme_data,\n",
    "                                lhs_var=\"Imports Value in 1000 USD\",\n",
    "                                rhs_var=[\"PIB_(1000_US$)\",\n",
    "                                        \"contig\", \"colony\",\n",
    "                                        \"dist\", \"Weighted Average\"],\n",
    "                                fixed_effects=[\"Country\", \"Year\"])"
   ]
  },
  {
   "cell_type": "code",
   "execution_count": 34,
   "metadata": {},
   "outputs": [
    {
     "output_type": "stream",
     "name": "stdout",
     "text": "select specification variables: ['PIB_(1000_US$)', 'contig', 'colony', 'dist', 'Weighted Average', 'Imports Value in 1000 USD', 'Country', 'Exp', 'Year', 'Commodity Code'], Observations excluded by user: {'rows': 0, 'columns': 13}\ndrop_intratrade: no, Observations excluded by user: {'rows': 0, 'columns': 0}\ndrop_imp: none, Observations excluded by user: {'rows': 0, 'columns': 0}\ndrop_exp: none, Observations excluded by user: {'rows': 0, 'columns': 0}\nkeep_imp: all available, Observations excluded by user: {'rows': 0, 'columns': 0}\nkeep_exp: all available, Observations excluded by user: {'rows': 0, 'columns': 0}\ndrop_years: none, Observations excluded by user: {'rows': 0, 'columns': 0}\nkeep_years: all available, Observations excluded by user: {'rows': 0, 'columns': 0}\ndrop_missing: yes, Observations excluded by user: {'rows': 0, 'columns': 0}\nEstimation began at 04:40 PM  on Apr 02, 2020\nOmitted Columns: ['colony', 'Country_fe_Uruguay', 'Country_fe_Zimbabwe', 'Year_fe_2017', 'Country_fe_Suriname', 'Country_fe_Zambia', 'Year_fe_2016']\nEstimation completed at 04:43 PM  on Apr 02, 2020\n"
    }
   ],
   "source": [
    "resultado_fixo = Modelo_efeitofixo.estimate()\n"
   ]
  },
  {
   "cell_type": "code",
   "execution_count": 66,
   "metadata": {
    "tags": [
     "outputPrepend"
    ]
   },
   "outputs": [],
   "source": [
    "def EscreverResultado2():\n",
    "    Resultado = open(\"../Relatorio/Resultado_EF.tex\", \"w+\")\n",
    "    Resultado.write(resultado_fixo[\"all\"].summary().as_latex())\n",
    "    Resultado.close()"
   ]
  },
  {
   "cell_type": "code",
   "execution_count": 2,
   "metadata": {},
   "outputs": [],
   "source": [
    "df = pd.read_csv(\"Modelo_Completo/Teste_objetivos.csv\")"
   ]
  },
  {
   "cell_type": "code",
   "execution_count": 5,
   "metadata": {},
   "outputs": [],
   "source": [
    "df.drop(df.columns[0], axis=1, inplace=True)"
   ]
  },
  {
   "cell_type": "code",
   "execution_count": 13,
   "metadata": {},
   "outputs": [
    {
     "output_type": "execute_result",
     "data": {
      "text/plain": "Index(['Country', 'Country Code', 'Year', 'PIB_(1000_US$)', 'contig',\n       'comlang_off', 'comlang_ethno', 'colony', 'comcol', 'curcol', 'col45',\n       'smctry', 'dist', 'distcap', 'distw', 'distwces', 'Commodity Code',\n       'Simple Average', 'Weighted Average', 'Imports Value in 1000 USD',\n       'Exp', 'ln_PIB', 'ln_Import', 'ln_distw', 'ln_Tariff', 'Animal health',\n       'Consumer information', 'Cost saving', 'Food safety', 'Harmonization',\n       'Labelling', 'Lower barriers to trade',\n       'National security requirements', 'Not specified', 'Other',\n       'Plant protection',\n       'Prevention of deceptive practices and consumer protection',\n       'Protect humans from animal/plant pest or disease',\n       'Protect territory from other damage from pests',\n       'Protection of Human health or Safety',\n       'Protection of animal or plant life or health',\n       'Protection of the environment', 'Quality requirements'],\n      dtype='object')"
     },
     "metadata": {},
     "execution_count": 13
    }
   ],
   "source": [
    "df.columns"
   ]
  },
  {
   "cell_type": "code",
   "execution_count": 7,
   "metadata": {},
   "outputs": [],
   "source": [
    "gme_data = gme.EstimationData(data_frame=df,\n",
    "                              imp_var_name=\"Country\",\n",
    "                              exp_var_name=\"Exp\",\n",
    "                              trade_var_name=\"Imports Value in 1000 USD\",\n",
    "                              year_var_name=\"Year\",\n",
    "                              sector_var_name=\"Commodity Code\")"
   ]
  },
  {
   "cell_type": "code",
   "execution_count": 14,
   "metadata": {},
   "outputs": [],
   "source": [
    "Modelo = gme.EstimationModel(estimation_data=gme_data,\n",
    "                                lhs_var=\"Imports Value in 1000 USD\",\n",
    "                                rhs_var=[\"ln_PIB\",\"contig\", \"ln_distw\", \n",
    "                                \"Weighted Average\",'Animal health','Consumer information', 'Cost saving', 'Food safety', 'Harmonization','Labelling', 'Lower barriers to trade','National security requirements', 'Not specified', 'Other','Plant protection','Prevention of deceptive practices and consumer protection','Protect humans from animal/plant pest or disease','Protect territory from other damage from pests','Protection of Human health or Safety','Protection of animal or plant life or health','Protection of the environment', 'Quality requirements'])"
   ]
  },
  {
   "cell_type": "code",
   "execution_count": 15,
   "metadata": {},
   "outputs": [
    {
     "output_type": "stream",
     "name": "stdout",
     "text": "select specification variables: ['ln_PIB', 'contig', 'ln_distw', 'Weighted Average', 'Animal health', 'Consumer information', 'Cost saving', 'Food safety', 'Harmonization', 'Labelling', 'Lower barriers to trade', 'National security requirements', 'Not specified', 'Other', 'Plant protection', 'Prevention of deceptive practices and consumer protection', 'Protect humans from animal/plant pest or disease', 'Protect territory from other damage from pests', 'Protection of Human health or Safety', 'Protection of animal or plant life or health', 'Protection of the environment', 'Quality requirements', 'Imports Value in 1000 USD', 'Country', 'Exp', 'Year', 'Commodity Code'], Observations excluded by user: {'rows': 0, 'columns': 16}\ndrop_intratrade: no, Observations excluded by user: {'rows': 0, 'columns': 0}\ndrop_imp: none, Observations excluded by user: {'rows': 0, 'columns': 0}\ndrop_exp: none, Observations excluded by user: {'rows': 0, 'columns': 0}\nkeep_imp: all available, Observations excluded by user: {'rows': 0, 'columns': 0}\nkeep_exp: all available, Observations excluded by user: {'rows': 0, 'columns': 0}\ndrop_years: none, Observations excluded by user: {'rows': 0, 'columns': 0}\nkeep_years: all available, Observations excluded by user: {'rows': 0, 'columns': 0}\ndrop_missing: yes, Observations excluded by user: {'rows': 0, 'columns': 0}\nEstimation began at 11:22 AM  on Apr 10, 2020\nOmitted Columns: ['Animal health', 'Consumer information', 'Cost saving', 'Food safety', 'Harmonization', 'Labelling', 'Lower barriers to trade', 'National security requirements', 'Not specified', 'Other', 'Plant protection', 'Prevention of deceptive practices and consumer protection', 'Protect humans from animal/plant pest or disease', 'Protect territory from other damage from pests', 'Protection of Human health or Safety', 'Protection of animal or plant life or health', 'Protection of the environment', 'Quality requirements']\nEstimation completed at 11:22 AM  on Apr 10, 2020\n"
    }
   ],
   "source": [
    "resultados = Modelo.estimate()"
   ]
  },
  {
   "cell_type": "code",
   "execution_count": 18,
   "metadata": {},
   "outputs": [
    {
     "output_type": "execute_result",
     "data": {
      "text/plain": "<class 'statsmodels.iolib.summary.Summary'>\n\"\"\"\n                     Generalized Linear Model Regression Results                     \n=====================================================================================\nDep. Variable:     Imports Value in 1000 USD   No. Iterations:                      9\nModel:                                   GLM   Df Residuals:                    11795\nModel Family:                        Poisson   Df Model:                            3\nLink Function:                           log   Scale:                          1.0000\nMethod:                                 IRLS   Log-Likelihood:            -8.6829e+08\nCovariance Type:                         HC1   Deviance:                   1.7365e+09\nNo. Observations:                      11799   Pearson chi2:                 1.19e+10\n====================================================================================\n                       coef    std err          t      P>|t|      [0.025      0.975]\n------------------------------------------------------------------------------------\nln_PIB               0.5843      0.029     20.448      0.000       0.528       0.640\ncontig              -0.9610      0.155     -6.204      0.000      -1.265      -0.657\nln_distw            -0.1299      0.053     -2.471      0.013      -0.233      -0.027\nWeighted Average     0.0027      0.001      2.300      0.021       0.000       0.005\n====================================================================================\n\"\"\"",
      "text/html": "<table class=\"simpletable\">\n<caption>Generalized Linear Model Regression Results</caption>\n<tr>\n  <th>Dep. Variable:</th>    <td>Imports Value in 1000 USD</td> <th>  No. Iterations:    </th>      <td>9</td>     \n</tr>\n<tr>\n  <th>Model:</th>                       <td>GLM</td>            <th>  Df Residuals:      </th>    <td>11795</td>   \n</tr>\n<tr>\n  <th>Model Family:</th>              <td>Poisson</td>          <th>  Df Model:          </th>      <td>3</td>     \n</tr>\n<tr>\n  <th>Link Function:</th>               <td>log</td>            <th>  Scale:             </th>  <td>  1.0000</td>  \n</tr>\n<tr>\n  <th>Method:</th>                     <td>IRLS</td>            <th>  Log-Likelihood:    </th> <td>-8.6829e+08</td>\n</tr>\n<tr>\n  <th>Covariance Type:</th>             <td>HC1</td>            <th>  Deviance:          </th> <td>1.7365e+09</td> \n</tr>\n<tr>\n  <th>No. Observations:</th>           <td>11799</td>           <th>  Pearson chi2:      </th>  <td>1.19e+10</td>  \n</tr>\n</table>\n<table class=\"simpletable\">\n<tr>\n          <td></td>            <th>coef</th>     <th>std err</th>      <th>t</th>      <th>P>|t|</th>  <th>[0.025</th>    <th>0.975]</th>  \n</tr>\n<tr>\n  <th>ln_PIB</th>           <td>    0.5843</td> <td>    0.029</td> <td>   20.448</td> <td> 0.000</td> <td>    0.528</td> <td>    0.640</td>\n</tr>\n<tr>\n  <th>contig</th>           <td>   -0.9610</td> <td>    0.155</td> <td>   -6.204</td> <td> 0.000</td> <td>   -1.265</td> <td>   -0.657</td>\n</tr>\n<tr>\n  <th>ln_distw</th>         <td>   -0.1299</td> <td>    0.053</td> <td>   -2.471</td> <td> 0.013</td> <td>   -0.233</td> <td>   -0.027</td>\n</tr>\n<tr>\n  <th>Weighted Average</th> <td>    0.0027</td> <td>    0.001</td> <td>    2.300</td> <td> 0.021</td> <td>    0.000</td> <td>    0.005</td>\n</tr>\n</table>"
     },
     "metadata": {},
     "execution_count": 18
    }
   ],
   "source": [
    "resultados[\"all\"].summary()"
   ]
  },
  {
   "cell_type": "code",
   "execution_count": null,
   "metadata": {},
   "outputs": [],
   "source": []
  }
 ]
}