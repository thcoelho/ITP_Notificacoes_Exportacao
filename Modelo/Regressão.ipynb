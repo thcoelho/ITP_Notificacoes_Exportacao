{
 "nbformat": 4,
 "nbformat_minor": 2,
 "metadata": {
  "language_info": {
   "name": "python",
   "codemirror_mode": {
    "name": "ipython",
    "version": 3
   },
   "version": "3.7.6-final"
  },
  "orig_nbformat": 2,
  "file_extension": ".py",
  "mimetype": "text/x-python",
  "name": "python",
  "npconvert_exporter": "python",
  "pygments_lexer": "ipython3",
  "version": 3,
  "kernelspec": {
   "name": "python37664bitbaseconda7037916fb866425e9ff11ebb843bed9a",
   "display_name": "Python 3.7.6 64-bit ('base': conda)"
  }
 },
 "cells": [
  {
   "cell_type": "code",
   "execution_count": 1,
   "metadata": {},
   "outputs": [],
   "source": [
    "import pandas as pd\n",
    "import gme"
   ]
  },
  {
   "cell_type": "code",
   "execution_count": 28,
   "metadata": {},
   "outputs": [],
   "source": [
    "df = pd.read_csv(\"Modelo_Completo/Dados_modelo.csv\")"
   ]
  },
  {
   "cell_type": "code",
   "execution_count": 29,
   "metadata": {},
   "outputs": [
    {
     "output_type": "execute_result",
     "data": {
      "text/plain": "       Unnamed: 0  Unnamed: 0.1  Unnamed: 0.1.1  Unnamed: 0.1.1.1  \\\n0               0             0               0                 0   \n1               1             1               1                 1   \n2               2             2               2                 2   \n3               3             3               3                 3   \n4               4             4               4                 4   \n...           ...           ...             ...               ...   \n11794       11794         11794           11794             11794   \n11795       11795         11795           11795             11795   \n11796       11796         11796           11796             11796   \n11797       11797         11797           11797             11797   \n11798       11798         11798           11798             11798   \n\n            Country Country Code  Year  PIB_(1000_US$)  contig  comlang_off  \\\n0         Argentina          ARG  1996    2.721498e+08       1            0   \n1         Argentina          ARG  1996    2.721498e+08       1            0   \n2         Argentina          ARG  1996    2.721498e+08       1            0   \n3         Argentina          ARG  1996    2.721498e+08       1            0   \n4         Argentina          ARG  1996    2.721498e+08       1            0   \n...             ...          ...   ...             ...     ...          ...   \n11794  South Africa          ZAF  2017    3.495541e+08       0            0   \n11795  South Africa          ZAF  2017    3.495541e+08       0            0   \n11796  South Africa          ZAF  2017    3.495541e+08       0            0   \n11797  South Africa          ZAF  2017    3.495541e+08       0            0   \n11798  South Africa          ZAF  2017    3.495541e+08       0            0   \n\n       ...  distwces  Commodity Code  Simple Average  Weighted Average  \\\n0      ...  2089.281               1            0.00              0.00   \n1      ...  2089.281               2            0.00              0.00   \n2      ...  2089.281               3            0.00              0.00   \n3      ...  2089.281               4            0.00              0.00   \n4      ...  2089.281               5            0.00              0.00   \n...    ...       ...             ...             ...               ...   \n11794  ...  7280.527              11            8.80              4.19   \n11795  ...  7280.527              12            3.81              6.23   \n11796  ...  7280.527              13            3.67              7.35   \n11797  ...  7280.527              14            0.00              0.00   \n11798  ...  7280.527              15            4.58              2.03   \n\n       Imports Value in 1000 USD  Exp     ln_PIB  ln_Import  ln_distw  \\\n0                        585.559  BRA  19.421863   6.372567  7.779821   \n1                     101161.930  BRA  19.421863  11.524478  7.779821   \n2                       2992.493  BRA  19.421863   8.003862  7.779821   \n3                       3584.473  BRA  19.421863   8.184367  7.779821   \n4                         68.207  BRA  19.421863   4.222547  7.779821   \n...                          ...  ...        ...        ...       ...   \n11794                     21.610  BRA  19.672169   3.073156  8.901502   \n11795                   3925.218  BRA  19.672169   8.275177  8.901502   \n11796                    139.367  BRA  19.672169   4.937111  8.901502   \n11797                      3.522  BRA  19.672169   1.259029  8.901502   \n11798                   2640.124  BRA  19.672169   7.878581  8.901502   \n\n       ln_Tariff  \n0           -inf  \n1           -inf  \n2           -inf  \n3           -inf  \n4           -inf  \n...          ...  \n11794   1.432701  \n11795   1.829376  \n11796   1.994700  \n11797       -inf  \n11798   0.708036  \n\n[11799 rows x 29 columns]",
      "text/html": "<div>\n<style scoped>\n    .dataframe tbody tr th:only-of-type {\n        vertical-align: middle;\n    }\n\n    .dataframe tbody tr th {\n        vertical-align: top;\n    }\n\n    .dataframe thead th {\n        text-align: right;\n    }\n</style>\n<table border=\"1\" class=\"dataframe\">\n  <thead>\n    <tr style=\"text-align: right;\">\n      <th></th>\n      <th>Unnamed: 0</th>\n      <th>Unnamed: 0.1</th>\n      <th>Unnamed: 0.1.1</th>\n      <th>Unnamed: 0.1.1.1</th>\n      <th>Country</th>\n      <th>Country Code</th>\n      <th>Year</th>\n      <th>PIB_(1000_US$)</th>\n      <th>contig</th>\n      <th>comlang_off</th>\n      <th>...</th>\n      <th>distwces</th>\n      <th>Commodity Code</th>\n      <th>Simple Average</th>\n      <th>Weighted Average</th>\n      <th>Imports Value in 1000 USD</th>\n      <th>Exp</th>\n      <th>ln_PIB</th>\n      <th>ln_Import</th>\n      <th>ln_distw</th>\n      <th>ln_Tariff</th>\n    </tr>\n  </thead>\n  <tbody>\n    <tr>\n      <th>0</th>\n      <td>0</td>\n      <td>0</td>\n      <td>0</td>\n      <td>0</td>\n      <td>Argentina</td>\n      <td>ARG</td>\n      <td>1996</td>\n      <td>2.721498e+08</td>\n      <td>1</td>\n      <td>0</td>\n      <td>...</td>\n      <td>2089.281</td>\n      <td>1</td>\n      <td>0.00</td>\n      <td>0.00</td>\n      <td>585.559</td>\n      <td>BRA</td>\n      <td>19.421863</td>\n      <td>6.372567</td>\n      <td>7.779821</td>\n      <td>-inf</td>\n    </tr>\n    <tr>\n      <th>1</th>\n      <td>1</td>\n      <td>1</td>\n      <td>1</td>\n      <td>1</td>\n      <td>Argentina</td>\n      <td>ARG</td>\n      <td>1996</td>\n      <td>2.721498e+08</td>\n      <td>1</td>\n      <td>0</td>\n      <td>...</td>\n      <td>2089.281</td>\n      <td>2</td>\n      <td>0.00</td>\n      <td>0.00</td>\n      <td>101161.930</td>\n      <td>BRA</td>\n      <td>19.421863</td>\n      <td>11.524478</td>\n      <td>7.779821</td>\n      <td>-inf</td>\n    </tr>\n    <tr>\n      <th>2</th>\n      <td>2</td>\n      <td>2</td>\n      <td>2</td>\n      <td>2</td>\n      <td>Argentina</td>\n      <td>ARG</td>\n      <td>1996</td>\n      <td>2.721498e+08</td>\n      <td>1</td>\n      <td>0</td>\n      <td>...</td>\n      <td>2089.281</td>\n      <td>3</td>\n      <td>0.00</td>\n      <td>0.00</td>\n      <td>2992.493</td>\n      <td>BRA</td>\n      <td>19.421863</td>\n      <td>8.003862</td>\n      <td>7.779821</td>\n      <td>-inf</td>\n    </tr>\n    <tr>\n      <th>3</th>\n      <td>3</td>\n      <td>3</td>\n      <td>3</td>\n      <td>3</td>\n      <td>Argentina</td>\n      <td>ARG</td>\n      <td>1996</td>\n      <td>2.721498e+08</td>\n      <td>1</td>\n      <td>0</td>\n      <td>...</td>\n      <td>2089.281</td>\n      <td>4</td>\n      <td>0.00</td>\n      <td>0.00</td>\n      <td>3584.473</td>\n      <td>BRA</td>\n      <td>19.421863</td>\n      <td>8.184367</td>\n      <td>7.779821</td>\n      <td>-inf</td>\n    </tr>\n    <tr>\n      <th>4</th>\n      <td>4</td>\n      <td>4</td>\n      <td>4</td>\n      <td>4</td>\n      <td>Argentina</td>\n      <td>ARG</td>\n      <td>1996</td>\n      <td>2.721498e+08</td>\n      <td>1</td>\n      <td>0</td>\n      <td>...</td>\n      <td>2089.281</td>\n      <td>5</td>\n      <td>0.00</td>\n      <td>0.00</td>\n      <td>68.207</td>\n      <td>BRA</td>\n      <td>19.421863</td>\n      <td>4.222547</td>\n      <td>7.779821</td>\n      <td>-inf</td>\n    </tr>\n    <tr>\n      <th>...</th>\n      <td>...</td>\n      <td>...</td>\n      <td>...</td>\n      <td>...</td>\n      <td>...</td>\n      <td>...</td>\n      <td>...</td>\n      <td>...</td>\n      <td>...</td>\n      <td>...</td>\n      <td>...</td>\n      <td>...</td>\n      <td>...</td>\n      <td>...</td>\n      <td>...</td>\n      <td>...</td>\n      <td>...</td>\n      <td>...</td>\n      <td>...</td>\n      <td>...</td>\n      <td>...</td>\n    </tr>\n    <tr>\n      <th>11794</th>\n      <td>11794</td>\n      <td>11794</td>\n      <td>11794</td>\n      <td>11794</td>\n      <td>South Africa</td>\n      <td>ZAF</td>\n      <td>2017</td>\n      <td>3.495541e+08</td>\n      <td>0</td>\n      <td>0</td>\n      <td>...</td>\n      <td>7280.527</td>\n      <td>11</td>\n      <td>8.80</td>\n      <td>4.19</td>\n      <td>21.610</td>\n      <td>BRA</td>\n      <td>19.672169</td>\n      <td>3.073156</td>\n      <td>8.901502</td>\n      <td>1.432701</td>\n    </tr>\n    <tr>\n      <th>11795</th>\n      <td>11795</td>\n      <td>11795</td>\n      <td>11795</td>\n      <td>11795</td>\n      <td>South Africa</td>\n      <td>ZAF</td>\n      <td>2017</td>\n      <td>3.495541e+08</td>\n      <td>0</td>\n      <td>0</td>\n      <td>...</td>\n      <td>7280.527</td>\n      <td>12</td>\n      <td>3.81</td>\n      <td>6.23</td>\n      <td>3925.218</td>\n      <td>BRA</td>\n      <td>19.672169</td>\n      <td>8.275177</td>\n      <td>8.901502</td>\n      <td>1.829376</td>\n    </tr>\n    <tr>\n      <th>11796</th>\n      <td>11796</td>\n      <td>11796</td>\n      <td>11796</td>\n      <td>11796</td>\n      <td>South Africa</td>\n      <td>ZAF</td>\n      <td>2017</td>\n      <td>3.495541e+08</td>\n      <td>0</td>\n      <td>0</td>\n      <td>...</td>\n      <td>7280.527</td>\n      <td>13</td>\n      <td>3.67</td>\n      <td>7.35</td>\n      <td>139.367</td>\n      <td>BRA</td>\n      <td>19.672169</td>\n      <td>4.937111</td>\n      <td>8.901502</td>\n      <td>1.994700</td>\n    </tr>\n    <tr>\n      <th>11797</th>\n      <td>11797</td>\n      <td>11797</td>\n      <td>11797</td>\n      <td>11797</td>\n      <td>South Africa</td>\n      <td>ZAF</td>\n      <td>2017</td>\n      <td>3.495541e+08</td>\n      <td>0</td>\n      <td>0</td>\n      <td>...</td>\n      <td>7280.527</td>\n      <td>14</td>\n      <td>0.00</td>\n      <td>0.00</td>\n      <td>3.522</td>\n      <td>BRA</td>\n      <td>19.672169</td>\n      <td>1.259029</td>\n      <td>8.901502</td>\n      <td>-inf</td>\n    </tr>\n    <tr>\n      <th>11798</th>\n      <td>11798</td>\n      <td>11798</td>\n      <td>11798</td>\n      <td>11798</td>\n      <td>South Africa</td>\n      <td>ZAF</td>\n      <td>2017</td>\n      <td>3.495541e+08</td>\n      <td>0</td>\n      <td>0</td>\n      <td>...</td>\n      <td>7280.527</td>\n      <td>15</td>\n      <td>4.58</td>\n      <td>2.03</td>\n      <td>2640.124</td>\n      <td>BRA</td>\n      <td>19.672169</td>\n      <td>7.878581</td>\n      <td>8.901502</td>\n      <td>0.708036</td>\n    </tr>\n  </tbody>\n</table>\n<p>11799 rows × 29 columns</p>\n</div>"
     },
     "metadata": {},
     "execution_count": 29
    }
   ],
   "source": [
    "df"
   ]
  },
  {
   "cell_type": "code",
   "execution_count": 30,
   "metadata": {},
   "outputs": [],
   "source": [
    "df.drop(df.columns[:4], axis=1, inplace=True)"
   ]
  },
  {
   "cell_type": "code",
   "execution_count": 31,
   "metadata": {},
   "outputs": [
    {
     "output_type": "execute_result",
     "data": {
      "text/plain": "            Country Country Code  Year  PIB_(1000_US$)  contig  comlang_off  \\\n0         Argentina          ARG  1996    2.721498e+08       1            0   \n1         Argentina          ARG  1996    2.721498e+08       1            0   \n2         Argentina          ARG  1996    2.721498e+08       1            0   \n3         Argentina          ARG  1996    2.721498e+08       1            0   \n4         Argentina          ARG  1996    2.721498e+08       1            0   \n...             ...          ...   ...             ...     ...          ...   \n11794  South Africa          ZAF  2017    3.495541e+08       0            0   \n11795  South Africa          ZAF  2017    3.495541e+08       0            0   \n11796  South Africa          ZAF  2017    3.495541e+08       0            0   \n11797  South Africa          ZAF  2017    3.495541e+08       0            0   \n11798  South Africa          ZAF  2017    3.495541e+08       0            0   \n\n       comlang_ethno  colony  comcol  curcol  ...  distwces  Commodity Code  \\\n0                  0       0       0       0  ...  2089.281               1   \n1                  0       0       0       0  ...  2089.281               2   \n2                  0       0       0       0  ...  2089.281               3   \n3                  0       0       0       0  ...  2089.281               4   \n4                  0       0       0       0  ...  2089.281               5   \n...              ...     ...     ...     ...  ...       ...             ...   \n11794              0       0       0       0  ...  7280.527              11   \n11795              0       0       0       0  ...  7280.527              12   \n11796              0       0       0       0  ...  7280.527              13   \n11797              0       0       0       0  ...  7280.527              14   \n11798              0       0       0       0  ...  7280.527              15   \n\n       Simple Average  Weighted Average  Imports Value in 1000 USD  Exp  \\\n0                0.00              0.00                    585.559  BRA   \n1                0.00              0.00                 101161.930  BRA   \n2                0.00              0.00                   2992.493  BRA   \n3                0.00              0.00                   3584.473  BRA   \n4                0.00              0.00                     68.207  BRA   \n...               ...               ...                        ...  ...   \n11794            8.80              4.19                     21.610  BRA   \n11795            3.81              6.23                   3925.218  BRA   \n11796            3.67              7.35                    139.367  BRA   \n11797            0.00              0.00                      3.522  BRA   \n11798            4.58              2.03                   2640.124  BRA   \n\n          ln_PIB  ln_Import  ln_distw  ln_Tariff  \n0      19.421863   6.372567  7.779821       -inf  \n1      19.421863  11.524478  7.779821       -inf  \n2      19.421863   8.003862  7.779821       -inf  \n3      19.421863   8.184367  7.779821       -inf  \n4      19.421863   4.222547  7.779821       -inf  \n...          ...        ...       ...        ...  \n11794  19.672169   3.073156  8.901502   1.432701  \n11795  19.672169   8.275177  8.901502   1.829376  \n11796  19.672169   4.937111  8.901502   1.994700  \n11797  19.672169   1.259029  8.901502       -inf  \n11798  19.672169   7.878581  8.901502   0.708036  \n\n[11799 rows x 25 columns]",
      "text/html": "<div>\n<style scoped>\n    .dataframe tbody tr th:only-of-type {\n        vertical-align: middle;\n    }\n\n    .dataframe tbody tr th {\n        vertical-align: top;\n    }\n\n    .dataframe thead th {\n        text-align: right;\n    }\n</style>\n<table border=\"1\" class=\"dataframe\">\n  <thead>\n    <tr style=\"text-align: right;\">\n      <th></th>\n      <th>Country</th>\n      <th>Country Code</th>\n      <th>Year</th>\n      <th>PIB_(1000_US$)</th>\n      <th>contig</th>\n      <th>comlang_off</th>\n      <th>comlang_ethno</th>\n      <th>colony</th>\n      <th>comcol</th>\n      <th>curcol</th>\n      <th>...</th>\n      <th>distwces</th>\n      <th>Commodity Code</th>\n      <th>Simple Average</th>\n      <th>Weighted Average</th>\n      <th>Imports Value in 1000 USD</th>\n      <th>Exp</th>\n      <th>ln_PIB</th>\n      <th>ln_Import</th>\n      <th>ln_distw</th>\n      <th>ln_Tariff</th>\n    </tr>\n  </thead>\n  <tbody>\n    <tr>\n      <th>0</th>\n      <td>Argentina</td>\n      <td>ARG</td>\n      <td>1996</td>\n      <td>2.721498e+08</td>\n      <td>1</td>\n      <td>0</td>\n      <td>0</td>\n      <td>0</td>\n      <td>0</td>\n      <td>0</td>\n      <td>...</td>\n      <td>2089.281</td>\n      <td>1</td>\n      <td>0.00</td>\n      <td>0.00</td>\n      <td>585.559</td>\n      <td>BRA</td>\n      <td>19.421863</td>\n      <td>6.372567</td>\n      <td>7.779821</td>\n      <td>-inf</td>\n    </tr>\n    <tr>\n      <th>1</th>\n      <td>Argentina</td>\n      <td>ARG</td>\n      <td>1996</td>\n      <td>2.721498e+08</td>\n      <td>1</td>\n      <td>0</td>\n      <td>0</td>\n      <td>0</td>\n      <td>0</td>\n      <td>0</td>\n      <td>...</td>\n      <td>2089.281</td>\n      <td>2</td>\n      <td>0.00</td>\n      <td>0.00</td>\n      <td>101161.930</td>\n      <td>BRA</td>\n      <td>19.421863</td>\n      <td>11.524478</td>\n      <td>7.779821</td>\n      <td>-inf</td>\n    </tr>\n    <tr>\n      <th>2</th>\n      <td>Argentina</td>\n      <td>ARG</td>\n      <td>1996</td>\n      <td>2.721498e+08</td>\n      <td>1</td>\n      <td>0</td>\n      <td>0</td>\n      <td>0</td>\n      <td>0</td>\n      <td>0</td>\n      <td>...</td>\n      <td>2089.281</td>\n      <td>3</td>\n      <td>0.00</td>\n      <td>0.00</td>\n      <td>2992.493</td>\n      <td>BRA</td>\n      <td>19.421863</td>\n      <td>8.003862</td>\n      <td>7.779821</td>\n      <td>-inf</td>\n    </tr>\n    <tr>\n      <th>3</th>\n      <td>Argentina</td>\n      <td>ARG</td>\n      <td>1996</td>\n      <td>2.721498e+08</td>\n      <td>1</td>\n      <td>0</td>\n      <td>0</td>\n      <td>0</td>\n      <td>0</td>\n      <td>0</td>\n      <td>...</td>\n      <td>2089.281</td>\n      <td>4</td>\n      <td>0.00</td>\n      <td>0.00</td>\n      <td>3584.473</td>\n      <td>BRA</td>\n      <td>19.421863</td>\n      <td>8.184367</td>\n      <td>7.779821</td>\n      <td>-inf</td>\n    </tr>\n    <tr>\n      <th>4</th>\n      <td>Argentina</td>\n      <td>ARG</td>\n      <td>1996</td>\n      <td>2.721498e+08</td>\n      <td>1</td>\n      <td>0</td>\n      <td>0</td>\n      <td>0</td>\n      <td>0</td>\n      <td>0</td>\n      <td>...</td>\n      <td>2089.281</td>\n      <td>5</td>\n      <td>0.00</td>\n      <td>0.00</td>\n      <td>68.207</td>\n      <td>BRA</td>\n      <td>19.421863</td>\n      <td>4.222547</td>\n      <td>7.779821</td>\n      <td>-inf</td>\n    </tr>\n    <tr>\n      <th>...</th>\n      <td>...</td>\n      <td>...</td>\n      <td>...</td>\n      <td>...</td>\n      <td>...</td>\n      <td>...</td>\n      <td>...</td>\n      <td>...</td>\n      <td>...</td>\n      <td>...</td>\n      <td>...</td>\n      <td>...</td>\n      <td>...</td>\n      <td>...</td>\n      <td>...</td>\n      <td>...</td>\n      <td>...</td>\n      <td>...</td>\n      <td>...</td>\n      <td>...</td>\n      <td>...</td>\n    </tr>\n    <tr>\n      <th>11794</th>\n      <td>South Africa</td>\n      <td>ZAF</td>\n      <td>2017</td>\n      <td>3.495541e+08</td>\n      <td>0</td>\n      <td>0</td>\n      <td>0</td>\n      <td>0</td>\n      <td>0</td>\n      <td>0</td>\n      <td>...</td>\n      <td>7280.527</td>\n      <td>11</td>\n      <td>8.80</td>\n      <td>4.19</td>\n      <td>21.610</td>\n      <td>BRA</td>\n      <td>19.672169</td>\n      <td>3.073156</td>\n      <td>8.901502</td>\n      <td>1.432701</td>\n    </tr>\n    <tr>\n      <th>11795</th>\n      <td>South Africa</td>\n      <td>ZAF</td>\n      <td>2017</td>\n      <td>3.495541e+08</td>\n      <td>0</td>\n      <td>0</td>\n      <td>0</td>\n      <td>0</td>\n      <td>0</td>\n      <td>0</td>\n      <td>...</td>\n      <td>7280.527</td>\n      <td>12</td>\n      <td>3.81</td>\n      <td>6.23</td>\n      <td>3925.218</td>\n      <td>BRA</td>\n      <td>19.672169</td>\n      <td>8.275177</td>\n      <td>8.901502</td>\n      <td>1.829376</td>\n    </tr>\n    <tr>\n      <th>11796</th>\n      <td>South Africa</td>\n      <td>ZAF</td>\n      <td>2017</td>\n      <td>3.495541e+08</td>\n      <td>0</td>\n      <td>0</td>\n      <td>0</td>\n      <td>0</td>\n      <td>0</td>\n      <td>0</td>\n      <td>...</td>\n      <td>7280.527</td>\n      <td>13</td>\n      <td>3.67</td>\n      <td>7.35</td>\n      <td>139.367</td>\n      <td>BRA</td>\n      <td>19.672169</td>\n      <td>4.937111</td>\n      <td>8.901502</td>\n      <td>1.994700</td>\n    </tr>\n    <tr>\n      <th>11797</th>\n      <td>South Africa</td>\n      <td>ZAF</td>\n      <td>2017</td>\n      <td>3.495541e+08</td>\n      <td>0</td>\n      <td>0</td>\n      <td>0</td>\n      <td>0</td>\n      <td>0</td>\n      <td>0</td>\n      <td>...</td>\n      <td>7280.527</td>\n      <td>14</td>\n      <td>0.00</td>\n      <td>0.00</td>\n      <td>3.522</td>\n      <td>BRA</td>\n      <td>19.672169</td>\n      <td>1.259029</td>\n      <td>8.901502</td>\n      <td>-inf</td>\n    </tr>\n    <tr>\n      <th>11798</th>\n      <td>South Africa</td>\n      <td>ZAF</td>\n      <td>2017</td>\n      <td>3.495541e+08</td>\n      <td>0</td>\n      <td>0</td>\n      <td>0</td>\n      <td>0</td>\n      <td>0</td>\n      <td>0</td>\n      <td>...</td>\n      <td>7280.527</td>\n      <td>15</td>\n      <td>4.58</td>\n      <td>2.03</td>\n      <td>2640.124</td>\n      <td>BRA</td>\n      <td>19.672169</td>\n      <td>7.878581</td>\n      <td>8.901502</td>\n      <td>0.708036</td>\n    </tr>\n  </tbody>\n</table>\n<p>11799 rows × 25 columns</p>\n</div>"
     },
     "metadata": {},
     "execution_count": 31
    }
   ],
   "source": [
    "df"
   ]
  },
  {
   "cell_type": "code",
   "execution_count": 65,
   "metadata": {},
   "outputs": [],
   "source": [
    "gme_data = gme.EstimationData(data_frame=df,\n",
    "                              imp_var_name=\"Country\",\n",
    "                              exp_var_name=\"Exp\",\n",
    "                              trade_var_name=\"Imports Value in 1000 USD\",\n",
    "                              year_var_name=\"Year\",\n",
    "                              sector_var_name=\"Commodity Code\")"
   ]
  },
  {
   "cell_type": "code",
   "execution_count": 64,
   "metadata": {},
   "outputs": [
    {
     "output_type": "execute_result",
     "data": {
      "text/plain": "Index(['Country', 'Country Code', 'Year', 'PIB_(1000_US$)', 'contig',\n       'comlang_off', 'comlang_ethno', 'colony', 'comcol', 'curcol', 'col45',\n       'smctry', 'dist', 'distcap', 'distw', 'distwces', 'Commodity Code',\n       'Simple Average', 'Weighted Average', 'Imports Value in 1000 USD',\n       'Exp', 'ln_PIB', 'ln_Import', 'ln_distw', 'ln_Tariff'],\n      dtype='object')"
     },
     "metadata": {},
     "execution_count": 64
    }
   ],
   "source": [
    "df.columns"
   ]
  },
  {
   "cell_type": "code",
   "execution_count": 36,
   "metadata": {},
   "outputs": [
    {
     "output_type": "execute_result",
     "data": {
      "text/plain": "number of countries: 124 \nnumber of exporters: 1 \nnumber of importers: 123 \nnumber of years: 22 \nnumber of sectors: 15 \ndimensions: (11799, 25)"
     },
     "metadata": {},
     "execution_count": 36
    }
   ],
   "source": [
    "gme_data"
   ]
  },
  {
   "cell_type": "code",
   "execution_count": 66,
   "metadata": {},
   "outputs": [],
   "source": [
    "Modelo_linear = gme.EstimationModel(estimation_data=gme_data,\n",
    "                                lhs_var=\"Imports Value in 1000 USD\",\n",
    "                                rhs_var=[\"ln_PIB\",\n",
    "                                        \"contig\",\n",
    "                                        \"ln_distw\", \"Weighted Average\"])"
   ]
  },
  {
   "cell_type": "code",
   "execution_count": 67,
   "metadata": {},
   "outputs": [
    {
     "output_type": "stream",
     "name": "stdout",
     "text": "select specification variables: ['ln_PIB', 'contig', 'ln_distw', 'Weighted Average', 'Imports Value in 1000 USD', 'Country', 'Exp', 'Year', 'Commodity Code'], Observations excluded by user: {'rows': 0, 'columns': 16}\ndrop_intratrade: no, Observations excluded by user: {'rows': 0, 'columns': 0}\ndrop_imp: none, Observations excluded by user: {'rows': 0, 'columns': 0}\ndrop_exp: none, Observations excluded by user: {'rows': 0, 'columns': 0}\nkeep_imp: all available, Observations excluded by user: {'rows': 0, 'columns': 0}\nkeep_exp: all available, Observations excluded by user: {'rows': 0, 'columns': 0}\ndrop_years: none, Observations excluded by user: {'rows': 0, 'columns': 0}\nkeep_years: all available, Observations excluded by user: {'rows': 0, 'columns': 0}\ndrop_missing: yes, Observations excluded by user: {'rows': 0, 'columns': 0}\nEstimation began at 10:27 AM  on Apr 06, 2020\nOmitted Columns: []\nEstimation completed at 10:27 AM  on Apr 06, 2020\n"
    }
   ],
   "source": [
    "Resultado_linear = Modelo_linear.estimate()"
   ]
  },
  {
   "cell_type": "code",
   "execution_count": 68,
   "metadata": {},
   "outputs": [
    {
     "output_type": "execute_result",
     "data": {
      "text/plain": "<class 'statsmodels.iolib.summary.Summary'>\n\"\"\"\n                     Generalized Linear Model Regression Results                     \n=====================================================================================\nDep. Variable:     Imports Value in 1000 USD   No. Iterations:                     10\nModel:                                   GLM   Df Residuals:                    11795\nModel Family:                        Poisson   Df Model:                            3\nLink Function:                           log   Scale:                          1.0000\nMethod:                                 IRLS   Log-Likelihood:            -8.6829e+08\nCovariance Type:                         HC1   Deviance:                   1.7365e+09\nNo. Observations:                      11799   Pearson chi2:                 1.19e+10\n====================================================================================\n                       coef    std err          t      P>|t|      [0.025      0.975]\n------------------------------------------------------------------------------------\nln_PIB               0.5843      0.029     20.448      0.000       0.528       0.640\ncontig              -0.9610      0.155     -6.204      0.000      -1.265      -0.657\nln_distw            -0.1299      0.053     -2.471      0.013      -0.233      -0.027\nWeighted Average     0.0027      0.001      2.300      0.021       0.000       0.005\n====================================================================================\n\"\"\"",
      "text/html": "<table class=\"simpletable\">\n<caption>Generalized Linear Model Regression Results</caption>\n<tr>\n  <th>Dep. Variable:</th>    <td>Imports Value in 1000 USD</td> <th>  No. Iterations:    </th>     <td>10</td>     \n</tr>\n<tr>\n  <th>Model:</th>                       <td>GLM</td>            <th>  Df Residuals:      </th>    <td>11795</td>   \n</tr>\n<tr>\n  <th>Model Family:</th>              <td>Poisson</td>          <th>  Df Model:          </th>      <td>3</td>     \n</tr>\n<tr>\n  <th>Link Function:</th>               <td>log</td>            <th>  Scale:             </th>  <td>  1.0000</td>  \n</tr>\n<tr>\n  <th>Method:</th>                     <td>IRLS</td>            <th>  Log-Likelihood:    </th> <td>-8.6829e+08</td>\n</tr>\n<tr>\n  <th>Covariance Type:</th>             <td>HC1</td>            <th>  Deviance:          </th> <td>1.7365e+09</td> \n</tr>\n<tr>\n  <th>No. Observations:</th>           <td>11799</td>           <th>  Pearson chi2:      </th>  <td>1.19e+10</td>  \n</tr>\n</table>\n<table class=\"simpletable\">\n<tr>\n          <td></td>            <th>coef</th>     <th>std err</th>      <th>t</th>      <th>P>|t|</th>  <th>[0.025</th>    <th>0.975]</th>  \n</tr>\n<tr>\n  <th>ln_PIB</th>           <td>    0.5843</td> <td>    0.029</td> <td>   20.448</td> <td> 0.000</td> <td>    0.528</td> <td>    0.640</td>\n</tr>\n<tr>\n  <th>contig</th>           <td>   -0.9610</td> <td>    0.155</td> <td>   -6.204</td> <td> 0.000</td> <td>   -1.265</td> <td>   -0.657</td>\n</tr>\n<tr>\n  <th>ln_distw</th>         <td>   -0.1299</td> <td>    0.053</td> <td>   -2.471</td> <td> 0.013</td> <td>   -0.233</td> <td>   -0.027</td>\n</tr>\n<tr>\n  <th>Weighted Average</th> <td>    0.0027</td> <td>    0.001</td> <td>    2.300</td> <td> 0.021</td> <td>    0.000</td> <td>    0.005</td>\n</tr>\n</table>"
     },
     "metadata": {},
     "execution_count": 68
    }
   ],
   "source": [
    "Resultado_linear[\"all\"].summary()"
   ]
  },
  {
   "cell_type": "code",
   "execution_count": 68,
   "metadata": {},
   "outputs": [],
   "source": [
    "def EscreverResultado1():\n",
    "    Resultado = open(\"../Relatorio/Resultado_S.tex\", \"w+\")\n",
    "    Resultado.write(resultado_linear[\"all\"].summary().as_latex())\n",
    "    Resultado.close()\n",
    "EscreverResultado1()"
   ]
  },
  {
   "cell_type": "code",
   "execution_count": 32,
   "metadata": {},
   "outputs": [],
   "source": [
    "Modelo_efeitofixo = gme.EstimationModel(estimation_data=gme_data,\n",
    "                                lhs_var=\"Imports Value in 1000 USD\",\n",
    "                                rhs_var=[\"PIB_(1000_US$)\",\n",
    "                                        \"contig\", \"colony\",\n",
    "                                        \"dist\", \"Weighted Average\"],\n",
    "                                fixed_effects=[\"Country\", \"Year\"])"
   ]
  },
  {
   "cell_type": "code",
   "execution_count": 34,
   "metadata": {},
   "outputs": [
    {
     "output_type": "stream",
     "name": "stdout",
     "text": "select specification variables: ['PIB_(1000_US$)', 'contig', 'colony', 'dist', 'Weighted Average', 'Imports Value in 1000 USD', 'Country', 'Exp', 'Year', 'Commodity Code'], Observations excluded by user: {'rows': 0, 'columns': 13}\ndrop_intratrade: no, Observations excluded by user: {'rows': 0, 'columns': 0}\ndrop_imp: none, Observations excluded by user: {'rows': 0, 'columns': 0}\ndrop_exp: none, Observations excluded by user: {'rows': 0, 'columns': 0}\nkeep_imp: all available, Observations excluded by user: {'rows': 0, 'columns': 0}\nkeep_exp: all available, Observations excluded by user: {'rows': 0, 'columns': 0}\ndrop_years: none, Observations excluded by user: {'rows': 0, 'columns': 0}\nkeep_years: all available, Observations excluded by user: {'rows': 0, 'columns': 0}\ndrop_missing: yes, Observations excluded by user: {'rows': 0, 'columns': 0}\nEstimation began at 04:40 PM  on Apr 02, 2020\nOmitted Columns: ['colony', 'Country_fe_Uruguay', 'Country_fe_Zimbabwe', 'Year_fe_2017', 'Country_fe_Suriname', 'Country_fe_Zambia', 'Year_fe_2016']\nEstimation completed at 04:43 PM  on Apr 02, 2020\n"
    }
   ],
   "source": [
    "resultado_fixo = Modelo_efeitofixo.estimate()\n"
   ]
  },
  {
   "cell_type": "code",
   "execution_count": 66,
   "metadata": {
    "tags": [
     "outputPrepend"
    ]
   },
   "outputs": [],
   "source": [
    "def EscreverResultado2():\n",
    "    Resultado = open(\"../Relatorio/Resultado_EF.tex\", \"w+\")\n",
    "    Resultado.write(resultado_fixo[\"all\"].summary().as_latex())\n",
    "    Resultado.close()"
   ]
  },
  {
   "cell_type": "code",
   "execution_count": 2,
   "metadata": {},
   "outputs": [],
   "source": [
    "df = pd.read_csv(\"Modelo_Completo/Teste_objetivos.csv\")"
   ]
  },
  {
   "cell_type": "code",
   "execution_count": 5,
   "metadata": {},
   "outputs": [],
   "source": [
    "df.drop(df.columns[0], axis=1, inplace=True)"
   ]
  },
  {
   "cell_type": "code",
   "execution_count": 13,
   "metadata": {},
   "outputs": [
    {
     "output_type": "execute_result",
     "data": {
      "text/plain": "Index(['Country', 'Country Code', 'Year', 'PIB_(1000_US$)', 'contig',\n       'comlang_off', 'comlang_ethno', 'colony', 'comcol', 'curcol', 'col45',\n       'smctry', 'dist', 'distcap', 'distw', 'distwces', 'Commodity Code',\n       'Simple Average', 'Weighted Average', 'Imports Value in 1000 USD',\n       'Exp', 'ln_PIB', 'ln_Import', 'ln_distw', 'ln_Tariff', 'Animal health',\n       'Consumer information', 'Cost saving', 'Food safety', 'Harmonization',\n       'Labelling', 'Lower barriers to trade',\n       'National security requirements', 'Not specified', 'Other',\n       'Plant protection',\n       'Prevention of deceptive practices and consumer protection',\n       'Protect humans from animal/plant pest or disease',\n       'Protect territory from other damage from pests',\n       'Protection of Human health or Safety',\n       'Protection of animal or plant life or health',\n       'Protection of the environment', 'Quality requirements'],\n      dtype='object')"
     },
     "metadata": {},
     "execution_count": 13
    }
   ],
   "source": [
    "df.columns"
   ]
  },
  {
   "cell_type": "code",
   "execution_count": 7,
   "metadata": {},
   "outputs": [],
   "source": [
    "gme_data = gme.EstimationData(data_frame=df,\n",
    "                              imp_var_name=\"Country\",\n",
    "                              exp_var_name=\"Exp\",\n",
    "                              trade_var_name=\"Imports Value in 1000 USD\",\n",
    "                              year_var_name=\"Year\",\n",
    "                              sector_var_name=\"Commodity Code\")"
   ]
  },
  {
   "cell_type": "code",
   "execution_count": 14,
   "metadata": {},
   "outputs": [],
   "source": [
    "Modelo = gme.EstimationModel(estimation_data=gme_data,\n",
    "                                lhs_var=\"Imports Value in 1000 USD\",\n",
    "                                rhs_var=[\"ln_PIB\",\"contig\", \"ln_distw\", \n",
    "                                \"Weighted Average\",'Animal health','Consumer information', 'Cost saving', 'Food safety', 'Harmonization','Labelling', 'Lower barriers to trade','National security requirements', 'Not specified', 'Other','Plant protection','Prevention of deceptive practices and consumer protection','Protect humans from animal/plant pest or disease','Protect territory from other damage from pests','Protection of Human health or Safety','Protection of animal or plant life or health','Protection of the environment', 'Quality requirements'])"
   ]
  },
  {
   "cell_type": "code",
   "execution_count": 15,
   "metadata": {},
   "outputs": [
    {
     "output_type": "stream",
     "name": "stdout",
     "text": "select specification variables: ['ln_PIB', 'contig', 'ln_distw', 'Weighted Average', 'Animal health', 'Consumer information', 'Cost saving', 'Food safety', 'Harmonization', 'Labelling', 'Lower barriers to trade', 'National security requirements', 'Not specified', 'Other', 'Plant protection', 'Prevention of deceptive practices and consumer protection', 'Protect humans from animal/plant pest or disease', 'Protect territory from other damage from pests', 'Protection of Human health or Safety', 'Protection of animal or plant life or health', 'Protection of the environment', 'Quality requirements', 'Imports Value in 1000 USD', 'Country', 'Exp', 'Year', 'Commodity Code'], Observations excluded by user: {'rows': 0, 'columns': 16}\ndrop_intratrade: no, Observations excluded by user: {'rows': 0, 'columns': 0}\ndrop_imp: none, Observations excluded by user: {'rows': 0, 'columns': 0}\ndrop_exp: none, Observations excluded by user: {'rows': 0, 'columns': 0}\nkeep_imp: all available, Observations excluded by user: {'rows': 0, 'columns': 0}\nkeep_exp: all available, Observations excluded by user: {'rows': 0, 'columns': 0}\ndrop_years: none, Observations excluded by user: {'rows': 0, 'columns': 0}\nkeep_years: all available, Observations excluded by user: {'rows': 0, 'columns': 0}\ndrop_missing: yes, Observations excluded by user: {'rows': 0, 'columns': 0}\nEstimation began at 11:22 AM  on Apr 10, 2020\nOmitted Columns: ['Animal health', 'Consumer information', 'Cost saving', 'Food safety', 'Harmonization', 'Labelling', 'Lower barriers to trade', 'National security requirements', 'Not specified', 'Other', 'Plant protection', 'Prevention of deceptive practices and consumer protection', 'Protect humans from animal/plant pest or disease', 'Protect territory from other damage from pests', 'Protection of Human health or Safety', 'Protection of animal or plant life or health', 'Protection of the environment', 'Quality requirements']\nEstimation completed at 11:22 AM  on Apr 10, 2020\n"
    }
   ],
   "source": [
    "resultados = Modelo.estimate()"
   ]
  },
  {
   "cell_type": "code",
   "execution_count": 18,
   "metadata": {},
   "outputs": [
    {
     "output_type": "execute_result",
     "data": {
      "text/plain": "<class 'statsmodels.iolib.summary.Summary'>\n\"\"\"\n                     Generalized Linear Model Regression Results                     \n=====================================================================================\nDep. Variable:     Imports Value in 1000 USD   No. Iterations:                      9\nModel:                                   GLM   Df Residuals:                    11795\nModel Family:                        Poisson   Df Model:                            3\nLink Function:                           log   Scale:                          1.0000\nMethod:                                 IRLS   Log-Likelihood:            -8.6829e+08\nCovariance Type:                         HC1   Deviance:                   1.7365e+09\nNo. Observations:                      11799   Pearson chi2:                 1.19e+10\n====================================================================================\n                       coef    std err          t      P>|t|      [0.025      0.975]\n------------------------------------------------------------------------------------\nln_PIB               0.5843      0.029     20.448      0.000       0.528       0.640\ncontig              -0.9610      0.155     -6.204      0.000      -1.265      -0.657\nln_distw            -0.1299      0.053     -2.471      0.013      -0.233      -0.027\nWeighted Average     0.0027      0.001      2.300      0.021       0.000       0.005\n====================================================================================\n\"\"\"",
      "text/html": "<table class=\"simpletable\">\n<caption>Generalized Linear Model Regression Results</caption>\n<tr>\n  <th>Dep. Variable:</th>    <td>Imports Value in 1000 USD</td> <th>  No. Iterations:    </th>      <td>9</td>     \n</tr>\n<tr>\n  <th>Model:</th>                       <td>GLM</td>            <th>  Df Residuals:      </th>    <td>11795</td>   \n</tr>\n<tr>\n  <th>Model Family:</th>              <td>Poisson</td>          <th>  Df Model:          </th>      <td>3</td>     \n</tr>\n<tr>\n  <th>Link Function:</th>               <td>log</td>            <th>  Scale:             </th>  <td>  1.0000</td>  \n</tr>\n<tr>\n  <th>Method:</th>                     <td>IRLS</td>            <th>  Log-Likelihood:    </th> <td>-8.6829e+08</td>\n</tr>\n<tr>\n  <th>Covariance Type:</th>             <td>HC1</td>            <th>  Deviance:          </th> <td>1.7365e+09</td> \n</tr>\n<tr>\n  <th>No. Observations:</th>           <td>11799</td>           <th>  Pearson chi2:      </th>  <td>1.19e+10</td>  \n</tr>\n</table>\n<table class=\"simpletable\">\n<tr>\n          <td></td>            <th>coef</th>     <th>std err</th>      <th>t</th>      <th>P>|t|</th>  <th>[0.025</th>    <th>0.975]</th>  \n</tr>\n<tr>\n  <th>ln_PIB</th>           <td>    0.5843</td> <td>    0.029</td> <td>   20.448</td> <td> 0.000</td> <td>    0.528</td> <td>    0.640</td>\n</tr>\n<tr>\n  <th>contig</th>           <td>   -0.9610</td> <td>    0.155</td> <td>   -6.204</td> <td> 0.000</td> <td>   -1.265</td> <td>   -0.657</td>\n</tr>\n<tr>\n  <th>ln_distw</th>         <td>   -0.1299</td> <td>    0.053</td> <td>   -2.471</td> <td> 0.013</td> <td>   -0.233</td> <td>   -0.027</td>\n</tr>\n<tr>\n  <th>Weighted Average</th> <td>    0.0027</td> <td>    0.001</td> <td>    2.300</td> <td> 0.021</td> <td>    0.000</td> <td>    0.005</td>\n</tr>\n</table>"
     },
     "metadata": {},
     "execution_count": 18
    }
   ],
   "source": [
    "resultados[\"all\"].summary()"
   ]
  },
  {
   "cell_type": "code",
   "execution_count": null,
   "metadata": {},
   "outputs": [],
   "source": []
  }
 ]
}