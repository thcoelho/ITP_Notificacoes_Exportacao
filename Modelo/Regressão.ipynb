{
 "cells": [
  {
   "cell_type": "code",
   "execution_count": 1,
   "metadata": {},
   "outputs": [],
   "source": [
    "import pandas as pd\n",
    "import gme\n",
    "import numpy as np"
   ]
  },
  {
   "cell_type": "code",
   "execution_count": 2,
   "metadata": {},
   "outputs": [],
   "source": [
    "df = pd.read_csv(\"Modelo_Completo/Dados_Cepii_Expecificados.csv\")"
   ]
  },
  {
   "cell_type": "code",
   "execution_count": 3,
   "metadata": {},
   "outputs": [
    {
     "output_type": "execute_result",
     "data": {
      "text/plain": "      Unnamed: 0  Year Country.Code  Commodity.Code  Animal.health  \\\n0              1  1997          USA               2              0   \n1              2  2005          USA               1              0   \n2              3  2005          USA            8609              0   \n3              4  2007          ALB               2              1   \n4              5  2007          ALB               4              1   \n...          ...   ...          ...             ...            ...   \n8568        8569  2015          ZAF           70310              0   \n8569        8570  2015          ZAF           70990              0   \n8570        8571  2015          ZAF           80810              0   \n8571        8572  2015          ZAF           80820              0   \n8572        8573  2015          ZAF           81090              0   \n\n      Consumer.information  Cost.saving  Food.safety  Harmonization  \\\n0                        0            0            1              0   \n1                        0            0            0              0   \n2                        0            0            0              0   \n3                        0            0            1              0   \n4                        0            0            1              0   \n...                    ...          ...          ...            ...   \n8568                     2            0            0              0   \n8569                     0            0            0              0   \n8570                     0            0            0              0   \n8571                     0            0            0              0   \n8572                     3            0            0              0   \n\n      Labelling  ...  gatt_o  eu_d  Origin        distw   ln_gdp_o   ln_gdp_d  \\\n0             0  ...     1.0   0.0     BRA  8088.513876  27.493138  29.783771   \n1             0  ...     1.0   0.0     BRA  8088.513876  27.505668  30.203152   \n2             0  ...     1.0   0.0     BRA  8088.513876  27.505668  30.203152   \n3             0  ...     1.0   0.0     BRA  9388.915094  27.943511  23.093604   \n4             0  ...     1.0   0.0     BRA  9388.915094  27.943511  23.093604   \n...         ...  ...     ...   ...     ...          ...        ...        ...   \n8568          2  ...     1.0   0.0     BRA  7342.994269  28.204667  26.474479   \n8569          0  ...     1.0   0.0     BRA  7342.994269  28.204667  26.474479   \n8570          0  ...     1.0   0.0     BRA  7342.994269  28.204667  26.474479   \n8571          0  ...     1.0   0.0     BRA  7342.994269  28.204667  26.474479   \n8572          3  ...     1.0   0.0     BRA  7342.994269  28.204667  26.474479   \n\n       ln_trade   ln_dist  contig  ln_Tariff  \n0     12.921397  8.998200       0   0.000000  \n1     14.320688  8.998200       0   1.226712  \n2     14.320688  8.998200       0   0.000000  \n3     17.452358  9.147285       0   2.397895  \n4      8.774931  9.147285       0   2.397895  \n...         ...       ...     ...        ...  \n8568  14.125453  8.901502       0   0.000000  \n8569  14.125453  8.901502       0   0.000000  \n8570  14.125453  8.901502       0   0.000000  \n8571  14.125453  8.901502       0   0.000000  \n8572  14.125453  8.901502       0   0.000000  \n\n[8573 rows x 37 columns]",
      "text/html": "<div>\n<style scoped>\n    .dataframe tbody tr th:only-of-type {\n        vertical-align: middle;\n    }\n\n    .dataframe tbody tr th {\n        vertical-align: top;\n    }\n\n    .dataframe thead th {\n        text-align: right;\n    }\n</style>\n<table border=\"1\" class=\"dataframe\">\n  <thead>\n    <tr style=\"text-align: right;\">\n      <th></th>\n      <th>Unnamed: 0</th>\n      <th>Year</th>\n      <th>Country.Code</th>\n      <th>Commodity.Code</th>\n      <th>Animal.health</th>\n      <th>Consumer.information</th>\n      <th>Cost.saving</th>\n      <th>Food.safety</th>\n      <th>Harmonization</th>\n      <th>Labelling</th>\n      <th>...</th>\n      <th>gatt_o</th>\n      <th>eu_d</th>\n      <th>Origin</th>\n      <th>distw</th>\n      <th>ln_gdp_o</th>\n      <th>ln_gdp_d</th>\n      <th>ln_trade</th>\n      <th>ln_dist</th>\n      <th>contig</th>\n      <th>ln_Tariff</th>\n    </tr>\n  </thead>\n  <tbody>\n    <tr>\n      <th>0</th>\n      <td>1</td>\n      <td>1997</td>\n      <td>USA</td>\n      <td>2</td>\n      <td>0</td>\n      <td>0</td>\n      <td>0</td>\n      <td>1</td>\n      <td>0</td>\n      <td>0</td>\n      <td>...</td>\n      <td>1.0</td>\n      <td>0.0</td>\n      <td>BRA</td>\n      <td>8088.513876</td>\n      <td>27.493138</td>\n      <td>29.783771</td>\n      <td>12.921397</td>\n      <td>8.998200</td>\n      <td>0</td>\n      <td>0.000000</td>\n    </tr>\n    <tr>\n      <th>1</th>\n      <td>2</td>\n      <td>2005</td>\n      <td>USA</td>\n      <td>1</td>\n      <td>0</td>\n      <td>0</td>\n      <td>0</td>\n      <td>0</td>\n      <td>0</td>\n      <td>0</td>\n      <td>...</td>\n      <td>1.0</td>\n      <td>0.0</td>\n      <td>BRA</td>\n      <td>8088.513876</td>\n      <td>27.505668</td>\n      <td>30.203152</td>\n      <td>14.320688</td>\n      <td>8.998200</td>\n      <td>0</td>\n      <td>1.226712</td>\n    </tr>\n    <tr>\n      <th>2</th>\n      <td>3</td>\n      <td>2005</td>\n      <td>USA</td>\n      <td>8609</td>\n      <td>0</td>\n      <td>0</td>\n      <td>0</td>\n      <td>0</td>\n      <td>0</td>\n      <td>0</td>\n      <td>...</td>\n      <td>1.0</td>\n      <td>0.0</td>\n      <td>BRA</td>\n      <td>8088.513876</td>\n      <td>27.505668</td>\n      <td>30.203152</td>\n      <td>14.320688</td>\n      <td>8.998200</td>\n      <td>0</td>\n      <td>0.000000</td>\n    </tr>\n    <tr>\n      <th>3</th>\n      <td>4</td>\n      <td>2007</td>\n      <td>ALB</td>\n      <td>2</td>\n      <td>1</td>\n      <td>0</td>\n      <td>0</td>\n      <td>1</td>\n      <td>0</td>\n      <td>0</td>\n      <td>...</td>\n      <td>1.0</td>\n      <td>0.0</td>\n      <td>BRA</td>\n      <td>9388.915094</td>\n      <td>27.943511</td>\n      <td>23.093604</td>\n      <td>17.452358</td>\n      <td>9.147285</td>\n      <td>0</td>\n      <td>2.397895</td>\n    </tr>\n    <tr>\n      <th>4</th>\n      <td>5</td>\n      <td>2007</td>\n      <td>ALB</td>\n      <td>4</td>\n      <td>1</td>\n      <td>0</td>\n      <td>0</td>\n      <td>1</td>\n      <td>0</td>\n      <td>0</td>\n      <td>...</td>\n      <td>1.0</td>\n      <td>0.0</td>\n      <td>BRA</td>\n      <td>9388.915094</td>\n      <td>27.943511</td>\n      <td>23.093604</td>\n      <td>8.774931</td>\n      <td>9.147285</td>\n      <td>0</td>\n      <td>2.397895</td>\n    </tr>\n    <tr>\n      <th>...</th>\n      <td>...</td>\n      <td>...</td>\n      <td>...</td>\n      <td>...</td>\n      <td>...</td>\n      <td>...</td>\n      <td>...</td>\n      <td>...</td>\n      <td>...</td>\n      <td>...</td>\n      <td>...</td>\n      <td>...</td>\n      <td>...</td>\n      <td>...</td>\n      <td>...</td>\n      <td>...</td>\n      <td>...</td>\n      <td>...</td>\n      <td>...</td>\n      <td>...</td>\n      <td>...</td>\n    </tr>\n    <tr>\n      <th>8568</th>\n      <td>8569</td>\n      <td>2015</td>\n      <td>ZAF</td>\n      <td>70310</td>\n      <td>0</td>\n      <td>2</td>\n      <td>0</td>\n      <td>0</td>\n      <td>0</td>\n      <td>2</td>\n      <td>...</td>\n      <td>1.0</td>\n      <td>0.0</td>\n      <td>BRA</td>\n      <td>7342.994269</td>\n      <td>28.204667</td>\n      <td>26.474479</td>\n      <td>14.125453</td>\n      <td>8.901502</td>\n      <td>0</td>\n      <td>0.000000</td>\n    </tr>\n    <tr>\n      <th>8569</th>\n      <td>8570</td>\n      <td>2015</td>\n      <td>ZAF</td>\n      <td>70990</td>\n      <td>0</td>\n      <td>0</td>\n      <td>0</td>\n      <td>0</td>\n      <td>0</td>\n      <td>0</td>\n      <td>...</td>\n      <td>1.0</td>\n      <td>0.0</td>\n      <td>BRA</td>\n      <td>7342.994269</td>\n      <td>28.204667</td>\n      <td>26.474479</td>\n      <td>14.125453</td>\n      <td>8.901502</td>\n      <td>0</td>\n      <td>0.000000</td>\n    </tr>\n    <tr>\n      <th>8570</th>\n      <td>8571</td>\n      <td>2015</td>\n      <td>ZAF</td>\n      <td>80810</td>\n      <td>0</td>\n      <td>0</td>\n      <td>0</td>\n      <td>0</td>\n      <td>0</td>\n      <td>0</td>\n      <td>...</td>\n      <td>1.0</td>\n      <td>0.0</td>\n      <td>BRA</td>\n      <td>7342.994269</td>\n      <td>28.204667</td>\n      <td>26.474479</td>\n      <td>14.125453</td>\n      <td>8.901502</td>\n      <td>0</td>\n      <td>0.000000</td>\n    </tr>\n    <tr>\n      <th>8571</th>\n      <td>8572</td>\n      <td>2015</td>\n      <td>ZAF</td>\n      <td>80820</td>\n      <td>0</td>\n      <td>0</td>\n      <td>0</td>\n      <td>0</td>\n      <td>0</td>\n      <td>0</td>\n      <td>...</td>\n      <td>1.0</td>\n      <td>0.0</td>\n      <td>BRA</td>\n      <td>7342.994269</td>\n      <td>28.204667</td>\n      <td>26.474479</td>\n      <td>14.125453</td>\n      <td>8.901502</td>\n      <td>0</td>\n      <td>0.000000</td>\n    </tr>\n    <tr>\n      <th>8572</th>\n      <td>8573</td>\n      <td>2015</td>\n      <td>ZAF</td>\n      <td>81090</td>\n      <td>0</td>\n      <td>3</td>\n      <td>0</td>\n      <td>0</td>\n      <td>0</td>\n      <td>3</td>\n      <td>...</td>\n      <td>1.0</td>\n      <td>0.0</td>\n      <td>BRA</td>\n      <td>7342.994269</td>\n      <td>28.204667</td>\n      <td>26.474479</td>\n      <td>14.125453</td>\n      <td>8.901502</td>\n      <td>0</td>\n      <td>0.000000</td>\n    </tr>\n  </tbody>\n</table>\n<p>8573 rows × 37 columns</p>\n</div>"
     },
     "metadata": {},
     "execution_count": 3
    }
   ],
   "source": [
    "df"
   ]
  },
  {
   "cell_type": "code",
   "execution_count": 4,
   "metadata": {},
   "outputs": [
    {
     "output_type": "execute_result",
     "data": {
      "text/plain": "      Year Country.Code  Commodity.Code  Animal.health  Consumer.information  \\\n0     1997          USA               2              0                     0   \n1     2005          USA               1              0                     0   \n2     2005          USA            8609              0                     0   \n3     2007          ALB               2              1                     0   \n4     2007          ALB               4              1                     0   \n...    ...          ...             ...            ...                   ...   \n8568  2015          ZAF           70310              0                     2   \n8569  2015          ZAF           70990              0                     0   \n8570  2015          ZAF           80810              0                     0   \n8571  2015          ZAF           80820              0                     0   \n8572  2015          ZAF           81090              0                     3   \n\n      Cost.saving  Food.safety  Harmonization  Labelling  \\\n0               0            1              0          0   \n1               0            0              0          0   \n2               0            0              0          0   \n3               0            1              0          0   \n4               0            1              0          0   \n...           ...          ...            ...        ...   \n8568            0            0              0          2   \n8569            0            0              0          0   \n8570            0            0              0          0   \n8571            0            0              0          0   \n8572            0            0              0          3   \n\n      Lower.barriers.to.trade  ...  gatt_o  eu_d  Origin        distw  \\\n0                           0  ...     1.0   0.0     BRA  8088.513876   \n1                           0  ...     1.0   0.0     BRA  8088.513876   \n2                           0  ...     1.0   0.0     BRA  8088.513876   \n3                           0  ...     1.0   0.0     BRA  9388.915094   \n4                           0  ...     1.0   0.0     BRA  9388.915094   \n...                       ...  ...     ...   ...     ...          ...   \n8568                        0  ...     1.0   0.0     BRA  7342.994269   \n8569                        0  ...     1.0   0.0     BRA  7342.994269   \n8570                        0  ...     1.0   0.0     BRA  7342.994269   \n8571                        0  ...     1.0   0.0     BRA  7342.994269   \n8572                        0  ...     1.0   0.0     BRA  7342.994269   \n\n       ln_gdp_o   ln_gdp_d   ln_trade   ln_dist  contig  ln_Tariff  \n0     27.493138  29.783771  12.921397  8.998200       0   0.000000  \n1     27.505668  30.203152  14.320688  8.998200       0   1.226712  \n2     27.505668  30.203152  14.320688  8.998200       0   0.000000  \n3     27.943511  23.093604  17.452358  9.147285       0   2.397895  \n4     27.943511  23.093604   8.774931  9.147285       0   2.397895  \n...         ...        ...        ...       ...     ...        ...  \n8568  28.204667  26.474479  14.125453  8.901502       0   0.000000  \n8569  28.204667  26.474479  14.125453  8.901502       0   0.000000  \n8570  28.204667  26.474479  14.125453  8.901502       0   0.000000  \n8571  28.204667  26.474479  14.125453  8.901502       0   0.000000  \n8572  28.204667  26.474479  14.125453  8.901502       0   0.000000  \n\n[8573 rows x 36 columns]",
      "text/html": "<div>\n<style scoped>\n    .dataframe tbody tr th:only-of-type {\n        vertical-align: middle;\n    }\n\n    .dataframe tbody tr th {\n        vertical-align: top;\n    }\n\n    .dataframe thead th {\n        text-align: right;\n    }\n</style>\n<table border=\"1\" class=\"dataframe\">\n  <thead>\n    <tr style=\"text-align: right;\">\n      <th></th>\n      <th>Year</th>\n      <th>Country.Code</th>\n      <th>Commodity.Code</th>\n      <th>Animal.health</th>\n      <th>Consumer.information</th>\n      <th>Cost.saving</th>\n      <th>Food.safety</th>\n      <th>Harmonization</th>\n      <th>Labelling</th>\n      <th>Lower.barriers.to.trade</th>\n      <th>...</th>\n      <th>gatt_o</th>\n      <th>eu_d</th>\n      <th>Origin</th>\n      <th>distw</th>\n      <th>ln_gdp_o</th>\n      <th>ln_gdp_d</th>\n      <th>ln_trade</th>\n      <th>ln_dist</th>\n      <th>contig</th>\n      <th>ln_Tariff</th>\n    </tr>\n  </thead>\n  <tbody>\n    <tr>\n      <th>0</th>\n      <td>1997</td>\n      <td>USA</td>\n      <td>2</td>\n      <td>0</td>\n      <td>0</td>\n      <td>0</td>\n      <td>1</td>\n      <td>0</td>\n      <td>0</td>\n      <td>0</td>\n      <td>...</td>\n      <td>1.0</td>\n      <td>0.0</td>\n      <td>BRA</td>\n      <td>8088.513876</td>\n      <td>27.493138</td>\n      <td>29.783771</td>\n      <td>12.921397</td>\n      <td>8.998200</td>\n      <td>0</td>\n      <td>0.000000</td>\n    </tr>\n    <tr>\n      <th>1</th>\n      <td>2005</td>\n      <td>USA</td>\n      <td>1</td>\n      <td>0</td>\n      <td>0</td>\n      <td>0</td>\n      <td>0</td>\n      <td>0</td>\n      <td>0</td>\n      <td>0</td>\n      <td>...</td>\n      <td>1.0</td>\n      <td>0.0</td>\n      <td>BRA</td>\n      <td>8088.513876</td>\n      <td>27.505668</td>\n      <td>30.203152</td>\n      <td>14.320688</td>\n      <td>8.998200</td>\n      <td>0</td>\n      <td>1.226712</td>\n    </tr>\n    <tr>\n      <th>2</th>\n      <td>2005</td>\n      <td>USA</td>\n      <td>8609</td>\n      <td>0</td>\n      <td>0</td>\n      <td>0</td>\n      <td>0</td>\n      <td>0</td>\n      <td>0</td>\n      <td>0</td>\n      <td>...</td>\n      <td>1.0</td>\n      <td>0.0</td>\n      <td>BRA</td>\n      <td>8088.513876</td>\n      <td>27.505668</td>\n      <td>30.203152</td>\n      <td>14.320688</td>\n      <td>8.998200</td>\n      <td>0</td>\n      <td>0.000000</td>\n    </tr>\n    <tr>\n      <th>3</th>\n      <td>2007</td>\n      <td>ALB</td>\n      <td>2</td>\n      <td>1</td>\n      <td>0</td>\n      <td>0</td>\n      <td>1</td>\n      <td>0</td>\n      <td>0</td>\n      <td>0</td>\n      <td>...</td>\n      <td>1.0</td>\n      <td>0.0</td>\n      <td>BRA</td>\n      <td>9388.915094</td>\n      <td>27.943511</td>\n      <td>23.093604</td>\n      <td>17.452358</td>\n      <td>9.147285</td>\n      <td>0</td>\n      <td>2.397895</td>\n    </tr>\n    <tr>\n      <th>4</th>\n      <td>2007</td>\n      <td>ALB</td>\n      <td>4</td>\n      <td>1</td>\n      <td>0</td>\n      <td>0</td>\n      <td>1</td>\n      <td>0</td>\n      <td>0</td>\n      <td>0</td>\n      <td>...</td>\n      <td>1.0</td>\n      <td>0.0</td>\n      <td>BRA</td>\n      <td>9388.915094</td>\n      <td>27.943511</td>\n      <td>23.093604</td>\n      <td>8.774931</td>\n      <td>9.147285</td>\n      <td>0</td>\n      <td>2.397895</td>\n    </tr>\n    <tr>\n      <th>...</th>\n      <td>...</td>\n      <td>...</td>\n      <td>...</td>\n      <td>...</td>\n      <td>...</td>\n      <td>...</td>\n      <td>...</td>\n      <td>...</td>\n      <td>...</td>\n      <td>...</td>\n      <td>...</td>\n      <td>...</td>\n      <td>...</td>\n      <td>...</td>\n      <td>...</td>\n      <td>...</td>\n      <td>...</td>\n      <td>...</td>\n      <td>...</td>\n      <td>...</td>\n      <td>...</td>\n    </tr>\n    <tr>\n      <th>8568</th>\n      <td>2015</td>\n      <td>ZAF</td>\n      <td>70310</td>\n      <td>0</td>\n      <td>2</td>\n      <td>0</td>\n      <td>0</td>\n      <td>0</td>\n      <td>2</td>\n      <td>0</td>\n      <td>...</td>\n      <td>1.0</td>\n      <td>0.0</td>\n      <td>BRA</td>\n      <td>7342.994269</td>\n      <td>28.204667</td>\n      <td>26.474479</td>\n      <td>14.125453</td>\n      <td>8.901502</td>\n      <td>0</td>\n      <td>0.000000</td>\n    </tr>\n    <tr>\n      <th>8569</th>\n      <td>2015</td>\n      <td>ZAF</td>\n      <td>70990</td>\n      <td>0</td>\n      <td>0</td>\n      <td>0</td>\n      <td>0</td>\n      <td>0</td>\n      <td>0</td>\n      <td>0</td>\n      <td>...</td>\n      <td>1.0</td>\n      <td>0.0</td>\n      <td>BRA</td>\n      <td>7342.994269</td>\n      <td>28.204667</td>\n      <td>26.474479</td>\n      <td>14.125453</td>\n      <td>8.901502</td>\n      <td>0</td>\n      <td>0.000000</td>\n    </tr>\n    <tr>\n      <th>8570</th>\n      <td>2015</td>\n      <td>ZAF</td>\n      <td>80810</td>\n      <td>0</td>\n      <td>0</td>\n      <td>0</td>\n      <td>0</td>\n      <td>0</td>\n      <td>0</td>\n      <td>0</td>\n      <td>...</td>\n      <td>1.0</td>\n      <td>0.0</td>\n      <td>BRA</td>\n      <td>7342.994269</td>\n      <td>28.204667</td>\n      <td>26.474479</td>\n      <td>14.125453</td>\n      <td>8.901502</td>\n      <td>0</td>\n      <td>0.000000</td>\n    </tr>\n    <tr>\n      <th>8571</th>\n      <td>2015</td>\n      <td>ZAF</td>\n      <td>80820</td>\n      <td>0</td>\n      <td>0</td>\n      <td>0</td>\n      <td>0</td>\n      <td>0</td>\n      <td>0</td>\n      <td>0</td>\n      <td>...</td>\n      <td>1.0</td>\n      <td>0.0</td>\n      <td>BRA</td>\n      <td>7342.994269</td>\n      <td>28.204667</td>\n      <td>26.474479</td>\n      <td>14.125453</td>\n      <td>8.901502</td>\n      <td>0</td>\n      <td>0.000000</td>\n    </tr>\n    <tr>\n      <th>8572</th>\n      <td>2015</td>\n      <td>ZAF</td>\n      <td>81090</td>\n      <td>0</td>\n      <td>3</td>\n      <td>0</td>\n      <td>0</td>\n      <td>0</td>\n      <td>3</td>\n      <td>0</td>\n      <td>...</td>\n      <td>1.0</td>\n      <td>0.0</td>\n      <td>BRA</td>\n      <td>7342.994269</td>\n      <td>28.204667</td>\n      <td>26.474479</td>\n      <td>14.125453</td>\n      <td>8.901502</td>\n      <td>0</td>\n      <td>0.000000</td>\n    </tr>\n  </tbody>\n</table>\n<p>8573 rows × 36 columns</p>\n</div>"
     },
     "metadata": {},
     "execution_count": 4
    }
   ],
   "source": [
    "df.drop(df.columns[0], axis=1, inplace=True)\n",
    "df"
   ]
  },
  {
   "cell_type": "code",
   "execution_count": 5,
   "metadata": {},
   "outputs": [],
   "source": [
    "df[\"Origin\"].fillna('BRA', inplace=True)"
   ]
  },
  {
   "cell_type": "code",
   "execution_count": 6,
   "metadata": {},
   "outputs": [],
   "source": [
    "df[\"Commodity.Code\"] = pd.to_numeric(df[\"Commodity.Code\"].apply(lambda x: str(x)[:2]))"
   ]
  },
  {
   "cell_type": "code",
   "execution_count": 7,
   "metadata": {},
   "outputs": [],
   "source": [
    "df = df.loc[df[\"Commodity.Code\"] < 16]"
   ]
  },
  {
   "cell_type": "code",
   "execution_count": 8,
   "metadata": {},
   "outputs": [
    {
     "output_type": "execute_result",
     "data": {
      "text/plain": "array([ 2,  1,  4, 10,  6, 12,  7,  8, 15,  9, 14, 11,  3,  5, 13],\n      dtype=int64)"
     },
     "metadata": {},
     "execution_count": 8
    }
   ],
   "source": [
    "df[\"Commodity.Code\"].unique()"
   ]
  },
  {
   "cell_type": "code",
   "execution_count": 9,
   "metadata": {},
   "outputs": [],
   "source": [
    "gme_data = gme.EstimationData(data_frame=df,\n",
    "                              imp_var_name=\"Country.Code\",\n",
    "                              exp_var_name=\"Origin\",\n",
    "                              trade_var_name=\"ln_trade\",\n",
    "                              year_var_name=\"Year\",\n",
    "                              sector_var_name=\"Commodity.Code\")"
   ]
  },
  {
   "cell_type": "code",
   "execution_count": 10,
   "metadata": {},
   "outputs": [
    {
     "output_type": "execute_result",
     "data": {
      "text/plain": "number of countries: 85 \nnumber of exporters: 1 \nnumber of importers: 85 \nnumber of years: 11 \nnumber of sectors: 15 \ndimensions: (2896, 36)"
     },
     "metadata": {},
     "execution_count": 10
    }
   ],
   "source": [
    "gme_data"
   ]
  },
  {
   "cell_type": "code",
   "execution_count": 16,
   "metadata": {},
   "outputs": [],
   "source": [
    "Modelo1 = gme.EstimationModel(estimation_data=gme_data,\n",
    "                                lhs_var=\"ln_trade\",\n",
    "                                rhs_var=[\"Animal.health\",\n",
    "                            \"Consumer.information\",\n",
    "                            \"Cost.saving\",\n",
    "                            \"Food.safety\",\n",
    "                            \"Harmonization\",\n",
    "                            \"Labelling\",\n",
    "                            \"Lower.barriers.to.trade\",\n",
    "                            \"National.security.requirements\",\n",
    "                            \"Not.specified\",\n",
    "                            \"Other\",\n",
    "                            \"Plant.protection\",\n",
    "                            \"Prevention.of.deceptive.practices.and.consumer.protection\",\n",
    "                            \"Protect.humans.from.animal.plant.pest.or.disease\",\n",
    "                            \"Protect.territory.from.other.damage.from.pests\",\n",
    "                            \"Protection.of.Human.health.or.Safety\",\n",
    "                            \"Protection.of.animal.or.plant.life.or.health\",\n",
    "                            \"Protection.of.the.environment\",\n",
    "                            \"Quality.requirements\",\n",
    "                            \"ln_gdp_d\",                                                   \n",
    "                            \"ln_gdp_o\",                                                   \n",
    "                            \"comrelig\",                                                \n",
    "                            \"gatt_d\",                                                  \n",
    "                            \"gatt_o\",                                                   \n",
    "                            \"eu_d\",\n",
    "                            \"ln_dist\",\n",
    "                            'contig', \n",
    "                            'ln_Tariff'],\n",
    "                            )"
   ]
  },
  {
   "cell_type": "code",
   "execution_count": 17,
   "metadata": {},
   "outputs": [
    {
     "output_type": "stream",
     "name": "stdout",
     "text": "select specification variables: ['Animal.health', 'Consumer.information', 'Cost.saving', 'Food.safety', 'Harmonization', 'Labelling', 'Lower.barriers.to.trade', 'National.security.requirements', 'Not.specified', 'Other', 'Plant.protection', 'Prevention.of.deceptive.practices.and.consumer.protection', 'Protect.humans.from.animal.plant.pest.or.disease', 'Protect.territory.from.other.damage.from.pests', 'Protection.of.Human.health.or.Safety', 'Protection.of.animal.or.plant.life.or.health', 'Protection.of.the.environment', 'Quality.requirements', 'ln_gdp_d', 'ln_gdp_o', 'comrelig', 'gatt_d', 'gatt_o', 'eu_d', 'ln_dist', 'contig', 'ln_Tariff', 'ln_trade', 'Country.Code', 'Origin', 'Year', 'Commodity.Code'], Observations excluded by user: {'rows': 0, 'columns': 4}\ndrop_intratrade: no, Observations excluded by user: {'rows': 0, 'columns': 0}\ndrop_imp: none, Observations excluded by user: {'rows': 0, 'columns': 0}\ndrop_exp: none, Observations excluded by user: {'rows': 0, 'columns': 0}\nkeep_imp: all available, Observations excluded by user: {'rows': 0, 'columns': 0}\nkeep_exp: all available, Observations excluded by user: {'rows': 0, 'columns': 0}\ndrop_years: none, Observations excluded by user: {'rows': 0, 'columns': 0}\nkeep_years: all available, Observations excluded by user: {'rows': 0, 'columns': 0}\ndrop_missing: yes, Observations excluded by user: {'rows': 369, 'columns': 0}\nEstimation began at 11:29 AM  on Apr 15, 2020\nOmitted Columns: ['Cost.saving', 'Labelling', 'National.security.requirements', 'Not.specified']\nEstimation completed at 11:29 AM  on Apr 15, 2020\n"
    }
   ],
   "source": [
    "Resultado1 = Modelo1.estimate()"
   ]
  },
  {
   "cell_type": "code",
   "execution_count": 18,
   "metadata": {},
   "outputs": [
    {
     "output_type": "execute_result",
     "data": {
      "text/plain": "Overfit Warning                                                                 No\nCollinearities                                                                  No\nNumber of Columns Excluded                                                       4\nPerfectly Collinear Variables                                                   []\nZero Trade Variables             [Cost.saving, Labelling, National.security.req...\nCompletion Time                                                        0.0 minutes\ndtype: object"
     },
     "metadata": {},
     "execution_count": 18
    }
   ],
   "source": [
    "Modelo1.ppml_diagnostics"
   ]
  },
  {
   "cell_type": "code",
   "execution_count": 19,
   "metadata": {},
   "outputs": [
    {
     "output_type": "execute_result",
     "data": {
      "text/plain": "<class 'statsmodels.iolib.summary.Summary'>\n\"\"\"\n                 Generalized Linear Model Regression Results                  \n==============================================================================\nDep. Variable:               ln_trade   No. Iterations:                      4\nModel:                            GLM   Df Residuals:                     2504\nModel Family:                 Poisson   Df Model:                           22\nLink Function:                    log   Scale:                          1.0000\nMethod:                          IRLS   Log-Likelihood:                -6482.9\nCovariance Type:                  HC1   Deviance:                       1799.3\nNo. Observations:                2527   Pearson chi2:                 1.70e+03\n=============================================================================================================================\n                                                                coef    std err          t      P>|t|      [0.025      0.975]\n-----------------------------------------------------------------------------------------------------------------------------\nAnimal.health                                                -0.0038      0.002     -1.631      0.103      -0.008       0.001\nConsumer.information                                          0.0268      0.020      1.311      0.190      -0.013       0.067\nFood.safety                                                  -0.0023      0.001     -2.074      0.038      -0.004      -0.000\nHarmonization                                                 1.0352      0.338      3.059      0.002       0.372       1.699\nLower.barriers.to.trade                                      -0.0189      0.058     -0.328      0.743      -0.132       0.094\nOther                                                        -0.0139      0.025     -0.559      0.576      -0.062       0.035\nPlant.protection                                             -0.0037      0.002     -1.920      0.055      -0.008    7.86e-05\nPrevention.of.deceptive.practices.and.consumer.protection     0.0124      0.016      0.757      0.449      -0.020       0.045\nProtect.humans.from.animal.plant.pest.or.disease              0.0108      0.003      3.756      0.000       0.005       0.016\nProtect.territory.from.other.damage.from.pests               -0.0234      0.008     -2.760      0.006      -0.040      -0.007\nProtection.of.Human.health.or.Safety                         -0.0349      0.007     -5.201      0.000      -0.048      -0.022\nProtection.of.animal.or.plant.life.or.health                 -0.1018      0.037     -2.770      0.006      -0.174      -0.030\nProtection.of.the.environment                                -0.2536      0.085     -2.995      0.003      -0.420      -0.088\nQuality.requirements                                         -0.0028      0.032     -0.087      0.931      -0.067       0.061\nln_gdp_d                                                      0.0186      0.002      7.490      0.000       0.014       0.023\nln_gdp_o                                                      0.0454      0.027      1.686      0.092      -0.007       0.098\ncomrelig                                                     -0.0442      0.017     -2.541      0.011      -0.078      -0.010\ngatt_d                                                       -0.1335      0.024     -5.509      0.000      -0.181      -0.086\ngatt_o                                                        0.8291      0.763      1.087      0.277      -0.667       2.325\neu_d                                                         -0.3117      0.090     -3.465      0.001      -0.488      -0.135\nln_dist                                                       0.0170      0.010      1.660      0.097      -0.003       0.037\ncontig                                                        0.0492      0.016      3.068      0.002       0.018       0.081\nln_Tariff                                                     0.0042      0.005      0.781      0.435      -0.006       0.015\n=============================================================================================================================\n\"\"\"",
      "text/html": "<table class=\"simpletable\">\n<caption>Generalized Linear Model Regression Results</caption>\n<tr>\n  <th>Dep. Variable:</th>    <td>ln_trade</td> <th>  No. Iterations:    </th>     <td>4</td>   \n</tr>\n<tr>\n  <th>Model:</th>               <td>GLM</td>   <th>  Df Residuals:      </th>   <td>2504</td>  \n</tr>\n<tr>\n  <th>Model Family:</th>      <td>Poisson</td> <th>  Df Model:          </th>    <td>22</td>   \n</tr>\n<tr>\n  <th>Link Function:</th>       <td>log</td>   <th>  Scale:             </th> <td>  1.0000</td>\n</tr>\n<tr>\n  <th>Method:</th>             <td>IRLS</td>   <th>  Log-Likelihood:    </th> <td> -6482.9</td>\n</tr>\n<tr>\n  <th>Covariance Type:</th>     <td>HC1</td>   <th>  Deviance:          </th> <td>  1799.3</td>\n</tr>\n<tr>\n  <th>No. Observations:</th>   <td>2527</td>   <th>  Pearson chi2:      </th> <td>1.70e+03</td>\n</tr>\n</table>\n<table class=\"simpletable\">\n<tr>\n                              <td></td>                                 <th>coef</th>     <th>std err</th>      <th>t</th>      <th>P>|t|</th>  <th>[0.025</th>    <th>0.975]</th>  \n</tr>\n<tr>\n  <th>Animal.health</th>                                             <td>   -0.0038</td> <td>    0.002</td> <td>   -1.631</td> <td> 0.103</td> <td>   -0.008</td> <td>    0.001</td>\n</tr>\n<tr>\n  <th>Consumer.information</th>                                      <td>    0.0268</td> <td>    0.020</td> <td>    1.311</td> <td> 0.190</td> <td>   -0.013</td> <td>    0.067</td>\n</tr>\n<tr>\n  <th>Food.safety</th>                                               <td>   -0.0023</td> <td>    0.001</td> <td>   -2.074</td> <td> 0.038</td> <td>   -0.004</td> <td>   -0.000</td>\n</tr>\n<tr>\n  <th>Harmonization</th>                                             <td>    1.0352</td> <td>    0.338</td> <td>    3.059</td> <td> 0.002</td> <td>    0.372</td> <td>    1.699</td>\n</tr>\n<tr>\n  <th>Lower.barriers.to.trade</th>                                   <td>   -0.0189</td> <td>    0.058</td> <td>   -0.328</td> <td> 0.743</td> <td>   -0.132</td> <td>    0.094</td>\n</tr>\n<tr>\n  <th>Other</th>                                                     <td>   -0.0139</td> <td>    0.025</td> <td>   -0.559</td> <td> 0.576</td> <td>   -0.062</td> <td>    0.035</td>\n</tr>\n<tr>\n  <th>Plant.protection</th>                                          <td>   -0.0037</td> <td>    0.002</td> <td>   -1.920</td> <td> 0.055</td> <td>   -0.008</td> <td> 7.86e-05</td>\n</tr>\n<tr>\n  <th>Prevention.of.deceptive.practices.and.consumer.protection</th> <td>    0.0124</td> <td>    0.016</td> <td>    0.757</td> <td> 0.449</td> <td>   -0.020</td> <td>    0.045</td>\n</tr>\n<tr>\n  <th>Protect.humans.from.animal.plant.pest.or.disease</th>          <td>    0.0108</td> <td>    0.003</td> <td>    3.756</td> <td> 0.000</td> <td>    0.005</td> <td>    0.016</td>\n</tr>\n<tr>\n  <th>Protect.territory.from.other.damage.from.pests</th>            <td>   -0.0234</td> <td>    0.008</td> <td>   -2.760</td> <td> 0.006</td> <td>   -0.040</td> <td>   -0.007</td>\n</tr>\n<tr>\n  <th>Protection.of.Human.health.or.Safety</th>                      <td>   -0.0349</td> <td>    0.007</td> <td>   -5.201</td> <td> 0.000</td> <td>   -0.048</td> <td>   -0.022</td>\n</tr>\n<tr>\n  <th>Protection.of.animal.or.plant.life.or.health</th>              <td>   -0.1018</td> <td>    0.037</td> <td>   -2.770</td> <td> 0.006</td> <td>   -0.174</td> <td>   -0.030</td>\n</tr>\n<tr>\n  <th>Protection.of.the.environment</th>                             <td>   -0.2536</td> <td>    0.085</td> <td>   -2.995</td> <td> 0.003</td> <td>   -0.420</td> <td>   -0.088</td>\n</tr>\n<tr>\n  <th>Quality.requirements</th>                                      <td>   -0.0028</td> <td>    0.032</td> <td>   -0.087</td> <td> 0.931</td> <td>   -0.067</td> <td>    0.061</td>\n</tr>\n<tr>\n  <th>ln_gdp_d</th>                                                  <td>    0.0186</td> <td>    0.002</td> <td>    7.490</td> <td> 0.000</td> <td>    0.014</td> <td>    0.023</td>\n</tr>\n<tr>\n  <th>ln_gdp_o</th>                                                  <td>    0.0454</td> <td>    0.027</td> <td>    1.686</td> <td> 0.092</td> <td>   -0.007</td> <td>    0.098</td>\n</tr>\n<tr>\n  <th>comrelig</th>                                                  <td>   -0.0442</td> <td>    0.017</td> <td>   -2.541</td> <td> 0.011</td> <td>   -0.078</td> <td>   -0.010</td>\n</tr>\n<tr>\n  <th>gatt_d</th>                                                    <td>   -0.1335</td> <td>    0.024</td> <td>   -5.509</td> <td> 0.000</td> <td>   -0.181</td> <td>   -0.086</td>\n</tr>\n<tr>\n  <th>gatt_o</th>                                                    <td>    0.8291</td> <td>    0.763</td> <td>    1.087</td> <td> 0.277</td> <td>   -0.667</td> <td>    2.325</td>\n</tr>\n<tr>\n  <th>eu_d</th>                                                      <td>   -0.3117</td> <td>    0.090</td> <td>   -3.465</td> <td> 0.001</td> <td>   -0.488</td> <td>   -0.135</td>\n</tr>\n<tr>\n  <th>ln_dist</th>                                                   <td>    0.0170</td> <td>    0.010</td> <td>    1.660</td> <td> 0.097</td> <td>   -0.003</td> <td>    0.037</td>\n</tr>\n<tr>\n  <th>contig</th>                                                    <td>    0.0492</td> <td>    0.016</td> <td>    3.068</td> <td> 0.002</td> <td>    0.018</td> <td>    0.081</td>\n</tr>\n<tr>\n  <th>ln_Tariff</th>                                                 <td>    0.0042</td> <td>    0.005</td> <td>    0.781</td> <td> 0.435</td> <td>   -0.006</td> <td>    0.015</td>\n</tr>\n</table>"
     },
     "metadata": {},
     "execution_count": 19
    }
   ],
   "source": [
    "Resultado1[\"all\"].summary()"
   ]
  },
  {
   "cell_type": "code",
   "execution_count": 20,
   "metadata": {},
   "outputs": [],
   "source": [
    "def EscreverResultado1():\n",
    "    Resultado = open(\"../Relatorio/Resultados_EF.tex\", \"w+\")\n",
    "    Resultado.write(Resultado1[\"all\"].summary().as_latex())\n",
    "    Resultado.close()\n",
    "EscreverResultado1()"
   ]
  },
  {
   "cell_type": "code",
   "execution_count": null,
   "metadata": {},
   "outputs": [],
   "source": []
  }
 ],
 "metadata": {
  "file_extension": ".py",
  "kernelspec": {
   "display_name": "Python 3.7.6 64-bit ('base': conda)",
   "language": "python",
   "name": "python37664bitbaseconda7037916fb866425e9ff11ebb843bed9a"
  },
  "language_info": {
   "codemirror_mode": {
    "name": "ipython",
    "version": 3
   },
   "file_extension": ".py",
   "mimetype": "text/x-python",
   "name": "python",
   "nbconvert_exporter": "python",
   "pygments_lexer": "ipython3",
   "version": "3.7.6-final"
  },
  "mimetype": "text/x-python",
  "name": "python",
  "npconvert_exporter": "python",
  "pygments_lexer": "ipython3",
  "version": 3
 },
 "nbformat": 4,
 "nbformat_minor": 4
}