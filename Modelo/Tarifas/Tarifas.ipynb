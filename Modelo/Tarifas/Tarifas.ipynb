{
 "nbformat": 4,
 "nbformat_minor": 2,
 "metadata": {
  "language_info": {
   "name": "python",
   "codemirror_mode": {
    "name": "ipython",
    "version": 3
   },
   "version": "3.7.6-final"
  },
  "orig_nbformat": 2,
  "file_extension": ".py",
  "mimetype": "text/x-python",
  "name": "python",
  "npconvert_exporter": "python",
  "pygments_lexer": "ipython3",
  "version": 3,
  "kernelspec": {
   "name": "python37664bitbaseconda7037916fb866425e9ff11ebb843bed9a",
   "display_name": "Python 3.7.6 64-bit ('base': conda)"
  }
 },
 "cells": [
  {
   "cell_type": "code",
   "execution_count": 1,
   "metadata": {},
   "outputs": [],
   "source": [
    "import pandas as pd"
   ]
  },
  {
   "cell_type": "code",
   "execution_count": 15,
   "metadata": {},
   "outputs": [],
   "source": [
    "df = pd.read_csv(\"Tarifas_WITS.csv\", engine=\"python\")"
   ]
  },
  {
   "cell_type": "code",
   "execution_count": 5,
   "metadata": {},
   "outputs": [
    {
     "output_type": "execute_result",
     "data": {
      "text/plain": "      Selected Nomen Native Nomen  Reporter                 Reporter Name  \\\n0                 HS           H0      48.0                       Bahrain   \n1                 HS           H0      48.0                       Bahrain   \n2                 HS           H0      48.0                       Bahrain   \n3                 HS           H0      48.0                       Bahrain   \n4                 HS           H0      48.0                       Bahrain   \n...              ...          ...       ...                           ...   \n16591             HS           HS       NaN  All countries  All --- All     \n16592             HS           HS       NaN  All countries  All --- All     \n16593             HS           HS       NaN  All countries  All --- All     \n16594             HS           HS       NaN  All countries  All --- All     \n16595             HS           HS       NaN  All countries  All --- All     \n\n       Product                                       Product Name  Partner  \\\n0            2                         MEAT AND EDIBLE MEAT OFFAL       76   \n1            2                         MEAT AND EDIBLE MEAT OFFAL       76   \n2            7     EDIBLE VEGETABLES AND CERTAIN ROOTS AND TUBERS       76   \n3            7     EDIBLE VEGETABLES AND CERTAIN ROOTS AND TUBERS       76   \n4            8  EDIBLE FRUIT AND NUTS; PEEL OF CITRUS FRUIT OR...       76   \n...        ...                                                ...      ...   \n16591       15  ANIMAL OR VEGETABLE FATS AND OILS AND THEIR CL...       76   \n16592       15  ANIMAL OR VEGETABLE FATS AND OILS AND THEIR CL...       76   \n16593       15  ANIMAL OR VEGETABLE FATS AND OILS AND THEIR CL...       76   \n16594       15  ANIMAL OR VEGETABLE FATS AND OILS AND THEIR CL...       76   \n16595       15  ANIMAL OR VEGETABLE FATS AND OILS AND THEIR CL...       76   \n\n      Partner Name  Tariff Year  Trade Year  ... Simple Average  \\\n0           Brazil         1999      1999.0  ...           5.00   \n1           Brazil         2000      2000.0  ...           5.00   \n2           Brazil         1999      1999.0  ...           3.33   \n3           Brazil         2000      2000.0  ...           7.00   \n4           Brazil         1999      1999.0  ...           5.00   \n...            ...          ...         ...  ...            ...   \n16591       Brazil         2014         NaN  ...           8.26   \n16592       Brazil         2015         NaN  ...           8.22   \n16593       Brazil         2016         NaN  ...           8.03   \n16594       Brazil         2017         NaN  ...           6.06   \n16595       Brazil         2018         NaN  ...           7.33   \n\n      Weighted Average  Standard Deviation  Minimum Rate  Maximum Rate  \\\n0                 5.00                0.00           5.0           5.0   \n1                 5.00                0.00           5.0           5.0   \n2                 3.33                2.36           0.0           5.0   \n3                 7.00                0.00           7.0           7.0   \n4                 5.00                0.00           5.0           5.0   \n...                ...                 ...           ...           ...   \n16591              NaN               16.65           0.0         143.0   \n16592              NaN               16.41           0.0         143.0   \n16593              NaN               16.62           0.0         143.0   \n16594              NaN               10.66           0.0         100.0   \n16595              NaN               13.02           0.0         100.0   \n\n       Nbr of Total Lines  Nbr of DomesticPeaks  Nbr of InternationalPeaks  \\\n0                       7                     0                          0   \n1                       7                     0                          0   \n2                       3                     0                          0   \n3                       1                     0                          0   \n4                       9                     0                          0   \n...                   ...                   ...                        ...   \n16591                 886                    37                         98   \n16592                1013                    61                        122   \n16593                1148                    56                        129   \n16594                 955                    29                         47   \n16595                 779                    37                         49   \n\n       Imports Value in 1000 USD  Binding Coverage  \n0                      14798.621               NaN  \n1                      14192.011               NaN  \n2                          0.359               NaN  \n3                          0.638               NaN  \n4                         90.291               NaN  \n...                          ...               ...  \n16591                        NaN               NaN  \n16592                        NaN               NaN  \n16593                        NaN               NaN  \n16594                        NaN               NaN  \n16595                        NaN               NaN  \n\n[16596 rows x 22 columns]",
      "text/html": "<div>\n<style scoped>\n    .dataframe tbody tr th:only-of-type {\n        vertical-align: middle;\n    }\n\n    .dataframe tbody tr th {\n        vertical-align: top;\n    }\n\n    .dataframe thead th {\n        text-align: right;\n    }\n</style>\n<table border=\"1\" class=\"dataframe\">\n  <thead>\n    <tr style=\"text-align: right;\">\n      <th></th>\n      <th>Selected Nomen</th>\n      <th>Native Nomen</th>\n      <th>Reporter</th>\n      <th>Reporter Name</th>\n      <th>Product</th>\n      <th>Product Name</th>\n      <th>Partner</th>\n      <th>Partner Name</th>\n      <th>Tariff Year</th>\n      <th>Trade Year</th>\n      <th>...</th>\n      <th>Simple Average</th>\n      <th>Weighted Average</th>\n      <th>Standard Deviation</th>\n      <th>Minimum Rate</th>\n      <th>Maximum Rate</th>\n      <th>Nbr of Total Lines</th>\n      <th>Nbr of DomesticPeaks</th>\n      <th>Nbr of InternationalPeaks</th>\n      <th>Imports Value in 1000 USD</th>\n      <th>Binding Coverage</th>\n    </tr>\n  </thead>\n  <tbody>\n    <tr>\n      <th>0</th>\n      <td>HS</td>\n      <td>H0</td>\n      <td>48.0</td>\n      <td>Bahrain</td>\n      <td>2</td>\n      <td>MEAT AND EDIBLE MEAT OFFAL</td>\n      <td>76</td>\n      <td>Brazil</td>\n      <td>1999</td>\n      <td>1999.0</td>\n      <td>...</td>\n      <td>5.00</td>\n      <td>5.00</td>\n      <td>0.00</td>\n      <td>5.0</td>\n      <td>5.0</td>\n      <td>7</td>\n      <td>0</td>\n      <td>0</td>\n      <td>14798.621</td>\n      <td>NaN</td>\n    </tr>\n    <tr>\n      <th>1</th>\n      <td>HS</td>\n      <td>H0</td>\n      <td>48.0</td>\n      <td>Bahrain</td>\n      <td>2</td>\n      <td>MEAT AND EDIBLE MEAT OFFAL</td>\n      <td>76</td>\n      <td>Brazil</td>\n      <td>2000</td>\n      <td>2000.0</td>\n      <td>...</td>\n      <td>5.00</td>\n      <td>5.00</td>\n      <td>0.00</td>\n      <td>5.0</td>\n      <td>5.0</td>\n      <td>7</td>\n      <td>0</td>\n      <td>0</td>\n      <td>14192.011</td>\n      <td>NaN</td>\n    </tr>\n    <tr>\n      <th>2</th>\n      <td>HS</td>\n      <td>H0</td>\n      <td>48.0</td>\n      <td>Bahrain</td>\n      <td>7</td>\n      <td>EDIBLE VEGETABLES AND CERTAIN ROOTS AND TUBERS</td>\n      <td>76</td>\n      <td>Brazil</td>\n      <td>1999</td>\n      <td>1999.0</td>\n      <td>...</td>\n      <td>3.33</td>\n      <td>3.33</td>\n      <td>2.36</td>\n      <td>0.0</td>\n      <td>5.0</td>\n      <td>3</td>\n      <td>0</td>\n      <td>0</td>\n      <td>0.359</td>\n      <td>NaN</td>\n    </tr>\n    <tr>\n      <th>3</th>\n      <td>HS</td>\n      <td>H0</td>\n      <td>48.0</td>\n      <td>Bahrain</td>\n      <td>7</td>\n      <td>EDIBLE VEGETABLES AND CERTAIN ROOTS AND TUBERS</td>\n      <td>76</td>\n      <td>Brazil</td>\n      <td>2000</td>\n      <td>2000.0</td>\n      <td>...</td>\n      <td>7.00</td>\n      <td>7.00</td>\n      <td>0.00</td>\n      <td>7.0</td>\n      <td>7.0</td>\n      <td>1</td>\n      <td>0</td>\n      <td>0</td>\n      <td>0.638</td>\n      <td>NaN</td>\n    </tr>\n    <tr>\n      <th>4</th>\n      <td>HS</td>\n      <td>H0</td>\n      <td>48.0</td>\n      <td>Bahrain</td>\n      <td>8</td>\n      <td>EDIBLE FRUIT AND NUTS; PEEL OF CITRUS FRUIT OR...</td>\n      <td>76</td>\n      <td>Brazil</td>\n      <td>1999</td>\n      <td>1999.0</td>\n      <td>...</td>\n      <td>5.00</td>\n      <td>5.00</td>\n      <td>0.00</td>\n      <td>5.0</td>\n      <td>5.0</td>\n      <td>9</td>\n      <td>0</td>\n      <td>0</td>\n      <td>90.291</td>\n      <td>NaN</td>\n    </tr>\n    <tr>\n      <th>...</th>\n      <td>...</td>\n      <td>...</td>\n      <td>...</td>\n      <td>...</td>\n      <td>...</td>\n      <td>...</td>\n      <td>...</td>\n      <td>...</td>\n      <td>...</td>\n      <td>...</td>\n      <td>...</td>\n      <td>...</td>\n      <td>...</td>\n      <td>...</td>\n      <td>...</td>\n      <td>...</td>\n      <td>...</td>\n      <td>...</td>\n      <td>...</td>\n      <td>...</td>\n      <td>...</td>\n    </tr>\n    <tr>\n      <th>16591</th>\n      <td>HS</td>\n      <td>HS</td>\n      <td>NaN</td>\n      <td>All countries  All --- All</td>\n      <td>15</td>\n      <td>ANIMAL OR VEGETABLE FATS AND OILS AND THEIR CL...</td>\n      <td>76</td>\n      <td>Brazil</td>\n      <td>2014</td>\n      <td>NaN</td>\n      <td>...</td>\n      <td>8.26</td>\n      <td>NaN</td>\n      <td>16.65</td>\n      <td>0.0</td>\n      <td>143.0</td>\n      <td>886</td>\n      <td>37</td>\n      <td>98</td>\n      <td>NaN</td>\n      <td>NaN</td>\n    </tr>\n    <tr>\n      <th>16592</th>\n      <td>HS</td>\n      <td>HS</td>\n      <td>NaN</td>\n      <td>All countries  All --- All</td>\n      <td>15</td>\n      <td>ANIMAL OR VEGETABLE FATS AND OILS AND THEIR CL...</td>\n      <td>76</td>\n      <td>Brazil</td>\n      <td>2015</td>\n      <td>NaN</td>\n      <td>...</td>\n      <td>8.22</td>\n      <td>NaN</td>\n      <td>16.41</td>\n      <td>0.0</td>\n      <td>143.0</td>\n      <td>1013</td>\n      <td>61</td>\n      <td>122</td>\n      <td>NaN</td>\n      <td>NaN</td>\n    </tr>\n    <tr>\n      <th>16593</th>\n      <td>HS</td>\n      <td>HS</td>\n      <td>NaN</td>\n      <td>All countries  All --- All</td>\n      <td>15</td>\n      <td>ANIMAL OR VEGETABLE FATS AND OILS AND THEIR CL...</td>\n      <td>76</td>\n      <td>Brazil</td>\n      <td>2016</td>\n      <td>NaN</td>\n      <td>...</td>\n      <td>8.03</td>\n      <td>NaN</td>\n      <td>16.62</td>\n      <td>0.0</td>\n      <td>143.0</td>\n      <td>1148</td>\n      <td>56</td>\n      <td>129</td>\n      <td>NaN</td>\n      <td>NaN</td>\n    </tr>\n    <tr>\n      <th>16594</th>\n      <td>HS</td>\n      <td>HS</td>\n      <td>NaN</td>\n      <td>All countries  All --- All</td>\n      <td>15</td>\n      <td>ANIMAL OR VEGETABLE FATS AND OILS AND THEIR CL...</td>\n      <td>76</td>\n      <td>Brazil</td>\n      <td>2017</td>\n      <td>NaN</td>\n      <td>...</td>\n      <td>6.06</td>\n      <td>NaN</td>\n      <td>10.66</td>\n      <td>0.0</td>\n      <td>100.0</td>\n      <td>955</td>\n      <td>29</td>\n      <td>47</td>\n      <td>NaN</td>\n      <td>NaN</td>\n    </tr>\n    <tr>\n      <th>16595</th>\n      <td>HS</td>\n      <td>HS</td>\n      <td>NaN</td>\n      <td>All countries  All --- All</td>\n      <td>15</td>\n      <td>ANIMAL OR VEGETABLE FATS AND OILS AND THEIR CL...</td>\n      <td>76</td>\n      <td>Brazil</td>\n      <td>2018</td>\n      <td>NaN</td>\n      <td>...</td>\n      <td>7.33</td>\n      <td>NaN</td>\n      <td>13.02</td>\n      <td>0.0</td>\n      <td>100.0</td>\n      <td>779</td>\n      <td>37</td>\n      <td>49</td>\n      <td>NaN</td>\n      <td>NaN</td>\n    </tr>\n  </tbody>\n</table>\n<p>16596 rows × 22 columns</p>\n</div>"
     },
     "metadata": {},
     "execution_count": 5
    }
   ],
   "source": [
    "df"
   ]
  },
  {
   "cell_type": "code",
   "execution_count": 19,
   "metadata": {},
   "outputs": [],
   "source": [
    "df[\"Trade Year\"] = df[\"Trade Year\"].apply(lambda x: str(x)[:-2])"
   ]
  },
  {
   "cell_type": "code",
   "execution_count": 20,
   "metadata": {},
   "outputs": [],
   "source": [
    "df.index = pd.MultiIndex.from_frame(df.iloc[:,[3,9]])"
   ]
  },
  {
   "cell_type": "code",
   "execution_count": 21,
   "metadata": {},
   "outputs": [],
   "source": [
    "df = df.iloc[:,[4,12,13,-2]]"
   ]
  },
  {
   "cell_type": "code",
   "execution_count": 22,
   "metadata": {},
   "outputs": [],
   "source": [
    "df = df.dropna()"
   ]
  },
  {
   "cell_type": "code",
   "execution_count": 23,
   "metadata": {},
   "outputs": [
    {
     "output_type": "execute_result",
     "data": {
      "text/plain": "                           Product  Simple Average  Weighted Average  \\\nReporter Name  Trade Year                                              \nBahrain        1999              2            5.00              5.00   \n               2000              2            5.00              5.00   \n               1999              7            3.33              3.33   \n               2000              7            7.00              7.00   \n               1999              8            5.00              5.00   \n...                            ...             ...               ...   \nEuropean Union 2017             13            2.31              0.63   \n               2017             14            0.00              0.00   \n               2017             14            0.00              0.00   \n               2017             15            5.81              1.89   \n               2017             15            5.81              1.89   \n\n                           Imports Value in 1000 USD  \nReporter Name  Trade Year                             \nBahrain        1999                        14798.621  \n               2000                        14192.011  \n               1999                            0.359  \n               2000                            0.638  \n               1999                           90.291  \n...                                              ...  \nEuropean Union 2017                        35658.152  \n               2017                         5284.286  \n               2017                         5284.286  \n               2017                        88819.170  \n               2017                        88819.170  \n\n[13328 rows x 4 columns]",
      "text/html": "<div>\n<style scoped>\n    .dataframe tbody tr th:only-of-type {\n        vertical-align: middle;\n    }\n\n    .dataframe tbody tr th {\n        vertical-align: top;\n    }\n\n    .dataframe thead th {\n        text-align: right;\n    }\n</style>\n<table border=\"1\" class=\"dataframe\">\n  <thead>\n    <tr style=\"text-align: right;\">\n      <th></th>\n      <th></th>\n      <th>Product</th>\n      <th>Simple Average</th>\n      <th>Weighted Average</th>\n      <th>Imports Value in 1000 USD</th>\n    </tr>\n    <tr>\n      <th>Reporter Name</th>\n      <th>Trade Year</th>\n      <th></th>\n      <th></th>\n      <th></th>\n      <th></th>\n    </tr>\n  </thead>\n  <tbody>\n    <tr>\n      <th rowspan=\"5\" valign=\"top\">Bahrain</th>\n      <th>1999</th>\n      <td>2</td>\n      <td>5.00</td>\n      <td>5.00</td>\n      <td>14798.621</td>\n    </tr>\n    <tr>\n      <th>2000</th>\n      <td>2</td>\n      <td>5.00</td>\n      <td>5.00</td>\n      <td>14192.011</td>\n    </tr>\n    <tr>\n      <th>1999</th>\n      <td>7</td>\n      <td>3.33</td>\n      <td>3.33</td>\n      <td>0.359</td>\n    </tr>\n    <tr>\n      <th>2000</th>\n      <td>7</td>\n      <td>7.00</td>\n      <td>7.00</td>\n      <td>0.638</td>\n    </tr>\n    <tr>\n      <th>1999</th>\n      <td>8</td>\n      <td>5.00</td>\n      <td>5.00</td>\n      <td>90.291</td>\n    </tr>\n    <tr>\n      <th>...</th>\n      <th>...</th>\n      <td>...</td>\n      <td>...</td>\n      <td>...</td>\n      <td>...</td>\n    </tr>\n    <tr>\n      <th rowspan=\"5\" valign=\"top\">European Union</th>\n      <th>2017</th>\n      <td>13</td>\n      <td>2.31</td>\n      <td>0.63</td>\n      <td>35658.152</td>\n    </tr>\n    <tr>\n      <th>2017</th>\n      <td>14</td>\n      <td>0.00</td>\n      <td>0.00</td>\n      <td>5284.286</td>\n    </tr>\n    <tr>\n      <th>2017</th>\n      <td>14</td>\n      <td>0.00</td>\n      <td>0.00</td>\n      <td>5284.286</td>\n    </tr>\n    <tr>\n      <th>2017</th>\n      <td>15</td>\n      <td>5.81</td>\n      <td>1.89</td>\n      <td>88819.170</td>\n    </tr>\n    <tr>\n      <th>2017</th>\n      <td>15</td>\n      <td>5.81</td>\n      <td>1.89</td>\n      <td>88819.170</td>\n    </tr>\n  </tbody>\n</table>\n<p>13328 rows × 4 columns</p>\n</div>"
     },
     "metadata": {},
     "execution_count": 23
    }
   ],
   "source": [
    "df"
   ]
  },
  {
   "cell_type": "code",
   "execution_count": null,
   "metadata": {},
   "outputs": [],
   "source": []
  }
 ]
}