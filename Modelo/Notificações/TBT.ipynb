{
 "nbformat": 4,
 "nbformat_minor": 2,
 "metadata": {
  "language_info": {
   "name": "python",
   "codemirror_mode": {
    "name": "ipython",
    "version": 3
   },
   "version": "3.7.6-final"
  },
  "orig_nbformat": 2,
  "file_extension": ".py",
  "mimetype": "text/x-python",
  "name": "python",
  "npconvert_exporter": "python",
  "pygments_lexer": "ipython3",
  "version": 3,
  "kernelspec": {
   "name": "python37664bitbaseconda7037916fb866425e9ff11ebb843bed9a",
   "display_name": "Python 3.7.6 64-bit ('base': conda)"
  }
 },
 "cells": [
  {
   "cell_type": "code",
   "execution_count": 1,
   "metadata": {},
   "outputs": [],
   "source": [
    "import pandas as pd"
   ]
  },
  {
   "cell_type": "code",
   "execution_count": 104,
   "metadata": {},
   "outputs": [
    {
     "output_type": "execute_result",
     "data": {
      "text/plain": "                 Symbol          Notifying Member Date of distribution  \\\n0       G/TBT/N/KEN/990                     Kenya           2020-03-26   \n1       G/TBT/N/KEN/978                     Kenya           2020-03-19   \n2       G/TBT/N/KEN/979                     Kenya           2020-03-19   \n3       G/TBT/N/KEN/980                     Kenya           2020-03-19   \n4       G/TBT/N/UKR/160                   Ukraine           2020-03-17   \n...                 ...                       ...                  ...   \n1654  G/TBT/Notif.95/91                     Japan           1995-03-28   \n1655  G/TBT/Notif.95/75  United States of America           1995-03-20   \n1656  G/TBT/Notif.95/76  United States of America           1995-03-20   \n1657  G/TBT/Notif.95/66           Slovak Republic           1995-03-08   \n1658  G/TBT/Notif.95/20  United States of America           1995-02-03   \n\n                      Type  \\\n0     Regular notification   \n1     Regular notification   \n2     Regular notification   \n3     Regular notification   \n4     Regular notification   \n...                    ...   \n1654  Regular notification   \n1655  Regular notification   \n1656  Regular notification   \n1657  Regular notification   \n1658  Regular notification   \n\n     Products (free text)\\n(Content in italic is reproduced from the parent notification)  \\\n0                                                   NaN                                     \n1                                                   NaN                                     \n2                                                   NaN                                     \n3                                                   NaN                                     \n4     Meat of bovine animals, swine, sheep or goat, ...                                     \n...                                                 ...                                     \n1654                                                NaN                                     \n1655                                                NaN                                     \n1656                                                NaN                                     \n1657                                                NaN                                     \n1658                                                NaN                                     \n\n     Products (HS codes)\\n(Content in italic is reproduced from the parent notification)  \\\n0     0406 - Cheese and curd.; 0406 - Cheese and cur...                                    \n1     0406 - Cheese and curd.; 0406 - Cheese and cur...                                    \n2     0406 - Cheese and curd.; 0406 - Cheese and cur...                                    \n3     0406 - Cheese and curd.; 0406 - Cheese and cur...                                    \n4     0201 - Meat of bovine animals, fresh or chille...                                    \n...                                                 ...                                    \n1654  151710 - - Margarine, excluding liquid margari...                                    \n1655  0703 - Onions, shallots, garlic, leeks and oth...                                    \n1656             0805 - Citrus fruit, fresh or dried.;                                     \n1657  11 - Products of the milling industry; malt; s...                                    \n1658  0207 - Meat and edible offal, of the poultry o...                                    \n\n     Products (ICS codes)\\n(Content in italic is reproduced from the parent notification)  \\\n0                                  67.100.30 - Cheese;                                      \n1                                  67.100.30 - Cheese;                                      \n2                                  67.100.30 - Cheese;                                      \n3                                  67.100.30 - Cheese;                                      \n4     67.120.10 - Meat and meat products; 67.180.10 ...                                     \n...                                                 ...                                     \n1654                                                NaN                                     \n1655                                                NaN                                     \n1656                                                NaN                                     \n1657                                                NaN                                     \n1658                                                NaN                                     \n\n     Objective of measure\\n(Content in italic is reproduced from the parent notification)  \\\n0     Protection of human health or safety; Quality ...                                     \n1     Protection of human health or safety; Quality ...                                     \n2     Protection of human health or safety; Quality ...                                     \n3     Protection of human health or safety; Quality ...                                     \n4     Consumer information, labelling; Prevention of...                                     \n...                                                 ...                                     \n1654                                                NaN                                     \n1655                                                NaN                                     \n1656                                                NaN                                     \n1657                                                NaN                                     \n1658                                                NaN                                     \n\n      Link (EN)  Link (FR)  Link (ES)  \n0           NaN        NaN        NaN  \n1           NaN        NaN        NaN  \n2           NaN        NaN        NaN  \n3           NaN        NaN        NaN  \n4           NaN        NaN        NaN  \n...         ...        ...        ...  \n1654        NaN        NaN        NaN  \n1655        NaN        NaN        NaN  \n1656        NaN        NaN        NaN  \n1657        NaN        NaN        NaN  \n1658        NaN        NaN        NaN  \n\n[1659 rows x 11 columns]",
      "text/html": "<div>\n<style scoped>\n    .dataframe tbody tr th:only-of-type {\n        vertical-align: middle;\n    }\n\n    .dataframe tbody tr th {\n        vertical-align: top;\n    }\n\n    .dataframe thead th {\n        text-align: right;\n    }\n</style>\n<table border=\"1\" class=\"dataframe\">\n  <thead>\n    <tr style=\"text-align: right;\">\n      <th></th>\n      <th>Symbol</th>\n      <th>Notifying Member</th>\n      <th>Date of distribution</th>\n      <th>Type</th>\n      <th>Products (free text)\\n(Content in italic is reproduced from the parent notification)</th>\n      <th>Products (HS codes)\\n(Content in italic is reproduced from the parent notification)</th>\n      <th>Products (ICS codes)\\n(Content in italic is reproduced from the parent notification)</th>\n      <th>Objective of measure\\n(Content in italic is reproduced from the parent notification)</th>\n      <th>Link (EN)</th>\n      <th>Link (FR)</th>\n      <th>Link (ES)</th>\n    </tr>\n  </thead>\n  <tbody>\n    <tr>\n      <th>0</th>\n      <td>G/TBT/N/KEN/990</td>\n      <td>Kenya</td>\n      <td>2020-03-26</td>\n      <td>Regular notification</td>\n      <td>NaN</td>\n      <td>0406 - Cheese and curd.; 0406 - Cheese and cur...</td>\n      <td>67.100.30 - Cheese;</td>\n      <td>Protection of human health or safety; Quality ...</td>\n      <td>NaN</td>\n      <td>NaN</td>\n      <td>NaN</td>\n    </tr>\n    <tr>\n      <th>1</th>\n      <td>G/TBT/N/KEN/978</td>\n      <td>Kenya</td>\n      <td>2020-03-19</td>\n      <td>Regular notification</td>\n      <td>NaN</td>\n      <td>0406 - Cheese and curd.; 0406 - Cheese and cur...</td>\n      <td>67.100.30 - Cheese;</td>\n      <td>Protection of human health or safety; Quality ...</td>\n      <td>NaN</td>\n      <td>NaN</td>\n      <td>NaN</td>\n    </tr>\n    <tr>\n      <th>2</th>\n      <td>G/TBT/N/KEN/979</td>\n      <td>Kenya</td>\n      <td>2020-03-19</td>\n      <td>Regular notification</td>\n      <td>NaN</td>\n      <td>0406 - Cheese and curd.; 0406 - Cheese and cur...</td>\n      <td>67.100.30 - Cheese;</td>\n      <td>Protection of human health or safety; Quality ...</td>\n      <td>NaN</td>\n      <td>NaN</td>\n      <td>NaN</td>\n    </tr>\n    <tr>\n      <th>3</th>\n      <td>G/TBT/N/KEN/980</td>\n      <td>Kenya</td>\n      <td>2020-03-19</td>\n      <td>Regular notification</td>\n      <td>NaN</td>\n      <td>0406 - Cheese and curd.; 0406 - Cheese and cur...</td>\n      <td>67.100.30 - Cheese;</td>\n      <td>Protection of human health or safety; Quality ...</td>\n      <td>NaN</td>\n      <td>NaN</td>\n      <td>NaN</td>\n    </tr>\n    <tr>\n      <th>4</th>\n      <td>G/TBT/N/UKR/160</td>\n      <td>Ukraine</td>\n      <td>2020-03-17</td>\n      <td>Regular notification</td>\n      <td>Meat of bovine animals, swine, sheep or goat, ...</td>\n      <td>0201 - Meat of bovine animals, fresh or chille...</td>\n      <td>67.120.10 - Meat and meat products; 67.180.10 ...</td>\n      <td>Consumer information, labelling; Prevention of...</td>\n      <td>NaN</td>\n      <td>NaN</td>\n      <td>NaN</td>\n    </tr>\n    <tr>\n      <th>...</th>\n      <td>...</td>\n      <td>...</td>\n      <td>...</td>\n      <td>...</td>\n      <td>...</td>\n      <td>...</td>\n      <td>...</td>\n      <td>...</td>\n      <td>...</td>\n      <td>...</td>\n      <td>...</td>\n    </tr>\n    <tr>\n      <th>1654</th>\n      <td>G/TBT/Notif.95/91</td>\n      <td>Japan</td>\n      <td>1995-03-28</td>\n      <td>Regular notification</td>\n      <td>NaN</td>\n      <td>151710 - - Margarine, excluding liquid margari...</td>\n      <td>NaN</td>\n      <td>NaN</td>\n      <td>NaN</td>\n      <td>NaN</td>\n      <td>NaN</td>\n    </tr>\n    <tr>\n      <th>1655</th>\n      <td>G/TBT/Notif.95/75</td>\n      <td>United States of America</td>\n      <td>1995-03-20</td>\n      <td>Regular notification</td>\n      <td>NaN</td>\n      <td>0703 - Onions, shallots, garlic, leeks and oth...</td>\n      <td>NaN</td>\n      <td>NaN</td>\n      <td>NaN</td>\n      <td>NaN</td>\n      <td>NaN</td>\n    </tr>\n    <tr>\n      <th>1656</th>\n      <td>G/TBT/Notif.95/76</td>\n      <td>United States of America</td>\n      <td>1995-03-20</td>\n      <td>Regular notification</td>\n      <td>NaN</td>\n      <td>0805 - Citrus fruit, fresh or dried.;</td>\n      <td>NaN</td>\n      <td>NaN</td>\n      <td>NaN</td>\n      <td>NaN</td>\n      <td>NaN</td>\n    </tr>\n    <tr>\n      <th>1657</th>\n      <td>G/TBT/Notif.95/66</td>\n      <td>Slovak Republic</td>\n      <td>1995-03-08</td>\n      <td>Regular notification</td>\n      <td>NaN</td>\n      <td>11 - Products of the milling industry; malt; s...</td>\n      <td>NaN</td>\n      <td>NaN</td>\n      <td>NaN</td>\n      <td>NaN</td>\n      <td>NaN</td>\n    </tr>\n    <tr>\n      <th>1658</th>\n      <td>G/TBT/Notif.95/20</td>\n      <td>United States of America</td>\n      <td>1995-02-03</td>\n      <td>Regular notification</td>\n      <td>NaN</td>\n      <td>0207 - Meat and edible offal, of the poultry o...</td>\n      <td>NaN</td>\n      <td>NaN</td>\n      <td>NaN</td>\n      <td>NaN</td>\n      <td>NaN</td>\n    </tr>\n  </tbody>\n</table>\n<p>1659 rows × 11 columns</p>\n</div>"
     },
     "metadata": {},
     "execution_count": 104
    }
   ],
   "source": [
    "df = pd.read_excel(\"TBT.xlsx\")\n",
    "df"
   ]
  },
  {
   "cell_type": "code",
   "execution_count": 105,
   "metadata": {},
   "outputs": [],
   "source": [
    "df[\"Date of distribution\"] = df[\"Date of distribution\"].apply(lambda x: str(x)[:-15])"
   ]
  },
  {
   "cell_type": "code",
   "execution_count": 106,
   "metadata": {},
   "outputs": [],
   "source": [
    "df = df.iloc[:,[1,2,5,7]]"
   ]
  },
  {
   "cell_type": "code",
   "execution_count": 107,
   "metadata": {},
   "outputs": [],
   "source": [
    "df.columns = [\"Country\", \"Year\", \"Commodity Code\", \"Objective\"]"
   ]
  },
  {
   "cell_type": "code",
   "execution_count": 108,
   "metadata": {},
   "outputs": [
    {
     "output_type": "execute_result",
     "data": {
      "text/plain": "                       Country  Year  \\\n0                        Kenya  2020   \n1                        Kenya  2020   \n2                        Kenya  2020   \n3                        Kenya  2020   \n4                      Ukraine  2020   \n...                        ...   ...   \n1654                     Japan  1995   \n1655  United States of America  1995   \n1656  United States of America  1995   \n1657           Slovak Republic  1995   \n1658  United States of America  1995   \n\n                                         Commodity Code  \\\n0     0406 - Cheese and curd.; 0406 - Cheese and cur...   \n1     0406 - Cheese and curd.; 0406 - Cheese and cur...   \n2     0406 - Cheese and curd.; 0406 - Cheese and cur...   \n3     0406 - Cheese and curd.; 0406 - Cheese and cur...   \n4     0201 - Meat of bovine animals, fresh or chille...   \n...                                                 ...   \n1654  151710 - - Margarine, excluding liquid margari...   \n1655  0703 - Onions, shallots, garlic, leeks and oth...   \n1656             0805 - Citrus fruit, fresh or dried.;    \n1657  11 - Products of the milling industry; malt; s...   \n1658  0207 - Meat and edible offal, of the poultry o...   \n\n                                              Objective  \n0     Protection of human health or safety; Quality ...  \n1     Protection of human health or safety; Quality ...  \n2     Protection of human health or safety; Quality ...  \n3     Protection of human health or safety; Quality ...  \n4     Consumer information, labelling; Prevention of...  \n...                                                 ...  \n1654                                                NaN  \n1655                                                NaN  \n1656                                                NaN  \n1657                                                NaN  \n1658                                                NaN  \n\n[1659 rows x 4 columns]",
      "text/html": "<div>\n<style scoped>\n    .dataframe tbody tr th:only-of-type {\n        vertical-align: middle;\n    }\n\n    .dataframe tbody tr th {\n        vertical-align: top;\n    }\n\n    .dataframe thead th {\n        text-align: right;\n    }\n</style>\n<table border=\"1\" class=\"dataframe\">\n  <thead>\n    <tr style=\"text-align: right;\">\n      <th></th>\n      <th>Country</th>\n      <th>Year</th>\n      <th>Commodity Code</th>\n      <th>Objective</th>\n    </tr>\n  </thead>\n  <tbody>\n    <tr>\n      <th>0</th>\n      <td>Kenya</td>\n      <td>2020</td>\n      <td>0406 - Cheese and curd.; 0406 - Cheese and cur...</td>\n      <td>Protection of human health or safety; Quality ...</td>\n    </tr>\n    <tr>\n      <th>1</th>\n      <td>Kenya</td>\n      <td>2020</td>\n      <td>0406 - Cheese and curd.; 0406 - Cheese and cur...</td>\n      <td>Protection of human health or safety; Quality ...</td>\n    </tr>\n    <tr>\n      <th>2</th>\n      <td>Kenya</td>\n      <td>2020</td>\n      <td>0406 - Cheese and curd.; 0406 - Cheese and cur...</td>\n      <td>Protection of human health or safety; Quality ...</td>\n    </tr>\n    <tr>\n      <th>3</th>\n      <td>Kenya</td>\n      <td>2020</td>\n      <td>0406 - Cheese and curd.; 0406 - Cheese and cur...</td>\n      <td>Protection of human health or safety; Quality ...</td>\n    </tr>\n    <tr>\n      <th>4</th>\n      <td>Ukraine</td>\n      <td>2020</td>\n      <td>0201 - Meat of bovine animals, fresh or chille...</td>\n      <td>Consumer information, labelling; Prevention of...</td>\n    </tr>\n    <tr>\n      <th>...</th>\n      <td>...</td>\n      <td>...</td>\n      <td>...</td>\n      <td>...</td>\n    </tr>\n    <tr>\n      <th>1654</th>\n      <td>Japan</td>\n      <td>1995</td>\n      <td>151710 - - Margarine, excluding liquid margari...</td>\n      <td>NaN</td>\n    </tr>\n    <tr>\n      <th>1655</th>\n      <td>United States of America</td>\n      <td>1995</td>\n      <td>0703 - Onions, shallots, garlic, leeks and oth...</td>\n      <td>NaN</td>\n    </tr>\n    <tr>\n      <th>1656</th>\n      <td>United States of America</td>\n      <td>1995</td>\n      <td>0805 - Citrus fruit, fresh or dried.;</td>\n      <td>NaN</td>\n    </tr>\n    <tr>\n      <th>1657</th>\n      <td>Slovak Republic</td>\n      <td>1995</td>\n      <td>11 - Products of the milling industry; malt; s...</td>\n      <td>NaN</td>\n    </tr>\n    <tr>\n      <th>1658</th>\n      <td>United States of America</td>\n      <td>1995</td>\n      <td>0207 - Meat and edible offal, of the poultry o...</td>\n      <td>NaN</td>\n    </tr>\n  </tbody>\n</table>\n<p>1659 rows × 4 columns</p>\n</div>"
     },
     "metadata": {},
     "execution_count": 108
    }
   ],
   "source": [
    "df"
   ]
  },
  {
   "cell_type": "code",
   "execution_count": 109,
   "metadata": {},
   "outputs": [],
   "source": [
    "df = df.dropna()"
   ]
  },
  {
   "cell_type": "code",
   "execution_count": 110,
   "metadata": {},
   "outputs": [],
   "source": [
    "df[\"Commodity Code\"] = df[\"Commodity Code\"].apply(lambda x: str(x)[:2])"
   ]
  },
  {
   "cell_type": "code",
   "execution_count": 111,
   "metadata": {},
   "outputs": [],
   "source": [
    "df[\"Commodity Code\"] = pd.to_numeric(df[\"Commodity Code\"])"
   ]
  },
  {
   "cell_type": "code",
   "execution_count": 112,
   "metadata": {},
   "outputs": [
    {
     "output_type": "execute_result",
     "data": {
      "text/plain": "array([ 4,  2,  9,  8,  6,  7, 12, 11, 15, 10,  1,  3, 20,  5, 19, 13, 39,\n       21, 18, 87, 71, 16, 62, 44, 90, 14, 22, 86], dtype=int64)"
     },
     "metadata": {},
     "execution_count": 112
    }
   ],
   "source": [
    "df[\"Commodity Code\"].unique()"
   ]
  },
  {
   "cell_type": "code",
   "execution_count": 113,
   "metadata": {},
   "outputs": [],
   "source": [
    "df = df[df[\"Commodity Code\"].isin(range(1,16))]"
   ]
  },
  {
   "cell_type": "code",
   "execution_count": 115,
   "metadata": {},
   "outputs": [
    {
     "output_type": "execute_result",
     "data": {
      "text/plain": "array([ 4,  2,  9,  8,  6,  7, 12, 11, 15, 10,  1,  3,  5, 13, 14],\n      dtype=int64)"
     },
     "metadata": {},
     "execution_count": 115
    }
   ],
   "source": [
    "df[\"Commodity Code\"].unique()"
   ]
  },
  {
   "cell_type": "code",
   "execution_count": 117,
   "metadata": {},
   "outputs": [
    {
     "output_type": "error",
     "ename": "AttributeError",
     "evalue": "'numpy.ndarray' object has no attribute 'count'",
     "traceback": [
      "\u001b[1;31m---------------------------------------------------------------------------\u001b[0m",
      "\u001b[1;31mAttributeError\u001b[0m                            Traceback (most recent call last)",
      "\u001b[1;32m<ipython-input-117-46c96814b6dc>\u001b[0m in \u001b[0;36m<module>\u001b[1;34m\u001b[0m\n\u001b[1;32m----> 1\u001b[1;33m \u001b[0mdf\u001b[0m\u001b[1;33m[\u001b[0m\u001b[1;34m\"Objective\"\u001b[0m\u001b[1;33m]\u001b[0m\u001b[1;33m.\u001b[0m\u001b[0munique\u001b[0m\u001b[1;33m(\u001b[0m\u001b[1;33m)\u001b[0m\u001b[1;33m.\u001b[0m\u001b[0mcount\u001b[0m\u001b[1;33m(\u001b[0m\u001b[1;33m)\u001b[0m\u001b[1;33m\u001b[0m\u001b[1;33m\u001b[0m\u001b[0m\n\u001b[0m",
      "\u001b[1;31mAttributeError\u001b[0m: 'numpy.ndarray' object has no attribute 'count'"
     ]
    }
   ],
   "source": [
    "df[\"Objective\"].unique().count\\()"
   ]
  },
  {
   "cell_type": "code",
   "execution_count": null,
   "metadata": {},
   "outputs": [],
   "source": []
  }
 ]
}