{
 "nbformat": 4,
 "nbformat_minor": 2,
 "metadata": {
  "language_info": {
   "name": "python",
   "codemirror_mode": {
    "name": "ipython",
    "version": 3
   },
   "version": "3.7.6-final"
  },
  "orig_nbformat": 2,
  "file_extension": ".py",
  "mimetype": "text/x-python",
  "name": "python",
  "npconvert_exporter": "python",
  "pygments_lexer": "ipython3",
  "version": 3,
  "kernelspec": {
   "name": "python37664bitbaseconda7037916fb866425e9ff11ebb843bed9a",
   "display_name": "Python 3.7.6 64-bit ('base': conda)"
  }
 },
 "cells": [
  {
   "cell_type": "code",
   "execution_count": 3,
   "metadata": {},
   "outputs": [],
   "source": [
    "import pandas as pd"
   ]
  },
  {
   "cell_type": "code",
   "execution_count": 16,
   "metadata": {},
   "outputs": [],
   "source": [
    "def CriarDataFrame():\n",
    "    df1 = pd.read_csv(\"../Datasets_Completos/usitc_93-04.csv\")\n",
    "    df2 = pd.read_csv(\"../Datasets_Completos/usitc_05-16.csv\")\n",
    "    df = pd.concat([df1,df2])\n",
    "    return df\n",
    "df = CriarDataFrame()"
   ]
  },
  {
   "cell_type": "code",
   "execution_count": 17,
   "metadata": {},
   "outputs": [],
   "source": [
    "df.query(\"iso3_o == 'BRA' & year > 1995\", inplace=True)"
   ]
  },
  {
   "cell_type": "code",
   "execution_count": 18,
   "metadata": {},
   "outputs": [
    {
     "output_type": "execute_result",
     "data": {
      "text/plain": "Index(['year', 'country_d', 'iso3_d', 'dynamic_code_d', 'landlocked_d',\n       'island_d', 'region_d', 'gdp_pwt_const_d', 'pop_d', 'gdp_pwt_cur_d',\n       'capital_cur_d', 'capital_const_d', 'gdp_wdi_cur_d', 'gdp_wdi_const_d',\n       'gdp_wdi_cap_cur_d', 'gdp_wdi_cap_const_d', 'lat_d', 'lng_d',\n       'polity_d', 'polity_abs_d', 'country_o', 'iso3_o', 'dynamic_code_o',\n       'landlocked_o', 'island_o', 'region_o', 'gdp_pwt_const_o', 'pop_o',\n       'gdp_pwt_cur_o', 'capital_cur_o', 'capital_const_o', 'gdp_wdi_cur_o',\n       'gdp_wdi_const_o', 'gdp_wdi_cap_cur_o', 'gdp_wdi_cap_const_o', 'lat_o',\n       'lng_o', 'polity_o', 'polity_abs_o', 'contiguity', 'agree_pta_goods',\n       'agree_pta_services', 'agree_cu', 'agree_eia', 'agree_fta', 'agree_psa',\n       'agree_pta', 'sanction_threat', 'sanction_threat_trade',\n       'sanction_imposition', 'sanction_imposition_trade', 'member_eu_o',\n       'member_wto_o', 'member_gatt_o', 'member_eu_d', 'member_wto_d',\n       'member_gatt_d', 'member_eu_joint', 'member_wto_joint',\n       'member_gatt_joint', 'hostility_level_o', 'hostility_level_d',\n       'distance', 'common_language', 'colony_of_destination_after45',\n       'colony_of_destination_current', 'colony_of_destination_ever',\n       'colony_of_origin_after45', 'colony_of_origin_current',\n       'colony_of_origin_ever'],\n      dtype='object')"
     },
     "metadata": {},
     "execution_count": 18
    }
   ],
   "source": [
    "df.columns"
   ]
  },
  {
   "cell_type": "code",
   "execution_count": 19,
   "metadata": {},
   "outputs": [
    {
     "output_type": "execute_result",
     "data": {
      "text/plain": "        year      country_d iso3_d      region_d  gdp_pwt_const_d      pop_d  \\\n186     2002      Australia    AUS       pacific       713336.560  19.514385   \n530     2002  Cote d'Ivoire    CIV        africa        36405.648  17.185421   \n1122    2001           Guam    GUM       pacific              NaN        NaN   \n1272    2000           Iran    IRN   middle_east       492996.720  65.850062   \n1400    1996     Kyrgyzstan    KGZ  central_asia        14261.874   4.656894   \n...      ...            ...    ...           ...              ...        ...   \n744914  2012       Zimbabwe    ZWE        africa        24360.527  14.565482   \n745221  2013       Zimbabwe    ZWE        africa        28157.887  14.898092   \n745385  2014       Zimbabwe    ZWE        africa        29149.709  15.245855   \n745580  2015       Zimbabwe    ZWE        africa              NaN        NaN   \n745960  2016       Zimbabwe    ZWE        africa              NaN        NaN   \n\n        gdp_pwt_cur_d  capital_cur_d  capital_const_d  gdp_wdi_cur_d  ...  \\\n186        727079.880    2309183.500      2453502.000   3.941963e+11  ...   \n530         37162.504      46593.801       147439.580   1.234692e+10  ...   \n1122              NaN            NaN              NaN            NaN  ...   \n1272       487257.250    1625857.400      2100077.800   1.095917e+11  ...   \n1400        13411.275      38875.559        21176.654   1.827571e+09  ...   \n...               ...            ...              ...            ...  ...   \n744914      24165.889      80778.594        80852.813   1.239272e+10  ...   \n745221      28006.838      82862.609        82129.641   1.349023e+10  ...   \n745385      29001.225      86134.531        83921.766   1.419691e+10  ...   \n745580            NaN            NaN              NaN   1.441919e+10  ...   \n745960            NaN            NaN              NaN            NaN  ...   \n\n        member_wto_o  member_gatt_o  member_eu_d  member_wto_d  member_gatt_d  \\\n186                1              1            0             1              1   \n530                1              1            0             1              1   \n1122               1              1            0             0              0   \n1272               1              1            0             0              0   \n1400               1              1            0             0              0   \n...              ...            ...          ...           ...            ...   \n744914             1              1            0             1              1   \n745221             1              1            0             1              1   \n745385             1              1            0             1              1   \n745580             1              1            0             1              1   \n745960             1              1            0             1              1   \n\n        member_eu_joint  member_wto_joint member_gatt_joint    distance  \\\n186                   0                 1                 1  14091.5680   \n530                   0                 1                 1   5291.1885   \n1122                  0                 0                 0  18473.7790   \n1272                  0                 0                 0  11806.2140   \n1400                  0                 0                 0  13770.3410   \n...                 ...               ...               ...         ...   \n744914                0                 1                 1  10076.4200   \n745221                0                 1                 1  10076.4200   \n745385                0                 1                 1  10076.4200   \n745580                0                 1                 1  10076.4200   \n745960                0                 1                 1  10076.4200   \n\n       common_language  \n186                  1  \n530                  0  \n1122                 1  \n1272                 0  \n1400                 0  \n...                ...  \n744914               1  \n745221               1  \n745385               1  \n745580               1  \n745960               1  \n\n[5197 rows x 55 columns]",
      "text/html": "<div>\n<style scoped>\n    .dataframe tbody tr th:only-of-type {\n        vertical-align: middle;\n    }\n\n    .dataframe tbody tr th {\n        vertical-align: top;\n    }\n\n    .dataframe thead th {\n        text-align: right;\n    }\n</style>\n<table border=\"1\" class=\"dataframe\">\n  <thead>\n    <tr style=\"text-align: right;\">\n      <th></th>\n      <th>year</th>\n      <th>country_d</th>\n      <th>iso3_d</th>\n      <th>region_d</th>\n      <th>gdp_pwt_const_d</th>\n      <th>pop_d</th>\n      <th>gdp_pwt_cur_d</th>\n      <th>capital_cur_d</th>\n      <th>capital_const_d</th>\n      <th>gdp_wdi_cur_d</th>\n      <th>...</th>\n      <th>member_wto_o</th>\n      <th>member_gatt_o</th>\n      <th>member_eu_d</th>\n      <th>member_wto_d</th>\n      <th>member_gatt_d</th>\n      <th>member_eu_joint</th>\n      <th>member_wto_joint</th>\n      <th>member_gatt_joint</th>\n      <th>distance</th>\n      <th>common_language</th>\n    </tr>\n  </thead>\n  <tbody>\n    <tr>\n      <th>186</th>\n      <td>2002</td>\n      <td>Australia</td>\n      <td>AUS</td>\n      <td>pacific</td>\n      <td>713336.560</td>\n      <td>19.514385</td>\n      <td>727079.880</td>\n      <td>2309183.500</td>\n      <td>2453502.000</td>\n      <td>3.941963e+11</td>\n      <td>...</td>\n      <td>1</td>\n      <td>1</td>\n      <td>0</td>\n      <td>1</td>\n      <td>1</td>\n      <td>0</td>\n      <td>1</td>\n      <td>1</td>\n      <td>14091.5680</td>\n      <td>1</td>\n    </tr>\n    <tr>\n      <th>530</th>\n      <td>2002</td>\n      <td>Cote d'Ivoire</td>\n      <td>CIV</td>\n      <td>africa</td>\n      <td>36405.648</td>\n      <td>17.185421</td>\n      <td>37162.504</td>\n      <td>46593.801</td>\n      <td>147439.580</td>\n      <td>1.234692e+10</td>\n      <td>...</td>\n      <td>1</td>\n      <td>1</td>\n      <td>0</td>\n      <td>1</td>\n      <td>1</td>\n      <td>0</td>\n      <td>1</td>\n      <td>1</td>\n      <td>5291.1885</td>\n      <td>0</td>\n    </tr>\n    <tr>\n      <th>1122</th>\n      <td>2001</td>\n      <td>Guam</td>\n      <td>GUM</td>\n      <td>pacific</td>\n      <td>NaN</td>\n      <td>NaN</td>\n      <td>NaN</td>\n      <td>NaN</td>\n      <td>NaN</td>\n      <td>NaN</td>\n      <td>...</td>\n      <td>1</td>\n      <td>1</td>\n      <td>0</td>\n      <td>0</td>\n      <td>0</td>\n      <td>0</td>\n      <td>0</td>\n      <td>0</td>\n      <td>18473.7790</td>\n      <td>1</td>\n    </tr>\n    <tr>\n      <th>1272</th>\n      <td>2000</td>\n      <td>Iran</td>\n      <td>IRN</td>\n      <td>middle_east</td>\n      <td>492996.720</td>\n      <td>65.850062</td>\n      <td>487257.250</td>\n      <td>1625857.400</td>\n      <td>2100077.800</td>\n      <td>1.095917e+11</td>\n      <td>...</td>\n      <td>1</td>\n      <td>1</td>\n      <td>0</td>\n      <td>0</td>\n      <td>0</td>\n      <td>0</td>\n      <td>0</td>\n      <td>0</td>\n      <td>11806.2140</td>\n      <td>0</td>\n    </tr>\n    <tr>\n      <th>1400</th>\n      <td>1996</td>\n      <td>Kyrgyzstan</td>\n      <td>KGZ</td>\n      <td>central_asia</td>\n      <td>14261.874</td>\n      <td>4.656894</td>\n      <td>13411.275</td>\n      <td>38875.559</td>\n      <td>21176.654</td>\n      <td>1.827571e+09</td>\n      <td>...</td>\n      <td>1</td>\n      <td>1</td>\n      <td>0</td>\n      <td>0</td>\n      <td>0</td>\n      <td>0</td>\n      <td>0</td>\n      <td>0</td>\n      <td>13770.3410</td>\n      <td>0</td>\n    </tr>\n    <tr>\n      <th>...</th>\n      <td>...</td>\n      <td>...</td>\n      <td>...</td>\n      <td>...</td>\n      <td>...</td>\n      <td>...</td>\n      <td>...</td>\n      <td>...</td>\n      <td>...</td>\n      <td>...</td>\n      <td>...</td>\n      <td>...</td>\n      <td>...</td>\n      <td>...</td>\n      <td>...</td>\n      <td>...</td>\n      <td>...</td>\n      <td>...</td>\n      <td>...</td>\n      <td>...</td>\n      <td>...</td>\n    </tr>\n    <tr>\n      <th>744914</th>\n      <td>2012</td>\n      <td>Zimbabwe</td>\n      <td>ZWE</td>\n      <td>africa</td>\n      <td>24360.527</td>\n      <td>14.565482</td>\n      <td>24165.889</td>\n      <td>80778.594</td>\n      <td>80852.813</td>\n      <td>1.239272e+10</td>\n      <td>...</td>\n      <td>1</td>\n      <td>1</td>\n      <td>0</td>\n      <td>1</td>\n      <td>1</td>\n      <td>0</td>\n      <td>1</td>\n      <td>1</td>\n      <td>10076.4200</td>\n      <td>1</td>\n    </tr>\n    <tr>\n      <th>745221</th>\n      <td>2013</td>\n      <td>Zimbabwe</td>\n      <td>ZWE</td>\n      <td>africa</td>\n      <td>28157.887</td>\n      <td>14.898092</td>\n      <td>28006.838</td>\n      <td>82862.609</td>\n      <td>82129.641</td>\n      <td>1.349023e+10</td>\n      <td>...</td>\n      <td>1</td>\n      <td>1</td>\n      <td>0</td>\n      <td>1</td>\n      <td>1</td>\n      <td>0</td>\n      <td>1</td>\n      <td>1</td>\n      <td>10076.4200</td>\n      <td>1</td>\n    </tr>\n    <tr>\n      <th>745385</th>\n      <td>2014</td>\n      <td>Zimbabwe</td>\n      <td>ZWE</td>\n      <td>africa</td>\n      <td>29149.709</td>\n      <td>15.245855</td>\n      <td>29001.225</td>\n      <td>86134.531</td>\n      <td>83921.766</td>\n      <td>1.419691e+10</td>\n      <td>...</td>\n      <td>1</td>\n      <td>1</td>\n      <td>0</td>\n      <td>1</td>\n      <td>1</td>\n      <td>0</td>\n      <td>1</td>\n      <td>1</td>\n      <td>10076.4200</td>\n      <td>1</td>\n    </tr>\n    <tr>\n      <th>745580</th>\n      <td>2015</td>\n      <td>Zimbabwe</td>\n      <td>ZWE</td>\n      <td>africa</td>\n      <td>NaN</td>\n      <td>NaN</td>\n      <td>NaN</td>\n      <td>NaN</td>\n      <td>NaN</td>\n      <td>1.441919e+10</td>\n      <td>...</td>\n      <td>1</td>\n      <td>1</td>\n      <td>0</td>\n      <td>1</td>\n      <td>1</td>\n      <td>0</td>\n      <td>1</td>\n      <td>1</td>\n      <td>10076.4200</td>\n      <td>1</td>\n    </tr>\n    <tr>\n      <th>745960</th>\n      <td>2016</td>\n      <td>Zimbabwe</td>\n      <td>ZWE</td>\n      <td>africa</td>\n      <td>NaN</td>\n      <td>NaN</td>\n      <td>NaN</td>\n      <td>NaN</td>\n      <td>NaN</td>\n      <td>NaN</td>\n      <td>...</td>\n      <td>1</td>\n      <td>1</td>\n      <td>0</td>\n      <td>1</td>\n      <td>1</td>\n      <td>0</td>\n      <td>1</td>\n      <td>1</td>\n      <td>10076.4200</td>\n      <td>1</td>\n    </tr>\n  </tbody>\n</table>\n<p>5197 rows × 55 columns</p>\n</div>"
     },
     "metadata": {},
     "execution_count": 19
    }
   ],
   "source": [
    "df.drop(columns={ 'colony_of_destination_after45',\n",
    "       'colony_of_destination_current', 'colony_of_destination_ever',\n",
    "       'colony_of_origin_after45', 'colony_of_origin_current',\n",
    "       'colony_of_origin_ever', 'hostility_level_o', 'hostility_level_d',\n",
    "       'lat_o', 'lng_o', 'polity_o', 'polity_abs_o', 'dynamic_code_d', 'landlocked_d',\n",
    "       'island_d'})"
   ]
  },
  {
   "cell_type": "code",
   "execution_count": null,
   "metadata": {},
   "outputs": [],
   "source": []
  }
 ]
}